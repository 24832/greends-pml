{
  "metadata": {
    "kernelspec": {
      "language": "python",
      "display_name": "Python 3",
      "name": "python3"
    },
    "language_info": {
      "pygments_lexer": "ipython3",
      "nbconvert_exporter": "python",
      "version": "3.6.4",
      "file_extension": ".py",
      "codemirror_mode": {
        "name": "ipython",
        "version": 3
      },
      "name": "python",
      "mimetype": "text/x-python"
    },
    "colab": {
      "provenance": [],
      "include_colab_link": true
    }
  },
  "nbformat_minor": 0,
  "nbformat": 4,
  "cells": [
    {
      "cell_type": "markdown",
      "metadata": {
        "id": "view-in-github",
        "colab_type": "text"
      },
      "source": [
        "<a href=\"https://colab.research.google.com/github/isa-ulisboa/greends-pml/blob/main/Lesson5_edited_for_colab_linear_model_and_neural_net_from_scratch.ipynb\" target=\"_parent\"><img src=\"https://colab.research.google.com/assets/colab-badge.svg\" alt=\"Open In Colab\"/></a>"
      ]
    },
    {
      "cell_type": "markdown",
      "source": [
        "**mlc**: Notebook edited from https://www.kaggle.com/code/jhoward/linear-model-and-neural-net-from-scratch\n",
        "\n",
        "The notebook is edited to run on Colab"
      ],
      "metadata": {
        "id": "727p8MjHIYLE"
      }
    },
    {
      "cell_type": "markdown",
      "source": [
        "## Introduction"
      ],
      "metadata": {
        "id": "Fb0rsjU2Hxud"
      }
    },
    {
      "cell_type": "markdown",
      "source": [
        "In this notebook we're going to build and train a deep learning model \"from scratch\" -- by which I mean that we're not going to use any pre-built architecture, or optimizers, or data loading frameworks, etc.\n",
        "\n",
        "We'll be assuming you already know the basics of how a neural network works. If you don't, read this notebook first: [How does a neural net really work?\n",
        "](https://www.kaggle.com/code/jhoward/how-does-a-neural-net-really-work). We'll be using Kaggle's [Titanic](https://www.kaggle.com/competitions/titanic/) competition in this notebook, because it's very small and simple, but also has displays many of the tricky real-life issues that we need to handle in most practical projects. (Note, however, that this competition is a small \"learner\" competition on Kaggle, so don't expect to actually see much benefits from using a neural net just yet; that will come once we try our some real competitions!)\n",
        "\n",
        "It's great to be able to run the same notebook on your own machine or Colab, as well as Kaggle. To allow for this, we use this code to download the data as needed when not on Kaggle (see [this notebook](https://www.kaggle.com/code/jhoward/getting-started-with-nlp-for-absolute-beginners/) for details about this technique):"
      ],
      "metadata": {
        "id": "aJhQtTU7Hxuf"
      }
    },
    {
      "cell_type": "code",
      "source": [
        "import os\n",
        "from pathlib import Path"
      ],
      "metadata": {
        "execution": {
          "iopub.status.busy": "2022-05-30T22:34:17.763494Z",
          "iopub.execute_input": "2022-05-30T22:34:17.763822Z",
          "iopub.status.idle": "2022-05-30T22:34:17.771348Z",
          "shell.execute_reply.started": "2022-05-30T22:34:17.763787Z",
          "shell.execute_reply": "2022-05-30T22:34:17.770444Z"
        },
        "trusted": true,
        "id": "qJfkOsmjHxuh"
      },
      "execution_count": 1,
      "outputs": []
    },
    {
      "cell_type": "markdown",
      "source": [
        "Note that the data for Kaggle comps always lives in the `../input` folder. The easiest way to get the path is to click the \"K\" button in the top-right of the Kaggle notebook, click on the folder shown there, and click the copy button.\n",
        "\n",
        "We'll be using *numpy* and *pytorch* for array calculations in this notebook, and *pandas* for working with tabular data, so we'll import them and set them to display using a bit more space than they default to."
      ],
      "metadata": {
        "hidden": true,
        "id": "G5BgEc9FHxuj"
      }
    },
    {
      "cell_type": "code",
      "source": [
        "import torch, numpy as np, pandas as pd\n",
        "np.set_printoptions(linewidth=140)\n",
        "torch.set_printoptions(linewidth=140, sci_mode=False, edgeitems=7)\n",
        "pd.set_option('display.width', 140)"
      ],
      "metadata": {
        "execution": {
          "iopub.status.busy": "2022-05-30T22:34:17.810967Z",
          "iopub.execute_input": "2022-05-30T22:34:17.811857Z",
          "iopub.status.idle": "2022-05-30T22:34:17.817725Z",
          "shell.execute_reply.started": "2022-05-30T22:34:17.811797Z",
          "shell.execute_reply": "2022-05-30T22:34:17.816849Z"
        },
        "trusted": true,
        "id": "wqCcx88uHxuk"
      },
      "execution_count": 2,
      "outputs": []
    },
    {
      "cell_type": "code",
      "source": [
        "from google.colab import drive\n",
        "drive.mount('/content/drive')"
      ],
      "metadata": {
        "colab": {
          "base_uri": "https://localhost:8080/"
        },
        "id": "xQXvExvVJBcU",
        "outputId": "a7cf989d-ab43-4a86-83c8-346723fc2386"
      },
      "execution_count": 3,
      "outputs": [
        {
          "output_type": "stream",
          "name": "stdout",
          "text": [
            "Mounted at /content/drive\n"
          ]
        }
      ]
    },
    {
      "cell_type": "markdown",
      "source": [
        "## Cleaning the data"
      ],
      "metadata": {
        "heading_collapsed": true,
        "id": "_1bgkm4ZHxum"
      }
    },
    {
      "cell_type": "markdown",
      "source": [
        "This is a *tabular data* competition -- the data is in the form of a table. It's provided as a Comma Separated Values (CSV) file. We can open it using the *pandas* library, which will create a `DataFrame`."
      ],
      "metadata": {
        "hidden": true,
        "id": "mlN4Nh4rHxun"
      }
    },
    {
      "cell_type": "markdown",
      "source": [
        "**mlc**: you need to copy train.csv to your drive and define your path to the folder where the file is"
      ],
      "metadata": {
        "id": "V881NJvWJhWi"
      }
    },
    {
      "cell_type": "code",
      "source": [
        "path=Path('/content/drive/MyDrive/AAA/Lesson_5/titanic_data')"
      ],
      "metadata": {
        "id": "-LLiNuD_JoNa"
      },
      "execution_count": 8,
      "outputs": []
    },
    {
      "cell_type": "code",
      "source": [
        "df = pd.read_csv(path/'train.csv')\n",
        "df"
      ],
      "metadata": {
        "hidden": true,
        "scrolled": true,
        "execution": {
          "iopub.status.busy": "2022-05-30T22:34:17.898249Z",
          "iopub.execute_input": "2022-05-30T22:34:17.899238Z",
          "iopub.status.idle": "2022-05-30T22:34:17.932714Z",
          "shell.execute_reply.started": "2022-05-30T22:34:17.899131Z",
          "shell.execute_reply": "2022-05-30T22:34:17.931738Z"
        },
        "trusted": true,
        "id": "UuWhW4amHxun",
        "colab": {
          "base_uri": "https://localhost:8080/",
          "height": 424
        },
        "outputId": "95a27930-d788-4ba7-eceb-e84510dcf560"
      },
      "execution_count": 9,
      "outputs": [
        {
          "output_type": "execute_result",
          "data": {
            "text/plain": [
              "     PassengerId  Survived  Pclass                                               Name     Sex   Age  SibSp  Parch            Ticket  \\\n",
              "0              1         0       3                            Braund, Mr. Owen Harris    male  22.0      1      0         A/5 21171   \n",
              "1              2         1       1  Cumings, Mrs. John Bradley (Florence Briggs Th...  female  38.0      1      0          PC 17599   \n",
              "2              3         1       3                             Heikkinen, Miss. Laina  female  26.0      0      0  STON/O2. 3101282   \n",
              "3              4         1       1       Futrelle, Mrs. Jacques Heath (Lily May Peel)  female  35.0      1      0            113803   \n",
              "4              5         0       3                           Allen, Mr. William Henry    male  35.0      0      0            373450   \n",
              "..           ...       ...     ...                                                ...     ...   ...    ...    ...               ...   \n",
              "886          887         0       2                              Montvila, Rev. Juozas    male  27.0      0      0            211536   \n",
              "887          888         1       1                       Graham, Miss. Margaret Edith  female  19.0      0      0            112053   \n",
              "888          889         0       3           Johnston, Miss. Catherine Helen \"Carrie\"  female   NaN      1      2        W./C. 6607   \n",
              "889          890         1       1                              Behr, Mr. Karl Howell    male  26.0      0      0            111369   \n",
              "890          891         0       3                                Dooley, Mr. Patrick    male  32.0      0      0            370376   \n",
              "\n",
              "        Fare Cabin Embarked  \n",
              "0     7.2500   NaN        S  \n",
              "1    71.2833   C85        C  \n",
              "2     7.9250   NaN        S  \n",
              "3    53.1000  C123        S  \n",
              "4     8.0500   NaN        S  \n",
              "..       ...   ...      ...  \n",
              "886  13.0000   NaN        S  \n",
              "887  30.0000   B42        S  \n",
              "888  23.4500   NaN        S  \n",
              "889  30.0000  C148        C  \n",
              "890   7.7500   NaN        Q  \n",
              "\n",
              "[891 rows x 12 columns]"
            ],
            "text/html": [
              "\n",
              "  <div id=\"df-7d264699-14cc-4fa5-b8b5-98b1659edb80\">\n",
              "    <div class=\"colab-df-container\">\n",
              "      <div>\n",
              "<style scoped>\n",
              "    .dataframe tbody tr th:only-of-type {\n",
              "        vertical-align: middle;\n",
              "    }\n",
              "\n",
              "    .dataframe tbody tr th {\n",
              "        vertical-align: top;\n",
              "    }\n",
              "\n",
              "    .dataframe thead th {\n",
              "        text-align: right;\n",
              "    }\n",
              "</style>\n",
              "<table border=\"1\" class=\"dataframe\">\n",
              "  <thead>\n",
              "    <tr style=\"text-align: right;\">\n",
              "      <th></th>\n",
              "      <th>PassengerId</th>\n",
              "      <th>Survived</th>\n",
              "      <th>Pclass</th>\n",
              "      <th>Name</th>\n",
              "      <th>Sex</th>\n",
              "      <th>Age</th>\n",
              "      <th>SibSp</th>\n",
              "      <th>Parch</th>\n",
              "      <th>Ticket</th>\n",
              "      <th>Fare</th>\n",
              "      <th>Cabin</th>\n",
              "      <th>Embarked</th>\n",
              "    </tr>\n",
              "  </thead>\n",
              "  <tbody>\n",
              "    <tr>\n",
              "      <th>0</th>\n",
              "      <td>1</td>\n",
              "      <td>0</td>\n",
              "      <td>3</td>\n",
              "      <td>Braund, Mr. Owen Harris</td>\n",
              "      <td>male</td>\n",
              "      <td>22.0</td>\n",
              "      <td>1</td>\n",
              "      <td>0</td>\n",
              "      <td>A/5 21171</td>\n",
              "      <td>7.2500</td>\n",
              "      <td>NaN</td>\n",
              "      <td>S</td>\n",
              "    </tr>\n",
              "    <tr>\n",
              "      <th>1</th>\n",
              "      <td>2</td>\n",
              "      <td>1</td>\n",
              "      <td>1</td>\n",
              "      <td>Cumings, Mrs. John Bradley (Florence Briggs Th...</td>\n",
              "      <td>female</td>\n",
              "      <td>38.0</td>\n",
              "      <td>1</td>\n",
              "      <td>0</td>\n",
              "      <td>PC 17599</td>\n",
              "      <td>71.2833</td>\n",
              "      <td>C85</td>\n",
              "      <td>C</td>\n",
              "    </tr>\n",
              "    <tr>\n",
              "      <th>2</th>\n",
              "      <td>3</td>\n",
              "      <td>1</td>\n",
              "      <td>3</td>\n",
              "      <td>Heikkinen, Miss. Laina</td>\n",
              "      <td>female</td>\n",
              "      <td>26.0</td>\n",
              "      <td>0</td>\n",
              "      <td>0</td>\n",
              "      <td>STON/O2. 3101282</td>\n",
              "      <td>7.9250</td>\n",
              "      <td>NaN</td>\n",
              "      <td>S</td>\n",
              "    </tr>\n",
              "    <tr>\n",
              "      <th>3</th>\n",
              "      <td>4</td>\n",
              "      <td>1</td>\n",
              "      <td>1</td>\n",
              "      <td>Futrelle, Mrs. Jacques Heath (Lily May Peel)</td>\n",
              "      <td>female</td>\n",
              "      <td>35.0</td>\n",
              "      <td>1</td>\n",
              "      <td>0</td>\n",
              "      <td>113803</td>\n",
              "      <td>53.1000</td>\n",
              "      <td>C123</td>\n",
              "      <td>S</td>\n",
              "    </tr>\n",
              "    <tr>\n",
              "      <th>4</th>\n",
              "      <td>5</td>\n",
              "      <td>0</td>\n",
              "      <td>3</td>\n",
              "      <td>Allen, Mr. William Henry</td>\n",
              "      <td>male</td>\n",
              "      <td>35.0</td>\n",
              "      <td>0</td>\n",
              "      <td>0</td>\n",
              "      <td>373450</td>\n",
              "      <td>8.0500</td>\n",
              "      <td>NaN</td>\n",
              "      <td>S</td>\n",
              "    </tr>\n",
              "    <tr>\n",
              "      <th>...</th>\n",
              "      <td>...</td>\n",
              "      <td>...</td>\n",
              "      <td>...</td>\n",
              "      <td>...</td>\n",
              "      <td>...</td>\n",
              "      <td>...</td>\n",
              "      <td>...</td>\n",
              "      <td>...</td>\n",
              "      <td>...</td>\n",
              "      <td>...</td>\n",
              "      <td>...</td>\n",
              "      <td>...</td>\n",
              "    </tr>\n",
              "    <tr>\n",
              "      <th>886</th>\n",
              "      <td>887</td>\n",
              "      <td>0</td>\n",
              "      <td>2</td>\n",
              "      <td>Montvila, Rev. Juozas</td>\n",
              "      <td>male</td>\n",
              "      <td>27.0</td>\n",
              "      <td>0</td>\n",
              "      <td>0</td>\n",
              "      <td>211536</td>\n",
              "      <td>13.0000</td>\n",
              "      <td>NaN</td>\n",
              "      <td>S</td>\n",
              "    </tr>\n",
              "    <tr>\n",
              "      <th>887</th>\n",
              "      <td>888</td>\n",
              "      <td>1</td>\n",
              "      <td>1</td>\n",
              "      <td>Graham, Miss. Margaret Edith</td>\n",
              "      <td>female</td>\n",
              "      <td>19.0</td>\n",
              "      <td>0</td>\n",
              "      <td>0</td>\n",
              "      <td>112053</td>\n",
              "      <td>30.0000</td>\n",
              "      <td>B42</td>\n",
              "      <td>S</td>\n",
              "    </tr>\n",
              "    <tr>\n",
              "      <th>888</th>\n",
              "      <td>889</td>\n",
              "      <td>0</td>\n",
              "      <td>3</td>\n",
              "      <td>Johnston, Miss. Catherine Helen \"Carrie\"</td>\n",
              "      <td>female</td>\n",
              "      <td>NaN</td>\n",
              "      <td>1</td>\n",
              "      <td>2</td>\n",
              "      <td>W./C. 6607</td>\n",
              "      <td>23.4500</td>\n",
              "      <td>NaN</td>\n",
              "      <td>S</td>\n",
              "    </tr>\n",
              "    <tr>\n",
              "      <th>889</th>\n",
              "      <td>890</td>\n",
              "      <td>1</td>\n",
              "      <td>1</td>\n",
              "      <td>Behr, Mr. Karl Howell</td>\n",
              "      <td>male</td>\n",
              "      <td>26.0</td>\n",
              "      <td>0</td>\n",
              "      <td>0</td>\n",
              "      <td>111369</td>\n",
              "      <td>30.0000</td>\n",
              "      <td>C148</td>\n",
              "      <td>C</td>\n",
              "    </tr>\n",
              "    <tr>\n",
              "      <th>890</th>\n",
              "      <td>891</td>\n",
              "      <td>0</td>\n",
              "      <td>3</td>\n",
              "      <td>Dooley, Mr. Patrick</td>\n",
              "      <td>male</td>\n",
              "      <td>32.0</td>\n",
              "      <td>0</td>\n",
              "      <td>0</td>\n",
              "      <td>370376</td>\n",
              "      <td>7.7500</td>\n",
              "      <td>NaN</td>\n",
              "      <td>Q</td>\n",
              "    </tr>\n",
              "  </tbody>\n",
              "</table>\n",
              "<p>891 rows × 12 columns</p>\n",
              "</div>\n",
              "      <button class=\"colab-df-convert\" onclick=\"convertToInteractive('df-7d264699-14cc-4fa5-b8b5-98b1659edb80')\"\n",
              "              title=\"Convert this dataframe to an interactive table.\"\n",
              "              style=\"display:none;\">\n",
              "        \n",
              "  <svg xmlns=\"http://www.w3.org/2000/svg\" height=\"24px\"viewBox=\"0 0 24 24\"\n",
              "       width=\"24px\">\n",
              "    <path d=\"M0 0h24v24H0V0z\" fill=\"none\"/>\n",
              "    <path d=\"M18.56 5.44l.94 2.06.94-2.06 2.06-.94-2.06-.94-.94-2.06-.94 2.06-2.06.94zm-11 1L8.5 8.5l.94-2.06 2.06-.94-2.06-.94L8.5 2.5l-.94 2.06-2.06.94zm10 10l.94 2.06.94-2.06 2.06-.94-2.06-.94-.94-2.06-.94 2.06-2.06.94z\"/><path d=\"M17.41 7.96l-1.37-1.37c-.4-.4-.92-.59-1.43-.59-.52 0-1.04.2-1.43.59L10.3 9.45l-7.72 7.72c-.78.78-.78 2.05 0 2.83L4 21.41c.39.39.9.59 1.41.59.51 0 1.02-.2 1.41-.59l7.78-7.78 2.81-2.81c.8-.78.8-2.07 0-2.86zM5.41 20L4 18.59l7.72-7.72 1.47 1.35L5.41 20z\"/>\n",
              "  </svg>\n",
              "      </button>\n",
              "      \n",
              "  <style>\n",
              "    .colab-df-container {\n",
              "      display:flex;\n",
              "      flex-wrap:wrap;\n",
              "      gap: 12px;\n",
              "    }\n",
              "\n",
              "    .colab-df-convert {\n",
              "      background-color: #E8F0FE;\n",
              "      border: none;\n",
              "      border-radius: 50%;\n",
              "      cursor: pointer;\n",
              "      display: none;\n",
              "      fill: #1967D2;\n",
              "      height: 32px;\n",
              "      padding: 0 0 0 0;\n",
              "      width: 32px;\n",
              "    }\n",
              "\n",
              "    .colab-df-convert:hover {\n",
              "      background-color: #E2EBFA;\n",
              "      box-shadow: 0px 1px 2px rgba(60, 64, 67, 0.3), 0px 1px 3px 1px rgba(60, 64, 67, 0.15);\n",
              "      fill: #174EA6;\n",
              "    }\n",
              "\n",
              "    [theme=dark] .colab-df-convert {\n",
              "      background-color: #3B4455;\n",
              "      fill: #D2E3FC;\n",
              "    }\n",
              "\n",
              "    [theme=dark] .colab-df-convert:hover {\n",
              "      background-color: #434B5C;\n",
              "      box-shadow: 0px 1px 3px 1px rgba(0, 0, 0, 0.15);\n",
              "      filter: drop-shadow(0px 1px 2px rgba(0, 0, 0, 0.3));\n",
              "      fill: #FFFFFF;\n",
              "    }\n",
              "  </style>\n",
              "\n",
              "      <script>\n",
              "        const buttonEl =\n",
              "          document.querySelector('#df-7d264699-14cc-4fa5-b8b5-98b1659edb80 button.colab-df-convert');\n",
              "        buttonEl.style.display =\n",
              "          google.colab.kernel.accessAllowed ? 'block' : 'none';\n",
              "\n",
              "        async function convertToInteractive(key) {\n",
              "          const element = document.querySelector('#df-7d264699-14cc-4fa5-b8b5-98b1659edb80');\n",
              "          const dataTable =\n",
              "            await google.colab.kernel.invokeFunction('convertToInteractive',\n",
              "                                                     [key], {});\n",
              "          if (!dataTable) return;\n",
              "\n",
              "          const docLinkHtml = 'Like what you see? Visit the ' +\n",
              "            '<a target=\"_blank\" href=https://colab.research.google.com/notebooks/data_table.ipynb>data table notebook</a>'\n",
              "            + ' to learn more about interactive tables.';\n",
              "          element.innerHTML = '';\n",
              "          dataTable['output_type'] = 'display_data';\n",
              "          await google.colab.output.renderOutput(dataTable, element);\n",
              "          const docLink = document.createElement('div');\n",
              "          docLink.innerHTML = docLinkHtml;\n",
              "          element.appendChild(docLink);\n",
              "        }\n",
              "      </script>\n",
              "    </div>\n",
              "  </div>\n",
              "  "
            ]
          },
          "metadata": {},
          "execution_count": 9
        }
      ]
    },
    {
      "cell_type": "markdown",
      "source": [
        "As we learned in the *How does a neural net really work* notebook, we going to want to multiply each column by some coefficients. But we can see in the `Cabin` column that there are `NaN` values, which is how Pandas refers to missing values. We can't multiply something by a missing value!\n",
        "\n",
        "Let's check which columns contain `NaN` values. Pandas' `isna()` function returns `True` (which is treated as `1` when used as a number) for `NaN` values, so we can just add them up for each column:"
      ],
      "metadata": {
        "hidden": true,
        "id": "2_XPRVeKHxun"
      }
    },
    {
      "cell_type": "code",
      "source": [
        "df.isna().sum()"
      ],
      "metadata": {
        "hidden": true,
        "execution": {
          "iopub.status.busy": "2022-05-30T22:34:17.95524Z",
          "iopub.execute_input": "2022-05-30T22:34:17.955557Z",
          "iopub.status.idle": "2022-05-30T22:34:17.966199Z",
          "shell.execute_reply.started": "2022-05-30T22:34:17.955525Z",
          "shell.execute_reply": "2022-05-30T22:34:17.96534Z"
        },
        "trusted": true,
        "id": "kz-f96lgHxuo",
        "colab": {
          "base_uri": "https://localhost:8080/"
        },
        "outputId": "e3837821-a9a6-4018-bd12-914198112fa9"
      },
      "execution_count": 10,
      "outputs": [
        {
          "output_type": "execute_result",
          "data": {
            "text/plain": [
              "PassengerId      0\n",
              "Survived         0\n",
              "Pclass           0\n",
              "Name             0\n",
              "Sex              0\n",
              "Age            177\n",
              "SibSp            0\n",
              "Parch            0\n",
              "Ticket           0\n",
              "Fare             0\n",
              "Cabin          687\n",
              "Embarked         2\n",
              "dtype: int64"
            ]
          },
          "metadata": {},
          "execution_count": 10
        }
      ]
    },
    {
      "cell_type": "markdown",
      "source": [
        "Notice that by default Pandas sums over columns.\n",
        "\n",
        "We'll need to replace the missing values with something. It doesn't generally matter too much what we choose. We'll use the most common value (the \"*mode*\"). We can use the `mode` function for that. One wrinkle is that it returns more than one row in the case of ties, so we just grab the first row with `iloc[0]`:"
      ],
      "metadata": {
        "hidden": true,
        "id": "mj_ztnuUHxup"
      }
    },
    {
      "cell_type": "code",
      "source": [
        "df.mode()"
      ],
      "metadata": {
        "colab": {
          "base_uri": "https://localhost:8080/",
          "height": 424
        },
        "id": "HFjSQyFMKPw0",
        "outputId": "05ecc6b1-c946-4e3f-f9b5-542473eafe84"
      },
      "execution_count": 11,
      "outputs": [
        {
          "output_type": "execute_result",
          "data": {
            "text/plain": [
              "     PassengerId  Survived  Pclass                                   Name   Sex   Age  SibSp  Parch    Ticket  Fare        Cabin Embarked\n",
              "0              1       0.0     3.0                    Abbing, Mr. Anthony  male  24.0    0.0    0.0      1601  8.05      B96 B98        S\n",
              "1              2       NaN     NaN            Abbott, Mr. Rossmore Edward   NaN   NaN    NaN    NaN    347082   NaN  C23 C25 C27      NaN\n",
              "2              3       NaN     NaN       Abbott, Mrs. Stanton (Rosa Hunt)   NaN   NaN    NaN    NaN  CA. 2343   NaN           G6      NaN\n",
              "3              4       NaN     NaN                    Abelson, Mr. Samuel   NaN   NaN    NaN    NaN       NaN   NaN          NaN      NaN\n",
              "4              5       NaN     NaN  Abelson, Mrs. Samuel (Hannah Wizosky)   NaN   NaN    NaN    NaN       NaN   NaN          NaN      NaN\n",
              "..           ...       ...     ...                                    ...   ...   ...    ...    ...       ...   ...          ...      ...\n",
              "886          887       NaN     NaN                de Mulder, Mr. Theodore   NaN   NaN    NaN    NaN       NaN   NaN          NaN      NaN\n",
              "887          888       NaN     NaN              de Pelsmaeker, Mr. Alfons   NaN   NaN    NaN    NaN       NaN   NaN          NaN      NaN\n",
              "888          889       NaN     NaN              del Carlo, Mr. Sebastiano   NaN   NaN    NaN    NaN       NaN   NaN          NaN      NaN\n",
              "889          890       NaN     NaN        van Billiard, Mr. Austin Blyler   NaN   NaN    NaN    NaN       NaN   NaN          NaN      NaN\n",
              "890          891       NaN     NaN            van Melkebeke, Mr. Philemon   NaN   NaN    NaN    NaN       NaN   NaN          NaN      NaN\n",
              "\n",
              "[891 rows x 12 columns]"
            ],
            "text/html": [
              "\n",
              "  <div id=\"df-8b50a84a-5982-4d7b-aef6-748f07ec19c4\">\n",
              "    <div class=\"colab-df-container\">\n",
              "      <div>\n",
              "<style scoped>\n",
              "    .dataframe tbody tr th:only-of-type {\n",
              "        vertical-align: middle;\n",
              "    }\n",
              "\n",
              "    .dataframe tbody tr th {\n",
              "        vertical-align: top;\n",
              "    }\n",
              "\n",
              "    .dataframe thead th {\n",
              "        text-align: right;\n",
              "    }\n",
              "</style>\n",
              "<table border=\"1\" class=\"dataframe\">\n",
              "  <thead>\n",
              "    <tr style=\"text-align: right;\">\n",
              "      <th></th>\n",
              "      <th>PassengerId</th>\n",
              "      <th>Survived</th>\n",
              "      <th>Pclass</th>\n",
              "      <th>Name</th>\n",
              "      <th>Sex</th>\n",
              "      <th>Age</th>\n",
              "      <th>SibSp</th>\n",
              "      <th>Parch</th>\n",
              "      <th>Ticket</th>\n",
              "      <th>Fare</th>\n",
              "      <th>Cabin</th>\n",
              "      <th>Embarked</th>\n",
              "    </tr>\n",
              "  </thead>\n",
              "  <tbody>\n",
              "    <tr>\n",
              "      <th>0</th>\n",
              "      <td>1</td>\n",
              "      <td>0.0</td>\n",
              "      <td>3.0</td>\n",
              "      <td>Abbing, Mr. Anthony</td>\n",
              "      <td>male</td>\n",
              "      <td>24.0</td>\n",
              "      <td>0.0</td>\n",
              "      <td>0.0</td>\n",
              "      <td>1601</td>\n",
              "      <td>8.05</td>\n",
              "      <td>B96 B98</td>\n",
              "      <td>S</td>\n",
              "    </tr>\n",
              "    <tr>\n",
              "      <th>1</th>\n",
              "      <td>2</td>\n",
              "      <td>NaN</td>\n",
              "      <td>NaN</td>\n",
              "      <td>Abbott, Mr. Rossmore Edward</td>\n",
              "      <td>NaN</td>\n",
              "      <td>NaN</td>\n",
              "      <td>NaN</td>\n",
              "      <td>NaN</td>\n",
              "      <td>347082</td>\n",
              "      <td>NaN</td>\n",
              "      <td>C23 C25 C27</td>\n",
              "      <td>NaN</td>\n",
              "    </tr>\n",
              "    <tr>\n",
              "      <th>2</th>\n",
              "      <td>3</td>\n",
              "      <td>NaN</td>\n",
              "      <td>NaN</td>\n",
              "      <td>Abbott, Mrs. Stanton (Rosa Hunt)</td>\n",
              "      <td>NaN</td>\n",
              "      <td>NaN</td>\n",
              "      <td>NaN</td>\n",
              "      <td>NaN</td>\n",
              "      <td>CA. 2343</td>\n",
              "      <td>NaN</td>\n",
              "      <td>G6</td>\n",
              "      <td>NaN</td>\n",
              "    </tr>\n",
              "    <tr>\n",
              "      <th>3</th>\n",
              "      <td>4</td>\n",
              "      <td>NaN</td>\n",
              "      <td>NaN</td>\n",
              "      <td>Abelson, Mr. Samuel</td>\n",
              "      <td>NaN</td>\n",
              "      <td>NaN</td>\n",
              "      <td>NaN</td>\n",
              "      <td>NaN</td>\n",
              "      <td>NaN</td>\n",
              "      <td>NaN</td>\n",
              "      <td>NaN</td>\n",
              "      <td>NaN</td>\n",
              "    </tr>\n",
              "    <tr>\n",
              "      <th>4</th>\n",
              "      <td>5</td>\n",
              "      <td>NaN</td>\n",
              "      <td>NaN</td>\n",
              "      <td>Abelson, Mrs. Samuel (Hannah Wizosky)</td>\n",
              "      <td>NaN</td>\n",
              "      <td>NaN</td>\n",
              "      <td>NaN</td>\n",
              "      <td>NaN</td>\n",
              "      <td>NaN</td>\n",
              "      <td>NaN</td>\n",
              "      <td>NaN</td>\n",
              "      <td>NaN</td>\n",
              "    </tr>\n",
              "    <tr>\n",
              "      <th>...</th>\n",
              "      <td>...</td>\n",
              "      <td>...</td>\n",
              "      <td>...</td>\n",
              "      <td>...</td>\n",
              "      <td>...</td>\n",
              "      <td>...</td>\n",
              "      <td>...</td>\n",
              "      <td>...</td>\n",
              "      <td>...</td>\n",
              "      <td>...</td>\n",
              "      <td>...</td>\n",
              "      <td>...</td>\n",
              "    </tr>\n",
              "    <tr>\n",
              "      <th>886</th>\n",
              "      <td>887</td>\n",
              "      <td>NaN</td>\n",
              "      <td>NaN</td>\n",
              "      <td>de Mulder, Mr. Theodore</td>\n",
              "      <td>NaN</td>\n",
              "      <td>NaN</td>\n",
              "      <td>NaN</td>\n",
              "      <td>NaN</td>\n",
              "      <td>NaN</td>\n",
              "      <td>NaN</td>\n",
              "      <td>NaN</td>\n",
              "      <td>NaN</td>\n",
              "    </tr>\n",
              "    <tr>\n",
              "      <th>887</th>\n",
              "      <td>888</td>\n",
              "      <td>NaN</td>\n",
              "      <td>NaN</td>\n",
              "      <td>de Pelsmaeker, Mr. Alfons</td>\n",
              "      <td>NaN</td>\n",
              "      <td>NaN</td>\n",
              "      <td>NaN</td>\n",
              "      <td>NaN</td>\n",
              "      <td>NaN</td>\n",
              "      <td>NaN</td>\n",
              "      <td>NaN</td>\n",
              "      <td>NaN</td>\n",
              "    </tr>\n",
              "    <tr>\n",
              "      <th>888</th>\n",
              "      <td>889</td>\n",
              "      <td>NaN</td>\n",
              "      <td>NaN</td>\n",
              "      <td>del Carlo, Mr. Sebastiano</td>\n",
              "      <td>NaN</td>\n",
              "      <td>NaN</td>\n",
              "      <td>NaN</td>\n",
              "      <td>NaN</td>\n",
              "      <td>NaN</td>\n",
              "      <td>NaN</td>\n",
              "      <td>NaN</td>\n",
              "      <td>NaN</td>\n",
              "    </tr>\n",
              "    <tr>\n",
              "      <th>889</th>\n",
              "      <td>890</td>\n",
              "      <td>NaN</td>\n",
              "      <td>NaN</td>\n",
              "      <td>van Billiard, Mr. Austin Blyler</td>\n",
              "      <td>NaN</td>\n",
              "      <td>NaN</td>\n",
              "      <td>NaN</td>\n",
              "      <td>NaN</td>\n",
              "      <td>NaN</td>\n",
              "      <td>NaN</td>\n",
              "      <td>NaN</td>\n",
              "      <td>NaN</td>\n",
              "    </tr>\n",
              "    <tr>\n",
              "      <th>890</th>\n",
              "      <td>891</td>\n",
              "      <td>NaN</td>\n",
              "      <td>NaN</td>\n",
              "      <td>van Melkebeke, Mr. Philemon</td>\n",
              "      <td>NaN</td>\n",
              "      <td>NaN</td>\n",
              "      <td>NaN</td>\n",
              "      <td>NaN</td>\n",
              "      <td>NaN</td>\n",
              "      <td>NaN</td>\n",
              "      <td>NaN</td>\n",
              "      <td>NaN</td>\n",
              "    </tr>\n",
              "  </tbody>\n",
              "</table>\n",
              "<p>891 rows × 12 columns</p>\n",
              "</div>\n",
              "      <button class=\"colab-df-convert\" onclick=\"convertToInteractive('df-8b50a84a-5982-4d7b-aef6-748f07ec19c4')\"\n",
              "              title=\"Convert this dataframe to an interactive table.\"\n",
              "              style=\"display:none;\">\n",
              "        \n",
              "  <svg xmlns=\"http://www.w3.org/2000/svg\" height=\"24px\"viewBox=\"0 0 24 24\"\n",
              "       width=\"24px\">\n",
              "    <path d=\"M0 0h24v24H0V0z\" fill=\"none\"/>\n",
              "    <path d=\"M18.56 5.44l.94 2.06.94-2.06 2.06-.94-2.06-.94-.94-2.06-.94 2.06-2.06.94zm-11 1L8.5 8.5l.94-2.06 2.06-.94-2.06-.94L8.5 2.5l-.94 2.06-2.06.94zm10 10l.94 2.06.94-2.06 2.06-.94-2.06-.94-.94-2.06-.94 2.06-2.06.94z\"/><path d=\"M17.41 7.96l-1.37-1.37c-.4-.4-.92-.59-1.43-.59-.52 0-1.04.2-1.43.59L10.3 9.45l-7.72 7.72c-.78.78-.78 2.05 0 2.83L4 21.41c.39.39.9.59 1.41.59.51 0 1.02-.2 1.41-.59l7.78-7.78 2.81-2.81c.8-.78.8-2.07 0-2.86zM5.41 20L4 18.59l7.72-7.72 1.47 1.35L5.41 20z\"/>\n",
              "  </svg>\n",
              "      </button>\n",
              "      \n",
              "  <style>\n",
              "    .colab-df-container {\n",
              "      display:flex;\n",
              "      flex-wrap:wrap;\n",
              "      gap: 12px;\n",
              "    }\n",
              "\n",
              "    .colab-df-convert {\n",
              "      background-color: #E8F0FE;\n",
              "      border: none;\n",
              "      border-radius: 50%;\n",
              "      cursor: pointer;\n",
              "      display: none;\n",
              "      fill: #1967D2;\n",
              "      height: 32px;\n",
              "      padding: 0 0 0 0;\n",
              "      width: 32px;\n",
              "    }\n",
              "\n",
              "    .colab-df-convert:hover {\n",
              "      background-color: #E2EBFA;\n",
              "      box-shadow: 0px 1px 2px rgba(60, 64, 67, 0.3), 0px 1px 3px 1px rgba(60, 64, 67, 0.15);\n",
              "      fill: #174EA6;\n",
              "    }\n",
              "\n",
              "    [theme=dark] .colab-df-convert {\n",
              "      background-color: #3B4455;\n",
              "      fill: #D2E3FC;\n",
              "    }\n",
              "\n",
              "    [theme=dark] .colab-df-convert:hover {\n",
              "      background-color: #434B5C;\n",
              "      box-shadow: 0px 1px 3px 1px rgba(0, 0, 0, 0.15);\n",
              "      filter: drop-shadow(0px 1px 2px rgba(0, 0, 0, 0.3));\n",
              "      fill: #FFFFFF;\n",
              "    }\n",
              "  </style>\n",
              "\n",
              "      <script>\n",
              "        const buttonEl =\n",
              "          document.querySelector('#df-8b50a84a-5982-4d7b-aef6-748f07ec19c4 button.colab-df-convert');\n",
              "        buttonEl.style.display =\n",
              "          google.colab.kernel.accessAllowed ? 'block' : 'none';\n",
              "\n",
              "        async function convertToInteractive(key) {\n",
              "          const element = document.querySelector('#df-8b50a84a-5982-4d7b-aef6-748f07ec19c4');\n",
              "          const dataTable =\n",
              "            await google.colab.kernel.invokeFunction('convertToInteractive',\n",
              "                                                     [key], {});\n",
              "          if (!dataTable) return;\n",
              "\n",
              "          const docLinkHtml = 'Like what you see? Visit the ' +\n",
              "            '<a target=\"_blank\" href=https://colab.research.google.com/notebooks/data_table.ipynb>data table notebook</a>'\n",
              "            + ' to learn more about interactive tables.';\n",
              "          element.innerHTML = '';\n",
              "          dataTable['output_type'] = 'display_data';\n",
              "          await google.colab.output.renderOutput(dataTable, element);\n",
              "          const docLink = document.createElement('div');\n",
              "          docLink.innerHTML = docLinkHtml;\n",
              "          element.appendChild(docLink);\n",
              "        }\n",
              "      </script>\n",
              "    </div>\n",
              "  </div>\n",
              "  "
            ]
          },
          "metadata": {},
          "execution_count": 11
        }
      ]
    },
    {
      "cell_type": "code",
      "source": [
        "modes = df.mode().iloc[0]\n",
        "modes"
      ],
      "metadata": {
        "hidden": true,
        "execution": {
          "iopub.status.busy": "2022-05-30T22:34:18.011876Z",
          "iopub.execute_input": "2022-05-30T22:34:18.012387Z",
          "iopub.status.idle": "2022-05-30T22:34:18.030165Z",
          "shell.execute_reply.started": "2022-05-30T22:34:18.012338Z",
          "shell.execute_reply": "2022-05-30T22:34:18.029316Z"
        },
        "trusted": true,
        "id": "1wXNxSUHHxup",
        "colab": {
          "base_uri": "https://localhost:8080/"
        },
        "outputId": "6f3c9112-4aba-4abc-b60f-b9876b1d3fc1"
      },
      "execution_count": 12,
      "outputs": [
        {
          "output_type": "execute_result",
          "data": {
            "text/plain": [
              "PassengerId                      1\n",
              "Survived                       0.0\n",
              "Pclass                         3.0\n",
              "Name           Abbing, Mr. Anthony\n",
              "Sex                           male\n",
              "Age                           24.0\n",
              "SibSp                          0.0\n",
              "Parch                          0.0\n",
              "Ticket                        1601\n",
              "Fare                          8.05\n",
              "Cabin                      B96 B98\n",
              "Embarked                         S\n",
              "Name: 0, dtype: object"
            ]
          },
          "metadata": {},
          "execution_count": 12
        }
      ]
    },
    {
      "cell_type": "markdown",
      "source": [
        "BTW, it's never a good idea to use functions without understanding them. So be sure to google for anything you're not familiar with. E.g if you want to learn about `iloc` (which is a very important function indeed!) then Google will give you a link to a [great tutorial](https://www.shanelynn.ie/pandas-iloc-loc-select-rows-and-columns-dataframe/).\n",
        "\n",
        "Now that we've got the mode of each column, we can use `fillna` to replace the missing values with the mode of each column. We'll do it \"in place\" -- meaning that we'll change the dataframe itself, rather than returning a new one."
      ],
      "metadata": {
        "hidden": true,
        "id": "M3qsDSL0Hxur"
      }
    },
    {
      "cell_type": "code",
      "source": [
        "df.fillna(modes, inplace=True)"
      ],
      "metadata": {
        "hidden": true,
        "execution": {
          "iopub.status.busy": "2022-05-30T22:34:18.069123Z",
          "iopub.execute_input": "2022-05-30T22:34:18.069624Z",
          "iopub.status.idle": "2022-05-30T22:34:18.078805Z",
          "shell.execute_reply.started": "2022-05-30T22:34:18.069573Z",
          "shell.execute_reply": "2022-05-30T22:34:18.077978Z"
        },
        "trusted": true,
        "id": "ZW02C_QQHxur"
      },
      "execution_count": 13,
      "outputs": []
    },
    {
      "cell_type": "markdown",
      "source": [
        "We can now check there's no missing values left:"
      ],
      "metadata": {
        "hidden": true,
        "id": "HtySc9WOHxur"
      }
    },
    {
      "cell_type": "code",
      "source": [
        "df.isna().sum()"
      ],
      "metadata": {
        "hidden": true,
        "execution": {
          "iopub.status.busy": "2022-05-30T22:34:18.13936Z",
          "iopub.execute_input": "2022-05-30T22:34:18.139844Z",
          "iopub.status.idle": "2022-05-30T22:34:18.149896Z",
          "shell.execute_reply.started": "2022-05-30T22:34:18.139793Z",
          "shell.execute_reply": "2022-05-30T22:34:18.148884Z"
        },
        "trusted": true,
        "id": "qG9TCnZWHxus",
        "colab": {
          "base_uri": "https://localhost:8080/"
        },
        "outputId": "118bdc7e-e696-4b5f-a67a-af4b8a3fead0"
      },
      "execution_count": 14,
      "outputs": [
        {
          "output_type": "execute_result",
          "data": {
            "text/plain": [
              "PassengerId    0\n",
              "Survived       0\n",
              "Pclass         0\n",
              "Name           0\n",
              "Sex            0\n",
              "Age            0\n",
              "SibSp          0\n",
              "Parch          0\n",
              "Ticket         0\n",
              "Fare           0\n",
              "Cabin          0\n",
              "Embarked       0\n",
              "dtype: int64"
            ]
          },
          "metadata": {},
          "execution_count": 14
        }
      ]
    },
    {
      "cell_type": "markdown",
      "source": [
        "Here's how we get a quick summary of all the numeric columns in the dataset:"
      ],
      "metadata": {
        "hidden": true,
        "id": "ZlyKgdT0Hxus"
      }
    },
    {
      "cell_type": "code",
      "source": [
        "import numpy as np\n",
        "\n",
        "df.describe(include=(np.number))"
      ],
      "metadata": {
        "hidden": true,
        "execution": {
          "iopub.status.busy": "2022-05-30T22:34:18.205483Z",
          "iopub.execute_input": "2022-05-30T22:34:18.205953Z",
          "iopub.status.idle": "2022-05-30T22:34:18.240196Z",
          "shell.execute_reply.started": "2022-05-30T22:34:18.205897Z",
          "shell.execute_reply": "2022-05-30T22:34:18.239106Z"
        },
        "trusted": true,
        "id": "AvHup5oTHxut",
        "colab": {
          "base_uri": "https://localhost:8080/",
          "height": 300
        },
        "outputId": "8c887b64-88ec-4018-a358-9dd7c686c50b"
      },
      "execution_count": 15,
      "outputs": [
        {
          "output_type": "execute_result",
          "data": {
            "text/plain": [
              "       PassengerId    Survived      Pclass         Age       SibSp       Parch        Fare\n",
              "count   891.000000  891.000000  891.000000  891.000000  891.000000  891.000000  891.000000\n",
              "mean    446.000000    0.383838    2.308642   28.566970    0.523008    0.381594   32.204208\n",
              "std     257.353842    0.486592    0.836071   13.199572    1.102743    0.806057   49.693429\n",
              "min       1.000000    0.000000    1.000000    0.420000    0.000000    0.000000    0.000000\n",
              "25%     223.500000    0.000000    2.000000   22.000000    0.000000    0.000000    7.910400\n",
              "50%     446.000000    0.000000    3.000000   24.000000    0.000000    0.000000   14.454200\n",
              "75%     668.500000    1.000000    3.000000   35.000000    1.000000    0.000000   31.000000\n",
              "max     891.000000    1.000000    3.000000   80.000000    8.000000    6.000000  512.329200"
            ],
            "text/html": [
              "\n",
              "  <div id=\"df-45e43f4e-c9f5-4e04-bb19-19996c3c8e82\">\n",
              "    <div class=\"colab-df-container\">\n",
              "      <div>\n",
              "<style scoped>\n",
              "    .dataframe tbody tr th:only-of-type {\n",
              "        vertical-align: middle;\n",
              "    }\n",
              "\n",
              "    .dataframe tbody tr th {\n",
              "        vertical-align: top;\n",
              "    }\n",
              "\n",
              "    .dataframe thead th {\n",
              "        text-align: right;\n",
              "    }\n",
              "</style>\n",
              "<table border=\"1\" class=\"dataframe\">\n",
              "  <thead>\n",
              "    <tr style=\"text-align: right;\">\n",
              "      <th></th>\n",
              "      <th>PassengerId</th>\n",
              "      <th>Survived</th>\n",
              "      <th>Pclass</th>\n",
              "      <th>Age</th>\n",
              "      <th>SibSp</th>\n",
              "      <th>Parch</th>\n",
              "      <th>Fare</th>\n",
              "    </tr>\n",
              "  </thead>\n",
              "  <tbody>\n",
              "    <tr>\n",
              "      <th>count</th>\n",
              "      <td>891.000000</td>\n",
              "      <td>891.000000</td>\n",
              "      <td>891.000000</td>\n",
              "      <td>891.000000</td>\n",
              "      <td>891.000000</td>\n",
              "      <td>891.000000</td>\n",
              "      <td>891.000000</td>\n",
              "    </tr>\n",
              "    <tr>\n",
              "      <th>mean</th>\n",
              "      <td>446.000000</td>\n",
              "      <td>0.383838</td>\n",
              "      <td>2.308642</td>\n",
              "      <td>28.566970</td>\n",
              "      <td>0.523008</td>\n",
              "      <td>0.381594</td>\n",
              "      <td>32.204208</td>\n",
              "    </tr>\n",
              "    <tr>\n",
              "      <th>std</th>\n",
              "      <td>257.353842</td>\n",
              "      <td>0.486592</td>\n",
              "      <td>0.836071</td>\n",
              "      <td>13.199572</td>\n",
              "      <td>1.102743</td>\n",
              "      <td>0.806057</td>\n",
              "      <td>49.693429</td>\n",
              "    </tr>\n",
              "    <tr>\n",
              "      <th>min</th>\n",
              "      <td>1.000000</td>\n",
              "      <td>0.000000</td>\n",
              "      <td>1.000000</td>\n",
              "      <td>0.420000</td>\n",
              "      <td>0.000000</td>\n",
              "      <td>0.000000</td>\n",
              "      <td>0.000000</td>\n",
              "    </tr>\n",
              "    <tr>\n",
              "      <th>25%</th>\n",
              "      <td>223.500000</td>\n",
              "      <td>0.000000</td>\n",
              "      <td>2.000000</td>\n",
              "      <td>22.000000</td>\n",
              "      <td>0.000000</td>\n",
              "      <td>0.000000</td>\n",
              "      <td>7.910400</td>\n",
              "    </tr>\n",
              "    <tr>\n",
              "      <th>50%</th>\n",
              "      <td>446.000000</td>\n",
              "      <td>0.000000</td>\n",
              "      <td>3.000000</td>\n",
              "      <td>24.000000</td>\n",
              "      <td>0.000000</td>\n",
              "      <td>0.000000</td>\n",
              "      <td>14.454200</td>\n",
              "    </tr>\n",
              "    <tr>\n",
              "      <th>75%</th>\n",
              "      <td>668.500000</td>\n",
              "      <td>1.000000</td>\n",
              "      <td>3.000000</td>\n",
              "      <td>35.000000</td>\n",
              "      <td>1.000000</td>\n",
              "      <td>0.000000</td>\n",
              "      <td>31.000000</td>\n",
              "    </tr>\n",
              "    <tr>\n",
              "      <th>max</th>\n",
              "      <td>891.000000</td>\n",
              "      <td>1.000000</td>\n",
              "      <td>3.000000</td>\n",
              "      <td>80.000000</td>\n",
              "      <td>8.000000</td>\n",
              "      <td>6.000000</td>\n",
              "      <td>512.329200</td>\n",
              "    </tr>\n",
              "  </tbody>\n",
              "</table>\n",
              "</div>\n",
              "      <button class=\"colab-df-convert\" onclick=\"convertToInteractive('df-45e43f4e-c9f5-4e04-bb19-19996c3c8e82')\"\n",
              "              title=\"Convert this dataframe to an interactive table.\"\n",
              "              style=\"display:none;\">\n",
              "        \n",
              "  <svg xmlns=\"http://www.w3.org/2000/svg\" height=\"24px\"viewBox=\"0 0 24 24\"\n",
              "       width=\"24px\">\n",
              "    <path d=\"M0 0h24v24H0V0z\" fill=\"none\"/>\n",
              "    <path d=\"M18.56 5.44l.94 2.06.94-2.06 2.06-.94-2.06-.94-.94-2.06-.94 2.06-2.06.94zm-11 1L8.5 8.5l.94-2.06 2.06-.94-2.06-.94L8.5 2.5l-.94 2.06-2.06.94zm10 10l.94 2.06.94-2.06 2.06-.94-2.06-.94-.94-2.06-.94 2.06-2.06.94z\"/><path d=\"M17.41 7.96l-1.37-1.37c-.4-.4-.92-.59-1.43-.59-.52 0-1.04.2-1.43.59L10.3 9.45l-7.72 7.72c-.78.78-.78 2.05 0 2.83L4 21.41c.39.39.9.59 1.41.59.51 0 1.02-.2 1.41-.59l7.78-7.78 2.81-2.81c.8-.78.8-2.07 0-2.86zM5.41 20L4 18.59l7.72-7.72 1.47 1.35L5.41 20z\"/>\n",
              "  </svg>\n",
              "      </button>\n",
              "      \n",
              "  <style>\n",
              "    .colab-df-container {\n",
              "      display:flex;\n",
              "      flex-wrap:wrap;\n",
              "      gap: 12px;\n",
              "    }\n",
              "\n",
              "    .colab-df-convert {\n",
              "      background-color: #E8F0FE;\n",
              "      border: none;\n",
              "      border-radius: 50%;\n",
              "      cursor: pointer;\n",
              "      display: none;\n",
              "      fill: #1967D2;\n",
              "      height: 32px;\n",
              "      padding: 0 0 0 0;\n",
              "      width: 32px;\n",
              "    }\n",
              "\n",
              "    .colab-df-convert:hover {\n",
              "      background-color: #E2EBFA;\n",
              "      box-shadow: 0px 1px 2px rgba(60, 64, 67, 0.3), 0px 1px 3px 1px rgba(60, 64, 67, 0.15);\n",
              "      fill: #174EA6;\n",
              "    }\n",
              "\n",
              "    [theme=dark] .colab-df-convert {\n",
              "      background-color: #3B4455;\n",
              "      fill: #D2E3FC;\n",
              "    }\n",
              "\n",
              "    [theme=dark] .colab-df-convert:hover {\n",
              "      background-color: #434B5C;\n",
              "      box-shadow: 0px 1px 3px 1px rgba(0, 0, 0, 0.15);\n",
              "      filter: drop-shadow(0px 1px 2px rgba(0, 0, 0, 0.3));\n",
              "      fill: #FFFFFF;\n",
              "    }\n",
              "  </style>\n",
              "\n",
              "      <script>\n",
              "        const buttonEl =\n",
              "          document.querySelector('#df-45e43f4e-c9f5-4e04-bb19-19996c3c8e82 button.colab-df-convert');\n",
              "        buttonEl.style.display =\n",
              "          google.colab.kernel.accessAllowed ? 'block' : 'none';\n",
              "\n",
              "        async function convertToInteractive(key) {\n",
              "          const element = document.querySelector('#df-45e43f4e-c9f5-4e04-bb19-19996c3c8e82');\n",
              "          const dataTable =\n",
              "            await google.colab.kernel.invokeFunction('convertToInteractive',\n",
              "                                                     [key], {});\n",
              "          if (!dataTable) return;\n",
              "\n",
              "          const docLinkHtml = 'Like what you see? Visit the ' +\n",
              "            '<a target=\"_blank\" href=https://colab.research.google.com/notebooks/data_table.ipynb>data table notebook</a>'\n",
              "            + ' to learn more about interactive tables.';\n",
              "          element.innerHTML = '';\n",
              "          dataTable['output_type'] = 'display_data';\n",
              "          await google.colab.output.renderOutput(dataTable, element);\n",
              "          const docLink = document.createElement('div');\n",
              "          docLink.innerHTML = docLinkHtml;\n",
              "          element.appendChild(docLink);\n",
              "        }\n",
              "      </script>\n",
              "    </div>\n",
              "  </div>\n",
              "  "
            ]
          },
          "metadata": {},
          "execution_count": 15
        }
      ]
    },
    {
      "cell_type": "markdown",
      "source": [
        "We can see that `Fare` contains mainly values of around `0` to `30`, but there's a few really big ones. This is very common with fields contain monetary values, and it can cause problems for our model, because once that column is multiplied by a coefficient later, the few rows with really big values will dominate the result.\n",
        "\n",
        "You can see the issue most clearly visually by looking at a histogram, which shows a long tail to the right (and don't forget: if you're not entirely sure what a histogram is, Google \"[histogram tutorial](https://www.google.com/search?q=histogram+tutorial&oq=histogram+tutorial)\" and do a bit of reading before continuing on):"
      ],
      "metadata": {
        "execution": {
          "iopub.execute_input": "2022-05-13T11:02:34.328433Z",
          "iopub.status.busy": "2022-05-13T11:02:34.327999Z",
          "iopub.status.idle": "2022-05-13T11:02:34.336993Z",
          "shell.execute_reply": "2022-05-13T11:02:34.335466Z",
          "shell.execute_reply.started": "2022-05-13T11:02:34.32838Z"
        },
        "hidden": true,
        "id": "wlNzxo9JHxut"
      }
    },
    {
      "cell_type": "code",
      "source": [
        "df['Fare'].hist();"
      ],
      "metadata": {
        "hidden": true,
        "execution": {
          "iopub.status.busy": "2022-05-30T22:34:18.241874Z",
          "iopub.execute_input": "2022-05-30T22:34:18.242123Z",
          "iopub.status.idle": "2022-05-30T22:34:18.471439Z",
          "shell.execute_reply.started": "2022-05-30T22:34:18.242094Z",
          "shell.execute_reply": "2022-05-30T22:34:18.470441Z"
        },
        "trusted": true,
        "id": "uGvBvf-GHxuu",
        "colab": {
          "base_uri": "https://localhost:8080/",
          "height": 265
        },
        "outputId": "12e1cb7b-62b8-40b6-8461-a5150ad93c55"
      },
      "execution_count": 16,
      "outputs": [
        {
          "output_type": "display_data",
          "data": {
            "text/plain": [
              "<Figure size 432x288 with 1 Axes>"
            ],
            "image/png": "[encoded data removed]"
          },
          "metadata": {
            "needs_background": "light"
          }
        }
      ]
    },
    {
      "cell_type": "markdown",
      "source": [
        "To fix this, the most common approach is to take the logarithm, which squishes the big numbers and makes the distribution more reasonable. Note, however, that there are zeros in the `Fare` column, and `log(0)` is infinite -- to fix this, we'll simply add `1` to all values first:"
      ],
      "metadata": {
        "execution": {
          "iopub.execute_input": "2022-05-13T11:02:34.328433Z",
          "iopub.status.busy": "2022-05-13T11:02:34.327999Z",
          "iopub.status.idle": "2022-05-13T11:02:34.336993Z",
          "shell.execute_reply": "2022-05-13T11:02:34.335466Z",
          "shell.execute_reply.started": "2022-05-13T11:02:34.32838Z"
        },
        "hidden": true,
        "id": "FRxU5gYLHxuu"
      }
    },
    {
      "cell_type": "code",
      "source": [
        "df['LogFare'] = np.log(df['Fare']+1)"
      ],
      "metadata": {
        "hidden": true,
        "execution": {
          "iopub.status.busy": "2022-05-30T22:34:18.473109Z",
          "iopub.execute_input": "2022-05-30T22:34:18.47382Z",
          "iopub.status.idle": "2022-05-30T22:34:18.478776Z",
          "shell.execute_reply.started": "2022-05-30T22:34:18.473778Z",
          "shell.execute_reply": "2022-05-30T22:34:18.478149Z"
        },
        "trusted": true,
        "id": "gxmwCfz_Hxuu"
      },
      "execution_count": 17,
      "outputs": []
    },
    {
      "cell_type": "markdown",
      "source": [
        "The histogram now shows a more even distribution of values without the long tail:"
      ],
      "metadata": {
        "hidden": true,
        "id": "2cMauhBXHxuu"
      }
    },
    {
      "cell_type": "code",
      "source": [
        "df['LogFare'].hist();"
      ],
      "metadata": {
        "hidden": true,
        "execution": {
          "iopub.status.busy": "2022-05-30T22:34:18.480088Z",
          "iopub.execute_input": "2022-05-30T22:34:18.480926Z",
          "iopub.status.idle": "2022-05-30T22:34:18.855605Z",
          "shell.execute_reply.started": "2022-05-30T22:34:18.480885Z",
          "shell.execute_reply": "2022-05-30T22:34:18.854915Z"
        },
        "trusted": true,
        "id": "24MhFKLXHxuv",
        "colab": {
          "base_uri": "https://localhost:8080/",
          "height": 265
        },
        "outputId": "f04fdb65-2ca1-4a3d-93f0-d796f0f98db9"
      },
      "execution_count": 18,
      "outputs": [
        {
          "output_type": "display_data",
          "data": {
            "text/plain": [
              "<Figure size 432x288 with 1 Axes>"
            ],
            "image/png": "[encoded data removed]"
          },
          "metadata": {
            "needs_background": "light"
          }
        }
      ]
    },
    {
      "cell_type": "markdown",
      "source": [
        "It looks from the `describe()` output like `Pclass` contains just 3 values, which we can confirm by looking at the [Data Dictionary](https://www.kaggle.com/competitions/titanic/data) (which you should always study carefully for any project!) -- "
      ],
      "metadata": {
        "hidden": true,
        "id": "Qfpr0SgiHxuv"
      }
    },
    {
      "cell_type": "code",
      "source": [
        "pclasses = sorted(df.Pclass.unique())\n",
        "pclasses"
      ],
      "metadata": {
        "hidden": true,
        "execution": {
          "iopub.status.busy": "2022-05-30T22:34:18.857312Z",
          "iopub.execute_input": "2022-05-30T22:34:18.857676Z",
          "iopub.status.idle": "2022-05-30T22:34:18.863672Z",
          "shell.execute_reply.started": "2022-05-30T22:34:18.857643Z",
          "shell.execute_reply": "2022-05-30T22:34:18.862791Z"
        },
        "trusted": true,
        "id": "r70aC-mcHxuv",
        "colab": {
          "base_uri": "https://localhost:8080/"
        },
        "outputId": "6d88237b-e206-4c45-ba22-5687e88956d5"
      },
      "execution_count": 19,
      "outputs": [
        {
          "output_type": "execute_result",
          "data": {
            "text/plain": [
              "[1, 2, 3]"
            ]
          },
          "metadata": {},
          "execution_count": 19
        }
      ]
    },
    {
      "cell_type": "markdown",
      "source": [
        "Here's how we get a quick summary of all the non-numeric columns in the dataset:"
      ],
      "metadata": {
        "hidden": true,
        "id": "ru5lvS0ZHxuv"
      }
    },
    {
      "cell_type": "code",
      "source": [
        "df.describe(include=[object])"
      ],
      "metadata": {
        "hidden": true,
        "execution": {
          "iopub.status.busy": "2022-05-30T22:34:18.864893Z",
          "iopub.execute_input": "2022-05-30T22:34:18.865154Z",
          "iopub.status.idle": "2022-05-30T22:34:18.89758Z",
          "shell.execute_reply.started": "2022-05-30T22:34:18.865115Z",
          "shell.execute_reply": "2022-05-30T22:34:18.896706Z"
        },
        "trusted": true,
        "id": "9l_1sefgHxuw",
        "colab": {
          "base_uri": "https://localhost:8080/",
          "height": 175
        },
        "outputId": "6ef28daf-33dc-4aa8-aeb6-3390899f135d"
      },
      "execution_count": 20,
      "outputs": [
        {
          "output_type": "execute_result",
          "data": {
            "text/plain": [
              "                           Name   Sex  Ticket    Cabin Embarked\n",
              "count                       891   891     891      891      891\n",
              "unique                      891     2     681      147        3\n",
              "top     Braund, Mr. Owen Harris  male  347082  B96 B98        S\n",
              "freq                          1   577       7      691      646"
            ],
            "text/html": [
              "\n",
              "  <div id=\"df-8e5eb236-7e54-4331-9037-396c54f45105\">\n",
              "    <div class=\"colab-df-container\">\n",
              "      <div>\n",
              "<style scoped>\n",
              "    .dataframe tbody tr th:only-of-type {\n",
              "        vertical-align: middle;\n",
              "    }\n",
              "\n",
              "    .dataframe tbody tr th {\n",
              "        vertical-align: top;\n",
              "    }\n",
              "\n",
              "    .dataframe thead th {\n",
              "        text-align: right;\n",
              "    }\n",
              "</style>\n",
              "<table border=\"1\" class=\"dataframe\">\n",
              "  <thead>\n",
              "    <tr style=\"text-align: right;\">\n",
              "      <th></th>\n",
              "      <th>Name</th>\n",
              "      <th>Sex</th>\n",
              "      <th>Ticket</th>\n",
              "      <th>Cabin</th>\n",
              "      <th>Embarked</th>\n",
              "    </tr>\n",
              "  </thead>\n",
              "  <tbody>\n",
              "    <tr>\n",
              "      <th>count</th>\n",
              "      <td>891</td>\n",
              "      <td>891</td>\n",
              "      <td>891</td>\n",
              "      <td>891</td>\n",
              "      <td>891</td>\n",
              "    </tr>\n",
              "    <tr>\n",
              "      <th>unique</th>\n",
              "      <td>891</td>\n",
              "      <td>2</td>\n",
              "      <td>681</td>\n",
              "      <td>147</td>\n",
              "      <td>3</td>\n",
              "    </tr>\n",
              "    <tr>\n",
              "      <th>top</th>\n",
              "      <td>Braund, Mr. Owen Harris</td>\n",
              "      <td>male</td>\n",
              "      <td>347082</td>\n",
              "      <td>B96 B98</td>\n",
              "      <td>S</td>\n",
              "    </tr>\n",
              "    <tr>\n",
              "      <th>freq</th>\n",
              "      <td>1</td>\n",
              "      <td>577</td>\n",
              "      <td>7</td>\n",
              "      <td>691</td>\n",
              "      <td>646</td>\n",
              "    </tr>\n",
              "  </tbody>\n",
              "</table>\n",
              "</div>\n",
              "      <button class=\"colab-df-convert\" onclick=\"convertToInteractive('df-8e5eb236-7e54-4331-9037-396c54f45105')\"\n",
              "              title=\"Convert this dataframe to an interactive table.\"\n",
              "              style=\"display:none;\">\n",
              "        \n",
              "  <svg xmlns=\"http://www.w3.org/2000/svg\" height=\"24px\"viewBox=\"0 0 24 24\"\n",
              "       width=\"24px\">\n",
              "    <path d=\"M0 0h24v24H0V0z\" fill=\"none\"/>\n",
              "    <path d=\"M18.56 5.44l.94 2.06.94-2.06 2.06-.94-2.06-.94-.94-2.06-.94 2.06-2.06.94zm-11 1L8.5 8.5l.94-2.06 2.06-.94-2.06-.94L8.5 2.5l-.94 2.06-2.06.94zm10 10l.94 2.06.94-2.06 2.06-.94-2.06-.94-.94-2.06-.94 2.06-2.06.94z\"/><path d=\"M17.41 7.96l-1.37-1.37c-.4-.4-.92-.59-1.43-.59-.52 0-1.04.2-1.43.59L10.3 9.45l-7.72 7.72c-.78.78-.78 2.05 0 2.83L4 21.41c.39.39.9.59 1.41.59.51 0 1.02-.2 1.41-.59l7.78-7.78 2.81-2.81c.8-.78.8-2.07 0-2.86zM5.41 20L4 18.59l7.72-7.72 1.47 1.35L5.41 20z\"/>\n",
              "  </svg>\n",
              "      </button>\n",
              "      \n",
              "  <style>\n",
              "    .colab-df-container {\n",
              "      display:flex;\n",
              "      flex-wrap:wrap;\n",
              "      gap: 12px;\n",
              "    }\n",
              "\n",
              "    .colab-df-convert {\n",
              "      background-color: #E8F0FE;\n",
              "      border: none;\n",
              "      border-radius: 50%;\n",
              "      cursor: pointer;\n",
              "      display: none;\n",
              "      fill: #1967D2;\n",
              "      height: 32px;\n",
              "      padding: 0 0 0 0;\n",
              "      width: 32px;\n",
              "    }\n",
              "\n",
              "    .colab-df-convert:hover {\n",
              "      background-color: #E2EBFA;\n",
              "      box-shadow: 0px 1px 2px rgba(60, 64, 67, 0.3), 0px 1px 3px 1px rgba(60, 64, 67, 0.15);\n",
              "      fill: #174EA6;\n",
              "    }\n",
              "\n",
              "    [theme=dark] .colab-df-convert {\n",
              "      background-color: #3B4455;\n",
              "      fill: #D2E3FC;\n",
              "    }\n",
              "\n",
              "    [theme=dark] .colab-df-convert:hover {\n",
              "      background-color: #434B5C;\n",
              "      box-shadow: 0px 1px 3px 1px rgba(0, 0, 0, 0.15);\n",
              "      filter: drop-shadow(0px 1px 2px rgba(0, 0, 0, 0.3));\n",
              "      fill: #FFFFFF;\n",
              "    }\n",
              "  </style>\n",
              "\n",
              "      <script>\n",
              "        const buttonEl =\n",
              "          document.querySelector('#df-8e5eb236-7e54-4331-9037-396c54f45105 button.colab-df-convert');\n",
              "        buttonEl.style.display =\n",
              "          google.colab.kernel.accessAllowed ? 'block' : 'none';\n",
              "\n",
              "        async function convertToInteractive(key) {\n",
              "          const element = document.querySelector('#df-8e5eb236-7e54-4331-9037-396c54f45105');\n",
              "          const dataTable =\n",
              "            await google.colab.kernel.invokeFunction('convertToInteractive',\n",
              "                                                     [key], {});\n",
              "          if (!dataTable) return;\n",
              "\n",
              "          const docLinkHtml = 'Like what you see? Visit the ' +\n",
              "            '<a target=\"_blank\" href=https://colab.research.google.com/notebooks/data_table.ipynb>data table notebook</a>'\n",
              "            + ' to learn more about interactive tables.';\n",
              "          element.innerHTML = '';\n",
              "          dataTable['output_type'] = 'display_data';\n",
              "          await google.colab.output.renderOutput(dataTable, element);\n",
              "          const docLink = document.createElement('div');\n",
              "          docLink.innerHTML = docLinkHtml;\n",
              "          element.appendChild(docLink);\n",
              "        }\n",
              "      </script>\n",
              "    </div>\n",
              "  </div>\n",
              "  "
            ]
          },
          "metadata": {},
          "execution_count": 20
        }
      ]
    },
    {
      "cell_type": "markdown",
      "source": [
        "Clearly we can't multiply strings like `male` or `S` by coefficients, so we need to replace those with numbers.\n",
        "\n",
        "We do that by creating new columns containing *dummy variables*. A dummy variable is a column that contains a `1` where a particular column contains a particular value, or a `0` otherwise. For instance, we could create a dummy variable for `Sex='male'`, which would be a new column containing `1` for rows where `Sex` is `'male'`, and 0 for rows where it isn't.\n",
        "\n",
        "Pandas can create these automatically using `get_dummies`, which also remove the original columns. We'll create dummy variables for `Pclass`, even although it's numeric, since the numbers `1`, `2`, and `3` correspond to first, second, and third class cabins - not to counts or measures that make sense to multiply by. We'll also create dummies for `Sex` and `Embarked` since we'll want to use those as predictors in our model. On the other hand, `Cabin`, `Name`, and `Ticket` have too many unique values for it to make sense creating dummy variables for them."
      ],
      "metadata": {
        "hidden": true,
        "id": "WqCBVaS3Hxuw"
      }
    },
    {
      "cell_type": "markdown",
      "source": [
        "**mlc**: to check variable types"
      ],
      "metadata": {
        "id": "3hxUpPfKQysP"
      }
    },
    {
      "cell_type": "code",
      "source": [
        "df.dtypes"
      ],
      "metadata": {
        "colab": {
          "base_uri": "https://localhost:8080/"
        },
        "id": "ZwSbLSGHQQCG",
        "outputId": "d0b8e6b5-64ac-4efe-ca4e-9237e39c1e61"
      },
      "execution_count": 26,
      "outputs": [
        {
          "output_type": "execute_result",
          "data": {
            "text/plain": [
              "PassengerId      int64\n",
              "Survived         int64\n",
              "Name            object\n",
              "Age            float64\n",
              "SibSp            int64\n",
              "Parch            int64\n",
              "Ticket          object\n",
              "Fare           float64\n",
              "Cabin           object\n",
              "LogFare        float64\n",
              "Sex_female       uint8\n",
              "Sex_male         uint8\n",
              "Pclass_1         uint8\n",
              "Pclass_2         uint8\n",
              "Pclass_3         uint8\n",
              "Embarked_C       uint8\n",
              "Embarked_Q       uint8\n",
              "Embarked_S       uint8\n",
              "dtype: object"
            ]
          },
          "metadata": {},
          "execution_count": 26
        }
      ]
    },
    {
      "cell_type": "code",
      "source": [
        "df = pd.get_dummies(df, columns=[\"Sex\",\"Pclass\",\"Embarked\"])\n",
        "df.columns"
      ],
      "metadata": {
        "hidden": true,
        "execution": {
          "iopub.status.busy": "2022-05-30T22:34:18.899127Z",
          "iopub.execute_input": "2022-05-30T22:34:18.899369Z",
          "iopub.status.idle": "2022-05-30T22:34:18.914993Z",
          "shell.execute_reply.started": "2022-05-30T22:34:18.899338Z",
          "shell.execute_reply": "2022-05-30T22:34:18.914167Z"
        },
        "trusted": true,
        "id": "rx6OiB-XHxuw",
        "colab": {
          "base_uri": "https://localhost:8080/"
        },
        "outputId": "a79326ff-46ab-46f2-f104-beb428ab8e27"
      },
      "execution_count": 21,
      "outputs": [
        {
          "output_type": "execute_result",
          "data": {
            "text/plain": [
              "Index(['PassengerId', 'Survived', 'Name', 'Age', 'SibSp', 'Parch', 'Ticket', 'Fare', 'Cabin', 'LogFare', 'Sex_female', 'Sex_male',\n",
              "       'Pclass_1', 'Pclass_2', 'Pclass_3', 'Embarked_C', 'Embarked_Q', 'Embarked_S'],\n",
              "      dtype='object')"
            ]
          },
          "metadata": {},
          "execution_count": 21
        }
      ]
    },
    {
      "cell_type": "markdown",
      "source": [
        "We can see that 5 columns have been added to the end -- one for each of the possible values of each of the three columns we requested, and that those three requested columns have been removed.\n",
        "\n",
        "Here's what the first few rows of those newly added columns look like:"
      ],
      "metadata": {
        "hidden": true,
        "id": "wgHczn6YHxux"
      }
    },
    {
      "cell_type": "code",
      "source": [
        "added_cols = ['Sex_male', 'Sex_female', 'Pclass_1', 'Pclass_2', 'Pclass_3', 'Embarked_C', 'Embarked_Q', 'Embarked_S']\n",
        "df[added_cols].head()"
      ],
      "metadata": {
        "hidden": true,
        "execution": {
          "iopub.status.busy": "2022-05-30T22:34:18.916186Z",
          "iopub.execute_input": "2022-05-30T22:34:18.916456Z",
          "iopub.status.idle": "2022-05-30T22:34:18.933746Z",
          "shell.execute_reply.started": "2022-05-30T22:34:18.916426Z",
          "shell.execute_reply": "2022-05-30T22:34:18.933135Z"
        },
        "trusted": true,
        "id": "9M865yEbHxux",
        "colab": {
          "base_uri": "https://localhost:8080/",
          "height": 206
        },
        "outputId": "d2e769be-dcbb-42ab-edea-2eddb91faa82"
      },
      "execution_count": 35,
      "outputs": [
        {
          "output_type": "execute_result",
          "data": {
            "text/plain": [
              "   Sex_male  Sex_female  Pclass_1  Pclass_2  Pclass_3  Embarked_C  Embarked_Q  Embarked_S\n",
              "0         1           0         0         0         1           0           0           1\n",
              "1         0           1         1         0         0           1           0           0\n",
              "2         0           1         0         0         1           0           0           1\n",
              "3         0           1         1         0         0           0           0           1\n",
              "4         1           0         0         0         1           0           0           1"
            ],
            "text/html": [
              "\n",
              "  <div id=\"df-054a80ac-3062-4289-ab45-a513c737e88b\">\n",
              "    <div class=\"colab-df-container\">\n",
              "      <div>\n",
              "<style scoped>\n",
              "    .dataframe tbody tr th:only-of-type {\n",
              "        vertical-align: middle;\n",
              "    }\n",
              "\n",
              "    .dataframe tbody tr th {\n",
              "        vertical-align: top;\n",
              "    }\n",
              "\n",
              "    .dataframe thead th {\n",
              "        text-align: right;\n",
              "    }\n",
              "</style>\n",
              "<table border=\"1\" class=\"dataframe\">\n",
              "  <thead>\n",
              "    <tr style=\"text-align: right;\">\n",
              "      <th></th>\n",
              "      <th>Sex_male</th>\n",
              "      <th>Sex_female</th>\n",
              "      <th>Pclass_1</th>\n",
              "      <th>Pclass_2</th>\n",
              "      <th>Pclass_3</th>\n",
              "      <th>Embarked_C</th>\n",
              "      <th>Embarked_Q</th>\n",
              "      <th>Embarked_S</th>\n",
              "    </tr>\n",
              "  </thead>\n",
              "  <tbody>\n",
              "    <tr>\n",
              "      <th>0</th>\n",
              "      <td>1</td>\n",
              "      <td>0</td>\n",
              "      <td>0</td>\n",
              "      <td>0</td>\n",
              "      <td>1</td>\n",
              "      <td>0</td>\n",
              "      <td>0</td>\n",
              "      <td>1</td>\n",
              "    </tr>\n",
              "    <tr>\n",
              "      <th>1</th>\n",
              "      <td>0</td>\n",
              "      <td>1</td>\n",
              "      <td>1</td>\n",
              "      <td>0</td>\n",
              "      <td>0</td>\n",
              "      <td>1</td>\n",
              "      <td>0</td>\n",
              "      <td>0</td>\n",
              "    </tr>\n",
              "    <tr>\n",
              "      <th>2</th>\n",
              "      <td>0</td>\n",
              "      <td>1</td>\n",
              "      <td>0</td>\n",
              "      <td>0</td>\n",
              "      <td>1</td>\n",
              "      <td>0</td>\n",
              "      <td>0</td>\n",
              "      <td>1</td>\n",
              "    </tr>\n",
              "    <tr>\n",
              "      <th>3</th>\n",
              "      <td>0</td>\n",
              "      <td>1</td>\n",
              "      <td>1</td>\n",
              "      <td>0</td>\n",
              "      <td>0</td>\n",
              "      <td>0</td>\n",
              "      <td>0</td>\n",
              "      <td>1</td>\n",
              "    </tr>\n",
              "    <tr>\n",
              "      <th>4</th>\n",
              "      <td>1</td>\n",
              "      <td>0</td>\n",
              "      <td>0</td>\n",
              "      <td>0</td>\n",
              "      <td>1</td>\n",
              "      <td>0</td>\n",
              "      <td>0</td>\n",
              "      <td>1</td>\n",
              "    </tr>\n",
              "  </tbody>\n",
              "</table>\n",
              "</div>\n",
              "      <button class=\"colab-df-convert\" onclick=\"convertToInteractive('df-054a80ac-3062-4289-ab45-a513c737e88b')\"\n",
              "              title=\"Convert this dataframe to an interactive table.\"\n",
              "              style=\"display:none;\">\n",
              "        \n",
              "  <svg xmlns=\"http://www.w3.org/2000/svg\" height=\"24px\"viewBox=\"0 0 24 24\"\n",
              "       width=\"24px\">\n",
              "    <path d=\"M0 0h24v24H0V0z\" fill=\"none\"/>\n",
              "    <path d=\"M18.56 5.44l.94 2.06.94-2.06 2.06-.94-2.06-.94-.94-2.06-.94 2.06-2.06.94zm-11 1L8.5 8.5l.94-2.06 2.06-.94-2.06-.94L8.5 2.5l-.94 2.06-2.06.94zm10 10l.94 2.06.94-2.06 2.06-.94-2.06-.94-.94-2.06-.94 2.06-2.06.94z\"/><path d=\"M17.41 7.96l-1.37-1.37c-.4-.4-.92-.59-1.43-.59-.52 0-1.04.2-1.43.59L10.3 9.45l-7.72 7.72c-.78.78-.78 2.05 0 2.83L4 21.41c.39.39.9.59 1.41.59.51 0 1.02-.2 1.41-.59l7.78-7.78 2.81-2.81c.8-.78.8-2.07 0-2.86zM5.41 20L4 18.59l7.72-7.72 1.47 1.35L5.41 20z\"/>\n",
              "  </svg>\n",
              "      </button>\n",
              "      \n",
              "  <style>\n",
              "    .colab-df-container {\n",
              "      display:flex;\n",
              "      flex-wrap:wrap;\n",
              "      gap: 12px;\n",
              "    }\n",
              "\n",
              "    .colab-df-convert {\n",
              "      background-color: #E8F0FE;\n",
              "      border: none;\n",
              "      border-radius: 50%;\n",
              "      cursor: pointer;\n",
              "      display: none;\n",
              "      fill: #1967D2;\n",
              "      height: 32px;\n",
              "      padding: 0 0 0 0;\n",
              "      width: 32px;\n",
              "    }\n",
              "\n",
              "    .colab-df-convert:hover {\n",
              "      background-color: #E2EBFA;\n",
              "      box-shadow: 0px 1px 2px rgba(60, 64, 67, 0.3), 0px 1px 3px 1px rgba(60, 64, 67, 0.15);\n",
              "      fill: #174EA6;\n",
              "    }\n",
              "\n",
              "    [theme=dark] .colab-df-convert {\n",
              "      background-color: #3B4455;\n",
              "      fill: #D2E3FC;\n",
              "    }\n",
              "\n",
              "    [theme=dark] .colab-df-convert:hover {\n",
              "      background-color: #434B5C;\n",
              "      box-shadow: 0px 1px 3px 1px rgba(0, 0, 0, 0.15);\n",
              "      filter: drop-shadow(0px 1px 2px rgba(0, 0, 0, 0.3));\n",
              "      fill: #FFFFFF;\n",
              "    }\n",
              "  </style>\n",
              "\n",
              "      <script>\n",
              "        const buttonEl =\n",
              "          document.querySelector('#df-054a80ac-3062-4289-ab45-a513c737e88b button.colab-df-convert');\n",
              "        buttonEl.style.display =\n",
              "          google.colab.kernel.accessAllowed ? 'block' : 'none';\n",
              "\n",
              "        async function convertToInteractive(key) {\n",
              "          const element = document.querySelector('#df-054a80ac-3062-4289-ab45-a513c737e88b');\n",
              "          const dataTable =\n",
              "            await google.colab.kernel.invokeFunction('convertToInteractive',\n",
              "                                                     [key], {});\n",
              "          if (!dataTable) return;\n",
              "\n",
              "          const docLinkHtml = 'Like what you see? Visit the ' +\n",
              "            '<a target=\"_blank\" href=https://colab.research.google.com/notebooks/data_table.ipynb>data table notebook</a>'\n",
              "            + ' to learn more about interactive tables.';\n",
              "          element.innerHTML = '';\n",
              "          dataTable['output_type'] = 'display_data';\n",
              "          await google.colab.output.renderOutput(dataTable, element);\n",
              "          const docLink = document.createElement('div');\n",
              "          docLink.innerHTML = docLinkHtml;\n",
              "          element.appendChild(docLink);\n",
              "        }\n",
              "      </script>\n",
              "    </div>\n",
              "  </div>\n",
              "  "
            ]
          },
          "metadata": {},
          "execution_count": 35
        }
      ]
    },
    {
      "cell_type": "markdown",
      "source": [
        "Now we can create our independent (predictors) and dependent (target) variables. They both need to be PyTorch tensors. Our dependent variable is `Survived`:"
      ],
      "metadata": {
        "hidden": true,
        "id": "jFERobyDHxux"
      }
    },
    {
      "cell_type": "code",
      "source": [
        "from torch import tensor\n",
        "\n",
        "t_dep = tensor(df.Survived)"
      ],
      "metadata": {
        "hidden": true,
        "execution": {
          "iopub.status.busy": "2022-05-30T22:34:18.934648Z",
          "iopub.execute_input": "2022-05-30T22:34:18.935422Z",
          "iopub.status.idle": "2022-05-30T22:34:18.944596Z",
          "shell.execute_reply.started": "2022-05-30T22:34:18.935384Z",
          "shell.execute_reply": "2022-05-30T22:34:18.943444Z"
        },
        "trusted": true,
        "id": "cEi15gZrHxuy"
      },
      "execution_count": 28,
      "outputs": []
    },
    {
      "cell_type": "markdown",
      "source": [
        "Our independent variables are all the continuous variables of interest plus all the dummy variables we just created:"
      ],
      "metadata": {
        "hidden": true,
        "id": "Ra5gFxq-Hxuy"
      }
    },
    {
      "cell_type": "code",
      "source": [
        "indep_cols = ['Age', 'SibSp', 'Parch', 'LogFare'] + added_cols\n",
        "\n",
        "t_indep = tensor(df[indep_cols].values, dtype=torch.float)\n",
        "t_indep"
      ],
      "metadata": {
        "hidden": true,
        "execution": {
          "iopub.status.busy": "2022-05-30T22:34:18.94652Z",
          "iopub.execute_input": "2022-05-30T22:34:18.946772Z",
          "iopub.status.idle": "2022-05-30T22:34:18.96487Z",
          "shell.execute_reply.started": "2022-05-30T22:34:18.946741Z",
          "shell.execute_reply": "2022-05-30T22:34:18.963667Z"
        },
        "trusted": true,
        "id": "XRo4nntZHxuz",
        "colab": {
          "base_uri": "https://localhost:8080/"
        },
        "outputId": "73fd6e44-a34a-4e95-bd2e-7352f4556e4a"
      },
      "execution_count": 36,
      "outputs": [
        {
          "output_type": "execute_result",
          "data": {
            "text/plain": [
              "tensor([[22.0000,  1.0000,  0.0000,  2.1102,  1.0000,  0.0000,  0.0000,  0.0000,  1.0000,  0.0000,  0.0000,  1.0000],\n",
              "        [38.0000,  1.0000,  0.0000,  4.2806,  0.0000,  1.0000,  1.0000,  0.0000,  0.0000,  1.0000,  0.0000,  0.0000],\n",
              "        [26.0000,  0.0000,  0.0000,  2.1889,  0.0000,  1.0000,  0.0000,  0.0000,  1.0000,  0.0000,  0.0000,  1.0000],\n",
              "        [35.0000,  1.0000,  0.0000,  3.9908,  0.0000,  1.0000,  1.0000,  0.0000,  0.0000,  0.0000,  0.0000,  1.0000],\n",
              "        [35.0000,  0.0000,  0.0000,  2.2028,  1.0000,  0.0000,  0.0000,  0.0000,  1.0000,  0.0000,  0.0000,  1.0000],\n",
              "        [24.0000,  0.0000,  0.0000,  2.2469,  1.0000,  0.0000,  0.0000,  0.0000,  1.0000,  0.0000,  1.0000,  0.0000],\n",
              "        [54.0000,  0.0000,  0.0000,  3.9677,  1.0000,  0.0000,  1.0000,  0.0000,  0.0000,  0.0000,  0.0000,  1.0000],\n",
              "        ...,\n",
              "        [25.0000,  0.0000,  0.0000,  2.0857,  1.0000,  0.0000,  0.0000,  0.0000,  1.0000,  0.0000,  0.0000,  1.0000],\n",
              "        [39.0000,  0.0000,  5.0000,  3.4054,  0.0000,  1.0000,  0.0000,  0.0000,  1.0000,  0.0000,  1.0000,  0.0000],\n",
              "        [27.0000,  0.0000,  0.0000,  2.6391,  1.0000,  0.0000,  0.0000,  1.0000,  0.0000,  0.0000,  0.0000,  1.0000],\n",
              "        [19.0000,  0.0000,  0.0000,  3.4340,  0.0000,  1.0000,  1.0000,  0.0000,  0.0000,  0.0000,  0.0000,  1.0000],\n",
              "        [24.0000,  1.0000,  2.0000,  3.1966,  0.0000,  1.0000,  0.0000,  0.0000,  1.0000,  0.0000,  0.0000,  1.0000],\n",
              "        [26.0000,  0.0000,  0.0000,  3.4340,  1.0000,  0.0000,  1.0000,  0.0000,  0.0000,  1.0000,  0.0000,  0.0000],\n",
              "        [32.0000,  0.0000,  0.0000,  2.1691,  1.0000,  0.0000,  0.0000,  0.0000,  1.0000,  0.0000,  1.0000,  0.0000]])"
            ]
          },
          "metadata": {},
          "execution_count": 36
        }
      ]
    },
    {
      "cell_type": "markdown",
      "source": [
        "Here's the number of rows and columns we have for our independent variables:"
      ],
      "metadata": {
        "hidden": true,
        "id": "pDnpEtaqHxuz"
      }
    },
    {
      "cell_type": "code",
      "source": [
        "t_indep.shape"
      ],
      "metadata": {
        "hidden": true,
        "execution": {
          "iopub.status.busy": "2022-05-30T22:34:18.968005Z",
          "iopub.execute_input": "2022-05-30T22:34:18.969136Z",
          "iopub.status.idle": "2022-05-30T22:34:18.98114Z",
          "shell.execute_reply.started": "2022-05-30T22:34:18.969092Z",
          "shell.execute_reply": "2022-05-30T22:34:18.980184Z"
        },
        "trusted": true,
        "id": "df_dS7LOHxuz",
        "colab": {
          "base_uri": "https://localhost:8080/"
        },
        "outputId": "3ff6bea2-b358-42a4-ba66-3396da01df89"
      },
      "execution_count": 30,
      "outputs": [
        {
          "output_type": "execute_result",
          "data": {
            "text/plain": [
              "torch.Size([891, 12])"
            ]
          },
          "metadata": {},
          "execution_count": 30
        }
      ]
    },
    {
      "cell_type": "markdown",
      "source": [
        "## Setting up a linear model"
      ],
      "metadata": {
        "id": "kMFQY1GcHxuz"
      }
    },
    {
      "cell_type": "markdown",
      "source": [
        "Now that we've got a matrix of independent variables and a dependent variable vector, we can work on calculating our predictions and our loss. In this section, we're going to manually do a single step of calculating predictions and loss for every row of our data.\n",
        "\n",
        "Our first model will be a simple linear model. We'll need a coefficient for each column in `t_indep`. We'll pick random numbers in the range `(-0.5,0.5)`, and set our manual seed so that my explanations in the prose in this notebook will be consistent with what you see when you run it."
      ],
      "metadata": {
        "id": "eyYRpIvrHxu0"
      }
    },
    {
      "cell_type": "markdown",
      "source": [
        "**mlc**: You could change your seed, so we could compare the different results from everyone in the class."
      ],
      "metadata": {
        "id": "RWVy9z_lYTVC"
      }
    },
    {
      "cell_type": "code",
      "source": [
        "torch.manual_seed(442)\n",
        "\n",
        "n_coeff = t_indep.shape[1]\n",
        "coeffs = torch.rand(n_coeff)-0.5\n",
        "coeffs"
      ],
      "metadata": {
        "execution": {
          "iopub.status.busy": "2022-05-30T22:34:18.982492Z",
          "iopub.execute_input": "2022-05-30T22:34:18.983237Z",
          "iopub.status.idle": "2022-05-30T22:34:18.995038Z",
          "shell.execute_reply.started": "2022-05-30T22:34:18.983187Z",
          "shell.execute_reply": "2022-05-30T22:34:18.994437Z"
        },
        "trusted": true,
        "id": "ipLDqlYnHxu1",
        "colab": {
          "base_uri": "https://localhost:8080/"
        },
        "outputId": "80c7a7b1-c9f7-4b40-fc80-233f0e9b4b56"
      },
      "execution_count": 31,
      "outputs": [
        {
          "output_type": "execute_result",
          "data": {
            "text/plain": [
              "tensor([-0.4629,  0.1386,  0.2409, -0.2262, -0.2632, -0.3147,  0.4876,  0.3136,  0.2799, -0.4392,  0.2103,  0.3625])"
            ]
          },
          "metadata": {},
          "execution_count": 31
        }
      ]
    },
    {
      "cell_type": "markdown",
      "source": [
        "Our predictions will be calculated by multiplying each row by the coefficients, and adding them up. One interesting point here is that we don't need a separate constant term (also known as a \"bias\" or \"intercept\" term), or a column of all `1`s to give the same effect has having a constant term. That's because our dummy variables already cover the entire dataset -- e.g. there's a column for \"male\" and a column for \"female\", and everyone in the dataset is in exactly one of these; therefore, we don't need a separate intercept term to cover rows that aren't otherwise part of a column.\n",
        "\n",
        "Here's what the multiplication looks like:"
      ],
      "metadata": {
        "id": "c44OxX5aHxu1"
      }
    },
    {
      "cell_type": "code",
      "source": [
        "t_indep*coeffs"
      ],
      "metadata": {
        "execution": {
          "iopub.status.busy": "2022-05-30T22:34:18.999409Z",
          "iopub.execute_input": "2022-05-30T22:34:19.000637Z",
          "iopub.status.idle": "2022-05-30T22:34:19.009362Z",
          "shell.execute_reply.started": "2022-05-30T22:34:19.000588Z",
          "shell.execute_reply": "2022-05-30T22:34:19.00847Z"
        },
        "trusted": true,
        "id": "MwrGSsQnHxu1",
        "colab": {
          "base_uri": "https://localhost:8080/"
        },
        "outputId": "983daf82-28c4-4221-9418-301e751202ee"
      },
      "execution_count": 32,
      "outputs": [
        {
          "output_type": "execute_result",
          "data": {
            "text/plain": [
              "tensor([[-10.1838,   0.1386,   0.0000,  -0.4772,  -0.2632,  -0.0000,   0.0000,   0.0000,   0.2799,  -0.0000,   0.0000,   0.3625],\n",
              "        [-17.5902,   0.1386,   0.0000,  -0.9681,  -0.0000,  -0.3147,   0.4876,   0.0000,   0.0000,  -0.4392,   0.0000,   0.0000],\n",
              "        [-12.0354,   0.0000,   0.0000,  -0.4950,  -0.0000,  -0.3147,   0.0000,   0.0000,   0.2799,  -0.0000,   0.0000,   0.3625],\n",
              "        [-16.2015,   0.1386,   0.0000,  -0.9025,  -0.0000,  -0.3147,   0.4876,   0.0000,   0.0000,  -0.0000,   0.0000,   0.3625],\n",
              "        [-16.2015,   0.0000,   0.0000,  -0.4982,  -0.2632,  -0.0000,   0.0000,   0.0000,   0.2799,  -0.0000,   0.0000,   0.3625],\n",
              "        [-11.1096,   0.0000,   0.0000,  -0.5081,  -0.2632,  -0.0000,   0.0000,   0.0000,   0.2799,  -0.0000,   0.2103,   0.0000],\n",
              "        [-24.9966,   0.0000,   0.0000,  -0.8973,  -0.2632,  -0.0000,   0.4876,   0.0000,   0.0000,  -0.0000,   0.0000,   0.3625],\n",
              "        ...,\n",
              "        [-11.5725,   0.0000,   0.0000,  -0.4717,  -0.2632,  -0.0000,   0.0000,   0.0000,   0.2799,  -0.0000,   0.0000,   0.3625],\n",
              "        [-18.0531,   0.0000,   1.2045,  -0.7701,  -0.0000,  -0.3147,   0.0000,   0.0000,   0.2799,  -0.0000,   0.2103,   0.0000],\n",
              "        [-12.4983,   0.0000,   0.0000,  -0.5968,  -0.2632,  -0.0000,   0.0000,   0.3136,   0.0000,  -0.0000,   0.0000,   0.3625],\n",
              "        [ -8.7951,   0.0000,   0.0000,  -0.7766,  -0.0000,  -0.3147,   0.4876,   0.0000,   0.0000,  -0.0000,   0.0000,   0.3625],\n",
              "        [-11.1096,   0.1386,   0.4818,  -0.7229,  -0.0000,  -0.3147,   0.0000,   0.0000,   0.2799,  -0.0000,   0.0000,   0.3625],\n",
              "        [-12.0354,   0.0000,   0.0000,  -0.7766,  -0.2632,  -0.0000,   0.4876,   0.0000,   0.0000,  -0.4392,   0.0000,   0.0000],\n",
              "        [-14.8128,   0.0000,   0.0000,  -0.4905,  -0.2632,  -0.0000,   0.0000,   0.0000,   0.2799,  -0.0000,   0.2103,   0.0000]])"
            ]
          },
          "metadata": {},
          "execution_count": 32
        }
      ]
    },
    {
      "cell_type": "markdown",
      "source": [
        "We can see we've got a problem here. The sums of each row will be dominated by the first column, which is `Age`, since that's bigger on average than all the others.\n",
        "\n",
        "Let's make all the columns contain numbers from `0` to `1`, by dividing each column by its `max()`:"
      ],
      "metadata": {
        "id": "L8A9fYTYHxu2"
      }
    },
    {
      "cell_type": "code",
      "source": [
        "vals,indices = t_indep.max(dim=0)\n",
        "t_indep = t_indep / vals"
      ],
      "metadata": {
        "execution": {
          "iopub.status.busy": "2022-05-30T22:34:19.010954Z",
          "iopub.execute_input": "2022-05-30T22:34:19.011202Z",
          "iopub.status.idle": "2022-05-30T22:34:19.02202Z",
          "shell.execute_reply.started": "2022-05-30T22:34:19.011171Z",
          "shell.execute_reply": "2022-05-30T22:34:19.02133Z"
        },
        "trusted": true,
        "id": "VfB6VzLWHxu2"
      },
      "execution_count": 41,
      "outputs": []
    },
    {
      "cell_type": "markdown",
      "source": [
        "**mlc**: Note: an alternative is to standardize the data. Here it is done on the DataFrame, before converting to tensor. There are many options for the scaler."
      ],
      "metadata": {
        "id": "IOcN60EERWtJ"
      }
    },
    {
      "cell_type": "code",
      "source": [
        "from sklearn.preprocessing import StandardScaler\n",
        "scaler = StandardScaler()\n",
        "scaler.fit(df[indep_cols])\n",
        "scaled = scaler.fit_transform(df[indep_cols])\n",
        "scaled_df = pd.DataFrame(scaled, columns=df[indep_cols].columns)\n",
        "scaled_df.head()"
      ],
      "metadata": {
        "colab": {
          "base_uri": "https://localhost:8080/",
          "height": 206
        },
        "id": "947F0kzNTVZH",
        "outputId": "2900cb4a-214a-47d4-98ec-2abde45228f6"
      },
      "execution_count": 39,
      "outputs": [
        {
          "output_type": "execute_result",
          "data": {
            "text/plain": [
              "        Age     SibSp     Parch   LogFare  Sex_male  Sex_female  Pclass_1  Pclass_2  Pclass_3  Embarked_C  Embarked_Q  Embarked_S\n",
              "0 -0.497793  0.432793 -0.473674 -0.879741  0.737695   -0.737695 -0.565685 -0.510152  0.902587   -0.482043   -0.307562    0.615838\n",
              "1  0.715048  0.432793 -0.473674  1.361220 -1.355574    1.355574  1.767767 -0.510152 -1.107926    2.074505   -0.307562   -1.623803\n",
              "2 -0.194583 -0.474545 -0.473674 -0.798540 -1.355574    1.355574 -0.565685 -0.510152  0.902587   -0.482043   -0.307562    0.615838\n",
              "3  0.487640  0.432793 -0.473674  1.062038 -1.355574    1.355574  1.767767 -0.510152 -1.107926   -0.482043   -0.307562    0.615838\n",
              "4  0.487640 -0.474545 -0.473674 -0.784179  0.737695   -0.737695 -0.565685 -0.510152  0.902587   -0.482043   -0.307562    0.615838"
            ],
            "text/html": [
              "\n",
              "  <div id=\"df-9ea6caaa-735a-4b42-9558-fd22ec22e1da\">\n",
              "    <div class=\"colab-df-container\">\n",
              "      <div>\n",
              "<style scoped>\n",
              "    .dataframe tbody tr th:only-of-type {\n",
              "        vertical-align: middle;\n",
              "    }\n",
              "\n",
              "    .dataframe tbody tr th {\n",
              "        vertical-align: top;\n",
              "    }\n",
              "\n",
              "    .dataframe thead th {\n",
              "        text-align: right;\n",
              "    }\n",
              "</style>\n",
              "<table border=\"1\" class=\"dataframe\">\n",
              "  <thead>\n",
              "    <tr style=\"text-align: right;\">\n",
              "      <th></th>\n",
              "      <th>Age</th>\n",
              "      <th>SibSp</th>\n",
              "      <th>Parch</th>\n",
              "      <th>LogFare</th>\n",
              "      <th>Sex_male</th>\n",
              "      <th>Sex_female</th>\n",
              "      <th>Pclass_1</th>\n",
              "      <th>Pclass_2</th>\n",
              "      <th>Pclass_3</th>\n",
              "      <th>Embarked_C</th>\n",
              "      <th>Embarked_Q</th>\n",
              "      <th>Embarked_S</th>\n",
              "    </tr>\n",
              "  </thead>\n",
              "  <tbody>\n",
              "    <tr>\n",
              "      <th>0</th>\n",
              "      <td>-0.497793</td>\n",
              "      <td>0.432793</td>\n",
              "      <td>-0.473674</td>\n",
              "      <td>-0.879741</td>\n",
              "      <td>0.737695</td>\n",
              "      <td>-0.737695</td>\n",
              "      <td>-0.565685</td>\n",
              "      <td>-0.510152</td>\n",
              "      <td>0.902587</td>\n",
              "      <td>-0.482043</td>\n",
              "      <td>-0.307562</td>\n",
              "      <td>0.615838</td>\n",
              "    </tr>\n",
              "    <tr>\n",
              "      <th>1</th>\n",
              "      <td>0.715048</td>\n",
              "      <td>0.432793</td>\n",
              "      <td>-0.473674</td>\n",
              "      <td>1.361220</td>\n",
              "      <td>-1.355574</td>\n",
              "      <td>1.355574</td>\n",
              "      <td>1.767767</td>\n",
              "      <td>-0.510152</td>\n",
              "      <td>-1.107926</td>\n",
              "      <td>2.074505</td>\n",
              "      <td>-0.307562</td>\n",
              "      <td>-1.623803</td>\n",
              "    </tr>\n",
              "    <tr>\n",
              "      <th>2</th>\n",
              "      <td>-0.194583</td>\n",
              "      <td>-0.474545</td>\n",
              "      <td>-0.473674</td>\n",
              "      <td>-0.798540</td>\n",
              "      <td>-1.355574</td>\n",
              "      <td>1.355574</td>\n",
              "      <td>-0.565685</td>\n",
              "      <td>-0.510152</td>\n",
              "      <td>0.902587</td>\n",
              "      <td>-0.482043</td>\n",
              "      <td>-0.307562</td>\n",
              "      <td>0.615838</td>\n",
              "    </tr>\n",
              "    <tr>\n",
              "      <th>3</th>\n",
              "      <td>0.487640</td>\n",
              "      <td>0.432793</td>\n",
              "      <td>-0.473674</td>\n",
              "      <td>1.062038</td>\n",
              "      <td>-1.355574</td>\n",
              "      <td>1.355574</td>\n",
              "      <td>1.767767</td>\n",
              "      <td>-0.510152</td>\n",
              "      <td>-1.107926</td>\n",
              "      <td>-0.482043</td>\n",
              "      <td>-0.307562</td>\n",
              "      <td>0.615838</td>\n",
              "    </tr>\n",
              "    <tr>\n",
              "      <th>4</th>\n",
              "      <td>0.487640</td>\n",
              "      <td>-0.474545</td>\n",
              "      <td>-0.473674</td>\n",
              "      <td>-0.784179</td>\n",
              "      <td>0.737695</td>\n",
              "      <td>-0.737695</td>\n",
              "      <td>-0.565685</td>\n",
              "      <td>-0.510152</td>\n",
              "      <td>0.902587</td>\n",
              "      <td>-0.482043</td>\n",
              "      <td>-0.307562</td>\n",
              "      <td>0.615838</td>\n",
              "    </tr>\n",
              "  </tbody>\n",
              "</table>\n",
              "</div>\n",
              "      <button class=\"colab-df-convert\" onclick=\"convertToInteractive('df-9ea6caaa-735a-4b42-9558-fd22ec22e1da')\"\n",
              "              title=\"Convert this dataframe to an interactive table.\"\n",
              "              style=\"display:none;\">\n",
              "        \n",
              "  <svg xmlns=\"http://www.w3.org/2000/svg\" height=\"24px\"viewBox=\"0 0 24 24\"\n",
              "       width=\"24px\">\n",
              "    <path d=\"M0 0h24v24H0V0z\" fill=\"none\"/>\n",
              "    <path d=\"M18.56 5.44l.94 2.06.94-2.06 2.06-.94-2.06-.94-.94-2.06-.94 2.06-2.06.94zm-11 1L8.5 8.5l.94-2.06 2.06-.94-2.06-.94L8.5 2.5l-.94 2.06-2.06.94zm10 10l.94 2.06.94-2.06 2.06-.94-2.06-.94-.94-2.06-.94 2.06-2.06.94z\"/><path d=\"M17.41 7.96l-1.37-1.37c-.4-.4-.92-.59-1.43-.59-.52 0-1.04.2-1.43.59L10.3 9.45l-7.72 7.72c-.78.78-.78 2.05 0 2.83L4 21.41c.39.39.9.59 1.41.59.51 0 1.02-.2 1.41-.59l7.78-7.78 2.81-2.81c.8-.78.8-2.07 0-2.86zM5.41 20L4 18.59l7.72-7.72 1.47 1.35L5.41 20z\"/>\n",
              "  </svg>\n",
              "      </button>\n",
              "      \n",
              "  <style>\n",
              "    .colab-df-container {\n",
              "      display:flex;\n",
              "      flex-wrap:wrap;\n",
              "      gap: 12px;\n",
              "    }\n",
              "\n",
              "    .colab-df-convert {\n",
              "      background-color: #E8F0FE;\n",
              "      border: none;\n",
              "      border-radius: 50%;\n",
              "      cursor: pointer;\n",
              "      display: none;\n",
              "      fill: #1967D2;\n",
              "      height: 32px;\n",
              "      padding: 0 0 0 0;\n",
              "      width: 32px;\n",
              "    }\n",
              "\n",
              "    .colab-df-convert:hover {\n",
              "      background-color: #E2EBFA;\n",
              "      box-shadow: 0px 1px 2px rgba(60, 64, 67, 0.3), 0px 1px 3px 1px rgba(60, 64, 67, 0.15);\n",
              "      fill: #174EA6;\n",
              "    }\n",
              "\n",
              "    [theme=dark] .colab-df-convert {\n",
              "      background-color: #3B4455;\n",
              "      fill: #D2E3FC;\n",
              "    }\n",
              "\n",
              "    [theme=dark] .colab-df-convert:hover {\n",
              "      background-color: #434B5C;\n",
              "      box-shadow: 0px 1px 3px 1px rgba(0, 0, 0, 0.15);\n",
              "      filter: drop-shadow(0px 1px 2px rgba(0, 0, 0, 0.3));\n",
              "      fill: #FFFFFF;\n",
              "    }\n",
              "  </style>\n",
              "\n",
              "      <script>\n",
              "        const buttonEl =\n",
              "          document.querySelector('#df-9ea6caaa-735a-4b42-9558-fd22ec22e1da button.colab-df-convert');\n",
              "        buttonEl.style.display =\n",
              "          google.colab.kernel.accessAllowed ? 'block' : 'none';\n",
              "\n",
              "        async function convertToInteractive(key) {\n",
              "          const element = document.querySelector('#df-9ea6caaa-735a-4b42-9558-fd22ec22e1da');\n",
              "          const dataTable =\n",
              "            await google.colab.kernel.invokeFunction('convertToInteractive',\n",
              "                                                     [key], {});\n",
              "          if (!dataTable) return;\n",
              "\n",
              "          const docLinkHtml = 'Like what you see? Visit the ' +\n",
              "            '<a target=\"_blank\" href=https://colab.research.google.com/notebooks/data_table.ipynb>data table notebook</a>'\n",
              "            + ' to learn more about interactive tables.';\n",
              "          element.innerHTML = '';\n",
              "          dataTable['output_type'] = 'display_data';\n",
              "          await google.colab.output.renderOutput(dataTable, element);\n",
              "          const docLink = document.createElement('div');\n",
              "          docLink.innerHTML = docLinkHtml;\n",
              "          element.appendChild(docLink);\n",
              "        }\n",
              "      </script>\n",
              "    </div>\n",
              "  </div>\n",
              "  "
            ]
          },
          "metadata": {},
          "execution_count": 39
        }
      ]
    },
    {
      "cell_type": "markdown",
      "source": [
        "As we see, that removes the problem of one column dominating all the others:"
      ],
      "metadata": {
        "id": "e8hLqj9CHxu2"
      }
    },
    {
      "cell_type": "code",
      "source": [
        "t_indep*coeffs"
      ],
      "metadata": {
        "execution": {
          "iopub.status.busy": "2022-05-30T22:34:19.042223Z",
          "iopub.execute_input": "2022-05-30T22:34:19.04269Z",
          "iopub.status.idle": "2022-05-30T22:34:19.050475Z",
          "shell.execute_reply.started": "2022-05-30T22:34:19.042652Z",
          "shell.execute_reply": "2022-05-30T22:34:19.049515Z"
        },
        "trusted": true,
        "id": "NHFiPy2qHxu2",
        "colab": {
          "base_uri": "https://localhost:8080/"
        },
        "outputId": "52d05e04-b835-4561-9e05-f841cb0e5833"
      },
      "execution_count": 42,
      "outputs": [
        {
          "output_type": "execute_result",
          "data": {
            "text/plain": [
              "tensor([[-0.1273,  0.0173,  0.0000, -0.0765, -0.2632, -0.0000,  0.0000,  0.0000,  0.2799, -0.0000,  0.0000,  0.3625],\n",
              "        [-0.2199,  0.0173,  0.0000, -0.1551, -0.0000, -0.3147,  0.4876,  0.0000,  0.0000, -0.4392,  0.0000,  0.0000],\n",
              "        [-0.1504,  0.0000,  0.0000, -0.0793, -0.0000, -0.3147,  0.0000,  0.0000,  0.2799, -0.0000,  0.0000,  0.3625],\n",
              "        [-0.2025,  0.0173,  0.0000, -0.1446, -0.0000, -0.3147,  0.4876,  0.0000,  0.0000, -0.0000,  0.0000,  0.3625],\n",
              "        [-0.2025,  0.0000,  0.0000, -0.0798, -0.2632, -0.0000,  0.0000,  0.0000,  0.2799, -0.0000,  0.0000,  0.3625],\n",
              "        [-0.1389,  0.0000,  0.0000, -0.0814, -0.2632, -0.0000,  0.0000,  0.0000,  0.2799, -0.0000,  0.2103,  0.0000],\n",
              "        [-0.3125,  0.0000,  0.0000, -0.1438, -0.2632, -0.0000,  0.4876,  0.0000,  0.0000, -0.0000,  0.0000,  0.3625],\n",
              "        ...,\n",
              "        [-0.1447,  0.0000,  0.0000, -0.0756, -0.2632, -0.0000,  0.0000,  0.0000,  0.2799, -0.0000,  0.0000,  0.3625],\n",
              "        [-0.2257,  0.0000,  0.2008, -0.1234, -0.0000, -0.3147,  0.0000,  0.0000,  0.2799, -0.0000,  0.2103,  0.0000],\n",
              "        [-0.1562,  0.0000,  0.0000, -0.0956, -0.2632, -0.0000,  0.0000,  0.3136,  0.0000, -0.0000,  0.0000,  0.3625],\n",
              "        [-0.1099,  0.0000,  0.0000, -0.1244, -0.0000, -0.3147,  0.4876,  0.0000,  0.0000, -0.0000,  0.0000,  0.3625],\n",
              "        [-0.1389,  0.0173,  0.0803, -0.1158, -0.0000, -0.3147,  0.0000,  0.0000,  0.2799, -0.0000,  0.0000,  0.3625],\n",
              "        [-0.1504,  0.0000,  0.0000, -0.1244, -0.2632, -0.0000,  0.4876,  0.0000,  0.0000, -0.4392,  0.0000,  0.0000],\n",
              "        [-0.1852,  0.0000,  0.0000, -0.0786, -0.2632, -0.0000,  0.0000,  0.0000,  0.2799, -0.0000,  0.2103,  0.0000]])"
            ]
          },
          "metadata": {},
          "execution_count": 42
        }
      ]
    },
    {
      "cell_type": "markdown",
      "source": [
        "One thing you hopefully noticed is how amazingly cool this line of code is:\n",
        "\n",
        "    t_indep = t_indep / vals\n",
        "\n",
        "That is dividing a matrix by a vector -- what on earth does that mean?!? The trick here is that we're taking advantage of a technique in numpy and PyTorch (and many other languages, going all the way back to APL) called [broadcasting](https://numpy.org/doc/stable/user/basics.broadcasting.html). In short, this acts as if there's a separate copy of the vector for every row of the matrix, so it divides each row of the matrix by the vector. In practice, it doesn't actually make any copies, and does the whole thing in a highly optimized way, taking full advantage of modern CPUs (or, indeed, GPUs, if we're using them). Broadcasting is one of the most important techniques for making your code concise, maintainable, and fast, so it's well worth studying and practicing.\n",
        "\n",
        "We can now create predictions from our linear model, by adding up the rows of the product:"
      ],
      "metadata": {
        "id": "ZExjXhp4Hxu2"
      }
    },
    {
      "cell_type": "code",
      "source": [
        "preds = (t_indep*coeffs).sum(axis=1)"
      ],
      "metadata": {
        "execution": {
          "iopub.status.busy": "2022-05-30T22:34:19.096685Z",
          "iopub.execute_input": "2022-05-30T22:34:19.097604Z",
          "iopub.status.idle": "2022-05-30T22:34:19.1028Z",
          "shell.execute_reply.started": "2022-05-30T22:34:19.097545Z",
          "shell.execute_reply": "2022-05-30T22:34:19.10218Z"
        },
        "trusted": true,
        "id": "Q1FsCIsbHxu2"
      },
      "execution_count": 43,
      "outputs": []
    },
    {
      "cell_type": "markdown",
      "source": [
        "Let's take a look at the first few:"
      ],
      "metadata": {
        "id": "F5-wukn0Hxu3"
      }
    },
    {
      "cell_type": "code",
      "source": [
        "preds[:20]"
      ],
      "metadata": {
        "execution": {
          "iopub.status.busy": "2022-05-30T22:34:19.160318Z",
          "iopub.execute_input": "2022-05-30T22:34:19.160794Z",
          "iopub.status.idle": "2022-05-30T22:34:19.168117Z",
          "shell.execute_reply.started": "2022-05-30T22:34:19.160761Z",
          "shell.execute_reply": "2022-05-30T22:34:19.167355Z"
        },
        "trusted": true,
        "id": "tMwTZOB8Hxu4",
        "colab": {
          "base_uri": "https://localhost:8080/"
        },
        "outputId": "cf213990-10fb-454b-a181-a42162a4d6f5"
      },
      "execution_count": 45,
      "outputs": [
        {
          "output_type": "execute_result",
          "data": {
            "text/plain": [
              "tensor([ 0.1927, -0.6239,  0.0979,  0.2056,  0.0968,  0.0066,  0.1306,  0.3476,  0.1613, -0.6285,  0.2579,  0.0796,  0.1836,  0.2457,\n",
              "         0.1676, -0.0595,  0.2014,  0.1783,  0.0589, -0.6892])"
            ]
          },
          "metadata": {},
          "execution_count": 45
        }
      ]
    },
    {
      "cell_type": "markdown",
      "source": [
        "Of course, these predictions aren't going to be any use, since our coefficients are random -- they're just a starting point for our gradient descent process.\n",
        "\n",
        "To do gradient descent, we need a loss function. Taking the average error of the rows (i.e. the absolute value of the difference between the prediction and the dependent) is generally a reasonable approach:"
      ],
      "metadata": {
        "id": "djP3xd8NHxu4"
      }
    },
    {
      "cell_type": "code",
      "source": [
        "loss = torch.abs(preds-t_dep).mean()\n",
        "loss"
      ],
      "metadata": {
        "execution": {
          "iopub.status.busy": "2022-05-30T22:34:19.235318Z",
          "iopub.execute_input": "2022-05-30T22:34:19.235623Z",
          "iopub.status.idle": "2022-05-30T22:34:19.24312Z",
          "shell.execute_reply.started": "2022-05-30T22:34:19.235589Z",
          "shell.execute_reply": "2022-05-30T22:34:19.242356Z"
        },
        "trusted": true,
        "id": "rNcYqsqnHxu4",
        "colab": {
          "base_uri": "https://localhost:8080/"
        },
        "outputId": "c51f1265-53ea-4d16-968d-1acdd18c4f4a"
      },
      "execution_count": 46,
      "outputs": [
        {
          "output_type": "execute_result",
          "data": {
            "text/plain": [
              "tensor(0.5382)"
            ]
          },
          "metadata": {},
          "execution_count": 46
        }
      ]
    },
    {
      "cell_type": "markdown",
      "source": [
        "Now that we've tested out a way of calculating predictions, and loss, let's pop them into functions to make life easier:"
      ],
      "metadata": {
        "id": "Mc-mwc_rHxu5"
      }
    },
    {
      "cell_type": "code",
      "source": [
        "def calc_preds(coeffs, indeps): return (indeps*coeffs).sum(axis=1)\n",
        "def calc_loss(coeffs, indeps, deps): return torch.abs(calc_preds(coeffs, indeps)-deps).mean()"
      ],
      "metadata": {
        "execution": {
          "iopub.status.busy": "2022-05-30T22:34:19.295577Z",
          "iopub.execute_input": "2022-05-30T22:34:19.296558Z",
          "iopub.status.idle": "2022-05-30T22:34:19.301478Z",
          "shell.execute_reply.started": "2022-05-30T22:34:19.296517Z",
          "shell.execute_reply": "2022-05-30T22:34:19.300683Z"
        },
        "trusted": true,
        "id": "exz6vX6fHxu5"
      },
      "execution_count": 47,
      "outputs": []
    },
    {
      "cell_type": "markdown",
      "source": [
        "## Doing a gradient descent step"
      ],
      "metadata": {
        "id": "3uZ4TP4yHxu5"
      }
    },
    {
      "cell_type": "markdown",
      "source": [
        "In this section, we're going to do a single \"epoch\" of gradient descent manually. The only thing we're going to automate is calculating gradients, because let's face it that's pretty tedious and entirely pointless to do by hand! To get PyTorch to calculate gradients, we'll need to call `requires_grad_()` on our `coeffs` (if you're not sure why, review the previous notebook, [How does a neural net really work?](https://www.kaggle.com/code/jhoward/how-does-a-neural-net-really-work), before continuing):"
      ],
      "metadata": {
        "id": "C12za5-sHxu5"
      }
    },
    {
      "cell_type": "code",
      "source": [
        "coeffs.requires_grad_()"
      ],
      "metadata": {
        "execution": {
          "iopub.status.busy": "2022-05-30T22:34:19.375387Z",
          "iopub.execute_input": "2022-05-30T22:34:19.376212Z",
          "iopub.status.idle": "2022-05-30T22:34:19.382205Z",
          "shell.execute_reply.started": "2022-05-30T22:34:19.376163Z",
          "shell.execute_reply": "2022-05-30T22:34:19.381536Z"
        },
        "trusted": true,
        "id": "131au6uuHxu5",
        "colab": {
          "base_uri": "https://localhost:8080/"
        },
        "outputId": "c8a05dd4-912f-4c25-e3ae-ad3572252531"
      },
      "execution_count": 54,
      "outputs": [
        {
          "output_type": "execute_result",
          "data": {
            "text/plain": [
              "tensor([-0.4597,  0.1347,  0.2421, -0.2116, -0.3262, -0.2507,  0.5240,  0.3210,  0.2371, -0.3826,  0.2160,  0.3012], requires_grad=True)"
            ]
          },
          "metadata": {},
          "execution_count": 54
        }
      ]
    },
    {
      "cell_type": "markdown",
      "source": [
        "**mlc**: When you set require_grad_, the gradients are set to zero."
      ],
      "metadata": {
        "id": "M8vVS3yFZZcj"
      }
    },
    {
      "cell_type": "code",
      "source": [
        "coeffs.grad"
      ],
      "metadata": {
        "colab": {
          "base_uri": "https://localhost:8080/"
        },
        "id": "XqAHgVcVZVT6",
        "outputId": "caddf65b-b1a4-4dde-f4ec-e918a081b583"
      },
      "execution_count": 56,
      "outputs": [
        {
          "output_type": "execute_result",
          "data": {
            "text/plain": [
              "tensor([0., 0., 0., 0., 0., 0., 0., 0., 0., 0., 0., 0.])"
            ]
          },
          "metadata": {},
          "execution_count": 56
        }
      ]
    },
    {
      "cell_type": "markdown",
      "source": [
        "Now when we calculate our loss, PyTorch will keep track of all the steps, so we'll be able to get the gradients afterwards:"
      ],
      "metadata": {
        "id": "NUZw2jcVHxu6"
      }
    },
    {
      "cell_type": "code",
      "source": [
        "loss = calc_loss(coeffs, t_indep, t_dep)\n",
        "loss"
      ],
      "metadata": {
        "execution": {
          "iopub.status.busy": "2022-05-30T22:34:19.437208Z",
          "iopub.execute_input": "2022-05-30T22:34:19.438026Z",
          "iopub.status.idle": "2022-05-30T22:34:19.444641Z",
          "shell.execute_reply.started": "2022-05-30T22:34:19.437985Z",
          "shell.execute_reply": "2022-05-30T22:34:19.443791Z"
        },
        "trusted": true,
        "id": "Yak7jQUIHxu6",
        "colab": {
          "base_uri": "https://localhost:8080/"
        },
        "outputId": "95eb8d98-50b9-462b-e17f-26391d311589"
      },
      "execution_count": 57,
      "outputs": [
        {
          "output_type": "execute_result",
          "data": {
            "text/plain": [
              "tensor(0.4945, grad_fn=<MeanBackward0>)"
            ]
          },
          "metadata": {},
          "execution_count": 57
        }
      ]
    },
    {
      "cell_type": "markdown",
      "source": [
        "Use `backward()` to ask PyTorch to calculate gradients now:"
      ],
      "metadata": {
        "id": "sqV0NF7oHxu6"
      }
    },
    {
      "cell_type": "code",
      "source": [
        "loss.backward()"
      ],
      "metadata": {
        "execution": {
          "iopub.status.busy": "2022-05-30T22:34:19.491601Z",
          "iopub.execute_input": "2022-05-30T22:34:19.49239Z",
          "iopub.status.idle": "2022-05-30T22:34:19.496556Z",
          "shell.execute_reply.started": "2022-05-30T22:34:19.492353Z",
          "shell.execute_reply": "2022-05-30T22:34:19.495831Z"
        },
        "trusted": true,
        "id": "CSP3klnZHxu6"
      },
      "execution_count": 58,
      "outputs": []
    },
    {
      "cell_type": "markdown",
      "source": [
        "Let's see what they look like:"
      ],
      "metadata": {
        "id": "6NEot72kHxu6"
      }
    },
    {
      "cell_type": "code",
      "source": [
        "coeffs.grad"
      ],
      "metadata": {
        "execution": {
          "iopub.status.busy": "2022-05-30T22:34:19.549651Z",
          "iopub.execute_input": "2022-05-30T22:34:19.550501Z",
          "iopub.status.idle": "2022-05-30T22:34:19.555905Z",
          "shell.execute_reply.started": "2022-05-30T22:34:19.550456Z",
          "shell.execute_reply": "2022-05-30T22:34:19.555257Z"
        },
        "trusted": true,
        "id": "Bc_sK65oHxu6",
        "colab": {
          "base_uri": "https://localhost:8080/"
        },
        "outputId": "0acdaac9-c73d-428a-a442-32a192527996"
      },
      "execution_count": 59,
      "outputs": [
        {
          "output_type": "execute_result",
          "data": {
            "text/plain": [
              "tensor([-0.1498,  0.0048, -0.0071, -0.1812, -0.1336, -0.2132, -0.1212, -0.0673, -0.1582, -0.1886, -0.0662, -0.0920])"
            ]
          },
          "metadata": {},
          "execution_count": 59
        }
      ]
    },
    {
      "cell_type": "markdown",
      "source": [
        "Note that each time we call `backward`, the gradients are actually *added* to whatever is in the `.grad` attribute. Let's try running the above steps again:"
      ],
      "metadata": {
        "id": "MATnsQMKHxu6"
      }
    },
    {
      "cell_type": "code",
      "source": [
        "loss = calc_loss(coeffs, t_indep, t_dep)\n",
        "loss.backward()\n",
        "coeffs.grad"
      ],
      "metadata": {
        "execution": {
          "iopub.status.busy": "2022-05-30T22:34:19.60283Z",
          "iopub.execute_input": "2022-05-30T22:34:19.603236Z",
          "iopub.status.idle": "2022-05-30T22:34:19.610594Z",
          "shell.execute_reply.started": "2022-05-30T22:34:19.603206Z",
          "shell.execute_reply": "2022-05-30T22:34:19.609647Z"
        },
        "trusted": true,
        "id": "BbXwRpJmHxu6",
        "colab": {
          "base_uri": "https://localhost:8080/"
        },
        "outputId": "ebd81db1-011d-4542-c9b0-66d191c92691"
      },
      "execution_count": 60,
      "outputs": [
        {
          "output_type": "execute_result",
          "data": {
            "text/plain": [
              "tensor([-0.2996,  0.0095, -0.0142, -0.3624, -0.2671, -0.4265, -0.2424, -0.1347, -0.3165, -0.3771, -0.1324, -0.1841])"
            ]
          },
          "metadata": {},
          "execution_count": 60
        }
      ]
    },
    {
      "cell_type": "markdown",
      "source": [
        "As you see, our `.grad` values are have doubled. That's because it added the gradients a second time. For this reason, after we use the gradients to do a gradient descent step, we need to set them back to zero.\n",
        "\n",
        "We can now do one gradient descent step, and check that our loss decreases:"
      ],
      "metadata": {
        "id": "q0MR43eyHxu6"
      }
    },
    {
      "cell_type": "code",
      "source": [
        "loss = calc_loss(coeffs, t_indep, t_dep)\n",
        "loss.backward()\n",
        "with torch.no_grad():\n",
        "    coeffs.sub_(coeffs.grad * 0.1)\n",
        "    coeffs.grad.zero_()\n",
        "    print(calc_loss(coeffs, t_indep, t_dep))"
      ],
      "metadata": {
        "execution": {
          "iopub.status.busy": "2022-05-30T22:34:19.665238Z",
          "iopub.execute_input": "2022-05-30T22:34:19.665739Z",
          "iopub.status.idle": "2022-05-30T22:34:19.674839Z",
          "shell.execute_reply.started": "2022-05-30T22:34:19.665705Z",
          "shell.execute_reply": "2022-05-30T22:34:19.673727Z"
        },
        "trusted": true,
        "id": "H3CRDrNmHxu8",
        "colab": {
          "base_uri": "https://localhost:8080/"
        },
        "outputId": "6a014abc-0d95-4857-ec00-ee72d8e65b4a"
      },
      "execution_count": 61,
      "outputs": [
        {
          "output_type": "stream",
          "name": "stdout",
          "text": [
            "tensor(0.4686)\n"
          ]
        }
      ]
    },
    {
      "cell_type": "markdown",
      "source": [
        "Note that `a.sub_(b)` subtracts `b` from `a` in-place. In PyTorch, any method that ends in `_` changes its object in-place. Similarly, `a.zero_()` sets all elements of a tensor to zero."
      ],
      "metadata": {
        "id": "_zUK5fvdHxu8"
      }
    },
    {
      "cell_type": "markdown",
      "source": [
        "## Training the linear model"
      ],
      "metadata": {
        "id": "68-p_s1CHxu8"
      }
    },
    {
      "cell_type": "markdown",
      "source": [
        "Before we begin training our model, we'll need to ensure that we hold out a validation set for calculating our metrics (for details on this, see \"[Getting started with NLP for absolute beginners](https://www.kaggle.com/code/jhoward/getting-started-with-nlp-for-absolute-beginners#Test-and-validation-sets)\".\n",
        "\n",
        "There's lots of different ways we can do this. In the next notebook we'll be comparing our approach here to what the fastai library does, so we'll want to ensure we split the data in the same way. So let's use `RandomSplitter` to get indices that will split our data into training and validation sets:"
      ],
      "metadata": {
        "id": "XALrdci5Hxu9"
      }
    },
    {
      "cell_type": "markdown",
      "source": [
        "**mlc**: a very popular alternative is **train_test_split** from scikit-learn: https://scikit-learn.org/stable/modules/generated/sklearn.model_selection.train_test_split.html"
      ],
      "metadata": {
        "id": "IGP6pwbladM8"
      }
    },
    {
      "cell_type": "code",
      "source": [
        "from fastai.data.transforms import RandomSplitter\n",
        "trn_split,val_split=RandomSplitter(seed=42)(df)"
      ],
      "metadata": {
        "execution": {
          "iopub.status.busy": "2022-05-30T22:35:26.57605Z",
          "iopub.execute_input": "2022-05-30T22:35:26.57635Z",
          "iopub.status.idle": "2022-05-30T22:35:27.821258Z",
          "shell.execute_reply.started": "2022-05-30T22:35:26.57632Z",
          "shell.execute_reply": "2022-05-30T22:35:27.820329Z"
        },
        "trusted": true,
        "id": "uY9N8OJGHxu9"
      },
      "execution_count": 63,
      "outputs": []
    },
    {
      "cell_type": "markdown",
      "source": [
        "Now we can apply those indicies to our independent and dependent variables:"
      ],
      "metadata": {
        "id": "6j8gWAaFHxu-"
      }
    },
    {
      "cell_type": "code",
      "source": [
        "trn_indep,val_indep = t_indep[trn_split],t_indep[val_split]\n",
        "trn_dep,val_dep = t_dep[trn_split],t_dep[val_split]\n",
        "len(trn_indep),len(val_indep)"
      ],
      "metadata": {
        "execution": {
          "iopub.status.busy": "2022-05-30T22:35:27.822671Z",
          "iopub.execute_input": "2022-05-30T22:35:27.822887Z",
          "iopub.status.idle": "2022-05-30T22:35:27.836937Z",
          "shell.execute_reply.started": "2022-05-30T22:35:27.822859Z",
          "shell.execute_reply": "2022-05-30T22:35:27.836081Z"
        },
        "trusted": true,
        "id": "Vqju-7aBHxu-",
        "colab": {
          "base_uri": "https://localhost:8080/"
        },
        "outputId": "801862c5-b576-4e86-de0c-d08edcbdfd44"
      },
      "execution_count": 64,
      "outputs": [
        {
          "output_type": "execute_result",
          "data": {
            "text/plain": [
              "(713, 178)"
            ]
          },
          "metadata": {},
          "execution_count": 64
        }
      ]
    },
    {
      "cell_type": "markdown",
      "source": [
        "We'll create functions for the three things we did manually above: updating `coeffs`, doing one full gradient descent step, and initilising `coeffs` to random numbers:"
      ],
      "metadata": {
        "id": "cL3N_91yHxu-"
      }
    },
    {
      "cell_type": "code",
      "source": [
        "def update_coeffs(coeffs, lr):\n",
        "    coeffs.sub_(coeffs.grad * lr)\n",
        "    coeffs.grad.zero_()"
      ],
      "metadata": {
        "execution": {
          "iopub.status.busy": "2022-05-30T22:35:35.028649Z",
          "iopub.execute_input": "2022-05-30T22:35:35.029177Z",
          "iopub.status.idle": "2022-05-30T22:35:35.034346Z",
          "shell.execute_reply.started": "2022-05-30T22:35:35.029143Z",
          "shell.execute_reply": "2022-05-30T22:35:35.033261Z"
        },
        "trusted": true,
        "id": "sc1eOqw1Hxu-"
      },
      "execution_count": 65,
      "outputs": []
    },
    {
      "cell_type": "code",
      "source": [
        "def one_epoch(coeffs, lr):\n",
        "    loss = calc_loss(coeffs, trn_indep, trn_dep)\n",
        "    loss.backward()\n",
        "    with torch.no_grad(): update_coeffs(coeffs, lr)\n",
        "    print(f\"{loss:.3f}\", end=\"; \")"
      ],
      "metadata": {
        "execution": {
          "iopub.status.busy": "2022-05-30T22:35:35.633703Z",
          "iopub.execute_input": "2022-05-30T22:35:35.633995Z",
          "iopub.status.idle": "2022-05-30T22:35:35.639103Z",
          "shell.execute_reply.started": "2022-05-30T22:35:35.633964Z",
          "shell.execute_reply": "2022-05-30T22:35:35.63814Z"
        },
        "trusted": true,
        "id": "21gVDrGGHxu-"
      },
      "execution_count": 66,
      "outputs": []
    },
    {
      "cell_type": "code",
      "source": [
        "def init_coeffs(): return (torch.rand(n_coeff)-0.5).requires_grad_()"
      ],
      "metadata": {
        "execution": {
          "iopub.status.busy": "2022-05-30T22:35:36.293565Z",
          "iopub.execute_input": "2022-05-30T22:35:36.293837Z",
          "iopub.status.idle": "2022-05-30T22:35:36.297457Z",
          "shell.execute_reply.started": "2022-05-30T22:35:36.293808Z",
          "shell.execute_reply": "2022-05-30T22:35:36.296816Z"
        },
        "trusted": true,
        "id": "qLe3g5ZxHxu-"
      },
      "execution_count": 67,
      "outputs": []
    },
    {
      "cell_type": "markdown",
      "source": [
        "We can now use these functions to train our model:"
      ],
      "metadata": {
        "id": "HeYh_4N2Hxu-"
      }
    },
    {
      "cell_type": "code",
      "source": [
        "def train_model(epochs=30, lr=0.01):\n",
        "    torch.manual_seed(442)\n",
        "    coeffs = init_coeffs()\n",
        "    for i in range(epochs): one_epoch(coeffs, lr=lr)\n",
        "    return coeffs"
      ],
      "metadata": {
        "execution": {
          "iopub.status.busy": "2022-05-30T22:35:38.771827Z",
          "iopub.execute_input": "2022-05-30T22:35:38.772314Z",
          "iopub.status.idle": "2022-05-30T22:35:38.777313Z",
          "shell.execute_reply.started": "2022-05-30T22:35:38.772247Z",
          "shell.execute_reply": "2022-05-30T22:35:38.776439Z"
        },
        "trusted": true,
        "id": "JTFZ9wIqHxu-"
      },
      "execution_count": 68,
      "outputs": []
    },
    {
      "cell_type": "markdown",
      "source": [
        "Let's try it. Our loss will print at the end of every step, so we hope we'll see it going down:"
      ],
      "metadata": {
        "id": "FVp5u8D0Hxu_"
      }
    },
    {
      "cell_type": "code",
      "source": [
        "coeffs = train_model(18, lr=0.2)"
      ],
      "metadata": {
        "execution": {
          "iopub.status.busy": "2022-05-30T22:36:14.16706Z",
          "iopub.execute_input": "2022-05-30T22:36:14.16788Z",
          "iopub.status.idle": "2022-05-30T22:36:14.181652Z",
          "shell.execute_reply.started": "2022-05-30T22:36:14.167812Z",
          "shell.execute_reply": "2022-05-30T22:36:14.180496Z"
        },
        "trusted": true,
        "id": "1kxjWUJFHxvA",
        "colab": {
          "base_uri": "https://localhost:8080/"
        },
        "outputId": "7ab3c19c-9a3d-4c41-90f0-e95f44f3fb76"
      },
      "execution_count": 69,
      "outputs": [
        {
          "output_type": "stream",
          "name": "stdout",
          "text": [
            "0.536; 0.502; 0.477; 0.454; 0.431; 0.409; 0.388; 0.367; 0.349; 0.336; 0.330; 0.326; 0.329; 0.304; 0.314; 0.296; 0.300; 0.289; "
          ]
        }
      ]
    },
    {
      "cell_type": "markdown",
      "source": [
        "It does!\n",
        "\n",
        "Let's take a look at the coefficients for each column:"
      ],
      "metadata": {
        "id": "ChrxAh4KHxvA"
      }
    },
    {
      "cell_type": "code",
      "source": [
        "def show_coeffs(): return dict(zip(indep_cols, coeffs.requires_grad_(False)))\n",
        "show_coeffs()"
      ],
      "metadata": {
        "execution": {
          "iopub.status.busy": "2022-05-30T22:36:21.97957Z",
          "iopub.execute_input": "2022-05-30T22:36:21.980389Z",
          "iopub.status.idle": "2022-05-30T22:36:21.990088Z",
          "shell.execute_reply.started": "2022-05-30T22:36:21.98035Z",
          "shell.execute_reply": "2022-05-30T22:36:21.989021Z"
        },
        "trusted": true,
        "id": "MaT2xD2JHxvA",
        "colab": {
          "base_uri": "https://localhost:8080/"
        },
        "outputId": "9262ad89-856a-498c-b153-062255754053"
      },
      "execution_count": 70,
      "outputs": [
        {
          "output_type": "execute_result",
          "data": {
            "text/plain": [
              "{'Age': tensor(-0.2694),\n",
              " 'SibSp': tensor(0.0901),\n",
              " 'Parch': tensor(0.2359),\n",
              " 'LogFare': tensor(0.0280),\n",
              " 'Sex_male': tensor(-0.3990),\n",
              " 'Sex_female': tensor(0.2345),\n",
              " 'Pclass_1': tensor(0.7232),\n",
              " 'Pclass_2': tensor(0.4112),\n",
              " 'Pclass_3': tensor(0.3601),\n",
              " 'Embarked_C': tensor(0.0955),\n",
              " 'Embarked_Q': tensor(0.2395),\n",
              " 'Embarked_S': tensor(0.2122)}"
            ]
          },
          "metadata": {},
          "execution_count": 70
        }
      ]
    },
    {
      "cell_type": "markdown",
      "source": [
        "## Measuring accuracy"
      ],
      "metadata": {
        "id": "zb0JWOTqHxvA"
      }
    },
    {
      "cell_type": "markdown",
      "source": [
        "The Kaggle competition is not, however, scored by absolute error (which is our loss function). It's scored by *accuracy* -- the proportion of rows where we correctly predict survival. Let's see how accurate we were on the validation set. First, calculate the predictions:"
      ],
      "metadata": {
        "id": "IERjdFsdHxvB"
      }
    },
    {
      "cell_type": "code",
      "source": [
        "preds = calc_preds(coeffs, val_indep)\n",
        "len(preds)"
      ],
      "metadata": {
        "execution": {
          "iopub.status.busy": "2022-05-30T22:36:30.825856Z",
          "iopub.execute_input": "2022-05-30T22:36:30.826372Z",
          "iopub.status.idle": "2022-05-30T22:36:30.831613Z",
          "shell.execute_reply.started": "2022-05-30T22:36:30.826322Z",
          "shell.execute_reply": "2022-05-30T22:36:30.830756Z"
        },
        "trusted": true,
        "id": "SBee4jVbHxvB",
        "colab": {
          "base_uri": "https://localhost:8080/"
        },
        "outputId": "c7e22562-691c-4908-ab0f-2d6c9b36164c"
      },
      "execution_count": 73,
      "outputs": [
        {
          "output_type": "execute_result",
          "data": {
            "text/plain": [
              "178"
            ]
          },
          "metadata": {},
          "execution_count": 73
        }
      ]
    },
    {
      "cell_type": "markdown",
      "source": [
        "We'll assume that any passenger with a score of over `0.5` is predicted to survive. So that means we're correct for each row where `preds>0.5` is the same as the dependent variable:"
      ],
      "metadata": {
        "id": "kV4j0ovPHxvB"
      }
    },
    {
      "cell_type": "code",
      "source": [
        "results = val_dep.bool()==(preds>0.5)\n",
        "results[:16]"
      ],
      "metadata": {
        "execution": {
          "iopub.status.busy": "2022-05-30T22:36:33.618455Z",
          "iopub.execute_input": "2022-05-30T22:36:33.618899Z",
          "iopub.status.idle": "2022-05-30T22:36:33.62703Z",
          "shell.execute_reply.started": "2022-05-30T22:36:33.618867Z",
          "shell.execute_reply": "2022-05-30T22:36:33.625949Z"
        },
        "trusted": true,
        "id": "fsfj_RxFHxvB"
      },
      "execution_count": null,
      "outputs": []
    },
    {
      "cell_type": "markdown",
      "source": [
        "Let's see what our average accuracy is:"
      ],
      "metadata": {
        "id": "exPEEn0qHxvB"
      }
    },
    {
      "cell_type": "code",
      "source": [
        "results.float().mean()"
      ],
      "metadata": {
        "execution": {
          "iopub.status.busy": "2022-05-30T22:36:35.725112Z",
          "iopub.execute_input": "2022-05-30T22:36:35.725637Z",
          "iopub.status.idle": "2022-05-30T22:36:35.732969Z",
          "shell.execute_reply.started": "2022-05-30T22:36:35.725599Z",
          "shell.execute_reply": "2022-05-30T22:36:35.732241Z"
        },
        "trusted": true,
        "id": "B6_5te69HxvB"
      },
      "execution_count": null,
      "outputs": []
    },
    {
      "cell_type": "markdown",
      "source": [
        "That's not a bad start at all! We'll create a function so we can calcuate the accuracy easy for other models we train:"
      ],
      "metadata": {
        "id": "Rp5_ZPbiHxvB"
      }
    },
    {
      "cell_type": "code",
      "source": [
        "def acc(coeffs): return (val_dep.bool()==(calc_preds(coeffs, val_indep)>0.5)).float().mean()\n",
        "acc(coeffs)"
      ],
      "metadata": {
        "execution": {
          "iopub.status.busy": "2022-05-30T22:36:40.356043Z",
          "iopub.execute_input": "2022-05-30T22:36:40.356505Z",
          "iopub.status.idle": "2022-05-30T22:36:40.365187Z",
          "shell.execute_reply.started": "2022-05-30T22:36:40.356471Z",
          "shell.execute_reply": "2022-05-30T22:36:40.364153Z"
        },
        "trusted": true,
        "id": "iAtDX5RUHxvC"
      },
      "execution_count": null,
      "outputs": []
    },
    {
      "cell_type": "markdown",
      "source": [
        "## Using sigmoid"
      ],
      "metadata": {
        "id": "EQD_XOI3HxvC"
      }
    },
    {
      "cell_type": "markdown",
      "source": [
        "Looking at our predictions, there's one obvious problem -- some of our predictions of the probability of survival are `>1`, and some are `<0`:"
      ],
      "metadata": {
        "id": "o9abFATXHxvC"
      }
    },
    {
      "cell_type": "code",
      "source": [
        "preds[:28]"
      ],
      "metadata": {
        "execution": {
          "iopub.status.busy": "2022-05-30T22:36:42.344533Z",
          "iopub.execute_input": "2022-05-30T22:36:42.344823Z",
          "iopub.status.idle": "2022-05-30T22:36:42.352948Z",
          "shell.execute_reply.started": "2022-05-30T22:36:42.344794Z",
          "shell.execute_reply": "2022-05-30T22:36:42.351968Z"
        },
        "trusted": true,
        "id": "gGycX7MTHxvC"
      },
      "execution_count": null,
      "outputs": []
    },
    {
      "cell_type": "markdown",
      "source": [
        "To fix this, we should pass every prediction through the *sigmoid function*, which has a minimum at zero and maximum at one, and is defined as follows:"
      ],
      "metadata": {
        "id": "6zHRis4MHxvD"
      }
    },
    {
      "cell_type": "code",
      "source": [
        "import sympy\n",
        "sympy.plot(\"1/(1+exp(-x))\", xlim=(-5,5));"
      ],
      "metadata": {
        "execution": {
          "iopub.status.busy": "2022-05-30T22:36:44.913101Z",
          "iopub.execute_input": "2022-05-30T22:36:44.914015Z",
          "iopub.status.idle": "2022-05-30T22:36:46.311818Z",
          "shell.execute_reply.started": "2022-05-30T22:36:44.913968Z",
          "shell.execute_reply": "2022-05-30T22:36:46.311008Z"
        },
        "trusted": true,
        "id": "zoIZCHqsHxvD",
        "colab": {
          "base_uri": "https://localhost:8080/",
          "height": 296
        },
        "outputId": "431f89ff-d21b-4c9e-8da0-e5d946d4879c"
      },
      "execution_count": 74,
      "outputs": [
        {
          "output_type": "display_data",
          "data": {
            "text/plain": [
              "<Figure size 432x288 with 1 Axes>"
            ],
            "image/png": "[encoded data removed]"
          },
          "metadata": {
            "needs_background": "light"
          }
        }
      ]
    },
    {
      "cell_type": "markdown",
      "source": [
        "PyTorch already defines that function for us, so we can modify `calc_preds` to use it:"
      ],
      "metadata": {
        "id": "OeFM1L2qHxvF"
      }
    },
    {
      "cell_type": "code",
      "source": [
        "def calc_preds(coeffs, indeps): return torch.sigmoid((indeps*coeffs).sum(axis=1))"
      ],
      "metadata": {
        "execution": {
          "iopub.status.busy": "2022-05-30T22:36:46.313435Z",
          "iopub.execute_input": "2022-05-30T22:36:46.313644Z",
          "iopub.status.idle": "2022-05-30T22:36:46.317749Z",
          "shell.execute_reply.started": "2022-05-30T22:36:46.313618Z",
          "shell.execute_reply": "2022-05-30T22:36:46.3169Z"
        },
        "trusted": true,
        "id": "am0lw0WQHxvF"
      },
      "execution_count": 75,
      "outputs": []
    },
    {
      "cell_type": "markdown",
      "source": [
        "Let's train a new model now, using this updated function to calculate predictions:"
      ],
      "metadata": {
        "id": "o6xhxGu4HxvG"
      }
    },
    {
      "cell_type": "code",
      "source": [
        "coeffs = train_model(lr=100)"
      ],
      "metadata": {
        "execution": {
          "iopub.status.busy": "2022-05-30T22:38:23.225051Z",
          "iopub.execute_input": "2022-05-30T22:38:23.22576Z",
          "iopub.status.idle": "2022-05-30T22:38:23.250206Z",
          "shell.execute_reply.started": "2022-05-30T22:38:23.225722Z",
          "shell.execute_reply": "2022-05-30T22:38:23.249321Z"
        },
        "trusted": true,
        "id": "GHbqWZraHxvG"
      },
      "execution_count": null,
      "outputs": []
    },
    {
      "cell_type": "markdown",
      "source": [
        "The loss has improved by a lot. Let's check the accuracy:"
      ],
      "metadata": {
        "id": "yBuUEuflHxvG"
      }
    },
    {
      "cell_type": "code",
      "source": [
        "acc(coeffs)"
      ],
      "metadata": {
        "execution": {
          "iopub.status.busy": "2022-05-30T22:38:28.518642Z",
          "iopub.execute_input": "2022-05-30T22:38:28.519132Z",
          "iopub.status.idle": "2022-05-30T22:38:28.527145Z",
          "shell.execute_reply.started": "2022-05-30T22:38:28.519078Z",
          "shell.execute_reply": "2022-05-30T22:38:28.526248Z"
        },
        "trusted": true,
        "id": "ANiwDHLMHxvH"
      },
      "execution_count": null,
      "outputs": []
    },
    {
      "cell_type": "markdown",
      "source": [
        "That's improved too! Here's the coefficients of our trained model:"
      ],
      "metadata": {
        "id": "rL0rNHHpHxvH"
      }
    },
    {
      "cell_type": "code",
      "source": [
        "show_coeffs()"
      ],
      "metadata": {
        "execution": {
          "iopub.status.busy": "2022-05-30T22:38:32.015953Z",
          "iopub.execute_input": "2022-05-30T22:38:32.01697Z",
          "iopub.status.idle": "2022-05-30T22:38:32.02724Z",
          "shell.execute_reply.started": "2022-05-30T22:38:32.016924Z",
          "shell.execute_reply": "2022-05-30T22:38:32.026125Z"
        },
        "trusted": true,
        "id": "cde-69PUHxvH"
      },
      "execution_count": null,
      "outputs": []
    },
    {
      "cell_type": "markdown",
      "source": [
        "These coefficients seem reasonable -- in general, older people and males were less likely to survive, and first class passengers were more likely to survive."
      ],
      "metadata": {
        "id": "97CQ19WLHxvH"
      }
    },
    {
      "cell_type": "markdown",
      "source": [
        "## Submitting to Kaggle"
      ],
      "metadata": {
        "id": "4pLJHpzRHxvH"
      }
    },
    {
      "cell_type": "markdown",
      "source": [
        "Now that we've got a trained model, we can prepare a submission to Kaggle. To do that, first we need to read the test set:"
      ],
      "metadata": {
        "id": "-1kbDJRRHxvI"
      }
    },
    {
      "cell_type": "code",
      "source": [
        "tst_df = pd.read_csv(path/'test.csv')"
      ],
      "metadata": {
        "execution": {
          "iopub.status.busy": "2022-05-30T22:38:35.172343Z",
          "iopub.execute_input": "2022-05-30T22:38:35.172909Z",
          "iopub.status.idle": "2022-05-30T22:38:35.188597Z",
          "shell.execute_reply.started": "2022-05-30T22:38:35.172873Z",
          "shell.execute_reply": "2022-05-30T22:38:35.187826Z"
        },
        "trusted": true,
        "id": "Bt1FJy1uHxvI"
      },
      "execution_count": null,
      "outputs": []
    },
    {
      "cell_type": "markdown",
      "source": [
        "In this case, it turns out that the test set is missing `Fare` for one passenger. We'll just fill it with `0` to avoid problems:"
      ],
      "metadata": {
        "id": "zXWkRJr1HxvI"
      }
    },
    {
      "cell_type": "code",
      "source": [
        "tst_df['Fare'] = tst_df.Fare.fillna(0)"
      ],
      "metadata": {
        "execution": {
          "iopub.status.busy": "2022-05-30T22:38:36.352687Z",
          "iopub.execute_input": "2022-05-30T22:38:36.353392Z",
          "iopub.status.idle": "2022-05-30T22:38:36.358237Z",
          "shell.execute_reply.started": "2022-05-30T22:38:36.353355Z",
          "shell.execute_reply": "2022-05-30T22:38:36.35739Z"
        },
        "trusted": true,
        "id": "Xx_gZrfeHxvI"
      },
      "execution_count": null,
      "outputs": []
    },
    {
      "cell_type": "markdown",
      "source": [
        "Now we can just copy the same steps we did to our training set and do the same exact things on our test set to preprocess the data:"
      ],
      "metadata": {
        "id": "Y4-ruUs0HxvI"
      }
    },
    {
      "cell_type": "code",
      "source": [
        "tst_df.fillna(modes, inplace=True)\n",
        "tst_df['LogFare'] = np.log(tst_df['Fare']+1)\n",
        "tst_df = pd.get_dummies(tst_df, columns=[\"Sex\",\"Pclass\",\"Embarked\"])\n",
        "\n",
        "tst_indep = tensor(tst_df[indep_cols].values, dtype=torch.float)\n",
        "tst_indep = tst_indep / vals"
      ],
      "metadata": {
        "execution": {
          "iopub.status.busy": "2022-05-30T22:38:38.198257Z",
          "iopub.execute_input": "2022-05-30T22:38:38.198549Z",
          "iopub.status.idle": "2022-05-30T22:38:38.220592Z",
          "shell.execute_reply.started": "2022-05-30T22:38:38.198519Z",
          "shell.execute_reply": "2022-05-30T22:38:38.219629Z"
        },
        "trusted": true,
        "id": "LrCeYhDGHxvI"
      },
      "execution_count": null,
      "outputs": []
    },
    {
      "cell_type": "markdown",
      "source": [
        "Let's calculate our predictions of which passengers survived in the test set:"
      ],
      "metadata": {
        "id": "tU09f20DHxvJ"
      }
    },
    {
      "cell_type": "code",
      "source": [
        "tst_df['Survived'] = (calc_preds(tst_indep, coeffs)>0.5).int()"
      ],
      "metadata": {
        "execution": {
          "iopub.status.busy": "2022-05-30T22:38:39.206216Z",
          "iopub.execute_input": "2022-05-30T22:38:39.206547Z",
          "iopub.status.idle": "2022-05-30T22:38:39.212386Z",
          "shell.execute_reply.started": "2022-05-30T22:38:39.206512Z",
          "shell.execute_reply": "2022-05-30T22:38:39.211631Z"
        },
        "trusted": true,
        "id": "n4z2bXy8HxvJ"
      },
      "execution_count": null,
      "outputs": []
    },
    {
      "cell_type": "markdown",
      "source": [
        "The sample submission on the Kaggle competition site shows that we're expected to upload a CSV with just `PassengerId` and `Survived`, so let's create that and save it:"
      ],
      "metadata": {
        "id": "b56XBZeoHxvJ"
      }
    },
    {
      "cell_type": "code",
      "source": [
        "sub_df = tst_df[['PassengerId','Survived']]\n",
        "sub_df.to_csv('sub.csv', index=False)"
      ],
      "metadata": {
        "execution": {
          "iopub.status.busy": "2022-05-30T22:38:40.161034Z",
          "iopub.execute_input": "2022-05-30T22:38:40.161382Z",
          "iopub.status.idle": "2022-05-30T22:38:40.173242Z",
          "shell.execute_reply.started": "2022-05-30T22:38:40.161336Z",
          "shell.execute_reply": "2022-05-30T22:38:40.17258Z"
        },
        "trusted": true,
        "id": "O2MFpUWJHxvJ"
      },
      "execution_count": null,
      "outputs": []
    },
    {
      "cell_type": "markdown",
      "source": [
        "We can check the first few rows of the file to make sure it looks reasonable:"
      ],
      "metadata": {
        "id": "vs_EBLCHHxvK"
      }
    },
    {
      "cell_type": "code",
      "source": [
        "!head sub.csv"
      ],
      "metadata": {
        "execution": {
          "iopub.status.busy": "2022-05-30T22:38:42.86855Z",
          "iopub.execute_input": "2022-05-30T22:38:42.869402Z",
          "iopub.status.idle": "2022-05-30T22:38:43.638832Z",
          "shell.execute_reply.started": "2022-05-30T22:38:42.869362Z",
          "shell.execute_reply": "2022-05-30T22:38:43.637559Z"
        },
        "trusted": true,
        "id": "qVraaDPNHxvK"
      },
      "execution_count": null,
      "outputs": []
    },
    {
      "cell_type": "markdown",
      "source": [
        "When you click \"save version\" in Kaggle, and wait for the notebook to run, you'll see that `sub.csv` appears in the \"Data\" tab. Clicking on that file will show a *Submit* button, which allows you to submit to the competition."
      ],
      "metadata": {
        "id": "LN7XYilXHxvL"
      }
    },
    {
      "cell_type": "markdown",
      "source": [
        "## Using matrix product"
      ],
      "metadata": {
        "id": "yIzXg6ZKHxvL"
      }
    },
    {
      "cell_type": "markdown",
      "source": [
        "We can make things quite a bit neater...\n",
        "\n",
        "Take a look at the inner-most calculation we're doing to get the predictions:"
      ],
      "metadata": {
        "id": "zlYAffn3HxvL"
      }
    },
    {
      "cell_type": "code",
      "source": [
        "(val_indep*coeffs).sum(axis=1)"
      ],
      "metadata": {
        "execution": {
          "iopub.status.busy": "2022-05-30T22:38:48.247768Z",
          "iopub.execute_input": "2022-05-30T22:38:48.248084Z",
          "iopub.status.idle": "2022-05-30T22:38:48.258935Z",
          "shell.execute_reply.started": "2022-05-30T22:38:48.248052Z",
          "shell.execute_reply": "2022-05-30T22:38:48.258184Z"
        },
        "trusted": true,
        "id": "z-DgxoLgHxvL"
      },
      "execution_count": null,
      "outputs": []
    },
    {
      "cell_type": "markdown",
      "source": [
        "Multiplying elements together and then adding across rows is identical to doing a matrix-vector product! Python uses the `@` operator to indicate matrix products, and is supported by PyTorch tensors. Therefore, we can replicate the above calculate more simply like so:"
      ],
      "metadata": {
        "id": "tXgMgGGCHxvL"
      }
    },
    {
      "cell_type": "code",
      "source": [
        "val_indep@coeffs"
      ],
      "metadata": {
        "execution": {
          "iopub.status.busy": "2022-05-30T22:38:51.959362Z",
          "iopub.execute_input": "2022-05-30T22:38:51.959798Z",
          "iopub.status.idle": "2022-05-30T22:38:51.97614Z",
          "shell.execute_reply.started": "2022-05-30T22:38:51.959765Z",
          "shell.execute_reply": "2022-05-30T22:38:51.975461Z"
        },
        "trusted": true,
        "id": "B7ONIRHXHxvM"
      },
      "execution_count": null,
      "outputs": []
    },
    {
      "cell_type": "markdown",
      "source": [
        "It also turns out that this is much faster, because matrix products in PyTorch are very highly optimised.\n",
        "\n",
        "Let's use this to replace how `calc_preds` works:"
      ],
      "metadata": {
        "id": "HWDvh2PdHxvM"
      }
    },
    {
      "cell_type": "code",
      "source": [
        "def calc_preds(coeffs, indeps): return torch.sigmoid(indeps@coeffs)"
      ],
      "metadata": {
        "execution": {
          "iopub.status.busy": "2022-05-30T22:38:56.321807Z",
          "iopub.execute_input": "2022-05-30T22:38:56.322255Z",
          "iopub.status.idle": "2022-05-30T22:38:56.326812Z",
          "shell.execute_reply.started": "2022-05-30T22:38:56.322213Z",
          "shell.execute_reply": "2022-05-30T22:38:56.32606Z"
        },
        "trusted": true,
        "id": "Bwe3RwQbHxvM"
      },
      "execution_count": null,
      "outputs": []
    },
    {
      "cell_type": "markdown",
      "source": [
        "In order to do matrix-matrix products (which we'll need in the next section), we need to turn `coeffs` into a column vector (i.e. a matrix with a single column), which we can do by passing a second argument `1` to `torch.rand()`, indicating that we want our coefficients to have one column:"
      ],
      "metadata": {
        "id": "ma8BPQeoHxvN"
      }
    },
    {
      "cell_type": "code",
      "source": [
        "def init_coeffs(): return (torch.rand(n_coeff, 1)*0.1).requires_grad_()"
      ],
      "metadata": {
        "execution": {
          "iopub.status.busy": "2022-05-30T22:38:58.895467Z",
          "iopub.execute_input": "2022-05-30T22:38:58.895779Z",
          "iopub.status.idle": "2022-05-30T22:38:58.900851Z",
          "shell.execute_reply.started": "2022-05-30T22:38:58.895744Z",
          "shell.execute_reply": "2022-05-30T22:38:58.899931Z"
        },
        "trusted": true,
        "id": "afaX67odHxvN"
      },
      "execution_count": null,
      "outputs": []
    },
    {
      "cell_type": "markdown",
      "source": [
        "We'll also need to turn our dependent variable into a column vector, which we can do by indexing the column dimension with the special value `None`, which tells PyTorch to add a new dimension in this position:"
      ],
      "metadata": {
        "id": "NyDG7BudHxvN"
      }
    },
    {
      "cell_type": "code",
      "source": [
        "trn_dep = trn_dep[:,None]\n",
        "val_dep = val_dep[:,None]"
      ],
      "metadata": {
        "execution": {
          "iopub.status.busy": "2022-05-30T22:38:59.788799Z",
          "iopub.execute_input": "2022-05-30T22:38:59.789678Z",
          "iopub.status.idle": "2022-05-30T22:38:59.794227Z",
          "shell.execute_reply.started": "2022-05-30T22:38:59.789625Z",
          "shell.execute_reply": "2022-05-30T22:38:59.793326Z"
        },
        "trusted": true,
        "id": "QlJdaqjnHxvN"
      },
      "execution_count": null,
      "outputs": []
    },
    {
      "cell_type": "markdown",
      "source": [
        "We can now train our model as before and confirm we get identical outputs...:"
      ],
      "metadata": {
        "id": "CmVhqG4fHxvN"
      }
    },
    {
      "cell_type": "code",
      "source": [
        "coeffs = train_model(lr=100)"
      ],
      "metadata": {
        "execution": {
          "iopub.status.busy": "2022-05-30T22:39:38.070545Z",
          "iopub.execute_input": "2022-05-30T22:39:38.071003Z",
          "iopub.status.idle": "2022-05-30T22:39:38.094666Z",
          "shell.execute_reply.started": "2022-05-30T22:39:38.070972Z",
          "shell.execute_reply": "2022-05-30T22:39:38.093641Z"
        },
        "trusted": true,
        "id": "StrnSYEoHxvN"
      },
      "execution_count": null,
      "outputs": []
    },
    {
      "cell_type": "markdown",
      "source": [
        "...and identical accuracy:"
      ],
      "metadata": {
        "id": "Nm1_ypIEHxvO"
      }
    },
    {
      "cell_type": "code",
      "source": [
        "acc(coeffs)"
      ],
      "metadata": {
        "execution": {
          "iopub.status.busy": "2022-05-30T22:39:40.463301Z",
          "iopub.execute_input": "2022-05-30T22:39:40.463735Z",
          "iopub.status.idle": "2022-05-30T22:39:40.469684Z",
          "shell.execute_reply.started": "2022-05-30T22:39:40.463702Z",
          "shell.execute_reply": "2022-05-30T22:39:40.468652Z"
        },
        "trusted": true,
        "id": "4uQ2s2SjHxvO"
      },
      "execution_count": null,
      "outputs": []
    },
    {
      "cell_type": "markdown",
      "source": [
        "## A neural network"
      ],
      "metadata": {
        "id": "IUjXDVbGHxvO"
      }
    },
    {
      "cell_type": "markdown",
      "source": [
        "We've now got what we need to implement our neural network.\n",
        "\n",
        "First, we'll need to create coefficients for each of our layers. Our first set of coefficients will take our `n_coeff` inputs, and create `n_hidden` outputs. We can choose whatever `n_hidden` we like -- a higher number gives our network more flexibility, but makes it slower and harder to train. So we need a matrix of size `n_coeff` by `n_hidden`. We'll divide these coefficients by `n_hidden` so that when we sum them up in the next layer we'll end up with similar magnitude numbers to what we started with.\n",
        "\n",
        "Then our second layer will need to take the `n_hidden` inputs and create a single output, so that means we need a `n_hidden` by `1` matrix there. The second layer will also need a constant term added."
      ],
      "metadata": {
        "id": "w1kYl9doHxvO"
      }
    },
    {
      "cell_type": "code",
      "source": [
        "def init_coeffs(n_hidden=20):\n",
        "    layer1 = (torch.rand(n_coeff, n_hidden)-0.5)/n_hidden\n",
        "    layer2 = torch.rand(n_hidden, 1)-0.3\n",
        "    const = torch.rand(1)[0]\n",
        "    return layer1.requires_grad_(),layer2.requires_grad_(),const.requires_grad_()"
      ],
      "metadata": {
        "execution": {
          "iopub.status.busy": "2022-05-30T22:39:44.428254Z",
          "iopub.execute_input": "2022-05-30T22:39:44.428599Z",
          "iopub.status.idle": "2022-05-30T22:39:44.434009Z",
          "shell.execute_reply.started": "2022-05-30T22:39:44.428563Z",
          "shell.execute_reply": "2022-05-30T22:39:44.433164Z"
        },
        "trusted": true,
        "id": "HLuCRne3HxvO"
      },
      "execution_count": null,
      "outputs": []
    },
    {
      "cell_type": "markdown",
      "source": [
        "Now we have our coefficients, we can create our neural net. The key steps are the two matrix products, `indeps@l1` and `res@l2` (where `res` is the output of the first layer). The first layer output is passed to `F.relu` (that's our non-linearity), and the second is passed to `torch.sigmoid` as before."
      ],
      "metadata": {
        "id": "LaQ6TiF9HxvP"
      }
    },
    {
      "cell_type": "code",
      "source": [
        "import torch.nn.functional as F\n",
        "\n",
        "def calc_preds(coeffs, indeps):\n",
        "    l1,l2,const = coeffs\n",
        "    res = F.relu(indeps@l1)\n",
        "    res = res@l2 + const\n",
        "    return torch.sigmoid(res)"
      ],
      "metadata": {
        "execution": {
          "iopub.status.busy": "2022-05-30T22:39:45.302573Z",
          "iopub.execute_input": "2022-05-30T22:39:45.302903Z",
          "iopub.status.idle": "2022-05-30T22:39:45.309472Z",
          "shell.execute_reply.started": "2022-05-30T22:39:45.302864Z",
          "shell.execute_reply": "2022-05-30T22:39:45.308498Z"
        },
        "trusted": true,
        "id": "9uUkT6bkHxvP"
      },
      "execution_count": null,
      "outputs": []
    },
    {
      "cell_type": "markdown",
      "source": [
        "Finally, now that we have more than one set of coefficients, we need to add a loop to update each one:"
      ],
      "metadata": {
        "id": "ACoha9tGHxvP"
      }
    },
    {
      "cell_type": "code",
      "source": [
        "def update_coeffs(coeffs, lr):\n",
        "    for layer in coeffs:\n",
        "        layer.sub_(layer.grad * lr)\n",
        "        layer.grad.zero_()"
      ],
      "metadata": {
        "execution": {
          "iopub.status.busy": "2022-05-30T22:39:55.3665Z",
          "iopub.execute_input": "2022-05-30T22:39:55.366945Z",
          "iopub.status.idle": "2022-05-30T22:39:55.371578Z",
          "shell.execute_reply.started": "2022-05-30T22:39:55.366914Z",
          "shell.execute_reply": "2022-05-30T22:39:55.370699Z"
        },
        "trusted": true,
        "id": "sKsCqwFmHxvP"
      },
      "execution_count": null,
      "outputs": []
    },
    {
      "cell_type": "markdown",
      "source": [
        "That's it -- we're now ready to train our model!"
      ],
      "metadata": {
        "id": "8DYHsUlkHxvP"
      }
    },
    {
      "cell_type": "code",
      "source": [
        "coeffs = train_model(lr=1.4)"
      ],
      "metadata": {
        "execution": {
          "iopub.status.busy": "2022-05-30T22:39:58.189651Z",
          "iopub.execute_input": "2022-05-30T22:39:58.189982Z",
          "iopub.status.idle": "2022-05-30T22:39:58.227202Z",
          "shell.execute_reply.started": "2022-05-30T22:39:58.189951Z",
          "shell.execute_reply": "2022-05-30T22:39:58.226226Z"
        },
        "trusted": true,
        "id": "Ti8VinbJHxvP"
      },
      "execution_count": null,
      "outputs": []
    },
    {
      "cell_type": "code",
      "source": [
        "coeffs = train_model(lr=20)"
      ],
      "metadata": {
        "execution": {
          "iopub.status.busy": "2022-05-30T22:40:16.337512Z",
          "iopub.execute_input": "2022-05-30T22:40:16.338016Z",
          "iopub.status.idle": "2022-05-30T22:40:16.368327Z",
          "shell.execute_reply.started": "2022-05-30T22:40:16.337959Z",
          "shell.execute_reply": "2022-05-30T22:40:16.367439Z"
        },
        "trusted": true,
        "id": "bK8o6JiAHxvP"
      },
      "execution_count": null,
      "outputs": []
    },
    {
      "cell_type": "markdown",
      "source": [
        "It's looking good -- our loss is lower than before. Let's see if that translates to a better result on the validation set:"
      ],
      "metadata": {
        "id": "rTXLVTmkHxvQ"
      }
    },
    {
      "cell_type": "code",
      "source": [
        "acc(coeffs)"
      ],
      "metadata": {
        "execution": {
          "iopub.status.busy": "2022-05-30T22:40:18.644153Z",
          "iopub.execute_input": "2022-05-30T22:40:18.644458Z",
          "iopub.status.idle": "2022-05-30T22:40:18.651372Z",
          "shell.execute_reply.started": "2022-05-30T22:40:18.644427Z",
          "shell.execute_reply": "2022-05-30T22:40:18.650102Z"
        },
        "trusted": true,
        "id": "8AqfApxbHxvQ"
      },
      "execution_count": null,
      "outputs": []
    },
    {
      "cell_type": "markdown",
      "source": [
        "In this case our neural net isn't showing better results than the linear model. That's not surprising; this dataset is very small and very simple, and isn't the kind of thing we'd expect to see neural networks excel at. Furthermore, our validation set is too small to reliably see much accuracy difference. But the key thing is that we now know exactly what a real neural net looks like!"
      ],
      "metadata": {
        "id": "rKmTylBwHxvQ"
      }
    },
    {
      "cell_type": "markdown",
      "source": [
        "## Deep learning"
      ],
      "metadata": {
        "id": "ozdWeMRHHxvQ"
      }
    },
    {
      "cell_type": "markdown",
      "source": [
        "The neural net in the previous section only uses one hidden layer, so it doesn't count as \"deep\" learning. But we can use the exact same technique to make our neural net deep, by adding more matrix multiplications.\n",
        "\n",
        "First, we'll need to create additional coefficients for each layer:"
      ],
      "metadata": {
        "id": "vaq7LvNVHxvQ"
      }
    },
    {
      "cell_type": "code",
      "source": [
        "def init_coeffs():\n",
        "    hiddens = [10, 10]  # <-- set this to the size of each hidden layer you want\n",
        "    sizes = [n_coeff] + hiddens + [1]\n",
        "    n = len(sizes)\n",
        "    layers = [(torch.rand(sizes[i], sizes[i+1])-0.3)/sizes[i+1]*4 for i in range(n-1)]\n",
        "    consts = [(torch.rand(1)[0]-0.5)*0.1 for i in range(n-1)]\n",
        "    for l in layers+consts: l.requires_grad_()\n",
        "    return layers,consts"
      ],
      "metadata": {
        "execution": {
          "iopub.status.busy": "2022-05-30T22:40:55.25457Z",
          "iopub.execute_input": "2022-05-30T22:40:55.255291Z",
          "iopub.status.idle": "2022-05-30T22:40:55.261806Z",
          "shell.execute_reply.started": "2022-05-30T22:40:55.255242Z",
          "shell.execute_reply": "2022-05-30T22:40:55.261271Z"
        },
        "trusted": true,
        "id": "Kj_8Gaw2HxvQ"
      },
      "execution_count": null,
      "outputs": []
    },
    {
      "cell_type": "markdown",
      "source": [
        "You'll notice here that there's a lot of messy constants to get the random numbers in just the right ranges. When you train the model in a moment, you'll see that the tiniest changes to these initialisations can cause our model to fail to train at all! This is a key reason that deep learning failed to make much progress in the early days -- it's very finicky to get a good starting point for our coefficients. Nowadays, we have ways to deal with that, which we'll learn about in other notebooks.\n",
        "\n",
        "Our deep learning `calc_preds` looks much the same as before, but now we loop through each layer, instead of listing them separately:"
      ],
      "metadata": {
        "id": "rbbCC8iUHxvR"
      }
    },
    {
      "cell_type": "code",
      "source": [
        "import torch.nn.functional as F\n",
        "\n",
        "def calc_preds(coeffs, indeps):\n",
        "    layers,consts = coeffs\n",
        "    n = len(layers)\n",
        "    res = indeps\n",
        "    for i,l in enumerate(layers):\n",
        "        res = res@l + consts[i]\n",
        "        if i!=n-1: res = F.relu(res)\n",
        "    return torch.sigmoid(res)"
      ],
      "metadata": {
        "execution": {
          "iopub.status.busy": "2022-05-30T22:40:57.610142Z",
          "iopub.execute_input": "2022-05-30T22:40:57.610974Z",
          "iopub.status.idle": "2022-05-30T22:40:57.618154Z",
          "shell.execute_reply.started": "2022-05-30T22:40:57.610916Z",
          "shell.execute_reply": "2022-05-30T22:40:57.617329Z"
        },
        "trusted": true,
        "id": "8ghMMdm3HxvR"
      },
      "execution_count": null,
      "outputs": []
    },
    {
      "cell_type": "markdown",
      "source": [
        "We also need a minor update to `update_coeffs` since we've got `layers` and `consts` separated now:"
      ],
      "metadata": {
        "id": "FqCq3hGKHxvR"
      }
    },
    {
      "cell_type": "code",
      "source": [
        "def update_coeffs(coeffs, lr):\n",
        "    layers,consts = coeffs\n",
        "    for layer in layers+consts:\n",
        "        layer.sub_(layer.grad * lr)\n",
        "        layer.grad.zero_()"
      ],
      "metadata": {
        "execution": {
          "iopub.status.busy": "2022-05-30T22:41:08.512494Z",
          "iopub.execute_input": "2022-05-30T22:41:08.513049Z",
          "iopub.status.idle": "2022-05-30T22:41:08.519219Z",
          "shell.execute_reply.started": "2022-05-30T22:41:08.512999Z",
          "shell.execute_reply": "2022-05-30T22:41:08.518093Z"
        },
        "trusted": true,
        "id": "iv1BB4jgHxvR"
      },
      "execution_count": null,
      "outputs": []
    },
    {
      "cell_type": "markdown",
      "source": [
        "Let's train our model..."
      ],
      "metadata": {
        "id": "wR_vmqnoHxvS"
      }
    },
    {
      "cell_type": "code",
      "source": [
        "coeffs = train_model(lr=4)"
      ],
      "metadata": {
        "execution": {
          "iopub.status.busy": "2022-05-30T22:41:23.632516Z",
          "iopub.execute_input": "2022-05-30T22:41:23.633004Z",
          "iopub.status.idle": "2022-05-30T22:41:23.666981Z",
          "shell.execute_reply.started": "2022-05-30T22:41:23.632953Z",
          "shell.execute_reply": "2022-05-30T22:41:23.666048Z"
        },
        "trusted": true,
        "id": "pQ5rt-jmHxvS"
      },
      "execution_count": null,
      "outputs": []
    },
    {
      "cell_type": "markdown",
      "source": [
        "...and check its accuracy:"
      ],
      "metadata": {
        "id": "7F-mJb-NHxvS"
      }
    },
    {
      "cell_type": "code",
      "source": [
        "acc(coeffs)"
      ],
      "metadata": {
        "execution": {
          "iopub.status.busy": "2022-05-30T22:41:25.490656Z",
          "iopub.execute_input": "2022-05-30T22:41:25.491182Z",
          "iopub.status.idle": "2022-05-30T22:41:25.497888Z",
          "shell.execute_reply.started": "2022-05-30T22:41:25.491146Z",
          "shell.execute_reply": "2022-05-30T22:41:25.49695Z"
        },
        "trusted": true,
        "id": "GDk7KyyBHxvS"
      },
      "execution_count": null,
      "outputs": []
    },
    {
      "cell_type": "markdown",
      "source": [
        "## Final thoughts"
      ],
      "metadata": {
        "id": "EJEAxcdoHxvS"
      }
    },
    {
      "cell_type": "markdown",
      "source": [
        "It's actually pretty cool that we've managed to create a real deep learning model from scratch and trained it to get over 80% accuracy on this task, all in the course of a single notebook!\n",
        "\n",
        "The \"real\" deep learning models that are used in research and industry look very similar to this, and in fact if you look inside the source code of any deep learning model you'll recognise the basic steps are the same.\n",
        "\n",
        "The biggest differences in practical models to what we have above are:\n",
        "\n",
        "- How initialisation and normalisation is done to ensure the model trains correctly every time\n",
        "- Regularization (to avoid over-fitting)\n",
        "- Modifying the neural net itself to take advantage of knowledge of the problem domain\n",
        "- Doing gradient descent steps on smaller batches, rather than the whole dataset.\n",
        "\n",
        "I'll be adding notebooks about all these later, and will add links here once they're ready.\n",
        "\n",
        "If you found this notebook useful, please remember to click the little up-arrow at the top to upvote it, since I like to know when people have found my work useful, and it helps others find it too. (BTW, be sure you're looking at my [original notebook here](https://www.kaggle.com/code/jhoward/linear-model-and-neural-net-from-scratch) when you do that, and are not on your own copy of it, otherwise your upvote won't get counted!) And if you have any questions or comments, please pop them below -- I read every comment I receive!"
      ],
      "metadata": {
        "id": "6ZPGPSrdHxvT"
      }
    },
    {
      "cell_type": "code",
      "source": [],
      "metadata": {
        "id": "g39umcjZHxvT"
      },
      "execution_count": null,
      "outputs": []
    }
  ]
}