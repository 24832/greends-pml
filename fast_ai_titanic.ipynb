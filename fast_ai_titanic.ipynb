{
  "metadata": {
    "kernelspec": {
      "display_name": "Python 3",
      "language": "python",
      "name": "python3"
    },
    "language_info": {
      "name": "python",
      "version": "3.6.6",
      "mimetype": "text/x-python",
      "codemirror_mode": {
        "name": "ipython",
        "version": 3
      },
      "pygments_lexer": "ipython3",
      "nbconvert_exporter": "python",
      "file_extension": ".py"
    },
    "colab": {
      "provenance": [],
      "include_colab_link": true
    }
  },
  "nbformat_minor": 0,
  "nbformat": 4,
  "cells": [
    {
      "cell_type": "markdown",
      "metadata": {
        "id": "view-in-github",
        "colab_type": "text"
      },
      "source": [
        "<a href=\"https://colab.research.google.com/github/isa-ulisboa/greends-pml/blob/main/fast_ai_titanic.ipynb\" target=\"_parent\"><img src=\"https://colab.research.google.com/assets/colab-badge.svg\" alt=\"Open In Colab\"/></a>"
      ]
    },
    {
      "cell_type": "markdown",
      "source": [
        "# Predicting survival of Titanic passengers"
      ],
      "metadata": {
        "_uuid": "6e7c0bacbf94d39e845c423e073d01f40ef5ce06",
        "id": "bF513y3hRfi-"
      }
    },
    {
      "cell_type": "markdown",
      "source": [
        "Works with fastai version 2.7.11"
      ],
      "metadata": {
        "id": "2M0eWqp7wS9z"
      }
    },
    {
      "cell_type": "code",
      "source": [
        "#!pip install -q fastai --upgrade\n",
        "\n"
      ],
      "metadata": {
        "_kg_hide-output": true,
        "_uuid": "b5c0e126fb04084d9410e604710ea8b631adf512",
        "trusted": true,
        "id": "5ZHM4jeORfjB"
      },
      "execution_count": 34,
      "outputs": []
    },
    {
      "cell_type": "code",
      "source": [
        "import fastai\n",
        "print(fastai.__version__)"
      ],
      "metadata": {
        "id": "k48bUP5TwH4d",
        "outputId": "011e7974-b33b-45ce-cb6f-e804c6b7582d",
        "colab": {
          "base_uri": "https://localhost:8080/"
        }
      },
      "execution_count": 35,
      "outputs": [
        {
          "output_type": "stream",
          "name": "stdout",
          "text": [
            "2.7.11\n"
          ]
        }
      ]
    },
    {
      "cell_type": "code",
      "source": [
        "from fastai import *\n",
        "from fastai.tabular.all import *\n",
        "import pandas as pd"
      ],
      "metadata": {
        "_uuid": "478f17b598c34f2b041aea49e948fd094e73e389",
        "trusted": true,
        "id": "_bMtDRpFRfjD"
      },
      "execution_count": 36,
      "outputs": []
    },
    {
      "cell_type": "code",
      "source": [
        "from google.colab import drive\n",
        "drive.mount('/content/drive')"
      ],
      "metadata": {
        "id": "aqU8seKijb66",
        "outputId": "e23d81b0-fa6e-42ae-f5aa-994ca591113e",
        "colab": {
          "base_uri": "https://localhost:8080/"
        }
      },
      "execution_count": 37,
      "outputs": [
        {
          "output_type": "stream",
          "name": "stdout",
          "text": [
            "Drive already mounted at /content/drive; to attempt to forcibly remount, call drive.mount(\"/content/drive\", force_remount=True).\n"
          ]
        }
      ]
    },
    {
      "cell_type": "markdown",
      "source": [
        "## Load data"
      ],
      "metadata": {
        "_uuid": "781c1e7cdfd6cece063566237384553f507f5deb",
        "id": "xUox0AQGRfjE"
      }
    },
    {
      "cell_type": "code",
      "source": [
        "train_df = pd.read_csv('/content/drive/MyDrive/AAA/Lesson_5/titanic_data/train.csv')\n",
        "test_df = pd.read_csv('/content/drive/MyDrive/AAA/Lesson_5/titanic_data/test.csv')\n",
        "print(train_df.shape,test_df.shape)\n",
        "train_df.head()"
      ],
      "metadata": {
        "_uuid": "b9e4798c15c7a87d5226e0f26a643fc8875235f3",
        "trusted": true,
        "id": "2YdyzKnORfjF",
        "outputId": "6c2db0bf-8e49-4032-af1d-ac9512e6c063",
        "colab": {
          "base_uri": "https://localhost:8080/",
          "height": 224
        }
      },
      "execution_count": 38,
      "outputs": [
        {
          "output_type": "stream",
          "name": "stdout",
          "text": [
            "(891, 12) (418, 11)\n"
          ]
        },
        {
          "output_type": "execute_result",
          "data": {
            "text/plain": [
              "   PassengerId  Survived  Pclass  \\\n",
              "0            1         0       3   \n",
              "1            2         1       1   \n",
              "2            3         1       3   \n",
              "3            4         1       1   \n",
              "4            5         0       3   \n",
              "\n",
              "                                                  Name     Sex   Age  SibSp  \\\n",
              "0                              Braund, Mr. Owen Harris    male  22.0      1   \n",
              "1  Cumings, Mrs. John Bradley (Florence Briggs Thayer)  female  38.0      1   \n",
              "2                               Heikkinen, Miss. Laina  female  26.0      0   \n",
              "3         Futrelle, Mrs. Jacques Heath (Lily May Peel)  female  35.0      1   \n",
              "4                             Allen, Mr. William Henry    male  35.0      0   \n",
              "\n",
              "   Parch            Ticket     Fare Cabin Embarked  \n",
              "0      0         A/5 21171   7.2500   NaN        S  \n",
              "1      0          PC 17599  71.2833   C85        C  \n",
              "2      0  STON/O2. 3101282   7.9250   NaN        S  \n",
              "3      0            113803  53.1000  C123        S  \n",
              "4      0            373450   8.0500   NaN        S  "
            ],
            "text/html": [
              "\n",
              "  <div id=\"df-cd707cb9-749d-48db-9892-b8ebbce61bb8\">\n",
              "    <div class=\"colab-df-container\">\n",
              "      <div>\n",
              "<style scoped>\n",
              "    .dataframe tbody tr th:only-of-type {\n",
              "        vertical-align: middle;\n",
              "    }\n",
              "\n",
              "    .dataframe tbody tr th {\n",
              "        vertical-align: top;\n",
              "    }\n",
              "\n",
              "    .dataframe thead th {\n",
              "        text-align: right;\n",
              "    }\n",
              "</style>\n",
              "<table border=\"1\" class=\"dataframe\">\n",
              "  <thead>\n",
              "    <tr style=\"text-align: right;\">\n",
              "      <th></th>\n",
              "      <th>PassengerId</th>\n",
              "      <th>Survived</th>\n",
              "      <th>Pclass</th>\n",
              "      <th>Name</th>\n",
              "      <th>Sex</th>\n",
              "      <th>Age</th>\n",
              "      <th>SibSp</th>\n",
              "      <th>Parch</th>\n",
              "      <th>Ticket</th>\n",
              "      <th>Fare</th>\n",
              "      <th>Cabin</th>\n",
              "      <th>Embarked</th>\n",
              "    </tr>\n",
              "  </thead>\n",
              "  <tbody>\n",
              "    <tr>\n",
              "      <th>0</th>\n",
              "      <td>1</td>\n",
              "      <td>0</td>\n",
              "      <td>3</td>\n",
              "      <td>Braund, Mr. Owen Harris</td>\n",
              "      <td>male</td>\n",
              "      <td>22.0</td>\n",
              "      <td>1</td>\n",
              "      <td>0</td>\n",
              "      <td>A/5 21171</td>\n",
              "      <td>7.2500</td>\n",
              "      <td>NaN</td>\n",
              "      <td>S</td>\n",
              "    </tr>\n",
              "    <tr>\n",
              "      <th>1</th>\n",
              "      <td>2</td>\n",
              "      <td>1</td>\n",
              "      <td>1</td>\n",
              "      <td>Cumings, Mrs. John Bradley (Florence Briggs Thayer)</td>\n",
              "      <td>female</td>\n",
              "      <td>38.0</td>\n",
              "      <td>1</td>\n",
              "      <td>0</td>\n",
              "      <td>PC 17599</td>\n",
              "      <td>71.2833</td>\n",
              "      <td>C85</td>\n",
              "      <td>C</td>\n",
              "    </tr>\n",
              "    <tr>\n",
              "      <th>2</th>\n",
              "      <td>3</td>\n",
              "      <td>1</td>\n",
              "      <td>3</td>\n",
              "      <td>Heikkinen, Miss. Laina</td>\n",
              "      <td>female</td>\n",
              "      <td>26.0</td>\n",
              "      <td>0</td>\n",
              "      <td>0</td>\n",
              "      <td>STON/O2. 3101282</td>\n",
              "      <td>7.9250</td>\n",
              "      <td>NaN</td>\n",
              "      <td>S</td>\n",
              "    </tr>\n",
              "    <tr>\n",
              "      <th>3</th>\n",
              "      <td>4</td>\n",
              "      <td>1</td>\n",
              "      <td>1</td>\n",
              "      <td>Futrelle, Mrs. Jacques Heath (Lily May Peel)</td>\n",
              "      <td>female</td>\n",
              "      <td>35.0</td>\n",
              "      <td>1</td>\n",
              "      <td>0</td>\n",
              "      <td>113803</td>\n",
              "      <td>53.1000</td>\n",
              "      <td>C123</td>\n",
              "      <td>S</td>\n",
              "    </tr>\n",
              "    <tr>\n",
              "      <th>4</th>\n",
              "      <td>5</td>\n",
              "      <td>0</td>\n",
              "      <td>3</td>\n",
              "      <td>Allen, Mr. William Henry</td>\n",
              "      <td>male</td>\n",
              "      <td>35.0</td>\n",
              "      <td>0</td>\n",
              "      <td>0</td>\n",
              "      <td>373450</td>\n",
              "      <td>8.0500</td>\n",
              "      <td>NaN</td>\n",
              "      <td>S</td>\n",
              "    </tr>\n",
              "  </tbody>\n",
              "</table>\n",
              "</div>\n",
              "      <button class=\"colab-df-convert\" onclick=\"convertToInteractive('df-cd707cb9-749d-48db-9892-b8ebbce61bb8')\"\n",
              "              title=\"Convert this dataframe to an interactive table.\"\n",
              "              style=\"display:none;\">\n",
              "        \n",
              "  <svg xmlns=\"http://www.w3.org/2000/svg\" height=\"24px\"viewBox=\"0 0 24 24\"\n",
              "       width=\"24px\">\n",
              "    <path d=\"M0 0h24v24H0V0z\" fill=\"none\"/>\n",
              "    <path d=\"M18.56 5.44l.94 2.06.94-2.06 2.06-.94-2.06-.94-.94-2.06-.94 2.06-2.06.94zm-11 1L8.5 8.5l.94-2.06 2.06-.94-2.06-.94L8.5 2.5l-.94 2.06-2.06.94zm10 10l.94 2.06.94-2.06 2.06-.94-2.06-.94-.94-2.06-.94 2.06-2.06.94z\"/><path d=\"M17.41 7.96l-1.37-1.37c-.4-.4-.92-.59-1.43-.59-.52 0-1.04.2-1.43.59L10.3 9.45l-7.72 7.72c-.78.78-.78 2.05 0 2.83L4 21.41c.39.39.9.59 1.41.59.51 0 1.02-.2 1.41-.59l7.78-7.78 2.81-2.81c.8-.78.8-2.07 0-2.86zM5.41 20L4 18.59l7.72-7.72 1.47 1.35L5.41 20z\"/>\n",
              "  </svg>\n",
              "      </button>\n",
              "      \n",
              "  <style>\n",
              "    .colab-df-container {\n",
              "      display:flex;\n",
              "      flex-wrap:wrap;\n",
              "      gap: 12px;\n",
              "    }\n",
              "\n",
              "    .colab-df-convert {\n",
              "      background-color: #E8F0FE;\n",
              "      border: none;\n",
              "      border-radius: 50%;\n",
              "      cursor: pointer;\n",
              "      display: none;\n",
              "      fill: #1967D2;\n",
              "      height: 32px;\n",
              "      padding: 0 0 0 0;\n",
              "      width: 32px;\n",
              "    }\n",
              "\n",
              "    .colab-df-convert:hover {\n",
              "      background-color: #E2EBFA;\n",
              "      box-shadow: 0px 1px 2px rgba(60, 64, 67, 0.3), 0px 1px 3px 1px rgba(60, 64, 67, 0.15);\n",
              "      fill: #174EA6;\n",
              "    }\n",
              "\n",
              "    [theme=dark] .colab-df-convert {\n",
              "      background-color: #3B4455;\n",
              "      fill: #D2E3FC;\n",
              "    }\n",
              "\n",
              "    [theme=dark] .colab-df-convert:hover {\n",
              "      background-color: #434B5C;\n",
              "      box-shadow: 0px 1px 3px 1px rgba(0, 0, 0, 0.15);\n",
              "      filter: drop-shadow(0px 1px 2px rgba(0, 0, 0, 0.3));\n",
              "      fill: #FFFFFF;\n",
              "    }\n",
              "  </style>\n",
              "\n",
              "      <script>\n",
              "        const buttonEl =\n",
              "          document.querySelector('#df-cd707cb9-749d-48db-9892-b8ebbce61bb8 button.colab-df-convert');\n",
              "        buttonEl.style.display =\n",
              "          google.colab.kernel.accessAllowed ? 'block' : 'none';\n",
              "\n",
              "        async function convertToInteractive(key) {\n",
              "          const element = document.querySelector('#df-cd707cb9-749d-48db-9892-b8ebbce61bb8');\n",
              "          const dataTable =\n",
              "            await google.colab.kernel.invokeFunction('convertToInteractive',\n",
              "                                                     [key], {});\n",
              "          if (!dataTable) return;\n",
              "\n",
              "          const docLinkHtml = 'Like what you see? Visit the ' +\n",
              "            '<a target=\"_blank\" href=https://colab.research.google.com/notebooks/data_table.ipynb>data table notebook</a>'\n",
              "            + ' to learn more about interactive tables.';\n",
              "          element.innerHTML = '';\n",
              "          dataTable['output_type'] = 'display_data';\n",
              "          await google.colab.output.renderOutput(dataTable, element);\n",
              "          const docLink = document.createElement('div');\n",
              "          docLink.innerHTML = docLinkHtml;\n",
              "          element.appendChild(docLink);\n",
              "        }\n",
              "      </script>\n",
              "    </div>\n",
              "  </div>\n",
              "  "
            ]
          },
          "metadata": {},
          "execution_count": 38
        }
      ]
    },
    {
      "cell_type": "markdown",
      "source": [
        "## Feature engineering\n",
        "- Extract *Title* from the name colum. \n",
        "- Extract *Deck* from the first character of the cabin number.\n",
        "- Fill in missing *Age* values with the mean age for passengers with the same title."
      ],
      "metadata": {
        "_uuid": "c8d611d693057d4c9694cc8a2e7953a97bbc4ae6",
        "id": "nvB9k3bMRfjG"
      }
    },
    {
      "cell_type": "code",
      "source": [
        "for df in [train_df, test_df]:\n",
        "    df['Title'] = df['Name'].str.split(',').str[1].str.split(' ').str[1]\n",
        "    df['Deck'] = df['Cabin'].str[0]\n",
        "\n",
        "# find mean age for each Title across train and test data sets\n",
        "all_df = pd.concat([train_df, test_df], sort=False)\n",
        "mean_age_by_title = all_df.groupby('Title').mean()['Age']\n",
        "# update missing ages\n",
        "for df in [train_df, test_df]:\n",
        "    for title, age in mean_age_by_title.iteritems():\n",
        "        df.loc[df['Age'].isnull() & (df['Title'] == title), 'Age'] = age"
      ],
      "metadata": {
        "_uuid": "f0b6005d49e96e6bcc68c9c823e8d9e0ea3575f7",
        "trusted": true,
        "id": "dIuNNXOERfjH"
      },
      "execution_count": 39,
      "outputs": []
    },
    {
      "cell_type": "code",
      "source": [
        "test_df.Fare.fillna(0,inplace=True)"
      ],
      "metadata": {
        "_uuid": "a5f56cbe0dc5842bdf849171508d0e4f7a27d969",
        "trusted": true,
        "id": "8c7elrKxRfjI"
      },
      "execution_count": 40,
      "outputs": []
    },
    {
      "cell_type": "markdown",
      "source": [
        "\n",
        "## Fastai setup"
      ],
      "metadata": {
        "_uuid": "a2f8db740bd2d83b147cf6502705f1637af5dc79",
        "id": "Jq6BBWxjRfjJ"
      }
    },
    {
      "cell_type": "code",
      "source": [
        "dep_var = 'Survived'\n",
        "cat_names = ['Pclass', 'Sex', 'Embarked', 'Title', 'Deck']\n",
        "cont_names = ['Age', 'Fare', 'SibSp', 'Parch']\n",
        "procs = [FillMissing,Categorify, Normalize] #, "
      ],
      "metadata": {
        "id": "YnBISX1zTe3W"
      },
      "execution_count": 41,
      "outputs": []
    },
    {
      "cell_type": "markdown",
      "source": [
        "The last part is the list of pre-processors we apply to our data:\n",
        "\n",
        "1. `Categorify` is going to take every categorical variable and make a map from integer to unique categories, then replace the values by the corresponding index.\n",
        "2. `FillMissing` will fill the missing values in the continuous variables by the median of existing values (you can choose a specific value if you prefer)\n",
        "3. `Normalize` will normalize the continuous variables (subtract the mean and divide by the std)\n"
      ],
      "metadata": {
        "id": "9_ek9EyytTG2"
      }
    },
    {
      "cell_type": "code",
      "source": [
        "splits = RandomSplitter(valid_pct=0.2)(range_of(train_df))\n",
        "to = TabularPandas(train_df, procs=[Categorify, FillMissing,Normalize],\n",
        "                   cat_names=cat_names ,\n",
        "                   cont_names = cont_names,\n",
        "                   y_names=dep_var,\n",
        "                   splits=splits,\n",
        "                   y_block = CategoryBlock) # when y's are 0/1 but we don't want to do regression\n",
        "dls = to.dataloaders(bs=64) # dataloaders"
      ],
      "metadata": {
        "id": "np9Vfr6tVPSk"
      },
      "execution_count": 42,
      "outputs": []
    },
    {
      "cell_type": "markdown",
      "source": [
        "Build learner, which is a multi-layer neural network, and includes layers for categorical embedding."
      ],
      "metadata": {
        "id": "tOm-FDVSncpu"
      }
    },
    {
      "cell_type": "code",
      "source": [
        "learn = tabular_learner(dls, metrics=accuracy)"
      ],
      "metadata": {
        "id": "gfi-1E0RXYd8"
      },
      "execution_count": 43,
      "outputs": []
    },
    {
      "cell_type": "markdown",
      "source": [
        "`learn.model` does a preview of the model. `LinBnDrop` is a module grouping three components: `BatchNorm1d`, `Dropout` and Linear layers"
      ],
      "metadata": {
        "id": "SsrPBI7Vyffe"
      }
    },
    {
      "cell_type": "code",
      "source": [
        "learn.model"
      ],
      "metadata": {
        "id": "meyR8wS7nxJv",
        "outputId": "efdc4c81-9f6a-452e-fe4e-19f508de8699",
        "colab": {
          "base_uri": "https://localhost:8080/"
        }
      },
      "execution_count": 44,
      "outputs": [
        {
          "output_type": "execute_result",
          "data": {
            "text/plain": [
              "TabularModel(\n",
              "  (embeds): ModuleList(\n",
              "    (0): Embedding(4, 3)\n",
              "    (1): Embedding(3, 3)\n",
              "    (2): Embedding(4, 3)\n",
              "    (3): Embedding(18, 8)\n",
              "    (4): Embedding(9, 5)\n",
              "  )\n",
              "  (emb_drop): Dropout(p=0.0, inplace=False)\n",
              "  (bn_cont): BatchNorm1d(4, eps=1e-05, momentum=0.1, affine=True, track_running_stats=True)\n",
              "  (layers): Sequential(\n",
              "    (0): LinBnDrop(\n",
              "      (0): Linear(in_features=26, out_features=200, bias=False)\n",
              "      (1): ReLU(inplace=True)\n",
              "      (2): BatchNorm1d(200, eps=1e-05, momentum=0.1, affine=True, track_running_stats=True)\n",
              "    )\n",
              "    (1): LinBnDrop(\n",
              "      (0): Linear(in_features=200, out_features=100, bias=False)\n",
              "      (1): ReLU(inplace=True)\n",
              "      (2): BatchNorm1d(100, eps=1e-05, momentum=0.1, affine=True, track_running_stats=True)\n",
              "    )\n",
              "    (2): LinBnDrop(\n",
              "      (0): Linear(in_features=100, out_features=2, bias=True)\n",
              "    )\n",
              "  )\n",
              ")"
            ]
          },
          "metadata": {},
          "execution_count": 44
        }
      ]
    },
    {
      "cell_type": "markdown",
      "source": [
        "### Let's look at the categorical embedding part of the network:"
      ],
      "metadata": {
        "id": "I6zlnLEUkgsS"
      }
    },
    {
      "cell_type": "markdown",
      "source": [
        "For fundamentals, see paper \"Entity Embeddings of Categorical Variables\" https://arxiv.org/abs/1604.06737. "
      ],
      "metadata": {
        "id": "bRu_nkOBKsYw"
      }
    },
    {
      "cell_type": "code",
      "source": [
        "print(cat_names)\n",
        "print('number categories for Title:',len(train_df['Title'].unique()),train_df['Title'].unique()) # same as list(train_df['Title'].astype('category').cat.categories.values)\n",
        "print('number categories for Deck:',len(train_df['Deck'].unique()),train_df['Deck'].unique())\n",
        "print(learn.model.embeds) # one row per categorial variable Notice that: cat_names = ['Pclass', 'Sex', 'Embarked', 'Title', 'Deck']"
      ],
      "metadata": {
        "id": "9bKdaXHGyUvt",
        "outputId": "2a042162-1777-45c9-c680-ebcb6efc70b6",
        "colab": {
          "base_uri": "https://localhost:8080/"
        }
      },
      "execution_count": 45,
      "outputs": [
        {
          "output_type": "stream",
          "name": "stdout",
          "text": [
            "['Pclass', 'Sex', 'Embarked', 'Title', 'Deck']\n",
            "number categories for Title: 17 ['Mr.' 'Mrs.' 'Miss.' 'Master.' 'Don.' 'Rev.' 'Dr.' 'Mme.' 'Ms.' 'Major.'\n",
            " 'Lady.' 'Sir.' 'Mlle.' 'Col.' 'Capt.' 'the' 'Jonkheer.']\n",
            "number categories for Deck: 9 [nan 'C' 'E' 'G' 'D' 'A' 'B' 'F' 'T']\n",
            "ModuleList(\n",
            "  (0): Embedding(4, 3)\n",
            "  (1): Embedding(3, 3)\n",
            "  (2): Embedding(4, 3)\n",
            "  (3): Embedding(18, 8)\n",
            "  (4): Embedding(9, 5)\n",
            ")\n"
          ]
        }
      ]
    },
    {
      "cell_type": "markdown",
      "source": [
        "Method `lr_find` helps to find a good learning rate. "
      ],
      "metadata": {
        "id": "NvIo8zv6wfmU"
      }
    },
    {
      "cell_type": "code",
      "source": [
        "learn.lr_find()"
      ],
      "metadata": {
        "_uuid": "b47aca0422adf3296ee516ad8f28b85bb54a6fd5",
        "trusted": true,
        "colab": {
          "base_uri": "https://localhost:8080/",
          "height": 301
        },
        "id": "FlWFRiuvRfjN",
        "outputId": "a0026447-b5a8-4073-e8cc-573644f6fd4f"
      },
      "execution_count": 49,
      "outputs": [
        {
          "output_type": "display_data",
          "data": {
            "text/plain": [
              "<IPython.core.display.HTML object>"
            ],
            "text/html": [
              "\n",
              "<style>\n",
              "    /* Turns off some styling */\n",
              "    progress {\n",
              "        /* gets rid of default border in Firefox and Opera. */\n",
              "        border: none;\n",
              "        /* Needs to be in here for Safari polyfill so background images work as expected. */\n",
              "        background-size: auto;\n",
              "    }\n",
              "    progress:not([value]), progress:not([value])::-webkit-progress-bar {\n",
              "        background: repeating-linear-gradient(45deg, #7e7e7e, #7e7e7e 10px, #5c5c5c 10px, #5c5c5c 20px);\n",
              "    }\n",
              "    .progress-bar-interrupted, .progress-bar-interrupted::-webkit-progress-bar {\n",
              "        background: #F44336;\n",
              "    }\n",
              "</style>\n"
            ]
          },
          "metadata": {}
        },
        {
          "output_type": "display_data",
          "data": {
            "text/plain": [
              "<IPython.core.display.HTML object>"
            ],
            "text/html": []
          },
          "metadata": {}
        },
        {
          "output_type": "execute_result",
          "data": {
            "text/plain": [
              "SuggestedLRs(valley=0.0010000000474974513)"
            ]
          },
          "metadata": {},
          "execution_count": 49
        },
        {
          "output_type": "display_data",
          "data": {
            "text/plain": [
              "<Figure size 432x288 with 1 Axes>"
            ],
            "image/png": "[encoded data removed]"
          },
          "metadata": {
            "needs_background": "light"
          }
        }
      ]
    },
    {
      "cell_type": "code",
      "source": [
        "learn.fit_one_cycle(12, 3e-3)"
      ],
      "metadata": {
        "_uuid": "2c33d5d95438a4414bf808b46102e0a52483dd60",
        "trusted": true,
        "id": "qG1cmElDRfjP",
        "outputId": "1afa5e86-efb1-4e00-c431-d0d58cdea402",
        "colab": {
          "base_uri": "https://localhost:8080/",
          "height": 425
        }
      },
      "execution_count": 50,
      "outputs": [
        {
          "output_type": "display_data",
          "data": {
            "text/plain": [
              "<IPython.core.display.HTML object>"
            ],
            "text/html": [
              "\n",
              "<style>\n",
              "    /* Turns off some styling */\n",
              "    progress {\n",
              "        /* gets rid of default border in Firefox and Opera. */\n",
              "        border: none;\n",
              "        /* Needs to be in here for Safari polyfill so background images work as expected. */\n",
              "        background-size: auto;\n",
              "    }\n",
              "    progress:not([value]), progress:not([value])::-webkit-progress-bar {\n",
              "        background: repeating-linear-gradient(45deg, #7e7e7e, #7e7e7e 10px, #5c5c5c 10px, #5c5c5c 20px);\n",
              "    }\n",
              "    .progress-bar-interrupted, .progress-bar-interrupted::-webkit-progress-bar {\n",
              "        background: #F44336;\n",
              "    }\n",
              "</style>\n"
            ]
          },
          "metadata": {}
        },
        {
          "output_type": "display_data",
          "data": {
            "text/plain": [
              "<IPython.core.display.HTML object>"
            ],
            "text/html": [
              "<table border=\"1\" class=\"dataframe\">\n",
              "  <thead>\n",
              "    <tr style=\"text-align: left;\">\n",
              "      <th>epoch</th>\n",
              "      <th>train_loss</th>\n",
              "      <th>valid_loss</th>\n",
              "      <th>accuracy</th>\n",
              "      <th>time</th>\n",
              "    </tr>\n",
              "  </thead>\n",
              "  <tbody>\n",
              "    <tr>\n",
              "      <td>0</td>\n",
              "      <td>0.708359</td>\n",
              "      <td>0.671368</td>\n",
              "      <td>0.702247</td>\n",
              "      <td>00:00</td>\n",
              "    </tr>\n",
              "    <tr>\n",
              "      <td>1</td>\n",
              "      <td>0.651469</td>\n",
              "      <td>0.618957</td>\n",
              "      <td>0.719101</td>\n",
              "      <td>00:00</td>\n",
              "    </tr>\n",
              "    <tr>\n",
              "      <td>2</td>\n",
              "      <td>0.604516</td>\n",
              "      <td>0.563037</td>\n",
              "      <td>0.797753</td>\n",
              "      <td>00:00</td>\n",
              "    </tr>\n",
              "    <tr>\n",
              "      <td>3</td>\n",
              "      <td>0.555645</td>\n",
              "      <td>0.436380</td>\n",
              "      <td>0.831461</td>\n",
              "      <td>00:00</td>\n",
              "    </tr>\n",
              "    <tr>\n",
              "      <td>4</td>\n",
              "      <td>0.519999</td>\n",
              "      <td>0.435738</td>\n",
              "      <td>0.825843</td>\n",
              "      <td>00:00</td>\n",
              "    </tr>\n",
              "    <tr>\n",
              "      <td>5</td>\n",
              "      <td>0.489505</td>\n",
              "      <td>0.393294</td>\n",
              "      <td>0.859551</td>\n",
              "      <td>00:00</td>\n",
              "    </tr>\n",
              "    <tr>\n",
              "      <td>6</td>\n",
              "      <td>0.461720</td>\n",
              "      <td>0.433313</td>\n",
              "      <td>0.825843</td>\n",
              "      <td>00:00</td>\n",
              "    </tr>\n",
              "    <tr>\n",
              "      <td>7</td>\n",
              "      <td>0.438998</td>\n",
              "      <td>0.406155</td>\n",
              "      <td>0.831461</td>\n",
              "      <td>00:00</td>\n",
              "    </tr>\n",
              "    <tr>\n",
              "      <td>8</td>\n",
              "      <td>0.423954</td>\n",
              "      <td>0.417952</td>\n",
              "      <td>0.825843</td>\n",
              "      <td>00:00</td>\n",
              "    </tr>\n",
              "    <tr>\n",
              "      <td>9</td>\n",
              "      <td>0.408723</td>\n",
              "      <td>0.410557</td>\n",
              "      <td>0.831461</td>\n",
              "      <td>00:00</td>\n",
              "    </tr>\n",
              "    <tr>\n",
              "      <td>10</td>\n",
              "      <td>0.394670</td>\n",
              "      <td>0.407870</td>\n",
              "      <td>0.842697</td>\n",
              "      <td>00:00</td>\n",
              "    </tr>\n",
              "    <tr>\n",
              "      <td>11</td>\n",
              "      <td>0.382585</td>\n",
              "      <td>0.408009</td>\n",
              "      <td>0.842697</td>\n",
              "      <td>00:00</td>\n",
              "    </tr>\n",
              "  </tbody>\n",
              "</table>"
            ]
          },
          "metadata": {}
        }
      ]
    },
    {
      "cell_type": "markdown",
      "source": [
        "### Replace each categorical value with its embedding vector"
      ],
      "metadata": {
        "id": "jfl6IO8nHzJ4"
      }
    },
    {
      "cell_type": "code",
      "source": [
        "# from https://towardsdatascience.com/entity-embeddings-for-ml-2387eb68e49\n",
        "def embed_features(learner, xs):\n",
        "  \"\"\"\n",
        "  learner: fastai Learner used to train the neural net\n",
        "  xs: DataFrame containing input variables. Categorical values are defined by their rank. \n",
        " ::return:: copy of `xs` with embeddings replacing each categorical variable\n",
        "  \"\"\"\n",
        "  xs = xs.copy()\n",
        "  for i,col in enumerate(learn.dls.cat_names):\n",
        "    \n",
        "    # get matrix containing each row's embedding vector\n",
        "    emb = learn.model.embeds[i]\n",
        "    emb_data = emb(tensor(xs[col], dtype=torch.int64))\n",
        "    emb_names = [f'{col}_{j}' for j in range(emb_data.shape[1])]\n",
        "    \n",
        "    # join the embedded category and drop the old feature column\n",
        "    feat_df = pd.DataFrame(data=emb_data, index=xs.index,               \n",
        "                           columns=emb_names)\n",
        "    xs = xs.drop(col, axis=1)\n",
        "    xs = xs.join(feat_df)\n",
        "  return xs\n",
        "# show embeddings and raw (original) variables\n",
        "emb_xs = embed_features(learn, to.train.xs)\n",
        "emb_valid_xs = embed_features(learn, to.valid.xs)\n",
        "print(emb_xs.iloc[10:13,~emb_xs.columns.isin(cont_names)])\n",
        "print(train_df.iloc[10:13][cat_names])"
      ],
      "metadata": {
        "id": "spx4rqvrH2JP",
        "outputId": "4aa3eba7-6906-4853-e4ce-4157f3194de6",
        "colab": {
          "base_uri": "https://localhost:8080/"
        }
      },
      "execution_count": 60,
      "outputs": [
        {
          "output_type": "stream",
          "name": "stdout",
          "text": [
            "     Pclass_0  Pclass_1  Pclass_2     Sex_0     Sex_1     Sex_2  Embarked_0  \\\n",
            "329  0.016154  0.027703 -0.057759 -0.000096 -0.077475  0.045721   -0.032906   \n",
            "51  -0.081369 -0.077758  0.031915 -0.011552  0.075211 -0.027828    0.081670   \n",
            "686 -0.081369 -0.077758  0.031915 -0.011552  0.075211 -0.027828    0.081670   \n",
            "\n",
            "     Embarked_1  Embarked_2   Title_0  ...   Title_3   Title_4   Title_5  \\\n",
            "329   -0.064216   -0.020136 -0.030789  ... -0.013691  0.031218 -0.039581   \n",
            "51     0.100738    0.051312  0.037990  ...  0.024014 -0.071359  0.079379   \n",
            "686    0.100738    0.051312  0.037990  ...  0.024014 -0.071359  0.079379   \n",
            "\n",
            "      Title_6   Title_7    Deck_0    Deck_1    Deck_2    Deck_3    Deck_4  \n",
            "329 -0.041678  0.057879 -0.062189 -0.023758  0.037893 -0.013975 -0.050820  \n",
            "51   0.063102 -0.062744 -0.005367 -0.049751 -0.073628 -0.075337 -0.035496  \n",
            "686  0.063102 -0.062744 -0.005367 -0.049751 -0.073628 -0.075337 -0.035496  \n",
            "\n",
            "[3 rows x 22 columns]\n",
            "    Pclass     Sex Embarked  Title Deck\n",
            "10       3  female        S  Miss.    G\n",
            "11       1  female        S  Miss.    C\n",
            "12       3    male        S    Mr.  NaN\n"
          ]
        }
      ]
    },
    {
      "cell_type": "code",
      "source": [],
      "metadata": {
        "id": "6-DIemhTJnT-"
      },
      "execution_count": null,
      "outputs": []
    }
  ]
}