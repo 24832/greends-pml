{
  "metadata": {
    "kernelspec": {
      "display_name": "Python 3",
      "language": "python",
      "name": "python3"
    },
    "language_info": {
      "name": "python",
      "version": "3.6.6",
      "mimetype": "text/x-python",
      "codemirror_mode": {
        "name": "ipython",
        "version": 3
      },
      "pygments_lexer": "ipython3",
      "nbconvert_exporter": "python",
      "file_extension": ".py"
    },
    "colab": {
      "provenance": [],
      "include_colab_link": true
    }
  },
  "nbformat_minor": 0,
  "nbformat": 4,
  "cells": [
    {
      "cell_type": "markdown",
      "metadata": {
        "id": "view-in-github",
        "colab_type": "text"
      },
      "source": [
        "<a href=\"https://colab.research.google.com/github/isa-ulisboa/greends-pml/blob/main/fast_ai_titanic.ipynb\" target=\"_parent\"><img src=\"https://colab.research.google.com/assets/colab-badge.svg\" alt=\"Open In Colab\"/></a>"
      ]
    },
    {
      "cell_type": "markdown",
      "source": [
        "# Predicting survival of Titanic passengers"
      ],
      "metadata": {
        "_uuid": "6e7c0bacbf94d39e845c423e073d01f40ef5ce06",
        "id": "bF513y3hRfi-"
      }
    },
    {
      "cell_type": "markdown",
      "source": [
        "Need at least v1.0.25 of `fastai` so update default Kaggle version."
      ],
      "metadata": {
        "_uuid": "81a20fb7ee1cb21b0afb64b5fb2a589f1385993b",
        "id": "aAi3P6EjRfjA"
      }
    },
    {
      "cell_type": "code",
      "source": [
        "!pip install -q fastai --upgrade"
      ],
      "metadata": {
        "_kg_hide-output": true,
        "_uuid": "b5c0e126fb04084d9410e604710ea8b631adf512",
        "trusted": true,
        "id": "5ZHM4jeORfjB"
      },
      "execution_count": 7,
      "outputs": []
    },
    {
      "cell_type": "code",
      "source": [
        "from fastai import *\n",
        "from fastai.tabular import *"
      ],
      "metadata": {
        "_uuid": "478f17b598c34f2b041aea49e948fd094e73e389",
        "trusted": true,
        "id": "_bMtDRpFRfjD"
      },
      "execution_count": 21,
      "outputs": []
    },
    {
      "cell_type": "markdown",
      "source": [
        "## Load data"
      ],
      "metadata": {
        "_uuid": "781c1e7cdfd6cece063566237384553f507f5deb",
        "id": "xUox0AQGRfjE"
      }
    },
    {
      "cell_type": "code",
      "source": [
        "import pandas as pd\n",
        "#path = Path('/content/drive/MyDrive/AAA/Lesson_5/titanic_data')\n",
        "train_df = pd.read_csv('/content/drive/MyDrive/AAA/Lesson_5/titanic_data/train.csv')\n",
        "test_df = pd.read_csv('/content/drive/MyDrive/AAA/Lesson_5/titanic_data/test.csv')"
      ],
      "metadata": {
        "_uuid": "b9e4798c15c7a87d5226e0f26a643fc8875235f3",
        "trusted": true,
        "id": "2YdyzKnORfjF"
      },
      "execution_count": 41,
      "outputs": []
    },
    {
      "cell_type": "markdown",
      "source": [
        "## Feature engineering\n",
        "- Extract *Title* from the name colum. \n",
        "- Extract *Deck* from the first character of the cabin number.\n",
        "- Fill in missing *Age* values with the mean age for passengers with the same title."
      ],
      "metadata": {
        "_uuid": "c8d611d693057d4c9694cc8a2e7953a97bbc4ae6",
        "id": "nvB9k3bMRfjG"
      }
    },
    {
      "cell_type": "code",
      "source": [
        "for df in [train_df, test_df]:\n",
        "    df['Title'] = df['Name'].str.split(',').str[1].str.split(' ').str[1]\n",
        "    df['Deck'] = df['Cabin'].str[0]\n",
        "\n",
        "# find mean age for each Title across train and test data sets\n",
        "all_df = pd.concat([train_df, test_df], sort=False)\n",
        "mean_age_by_title = all_df.groupby('Title').mean()['Age']\n",
        "# update missing ages\n",
        "for df in [train_df, test_df]:\n",
        "    for title, age in mean_age_by_title.iteritems():\n",
        "        df.loc[df['Age'].isnull() & (df['Title'] == title), 'Age'] = age"
      ],
      "metadata": {
        "_uuid": "f0b6005d49e96e6bcc68c9c823e8d9e0ea3575f7",
        "trusted": true,
        "id": "dIuNNXOERfjH"
      },
      "execution_count": 42,
      "outputs": []
    },
    {
      "cell_type": "code",
      "source": [
        "test_df.Fare.fillna(0,inplace=True)"
      ],
      "metadata": {
        "_uuid": "a5f56cbe0dc5842bdf849171508d0e4f7a27d969",
        "trusted": true,
        "id": "8c7elrKxRfjI"
      },
      "execution_count": 43,
      "outputs": []
    },
    {
      "cell_type": "markdown",
      "source": [
        "\n",
        "## Fastai setup"
      ],
      "metadata": {
        "_uuid": "a2f8db740bd2d83b147cf6502705f1637af5dc79",
        "id": "Jq6BBWxjRfjJ"
      }
    },
    {
      "cell_type": "code",
      "source": [
        "from fastai.tabular.all import *\n",
        "dep_var = 'Survived'\n",
        "cat_names = ['Pclass', 'Sex', 'Embarked', 'Title', 'Deck']\n",
        "cont_names = ['Age', 'Fare', 'SibSp', 'Parch']\n",
        "procs = [FillMissing,Categorify, Normalize] #, "
      ],
      "metadata": {
        "id": "YnBISX1zTe3W"
      },
      "execution_count": 38,
      "outputs": []
    },
    {
      "cell_type": "code",
      "source": [
        "splits = RandomSplitter(valid_pct=0.2)(range_of(df))\n",
        "to = TabularPandas(train_df, procs=[Categorify, FillMissing,Normalize],\n",
        "                   cat_names=cat_names ,\n",
        "                   cont_names = cont_names,\n",
        "                   y_names=dep_var,\n",
        "                   splits=splits)"
      ],
      "metadata": {
        "id": "np9Vfr6tVPSk"
      },
      "execution_count": 46,
      "outputs": []
    },
    {
      "cell_type": "code",
      "source": [
        "dls = to.dataloaders(bs=64)"
      ],
      "metadata": {
        "id": "Y4wABvZzXN_n"
      },
      "execution_count": 47,
      "outputs": []
    },
    {
      "cell_type": "code",
      "source": [
        "dls.show_batch()"
      ],
      "metadata": {
        "id": "aVr6FQUlXQuX"
      },
      "execution_count": null,
      "outputs": []
    },
    {
      "cell_type": "code",
      "source": [
        "learn = tabular_learner(dls, metrics=accuracy)"
      ],
      "metadata": {
        "id": "gfi-1E0RXYd8"
      },
      "execution_count": 49,
      "outputs": []
    },
    {
      "cell_type": "code",
      "source": [
        "learn.lr_find()"
      ],
      "metadata": {
        "_uuid": "b47aca0422adf3296ee516ad8f28b85bb54a6fd5",
        "trusted": true,
        "colab": {
          "base_uri": "https://localhost:8080/",
          "height": 300
        },
        "id": "FlWFRiuvRfjN",
        "outputId": "c71044b0-658a-435b-fdeb-0c133e86ca81"
      },
      "execution_count": 50,
      "outputs": [
        {
          "output_type": "display_data",
          "data": {
            "text/plain": [
              "<IPython.core.display.HTML object>"
            ],
            "text/html": [
              "\n",
              "<style>\n",
              "    /* Turns off some styling */\n",
              "    progress {\n",
              "        /* gets rid of default border in Firefox and Opera. */\n",
              "        border: none;\n",
              "        /* Needs to be in here for Safari polyfill so background images work as expected. */\n",
              "        background-size: auto;\n",
              "    }\n",
              "    progress:not([value]), progress:not([value])::-webkit-progress-bar {\n",
              "        background: repeating-linear-gradient(45deg, #7e7e7e, #7e7e7e 10px, #5c5c5c 10px, #5c5c5c 20px);\n",
              "    }\n",
              "    .progress-bar-interrupted, .progress-bar-interrupted::-webkit-progress-bar {\n",
              "        background: #F44336;\n",
              "    }\n",
              "</style>\n"
            ]
          },
          "metadata": {}
        },
        {
          "output_type": "display_data",
          "data": {
            "text/plain": [
              "<IPython.core.display.HTML object>"
            ],
            "text/html": []
          },
          "metadata": {}
        },
        {
          "output_type": "execute_result",
          "data": {
            "text/plain": [
              "SuggestedLRs(valley=0.0010000000474974513)"
            ]
          },
          "metadata": {},
          "execution_count": 50
        },
        {
          "output_type": "display_data",
          "data": {
            "text/plain": [
              "<Figure size 432x288 with 1 Axes>"
            ],
            "image/png": "[encoded data removed]"
          },
          "metadata": {
            "needs_background": "light"
          }
        }
      ]
    },
    {
      "cell_type": "code",
      "source": [
        "learn.fit(15, 1e-2)"
      ],
      "metadata": {
        "_uuid": "2c33d5d95438a4414bf808b46102e0a52483dd60",
        "trusted": true,
        "id": "qG1cmElDRfjP"
      },
      "execution_count": null,
      "outputs": []
    }
  ]
}