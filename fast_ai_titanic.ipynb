{
  "metadata": {
    "kernelspec": {
      "display_name": "Python 3",
      "language": "python",
      "name": "python3"
    },
    "language_info": {
      "name": "python",
      "version": "3.6.6",
      "mimetype": "text/x-python",
      "codemirror_mode": {
        "name": "ipython",
        "version": 3
      },
      "pygments_lexer": "ipython3",
      "nbconvert_exporter": "python",
      "file_extension": ".py"
    },
    "colab": {
      "provenance": [],
      "include_colab_link": true
    }
  },
  "nbformat_minor": 0,
  "nbformat": 4,
  "cells": [
    {
      "cell_type": "markdown",
      "metadata": {
        "id": "view-in-github",
        "colab_type": "text"
      },
      "source": [
        "<a href=\"https://colab.research.google.com/github/isa-ulisboa/greends-pml/blob/main/fast_ai_titanic.ipynb\" target=\"_parent\"><img src=\"https://colab.research.google.com/assets/colab-badge.svg\" alt=\"Open In Colab\"/></a>"
      ]
    },
    {
      "cell_type": "markdown",
      "source": [
        "# Predicting survival of Titanic passengers"
      ],
      "metadata": {
        "_uuid": "6e7c0bacbf94d39e845c423e073d01f40ef5ce06",
        "id": "bF513y3hRfi-"
      }
    },
    {
      "cell_type": "markdown",
      "source": [
        "Works with fastai version 2.7.11"
      ],
      "metadata": {
        "id": "2M0eWqp7wS9z"
      }
    },
    {
      "cell_type": "code",
      "source": [
        "#!pip install -q fastai --upgrade\n",
        "\n"
      ],
      "metadata": {
        "_kg_hide-output": true,
        "_uuid": "b5c0e126fb04084d9410e604710ea8b631adf512",
        "trusted": true,
        "id": "5ZHM4jeORfjB"
      },
      "execution_count": 25,
      "outputs": []
    },
    {
      "cell_type": "code",
      "source": [
        "import fastai\n",
        "print(fastai.__version__)"
      ],
      "metadata": {
        "id": "k48bUP5TwH4d",
        "outputId": "85da6456-5127-4d04-893a-bbe1b0fce0ea",
        "colab": {
          "base_uri": "https://localhost:8080/"
        }
      },
      "execution_count": 26,
      "outputs": [
        {
          "output_type": "stream",
          "name": "stdout",
          "text": [
            "2.7.12\n"
          ]
        }
      ]
    },
    {
      "cell_type": "code",
      "source": [
        "from fastai import *\n",
        "from fastai.tabular.all import *\n",
        "import pandas as pd"
      ],
      "metadata": {
        "_uuid": "478f17b598c34f2b041aea49e948fd094e73e389",
        "trusted": true,
        "id": "_bMtDRpFRfjD"
      },
      "execution_count": 27,
      "outputs": []
    },
    {
      "cell_type": "code",
      "source": [
        "from google.colab import drive\n",
        "drive.mount('/content/drive')"
      ],
      "metadata": {
        "id": "aqU8seKijb66",
        "outputId": "372ca8da-c314-42a2-b3a7-bf47de3d726a",
        "colab": {
          "base_uri": "https://localhost:8080/"
        }
      },
      "execution_count": 28,
      "outputs": [
        {
          "output_type": "stream",
          "name": "stdout",
          "text": [
            "Drive already mounted at /content/drive; to attempt to forcibly remount, call drive.mount(\"/content/drive\", force_remount=True).\n"
          ]
        }
      ]
    },
    {
      "cell_type": "markdown",
      "source": [
        "## Load data"
      ],
      "metadata": {
        "_uuid": "781c1e7cdfd6cece063566237384553f507f5deb",
        "id": "xUox0AQGRfjE"
      }
    },
    {
      "cell_type": "code",
      "source": [
        "train_df = pd.read_csv('/content/drive/MyDrive/AAA/Lesson_5/titanic_data/train.csv')\n",
        "test_df = pd.read_csv('/content/drive/MyDrive/AAA/Lesson_5/titanic_data/test.csv')\n",
        "print(train_df.shape,test_df.shape)\n",
        "train_df.head()"
      ],
      "metadata": {
        "_uuid": "b9e4798c15c7a87d5226e0f26a643fc8875235f3",
        "trusted": true,
        "id": "2YdyzKnORfjF",
        "outputId": "232c68f6-3d46-4eeb-bac8-6650a181e6e6",
        "colab": {
          "base_uri": "https://localhost:8080/",
          "height": 223
        }
      },
      "execution_count": 29,
      "outputs": [
        {
          "output_type": "stream",
          "name": "stdout",
          "text": [
            "(891, 12) (418, 11)\n"
          ]
        },
        {
          "output_type": "execute_result",
          "data": {
            "text/plain": [
              "   PassengerId  Survived  Pclass  \\\n",
              "0            1         0       3   \n",
              "1            2         1       1   \n",
              "2            3         1       3   \n",
              "3            4         1       1   \n",
              "4            5         0       3   \n",
              "\n",
              "                                                  Name     Sex   Age  SibSp  \\\n",
              "0                              Braund, Mr. Owen Harris    male  22.0      1   \n",
              "1  Cumings, Mrs. John Bradley (Florence Briggs Thayer)  female  38.0      1   \n",
              "2                               Heikkinen, Miss. Laina  female  26.0      0   \n",
              "3         Futrelle, Mrs. Jacques Heath (Lily May Peel)  female  35.0      1   \n",
              "4                             Allen, Mr. William Henry    male  35.0      0   \n",
              "\n",
              "   Parch            Ticket     Fare Cabin Embarked  \n",
              "0      0         A/5 21171   7.2500   NaN        S  \n",
              "1      0          PC 17599  71.2833   C85        C  \n",
              "2      0  STON/O2. 3101282   7.9250   NaN        S  \n",
              "3      0            113803  53.1000  C123        S  \n",
              "4      0            373450   8.0500   NaN        S  "
            ],
            "text/html": [
              "\n",
              "  <div id=\"df-d7759b20-9281-4df0-9c2a-f251285295ad\">\n",
              "    <div class=\"colab-df-container\">\n",
              "      <div>\n",
              "<style scoped>\n",
              "    .dataframe tbody tr th:only-of-type {\n",
              "        vertical-align: middle;\n",
              "    }\n",
              "\n",
              "    .dataframe tbody tr th {\n",
              "        vertical-align: top;\n",
              "    }\n",
              "\n",
              "    .dataframe thead th {\n",
              "        text-align: right;\n",
              "    }\n",
              "</style>\n",
              "<table border=\"1\" class=\"dataframe\">\n",
              "  <thead>\n",
              "    <tr style=\"text-align: right;\">\n",
              "      <th></th>\n",
              "      <th>PassengerId</th>\n",
              "      <th>Survived</th>\n",
              "      <th>Pclass</th>\n",
              "      <th>Name</th>\n",
              "      <th>Sex</th>\n",
              "      <th>Age</th>\n",
              "      <th>SibSp</th>\n",
              "      <th>Parch</th>\n",
              "      <th>Ticket</th>\n",
              "      <th>Fare</th>\n",
              "      <th>Cabin</th>\n",
              "      <th>Embarked</th>\n",
              "    </tr>\n",
              "  </thead>\n",
              "  <tbody>\n",
              "    <tr>\n",
              "      <th>0</th>\n",
              "      <td>1</td>\n",
              "      <td>0</td>\n",
              "      <td>3</td>\n",
              "      <td>Braund, Mr. Owen Harris</td>\n",
              "      <td>male</td>\n",
              "      <td>22.0</td>\n",
              "      <td>1</td>\n",
              "      <td>0</td>\n",
              "      <td>A/5 21171</td>\n",
              "      <td>7.2500</td>\n",
              "      <td>NaN</td>\n",
              "      <td>S</td>\n",
              "    </tr>\n",
              "    <tr>\n",
              "      <th>1</th>\n",
              "      <td>2</td>\n",
              "      <td>1</td>\n",
              "      <td>1</td>\n",
              "      <td>Cumings, Mrs. John Bradley (Florence Briggs Thayer)</td>\n",
              "      <td>female</td>\n",
              "      <td>38.0</td>\n",
              "      <td>1</td>\n",
              "      <td>0</td>\n",
              "      <td>PC 17599</td>\n",
              "      <td>71.2833</td>\n",
              "      <td>C85</td>\n",
              "      <td>C</td>\n",
              "    </tr>\n",
              "    <tr>\n",
              "      <th>2</th>\n",
              "      <td>3</td>\n",
              "      <td>1</td>\n",
              "      <td>3</td>\n",
              "      <td>Heikkinen, Miss. Laina</td>\n",
              "      <td>female</td>\n",
              "      <td>26.0</td>\n",
              "      <td>0</td>\n",
              "      <td>0</td>\n",
              "      <td>STON/O2. 3101282</td>\n",
              "      <td>7.9250</td>\n",
              "      <td>NaN</td>\n",
              "      <td>S</td>\n",
              "    </tr>\n",
              "    <tr>\n",
              "      <th>3</th>\n",
              "      <td>4</td>\n",
              "      <td>1</td>\n",
              "      <td>1</td>\n",
              "      <td>Futrelle, Mrs. Jacques Heath (Lily May Peel)</td>\n",
              "      <td>female</td>\n",
              "      <td>35.0</td>\n",
              "      <td>1</td>\n",
              "      <td>0</td>\n",
              "      <td>113803</td>\n",
              "      <td>53.1000</td>\n",
              "      <td>C123</td>\n",
              "      <td>S</td>\n",
              "    </tr>\n",
              "    <tr>\n",
              "      <th>4</th>\n",
              "      <td>5</td>\n",
              "      <td>0</td>\n",
              "      <td>3</td>\n",
              "      <td>Allen, Mr. William Henry</td>\n",
              "      <td>male</td>\n",
              "      <td>35.0</td>\n",
              "      <td>0</td>\n",
              "      <td>0</td>\n",
              "      <td>373450</td>\n",
              "      <td>8.0500</td>\n",
              "      <td>NaN</td>\n",
              "      <td>S</td>\n",
              "    </tr>\n",
              "  </tbody>\n",
              "</table>\n",
              "</div>\n",
              "      <button class=\"colab-df-convert\" onclick=\"convertToInteractive('df-d7759b20-9281-4df0-9c2a-f251285295ad')\"\n",
              "              title=\"Convert this dataframe to an interactive table.\"\n",
              "              style=\"display:none;\">\n",
              "        \n",
              "  <svg xmlns=\"http://www.w3.org/2000/svg\" height=\"24px\"viewBox=\"0 0 24 24\"\n",
              "       width=\"24px\">\n",
              "    <path d=\"M0 0h24v24H0V0z\" fill=\"none\"/>\n",
              "    <path d=\"M18.56 5.44l.94 2.06.94-2.06 2.06-.94-2.06-.94-.94-2.06-.94 2.06-2.06.94zm-11 1L8.5 8.5l.94-2.06 2.06-.94-2.06-.94L8.5 2.5l-.94 2.06-2.06.94zm10 10l.94 2.06.94-2.06 2.06-.94-2.06-.94-.94-2.06-.94 2.06-2.06.94z\"/><path d=\"M17.41 7.96l-1.37-1.37c-.4-.4-.92-.59-1.43-.59-.52 0-1.04.2-1.43.59L10.3 9.45l-7.72 7.72c-.78.78-.78 2.05 0 2.83L4 21.41c.39.39.9.59 1.41.59.51 0 1.02-.2 1.41-.59l7.78-7.78 2.81-2.81c.8-.78.8-2.07 0-2.86zM5.41 20L4 18.59l7.72-7.72 1.47 1.35L5.41 20z\"/>\n",
              "  </svg>\n",
              "      </button>\n",
              "      \n",
              "  <style>\n",
              "    .colab-df-container {\n",
              "      display:flex;\n",
              "      flex-wrap:wrap;\n",
              "      gap: 12px;\n",
              "    }\n",
              "\n",
              "    .colab-df-convert {\n",
              "      background-color: #E8F0FE;\n",
              "      border: none;\n",
              "      border-radius: 50%;\n",
              "      cursor: pointer;\n",
              "      display: none;\n",
              "      fill: #1967D2;\n",
              "      height: 32px;\n",
              "      padding: 0 0 0 0;\n",
              "      width: 32px;\n",
              "    }\n",
              "\n",
              "    .colab-df-convert:hover {\n",
              "      background-color: #E2EBFA;\n",
              "      box-shadow: 0px 1px 2px rgba(60, 64, 67, 0.3), 0px 1px 3px 1px rgba(60, 64, 67, 0.15);\n",
              "      fill: #174EA6;\n",
              "    }\n",
              "\n",
              "    [theme=dark] .colab-df-convert {\n",
              "      background-color: #3B4455;\n",
              "      fill: #D2E3FC;\n",
              "    }\n",
              "\n",
              "    [theme=dark] .colab-df-convert:hover {\n",
              "      background-color: #434B5C;\n",
              "      box-shadow: 0px 1px 3px 1px rgba(0, 0, 0, 0.15);\n",
              "      filter: drop-shadow(0px 1px 2px rgba(0, 0, 0, 0.3));\n",
              "      fill: #FFFFFF;\n",
              "    }\n",
              "  </style>\n",
              "\n",
              "      <script>\n",
              "        const buttonEl =\n",
              "          document.querySelector('#df-d7759b20-9281-4df0-9c2a-f251285295ad button.colab-df-convert');\n",
              "        buttonEl.style.display =\n",
              "          google.colab.kernel.accessAllowed ? 'block' : 'none';\n",
              "\n",
              "        async function convertToInteractive(key) {\n",
              "          const element = document.querySelector('#df-d7759b20-9281-4df0-9c2a-f251285295ad');\n",
              "          const dataTable =\n",
              "            await google.colab.kernel.invokeFunction('convertToInteractive',\n",
              "                                                     [key], {});\n",
              "          if (!dataTable) return;\n",
              "\n",
              "          const docLinkHtml = 'Like what you see? Visit the ' +\n",
              "            '<a target=\"_blank\" href=https://colab.research.google.com/notebooks/data_table.ipynb>data table notebook</a>'\n",
              "            + ' to learn more about interactive tables.';\n",
              "          element.innerHTML = '';\n",
              "          dataTable['output_type'] = 'display_data';\n",
              "          await google.colab.output.renderOutput(dataTable, element);\n",
              "          const docLink = document.createElement('div');\n",
              "          docLink.innerHTML = docLinkHtml;\n",
              "          element.appendChild(docLink);\n",
              "        }\n",
              "      </script>\n",
              "    </div>\n",
              "  </div>\n",
              "  "
            ]
          },
          "metadata": {},
          "execution_count": 29
        }
      ]
    },
    {
      "cell_type": "markdown",
      "source": [
        "## Feature engineering\n",
        "- Extract *Title* from the name colum. \n",
        "- Extract *Deck* from the first character of the cabin number.\n",
        "- Fill in missing *Age* values with the mean age for passengers with the same title."
      ],
      "metadata": {
        "_uuid": "c8d611d693057d4c9694cc8a2e7953a97bbc4ae6",
        "id": "nvB9k3bMRfjG"
      }
    },
    {
      "cell_type": "code",
      "source": [
        "for df in [train_df, test_df]:\n",
        "    df['Title'] = df['Name'].str.split(',').str[1].str.split(' ').str[1]\n",
        "    df['Deck'] = df['Cabin'].str[0]\n",
        "\n",
        "# find mean age for each Title across train and test data sets\n",
        "all_df = pd.concat([train_df, test_df], sort=False)\n",
        "mean_age_by_title = all_df.groupby('Title').mean()['Age']\n",
        "# update missing ages\n",
        "for df in [train_df, test_df]:\n",
        "    for title, age in mean_age_by_title.iteritems():\n",
        "        df.loc[df['Age'].isnull() & (df['Title'] == title), 'Age'] = age"
      ],
      "metadata": {
        "_uuid": "f0b6005d49e96e6bcc68c9c823e8d9e0ea3575f7",
        "trusted": true,
        "id": "dIuNNXOERfjH",
        "outputId": "c9e843e9-36e7-4127-b8ec-4c1d785de5fa",
        "colab": {
          "base_uri": "https://localhost:8080/"
        }
      },
      "execution_count": 30,
      "outputs": [
        {
          "output_type": "stream",
          "name": "stderr",
          "text": [
            "<ipython-input-30-dcf17dc8baed>:7: FutureWarning: The default value of numeric_only in DataFrameGroupBy.mean is deprecated. In a future version, numeric_only will default to False. Either specify numeric_only or select only columns which should be valid for the function.\n",
            "  mean_age_by_title = all_df.groupby('Title').mean()['Age']\n",
            "<ipython-input-30-dcf17dc8baed>:10: FutureWarning: iteritems is deprecated and will be removed in a future version. Use .items instead.\n",
            "  for title, age in mean_age_by_title.iteritems():\n"
          ]
        }
      ]
    },
    {
      "cell_type": "code",
      "source": [
        "test_df.Fare.fillna(0,inplace=True)"
      ],
      "metadata": {
        "_uuid": "a5f56cbe0dc5842bdf849171508d0e4f7a27d969",
        "trusted": true,
        "id": "8c7elrKxRfjI"
      },
      "execution_count": 31,
      "outputs": []
    },
    {
      "cell_type": "markdown",
      "source": [
        "\n",
        "## Fastai setup"
      ],
      "metadata": {
        "_uuid": "a2f8db740bd2d83b147cf6502705f1637af5dc79",
        "id": "Jq6BBWxjRfjJ"
      }
    },
    {
      "cell_type": "code",
      "source": [
        "dep_var = 'Survived'\n",
        "cat_names = ['Pclass', 'Sex', 'Embarked', 'Title', 'Deck']\n",
        "cont_names = ['Age', 'Fare', 'SibSp', 'Parch']\n",
        "procs = [FillMissing,Categorify, Normalize] #, "
      ],
      "metadata": {
        "id": "YnBISX1zTe3W"
      },
      "execution_count": 32,
      "outputs": []
    },
    {
      "cell_type": "markdown",
      "source": [
        "The last part is the list of pre-processors we apply to our data:\n",
        "\n",
        "1. `Categorify` is going to take every categorical variable and make a map from integer to unique categories, then replace the values by the corresponding index.\n",
        "2. `FillMissing` will fill the missing values in the continuous variables by the median of existing values (you can choose a specific value if you prefer)\n",
        "3. `Normalize` will normalize the continuous variables (subtract the mean and divide by the std)\n"
      ],
      "metadata": {
        "id": "9_ek9EyytTG2"
      }
    },
    {
      "cell_type": "code",
      "source": [
        "splits = RandomSplitter(valid_pct=0.2)(range_of(train_df))\n",
        "to = TabularPandas(train_df, procs=[Categorify, FillMissing,Normalize],\n",
        "                   cat_names=cat_names ,\n",
        "                   cont_names = cont_names,\n",
        "                   y_names=dep_var,\n",
        "                   splits=splits,\n",
        "                   y_block = CategoryBlock) # when y's are 0/1 but we don't want to do regression\n",
        "dls = to.dataloaders(bs=64) # dataloaders"
      ],
      "metadata": {
        "id": "np9Vfr6tVPSk"
      },
      "execution_count": 33,
      "outputs": []
    },
    {
      "cell_type": "markdown",
      "source": [
        "Build learner, which is a multi-layer neural network, and includes layers for categorical embedding."
      ],
      "metadata": {
        "id": "tOm-FDVSncpu"
      }
    },
    {
      "cell_type": "code",
      "source": [
        "learn = tabular_learner(dls, metrics=accuracy)"
      ],
      "metadata": {
        "id": "gfi-1E0RXYd8"
      },
      "execution_count": 34,
      "outputs": []
    },
    {
      "cell_type": "markdown",
      "source": [
        "`learn.model` does a preview of the model. `LinBnDrop` is a module grouping three components: `BatchNorm1d`, `Dropout` and Linear layers"
      ],
      "metadata": {
        "id": "SsrPBI7Vyffe"
      }
    },
    {
      "cell_type": "code",
      "source": [
        "learn.model"
      ],
      "metadata": {
        "id": "meyR8wS7nxJv",
        "outputId": "4f6e1cff-eb14-4ae6-a944-c1721ac8d1f0",
        "colab": {
          "base_uri": "https://localhost:8080/"
        }
      },
      "execution_count": 35,
      "outputs": [
        {
          "output_type": "execute_result",
          "data": {
            "text/plain": [
              "TabularModel(\n",
              "  (embeds): ModuleList(\n",
              "    (0): Embedding(4, 3)\n",
              "    (1): Embedding(3, 3)\n",
              "    (2): Embedding(4, 3)\n",
              "    (3): Embedding(18, 8)\n",
              "    (4): Embedding(9, 5)\n",
              "  )\n",
              "  (emb_drop): Dropout(p=0.0, inplace=False)\n",
              "  (bn_cont): BatchNorm1d(4, eps=1e-05, momentum=0.1, affine=True, track_running_stats=True)\n",
              "  (layers): Sequential(\n",
              "    (0): LinBnDrop(\n",
              "      (0): Linear(in_features=26, out_features=200, bias=False)\n",
              "      (1): ReLU(inplace=True)\n",
              "      (2): BatchNorm1d(200, eps=1e-05, momentum=0.1, affine=True, track_running_stats=True)\n",
              "    )\n",
              "    (1): LinBnDrop(\n",
              "      (0): Linear(in_features=200, out_features=100, bias=False)\n",
              "      (1): ReLU(inplace=True)\n",
              "      (2): BatchNorm1d(100, eps=1e-05, momentum=0.1, affine=True, track_running_stats=True)\n",
              "    )\n",
              "    (2): LinBnDrop(\n",
              "      (0): Linear(in_features=100, out_features=2, bias=True)\n",
              "    )\n",
              "  )\n",
              ")"
            ]
          },
          "metadata": {},
          "execution_count": 35
        }
      ]
    },
    {
      "cell_type": "markdown",
      "source": [
        "### Let's look at the categorical embedding part of the network:"
      ],
      "metadata": {
        "id": "I6zlnLEUkgsS"
      }
    },
    {
      "cell_type": "markdown",
      "source": [
        "For fundamentals, see paper \"Entity Embeddings of Categorical Variables\" https://arxiv.org/abs/1604.06737. "
      ],
      "metadata": {
        "id": "bRu_nkOBKsYw"
      }
    },
    {
      "cell_type": "code",
      "source": [
        "print(cat_names)\n",
        "print('number categories for Title:',len(train_df['Title'].unique()),train_df['Title'].unique()) # same as list(train_df['Title'].astype('category').cat.categories.values)\n",
        "print('number categories for Deck:',len(train_df['Deck'].unique()),train_df['Deck'].unique())\n",
        "print(learn.model.embeds) # one row per categorial variable Notice that: cat_names = ['Pclass', 'Sex', 'Embarked', 'Title', 'Deck']"
      ],
      "metadata": {
        "id": "9bKdaXHGyUvt",
        "outputId": "a7f8fe6b-2463-40f0-b4f9-f5d539349c46",
        "colab": {
          "base_uri": "https://localhost:8080/"
        }
      },
      "execution_count": 36,
      "outputs": [
        {
          "output_type": "stream",
          "name": "stdout",
          "text": [
            "['Pclass', 'Sex', 'Embarked', 'Title', 'Deck']\n",
            "number categories for Title: 17 ['Mr.' 'Mrs.' 'Miss.' 'Master.' 'Don.' 'Rev.' 'Dr.' 'Mme.' 'Ms.' 'Major.'\n",
            " 'Lady.' 'Sir.' 'Mlle.' 'Col.' 'Capt.' 'the' 'Jonkheer.']\n",
            "number categories for Deck: 9 [nan 'C' 'E' 'G' 'D' 'A' 'B' 'F' 'T']\n",
            "ModuleList(\n",
            "  (0): Embedding(4, 3)\n",
            "  (1): Embedding(3, 3)\n",
            "  (2): Embedding(4, 3)\n",
            "  (3): Embedding(18, 8)\n",
            "  (4): Embedding(9, 5)\n",
            ")\n"
          ]
        }
      ]
    },
    {
      "cell_type": "markdown",
      "source": [
        "Method `lr_find` helps to find a good learning rate. "
      ],
      "metadata": {
        "id": "NvIo8zv6wfmU"
      }
    },
    {
      "cell_type": "code",
      "source": [
        "learn.lr_find()"
      ],
      "metadata": {
        "_uuid": "b47aca0422adf3296ee516ad8f28b85bb54a6fd5",
        "trusted": true,
        "colab": {
          "base_uri": "https://localhost:8080/",
          "height": 472
        },
        "id": "FlWFRiuvRfjN",
        "outputId": "c844afd1-0038-40e1-98c7-2439af9339dc"
      },
      "execution_count": 37,
      "outputs": [
        {
          "output_type": "display_data",
          "data": {
            "text/plain": [
              "<IPython.core.display.HTML object>"
            ],
            "text/html": [
              "\n",
              "<style>\n",
              "    /* Turns off some styling */\n",
              "    progress {\n",
              "        /* gets rid of default border in Firefox and Opera. */\n",
              "        border: none;\n",
              "        /* Needs to be in here for Safari polyfill so background images work as expected. */\n",
              "        background-size: auto;\n",
              "    }\n",
              "    progress:not([value]), progress:not([value])::-webkit-progress-bar {\n",
              "        background: repeating-linear-gradient(45deg, #7e7e7e, #7e7e7e 10px, #5c5c5c 10px, #5c5c5c 20px);\n",
              "    }\n",
              "    .progress-bar-interrupted, .progress-bar-interrupted::-webkit-progress-bar {\n",
              "        background: #F44336;\n",
              "    }\n",
              "</style>\n"
            ]
          },
          "metadata": {}
        },
        {
          "output_type": "display_data",
          "data": {
            "text/plain": [
              "<IPython.core.display.HTML object>"
            ],
            "text/html": []
          },
          "metadata": {}
        },
        {
          "output_type": "execute_result",
          "data": {
            "text/plain": [
              "SuggestedLRs(valley=0.002511886414140463)"
            ]
          },
          "metadata": {},
          "execution_count": 37
        },
        {
          "output_type": "display_data",
          "data": {
            "text/plain": [
              "<Figure size 640x480 with 1 Axes>"
            ],
            "image/png": "[encoded data removed]"
          },
          "metadata": {}
        }
      ]
    },
    {
      "cell_type": "code",
      "source": [
        "learn.fit_one_cycle(12, 3e-3)"
      ],
      "metadata": {
        "_uuid": "2c33d5d95438a4414bf808b46102e0a52483dd60",
        "trusted": true,
        "id": "qG1cmElDRfjP",
        "outputId": "7dea8039-aff7-4ca9-dd74-8c5062d9bce9",
        "colab": {
          "base_uri": "https://localhost:8080/",
          "height": 425
        }
      },
      "execution_count": 38,
      "outputs": [
        {
          "output_type": "display_data",
          "data": {
            "text/plain": [
              "<IPython.core.display.HTML object>"
            ],
            "text/html": [
              "\n",
              "<style>\n",
              "    /* Turns off some styling */\n",
              "    progress {\n",
              "        /* gets rid of default border in Firefox and Opera. */\n",
              "        border: none;\n",
              "        /* Needs to be in here for Safari polyfill so background images work as expected. */\n",
              "        background-size: auto;\n",
              "    }\n",
              "    progress:not([value]), progress:not([value])::-webkit-progress-bar {\n",
              "        background: repeating-linear-gradient(45deg, #7e7e7e, #7e7e7e 10px, #5c5c5c 10px, #5c5c5c 20px);\n",
              "    }\n",
              "    .progress-bar-interrupted, .progress-bar-interrupted::-webkit-progress-bar {\n",
              "        background: #F44336;\n",
              "    }\n",
              "</style>\n"
            ]
          },
          "metadata": {}
        },
        {
          "output_type": "display_data",
          "data": {
            "text/plain": [
              "<IPython.core.display.HTML object>"
            ],
            "text/html": [
              "<table border=\"1\" class=\"dataframe\">\n",
              "  <thead>\n",
              "    <tr style=\"text-align: left;\">\n",
              "      <th>epoch</th>\n",
              "      <th>train_loss</th>\n",
              "      <th>valid_loss</th>\n",
              "      <th>accuracy</th>\n",
              "      <th>time</th>\n",
              "    </tr>\n",
              "  </thead>\n",
              "  <tbody>\n",
              "    <tr>\n",
              "      <td>0</td>\n",
              "      <td>0.643275</td>\n",
              "      <td>0.662880</td>\n",
              "      <td>0.674157</td>\n",
              "      <td>00:00</td>\n",
              "    </tr>\n",
              "    <tr>\n",
              "      <td>1</td>\n",
              "      <td>0.611371</td>\n",
              "      <td>0.620710</td>\n",
              "      <td>0.741573</td>\n",
              "      <td>00:00</td>\n",
              "    </tr>\n",
              "    <tr>\n",
              "      <td>2</td>\n",
              "      <td>0.576639</td>\n",
              "      <td>0.537510</td>\n",
              "      <td>0.786517</td>\n",
              "      <td>00:00</td>\n",
              "    </tr>\n",
              "    <tr>\n",
              "      <td>3</td>\n",
              "      <td>0.530264</td>\n",
              "      <td>0.456363</td>\n",
              "      <td>0.820225</td>\n",
              "      <td>00:00</td>\n",
              "    </tr>\n",
              "    <tr>\n",
              "      <td>4</td>\n",
              "      <td>0.499106</td>\n",
              "      <td>0.463792</td>\n",
              "      <td>0.831461</td>\n",
              "      <td>00:00</td>\n",
              "    </tr>\n",
              "    <tr>\n",
              "      <td>5</td>\n",
              "      <td>0.471702</td>\n",
              "      <td>0.426674</td>\n",
              "      <td>0.814607</td>\n",
              "      <td>00:00</td>\n",
              "    </tr>\n",
              "    <tr>\n",
              "      <td>6</td>\n",
              "      <td>0.450527</td>\n",
              "      <td>0.441693</td>\n",
              "      <td>0.853933</td>\n",
              "      <td>00:00</td>\n",
              "    </tr>\n",
              "    <tr>\n",
              "      <td>7</td>\n",
              "      <td>0.430437</td>\n",
              "      <td>0.444445</td>\n",
              "      <td>0.842697</td>\n",
              "      <td>00:00</td>\n",
              "    </tr>\n",
              "    <tr>\n",
              "      <td>8</td>\n",
              "      <td>0.412746</td>\n",
              "      <td>0.447478</td>\n",
              "      <td>0.820225</td>\n",
              "      <td>00:00</td>\n",
              "    </tr>\n",
              "    <tr>\n",
              "      <td>9</td>\n",
              "      <td>0.398968</td>\n",
              "      <td>0.447023</td>\n",
              "      <td>0.820225</td>\n",
              "      <td>00:00</td>\n",
              "    </tr>\n",
              "    <tr>\n",
              "      <td>10</td>\n",
              "      <td>0.387207</td>\n",
              "      <td>0.448427</td>\n",
              "      <td>0.837079</td>\n",
              "      <td>00:00</td>\n",
              "    </tr>\n",
              "    <tr>\n",
              "      <td>11</td>\n",
              "      <td>0.380117</td>\n",
              "      <td>0.454960</td>\n",
              "      <td>0.825843</td>\n",
              "      <td>00:00</td>\n",
              "    </tr>\n",
              "  </tbody>\n",
              "</table>"
            ]
          },
          "metadata": {}
        }
      ]
    },
    {
      "cell_type": "markdown",
      "source": [
        "### Replace each categorical value with its embedding vector"
      ],
      "metadata": {
        "id": "jfl6IO8nHzJ4"
      }
    },
    {
      "cell_type": "code",
      "source": [
        "# from https://towardsdatascience.com/entity-embeddings-for-ml-2387eb68e49\n",
        "def embed_features(learner, xs):\n",
        "  \"\"\"\n",
        "  learner: fastai Learner used to train the neural net\n",
        "  xs: DataFrame containing input variables. Categorical values are defined by their rank. \n",
        " ::return:: copy of `xs` with embeddings replacing each categorical variable\n",
        "  \"\"\"\n",
        "  xs = xs.copy()\n",
        "  for i,col in enumerate(learn.dls.cat_names):\n",
        "    \n",
        "    # get matrix containing each row's embedding vector\n",
        "    emb = learn.model.embeds[i]\n",
        "    emb_data = emb(tensor(xs[col], dtype=torch.int64))\n",
        "    emb_names = [f'{col}_{j}' for j in range(emb_data.shape[1])]\n",
        "    \n",
        "    # join the embedded category and drop the old feature column\n",
        "    feat_df = pd.DataFrame(data=emb_data, index=xs.index,               \n",
        "                           columns=emb_names)\n",
        "    xs = xs.drop(col, axis=1)\n",
        "    xs = xs.join(feat_df)\n",
        "  return xs\n",
        "# show embeddings and raw (original) variables\n",
        "emb_train_xs = embed_features(learn, to.train.xs)\n",
        "emb_valid_xs = embed_features(learn, to.valid.xs)\n",
        "print(emb_train_xs.iloc[10:13,~emb_train_xs.columns.isin(cont_names)]) # embeddings\n",
        "print(train_df.iloc[10:13][cat_names]) # original variables"
      ],
      "metadata": {
        "id": "spx4rqvrH2JP",
        "outputId": "a7062daa-bce0-4baf-b06f-b901f71ec7a9",
        "colab": {
          "base_uri": "https://localhost:8080/"
        }
      },
      "execution_count": 52,
      "outputs": [
        {
          "output_type": "stream",
          "name": "stdout",
          "text": [
            "     Pclass_0  Pclass_1  Pclass_2     Sex_0     Sex_1     Sex_2  Embarked_0  \\\n",
            "688  0.041150 -0.057590  0.142196  0.067572  0.070909 -0.069438   -0.051661   \n",
            "782  0.056709  0.049849 -0.062774  0.067572  0.070909 -0.069438   -0.051661   \n",
            "526 -0.122367  0.021453 -0.083697 -0.082735 -0.075746  0.087117   -0.051661   \n",
            "\n",
            "     Embarked_1  Embarked_2   Title_0  ...   Title_3   Title_4   Title_5  \\\n",
            "688    0.047801    -0.00792  0.012319  ... -0.056723  0.033026  0.048099   \n",
            "782    0.047801    -0.00792  0.012319  ... -0.056723  0.033026  0.048099   \n",
            "526    0.047801    -0.00792  0.054953  ...  0.017843 -0.002427 -0.044045   \n",
            "\n",
            "      Title_6   Title_7    Deck_0    Deck_1    Deck_2    Deck_3    Deck_4  \n",
            "688 -0.051102  0.073278 -0.062259  0.039442 -0.008048  0.042817 -0.029113  \n",
            "782 -0.051102  0.073278  0.047967 -0.042794 -0.071951 -0.062728  0.020725  \n",
            "526 -0.014929 -0.029835 -0.062259  0.039442 -0.008048  0.042817 -0.029113  \n",
            "\n",
            "[3 rows x 22 columns]\n",
            "    Pclass     Sex Embarked  Title Deck\n",
            "10       3  female        S  Miss.    G\n",
            "11       1  female        S  Miss.    C\n",
            "12       3    male        S    Mr.  NaN\n",
            "10    1\n",
            "11    1\n",
            "12    0\n",
            "Name: Survived, dtype: int64\n"
          ]
        }
      ]
    },
    {
      "cell_type": "code",
      "source": [
        "'''\n",
        "import numpy as np\n",
        "import matplotlib.pyplot as plt\n",
        "from sklearn.discriminant_analysis import LinearDiscriminantAnalysis\n",
        "import seaborn as sns\n",
        "titleCols=[x for x in emb_xs.columns if 'Title' in x]\n",
        "X=emb_train_xs[titleCols] # have diff lengths\n",
        "y=train_df['Title']       # have diff lengths\n",
        "target_names=train_df['Title'].unique()\n",
        "colors = sns.color_palette(None, len(target_names))\n",
        "lda = LinearDiscriminantAnalysis(n_components=2)\n",
        "X_r = lda.fit(X, y).transform(X)\n",
        "lw = 2\n",
        "for color, i, target_name in zip(colors, [0, 1, 2], target_names):\n",
        "    plt.scatter(X_r[y == i, 0], X_r[y == i, 1], color=color, alpha=.8, lw=lw,\n",
        "                label=target_name)\n",
        "plt.legend(loc='best', shadow=False, scatterpoints=1)\n",
        "plt.title('LDA of Title')\n",
        "plt.show()\n",
        "'''"
      ],
      "metadata": {
        "id": "6-DIemhTJnT-",
        "outputId": "72c6116b-4ced-424c-ec87-73e1ce8b47a4",
        "colab": {
          "base_uri": "https://localhost:8080/",
          "height": 70
        }
      },
      "execution_count": 60,
      "outputs": [
        {
          "output_type": "execute_result",
          "data": {
            "text/plain": [
              "\"\\nimport numpy as np\\nimport matplotlib.pyplot as plt\\nfrom sklearn.discriminant_analysis import LinearDiscriminantAnalysis\\nimport seaborn as sns\\ntitleCols=[x for x in emb_xs.columns if 'Title' in x]\\nX=emb_train_xs[titleCols]\\ny=train_df['Title']\\ntarget_names=train_df['Title'].unique()\\ncolors = sns.color_palette(None, len(target_names))\\nlda = LinearDiscriminantAnalysis(n_components=2)\\nX_r = lda.fit(X, y).transform(X)\\nlw = 2\\nfor color, i, target_name in zip(colors, [0, 1, 2], target_names):\\n    plt.scatter(X_r[y == i, 0], X_r[y == i, 1], color=color, alpha=.8, lw=lw,\\n                label=target_name)\\nplt.legend(loc='best', shadow=False, scatterpoints=1)\\nplt.title('LDA of Title')\\nplt.show()\\n\""
            ],
            "application/vnd.google.colaboratory.intrinsic+json": {
              "type": "string"
            }
          },
          "metadata": {},
          "execution_count": 60
        }
      ]
    }
  ]
}