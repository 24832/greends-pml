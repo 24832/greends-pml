{
  "nbformat": 4,
  "nbformat_minor": 0,
  "metadata": {
    "colab": {
      "provenance": [],
      "gpuType": "T4",
      "authorship_tag": "ABX9TyNBA8aU5f8F8x4maOiELGKV",
      "include_colab_link": true
    },
    "kernelspec": {
      "name": "python3",
      "display_name": "Python 3"
    },
    "language_info": {
      "name": "python"
    },
    "accelerator": "GPU",
    "gpuClass": "standard"
  },
  "cells": [
    {
      "cell_type": "markdown",
      "metadata": {
        "id": "view-in-github",
        "colab_type": "text"
      },
      "source": [
        "<a href=\"https://colab.research.google.com/github/isa-ulisboa/greends-pml/blob/main/select_best_model_wine_classification_extended.ipynb\" target=\"_parent\"><img src=\"https://colab.research.google.com/assets/colab-badge.svg\" alt=\"Open In Colab\"/></a>"
      ]
    },
    {
      "cell_type": "markdown",
      "source": [
        "# A difficult classification problem: the Portuguese wine quality data set"
      ],
      "metadata": {
        "id": "DKjiHKCPnlF2"
      }
    },
    {
      "cell_type": "markdown",
      "source": [
        "Some suggestions about how to read and processe this data set are available at\n",
        "https://colab.research.google.com/drive/1XX6GidW1AqY5gBbdXsoRxQ84xnVcg6a9?usp=sharing#scrollTo=doH9_-gnf3sz"
      ],
      "metadata": {
        "id": "_Uw0Z5_dhuk8"
      }
    },
    {
      "cell_type": "code",
      "execution_count": 2,
      "metadata": {
        "id": "p-mbzbkI7Ygv"
      },
      "outputs": [],
      "source": [
        "import pandas as pd\n",
        "import seaborn as sns\n",
        "import numpy as np\n",
        "import matplotlib.pyplot as plt\n",
        "from sklearn.discriminant_analysis import LinearDiscriminantAnalysis\n"
      ]
    },
    {
      "cell_type": "markdown",
      "source": [
        "## Download and read the data"
      ],
      "metadata": {
        "id": "fkWxlbgon0I0"
      }
    },
    {
      "cell_type": "code",
      "source": [
        "# URL of the white wine dataset\n",
        "URL = 'http://archive.ics.uci.edu/ml/machine-learning-databases/wine-quality/winequality-white.csv'\n",
        "# load the dataset from the URL\n",
        "white_df = pd.read_csv(URL, sep=\";\")\n",
        "# fill the `is_red` column with zeros.\n",
        "white_df[\"is_red\"] = 0 # YOUR CODE HERE\n",
        "# keep only the first of duplicate items\n",
        "white_df = white_df.drop_duplicates(keep='first')"
      ],
      "metadata": {
        "id": "SYwwzGnxZnPz"
      },
      "execution_count": 3,
      "outputs": []
    },
    {
      "cell_type": "code",
      "source": [
        "# URL of the red wine dataset\n",
        "URL = 'http://archive.ics.uci.edu/ml/machine-learning-databases/wine-quality/winequality-red.csv'\n",
        "# load the dataset from the URL\n",
        "red_df = pd.read_csv(URL, sep=\";\")\n",
        "# fill the `is_red` column with ones.\n",
        "red_df[\"is_red\"] = 1 # YOUR CODE HERE\n",
        "# keep only the first of duplicate items\n",
        "red_df = red_df.drop_duplicates(keep='first')"
      ],
      "metadata": {
        "id": "lTtKAyy6cMLY"
      },
      "execution_count": 4,
      "outputs": []
    },
    {
      "cell_type": "code",
      "source": [
        "df = pd.concat([red_df, white_df], ignore_index=True)\n",
        "if False: df=df.loc[df['is_red']==1] # only reds\n",
        "if False: df=df.loc[df['is_red']==0] # only whites\n",
        "response = 'quality'\n",
        "response = 'is_red' "
      ],
      "metadata": {
        "id": "tpvV4pp-cXQo"
      },
      "execution_count": 24,
      "outputs": []
    },
    {
      "cell_type": "markdown",
      "source": [
        "## Visualize and preprocess the data"
      ],
      "metadata": {
        "id": "wLXAfT5sn92m"
      }
    },
    {
      "cell_type": "markdown",
      "source": [
        "The response variable is `quality`."
      ],
      "metadata": {
        "id": "DCKX7n5goFoN"
      }
    },
    {
      "cell_type": "code",
      "source": [
        "df.describe()"
      ],
      "metadata": {
        "colab": {
          "base_uri": "https://localhost:8080/",
          "height": 300
        },
        "id": "C5plVRvNss5m",
        "outputId": "16670b9a-eccf-42c2-ab28-f90afafd8ca0"
      },
      "execution_count": 25,
      "outputs": [
        {
          "output_type": "execute_result",
          "data": {
            "text/plain": [
              "       fixed acidity  volatile acidity  citric acid  residual sugar  \\\n",
              "count    5320.000000       5320.000000  5320.000000     5320.000000   \n",
              "mean        7.215179          0.344130     0.318494        5.048477   \n",
              "std         1.319671          0.168248     0.147157        4.500180   \n",
              "min         3.800000          0.080000     0.000000        0.600000   \n",
              "25%         6.400000          0.230000     0.240000        1.800000   \n",
              "50%         7.000000          0.300000     0.310000        2.700000   \n",
              "75%         7.700000          0.410000     0.400000        7.500000   \n",
              "max        15.900000          1.580000     1.660000       65.800000   \n",
              "\n",
              "         chlorides  free sulfur dioxide  total sulfur dioxide      density  \\\n",
              "count  5320.000000          5320.000000           5320.000000  5320.000000   \n",
              "mean      0.056690            30.036654            114.109023     0.994535   \n",
              "std       0.036863            17.805045             56.774223     0.002966   \n",
              "min       0.009000             1.000000              6.000000     0.987110   \n",
              "25%       0.038000            16.000000             74.000000     0.992200   \n",
              "50%       0.047000            28.000000            116.000000     0.994650   \n",
              "75%       0.066000            41.000000            153.250000     0.996770   \n",
              "max       0.611000           289.000000            440.000000     1.038980   \n",
              "\n",
              "                pH    sulphates      alcohol      quality       is_red  \n",
              "count  5320.000000  5320.000000  5320.000000  5320.000000  5320.000000  \n",
              "mean      3.224664     0.533357    10.549241     5.795677     0.255451  \n",
              "std       0.160379     0.149743     1.185933     0.879772     0.436155  \n",
              "min       2.720000     0.220000     8.000000     3.000000     0.000000  \n",
              "25%       3.110000     0.430000     9.500000     5.000000     0.000000  \n",
              "50%       3.210000     0.510000    10.400000     6.000000     0.000000  \n",
              "75%       3.330000     0.600000    11.400000     6.000000     1.000000  \n",
              "max       4.010000     2.000000    14.900000     9.000000     1.000000  "
            ],
            "text/html": [
              "\n",
              "  <div id=\"df-9f162106-7319-4dd1-acbb-8c3ecaff69bd\">\n",
              "    <div class=\"colab-df-container\">\n",
              "      <div>\n",
              "<style scoped>\n",
              "    .dataframe tbody tr th:only-of-type {\n",
              "        vertical-align: middle;\n",
              "    }\n",
              "\n",
              "    .dataframe tbody tr th {\n",
              "        vertical-align: top;\n",
              "    }\n",
              "\n",
              "    .dataframe thead th {\n",
              "        text-align: right;\n",
              "    }\n",
              "</style>\n",
              "<table border=\"1\" class=\"dataframe\">\n",
              "  <thead>\n",
              "    <tr style=\"text-align: right;\">\n",
              "      <th></th>\n",
              "      <th>fixed acidity</th>\n",
              "      <th>volatile acidity</th>\n",
              "      <th>citric acid</th>\n",
              "      <th>residual sugar</th>\n",
              "      <th>chlorides</th>\n",
              "      <th>free sulfur dioxide</th>\n",
              "      <th>total sulfur dioxide</th>\n",
              "      <th>density</th>\n",
              "      <th>pH</th>\n",
              "      <th>sulphates</th>\n",
              "      <th>alcohol</th>\n",
              "      <th>quality</th>\n",
              "      <th>is_red</th>\n",
              "    </tr>\n",
              "  </thead>\n",
              "  <tbody>\n",
              "    <tr>\n",
              "      <th>count</th>\n",
              "      <td>5320.000000</td>\n",
              "      <td>5320.000000</td>\n",
              "      <td>5320.000000</td>\n",
              "      <td>5320.000000</td>\n",
              "      <td>5320.000000</td>\n",
              "      <td>5320.000000</td>\n",
              "      <td>5320.000000</td>\n",
              "      <td>5320.000000</td>\n",
              "      <td>5320.000000</td>\n",
              "      <td>5320.000000</td>\n",
              "      <td>5320.000000</td>\n",
              "      <td>5320.000000</td>\n",
              "      <td>5320.000000</td>\n",
              "    </tr>\n",
              "    <tr>\n",
              "      <th>mean</th>\n",
              "      <td>7.215179</td>\n",
              "      <td>0.344130</td>\n",
              "      <td>0.318494</td>\n",
              "      <td>5.048477</td>\n",
              "      <td>0.056690</td>\n",
              "      <td>30.036654</td>\n",
              "      <td>114.109023</td>\n",
              "      <td>0.994535</td>\n",
              "      <td>3.224664</td>\n",
              "      <td>0.533357</td>\n",
              "      <td>10.549241</td>\n",
              "      <td>5.795677</td>\n",
              "      <td>0.255451</td>\n",
              "    </tr>\n",
              "    <tr>\n",
              "      <th>std</th>\n",
              "      <td>1.319671</td>\n",
              "      <td>0.168248</td>\n",
              "      <td>0.147157</td>\n",
              "      <td>4.500180</td>\n",
              "      <td>0.036863</td>\n",
              "      <td>17.805045</td>\n",
              "      <td>56.774223</td>\n",
              "      <td>0.002966</td>\n",
              "      <td>0.160379</td>\n",
              "      <td>0.149743</td>\n",
              "      <td>1.185933</td>\n",
              "      <td>0.879772</td>\n",
              "      <td>0.436155</td>\n",
              "    </tr>\n",
              "    <tr>\n",
              "      <th>min</th>\n",
              "      <td>3.800000</td>\n",
              "      <td>0.080000</td>\n",
              "      <td>0.000000</td>\n",
              "      <td>0.600000</td>\n",
              "      <td>0.009000</td>\n",
              "      <td>1.000000</td>\n",
              "      <td>6.000000</td>\n",
              "      <td>0.987110</td>\n",
              "      <td>2.720000</td>\n",
              "      <td>0.220000</td>\n",
              "      <td>8.000000</td>\n",
              "      <td>3.000000</td>\n",
              "      <td>0.000000</td>\n",
              "    </tr>\n",
              "    <tr>\n",
              "      <th>25%</th>\n",
              "      <td>6.400000</td>\n",
              "      <td>0.230000</td>\n",
              "      <td>0.240000</td>\n",
              "      <td>1.800000</td>\n",
              "      <td>0.038000</td>\n",
              "      <td>16.000000</td>\n",
              "      <td>74.000000</td>\n",
              "      <td>0.992200</td>\n",
              "      <td>3.110000</td>\n",
              "      <td>0.430000</td>\n",
              "      <td>9.500000</td>\n",
              "      <td>5.000000</td>\n",
              "      <td>0.000000</td>\n",
              "    </tr>\n",
              "    <tr>\n",
              "      <th>50%</th>\n",
              "      <td>7.000000</td>\n",
              "      <td>0.300000</td>\n",
              "      <td>0.310000</td>\n",
              "      <td>2.700000</td>\n",
              "      <td>0.047000</td>\n",
              "      <td>28.000000</td>\n",
              "      <td>116.000000</td>\n",
              "      <td>0.994650</td>\n",
              "      <td>3.210000</td>\n",
              "      <td>0.510000</td>\n",
              "      <td>10.400000</td>\n",
              "      <td>6.000000</td>\n",
              "      <td>0.000000</td>\n",
              "    </tr>\n",
              "    <tr>\n",
              "      <th>75%</th>\n",
              "      <td>7.700000</td>\n",
              "      <td>0.410000</td>\n",
              "      <td>0.400000</td>\n",
              "      <td>7.500000</td>\n",
              "      <td>0.066000</td>\n",
              "      <td>41.000000</td>\n",
              "      <td>153.250000</td>\n",
              "      <td>0.996770</td>\n",
              "      <td>3.330000</td>\n",
              "      <td>0.600000</td>\n",
              "      <td>11.400000</td>\n",
              "      <td>6.000000</td>\n",
              "      <td>1.000000</td>\n",
              "    </tr>\n",
              "    <tr>\n",
              "      <th>max</th>\n",
              "      <td>15.900000</td>\n",
              "      <td>1.580000</td>\n",
              "      <td>1.660000</td>\n",
              "      <td>65.800000</td>\n",
              "      <td>0.611000</td>\n",
              "      <td>289.000000</td>\n",
              "      <td>440.000000</td>\n",
              "      <td>1.038980</td>\n",
              "      <td>4.010000</td>\n",
              "      <td>2.000000</td>\n",
              "      <td>14.900000</td>\n",
              "      <td>9.000000</td>\n",
              "      <td>1.000000</td>\n",
              "    </tr>\n",
              "  </tbody>\n",
              "</table>\n",
              "</div>\n",
              "      <button class=\"colab-df-convert\" onclick=\"convertToInteractive('df-9f162106-7319-4dd1-acbb-8c3ecaff69bd')\"\n",
              "              title=\"Convert this dataframe to an interactive table.\"\n",
              "              style=\"display:none;\">\n",
              "        \n",
              "  <svg xmlns=\"http://www.w3.org/2000/svg\" height=\"24px\"viewBox=\"0 0 24 24\"\n",
              "       width=\"24px\">\n",
              "    <path d=\"M0 0h24v24H0V0z\" fill=\"none\"/>\n",
              "    <path d=\"M18.56 5.44l.94 2.06.94-2.06 2.06-.94-2.06-.94-.94-2.06-.94 2.06-2.06.94zm-11 1L8.5 8.5l.94-2.06 2.06-.94-2.06-.94L8.5 2.5l-.94 2.06-2.06.94zm10 10l.94 2.06.94-2.06 2.06-.94-2.06-.94-.94-2.06-.94 2.06-2.06.94z\"/><path d=\"M17.41 7.96l-1.37-1.37c-.4-.4-.92-.59-1.43-.59-.52 0-1.04.2-1.43.59L10.3 9.45l-7.72 7.72c-.78.78-.78 2.05 0 2.83L4 21.41c.39.39.9.59 1.41.59.51 0 1.02-.2 1.41-.59l7.78-7.78 2.81-2.81c.8-.78.8-2.07 0-2.86zM5.41 20L4 18.59l7.72-7.72 1.47 1.35L5.41 20z\"/>\n",
              "  </svg>\n",
              "      </button>\n",
              "      \n",
              "  <style>\n",
              "    .colab-df-container {\n",
              "      display:flex;\n",
              "      flex-wrap:wrap;\n",
              "      gap: 12px;\n",
              "    }\n",
              "\n",
              "    .colab-df-convert {\n",
              "      background-color: #E8F0FE;\n",
              "      border: none;\n",
              "      border-radius: 50%;\n",
              "      cursor: pointer;\n",
              "      display: none;\n",
              "      fill: #1967D2;\n",
              "      height: 32px;\n",
              "      padding: 0 0 0 0;\n",
              "      width: 32px;\n",
              "    }\n",
              "\n",
              "    .colab-df-convert:hover {\n",
              "      background-color: #E2EBFA;\n",
              "      box-shadow: 0px 1px 2px rgba(60, 64, 67, 0.3), 0px 1px 3px 1px rgba(60, 64, 67, 0.15);\n",
              "      fill: #174EA6;\n",
              "    }\n",
              "\n",
              "    [theme=dark] .colab-df-convert {\n",
              "      background-color: #3B4455;\n",
              "      fill: #D2E3FC;\n",
              "    }\n",
              "\n",
              "    [theme=dark] .colab-df-convert:hover {\n",
              "      background-color: #434B5C;\n",
              "      box-shadow: 0px 1px 3px 1px rgba(0, 0, 0, 0.15);\n",
              "      filter: drop-shadow(0px 1px 2px rgba(0, 0, 0, 0.3));\n",
              "      fill: #FFFFFF;\n",
              "    }\n",
              "  </style>\n",
              "\n",
              "      <script>\n",
              "        const buttonEl =\n",
              "          document.querySelector('#df-9f162106-7319-4dd1-acbb-8c3ecaff69bd button.colab-df-convert');\n",
              "        buttonEl.style.display =\n",
              "          google.colab.kernel.accessAllowed ? 'block' : 'none';\n",
              "\n",
              "        async function convertToInteractive(key) {\n",
              "          const element = document.querySelector('#df-9f162106-7319-4dd1-acbb-8c3ecaff69bd');\n",
              "          const dataTable =\n",
              "            await google.colab.kernel.invokeFunction('convertToInteractive',\n",
              "                                                     [key], {});\n",
              "          if (!dataTable) return;\n",
              "\n",
              "          const docLinkHtml = 'Like what you see? Visit the ' +\n",
              "            '<a target=\"_blank\" href=https://colab.research.google.com/notebooks/data_table.ipynb>data table notebook</a>'\n",
              "            + ' to learn more about interactive tables.';\n",
              "          element.innerHTML = '';\n",
              "          dataTable['output_type'] = 'display_data';\n",
              "          await google.colab.output.renderOutput(dataTable, element);\n",
              "          const docLink = document.createElement('div');\n",
              "          docLink.innerHTML = docLinkHtml;\n",
              "          element.appendChild(docLink);\n",
              "        }\n",
              "      </script>\n",
              "    </div>\n",
              "  </div>\n",
              "  "
            ]
          },
          "metadata": {},
          "execution_count": 25
        }
      ]
    },
    {
      "cell_type": "code",
      "source": [
        "# TO DO: does the data set has NaN?\n",
        "df.isnull().sum()\n",
        "df.isna().sum()\n"
      ],
      "metadata": {
        "id": "E-OaQwg3cuPh",
        "outputId": "6e936316-51d4-4ceb-970a-271ac9593f73",
        "colab": {
          "base_uri": "https://localhost:8080/"
        }
      },
      "execution_count": 26,
      "outputs": [
        {
          "output_type": "execute_result",
          "data": {
            "text/plain": [
              "fixed acidity           0\n",
              "volatile acidity        0\n",
              "citric acid             0\n",
              "residual sugar          0\n",
              "chlorides               0\n",
              "free sulfur dioxide     0\n",
              "total sulfur dioxide    0\n",
              "density                 0\n",
              "pH                      0\n",
              "sulphates               0\n",
              "alcohol                 0\n",
              "quality                 0\n",
              "is_red                  0\n",
              "dtype: int64"
            ]
          },
          "metadata": {},
          "execution_count": 26
        }
      ]
    },
    {
      "cell_type": "code",
      "source": [
        "# TO DO: what are the explanatory variables?\n",
        "df.columns"
      ],
      "metadata": {
        "id": "3imh-jdz8RGP",
        "outputId": "319d5f84-fdb7-4677-f693-d4292cf822f3",
        "colab": {
          "base_uri": "https://localhost:8080/"
        }
      },
      "execution_count": 27,
      "outputs": [
        {
          "output_type": "execute_result",
          "data": {
            "text/plain": [
              "Index(['fixed acidity', 'volatile acidity', 'citric acid', 'residual sugar',\n",
              "       'chlorides', 'free sulfur dioxide', 'total sulfur dioxide', 'density',\n",
              "       'pH', 'sulphates', 'alcohol', 'quality', 'is_red'],\n",
              "      dtype='object')"
            ]
          },
          "metadata": {},
          "execution_count": 27
        }
      ]
    },
    {
      "cell_type": "code",
      "source": [
        "df[response].hist(bins=df[response].nunique()*5)\n",
        "plt.title('Histogram of ' + response)\n",
        "plt.show()"
      ],
      "metadata": {
        "colab": {
          "base_uri": "https://localhost:8080/",
          "height": 452
        },
        "id": "iSFG9ucphgz0",
        "outputId": "5f49030f-ecc9-4c84-95d4-fdfc29da0871"
      },
      "execution_count": 28,
      "outputs": [
        {
          "output_type": "display_data",
          "data": {
            "text/plain": [
              "<Figure size 640x480 with 1 Axes>"
            ],
            "image/png": "[encoded data removed]"
          },
          "metadata": {}
        }
      ]
    },
    {
      "cell_type": "code",
      "source": [
        "# get data with wine quality greater than 4 and less than 8\n",
        "# df = df[(df['quality'] > 4) & (df['quality'] < 8)]"
      ],
      "metadata": {
        "id": "PYNs-JF7hoaV"
      },
      "execution_count": 29,
      "outputs": []
    },
    {
      "cell_type": "code",
      "source": [
        "# Create features and target variables\n",
        "X = df.drop(columns=['quality','is_red'])\n",
        "y = df[response]\n",
        "classes=np.sort(y.unique())\n",
        "classes\n"
      ],
      "metadata": {
        "colab": {
          "base_uri": "https://localhost:8080/"
        },
        "id": "cedpXjAT8Cjn",
        "outputId": "dd0faaaf-026b-43dd-b704-87d76c6f84eb"
      },
      "execution_count": 30,
      "outputs": [
        {
          "output_type": "execute_result",
          "data": {
            "text/plain": [
              "array([0, 1])"
            ]
          },
          "metadata": {},
          "execution_count": 30
        }
      ]
    },
    {
      "cell_type": "code",
      "source": [
        "if df[response].nunique() >2:\n",
        "  # Represent classes in the 1st discriminant plane:\n",
        "  lda = LinearDiscriminantAnalysis(n_components=2)\n",
        "  X_r = lda.fit(X, y).transform(X)\n",
        "  colors = sns.color_palette(None, len(classes))\n",
        "  lw = 2\n",
        "  for color, cl in zip(colors, classes):\n",
        "      plt.scatter(X_r[y == cl, 0], X_r[y == cl, 1], color=color, alpha=.8, lw=lw, label=cl)\n",
        "  plt.legend(loc='best', shadow=False, scatterpoints=1)\n",
        "  plt.title('LDA of wine quality')\n",
        "  plt.show()"
      ],
      "metadata": {
        "id": "seZewXMf8NUo"
      },
      "execution_count": 32,
      "outputs": []
    },
    {
      "cell_type": "code",
      "source": [
        "if df[response].nunique() >2:\n",
        "  # Create separate subplots for each class\n",
        "  fig, axs = plt.subplots(1, 3, figsize=(12, 4))\n",
        "\n",
        "  # Set the range for x-axis and y-axis in all subplots\n",
        "  for ax in axs.flat:\n",
        "      ax.set_xlim(-5, 4)  # Replace xmin and xmax with your desired range for the x-axis\n",
        "      ax.set_ylim(-7, 6)  # Replace ymin and ymax with your desired range for the y-axis\n",
        "\n",
        "\n",
        "  # Plot each class on a different subplot\n",
        "  for i in range(len(classes)):\n",
        "      axs[i].scatter(X_r[y == classes[i], 0], X_r[y == classes[i], 1], label=f'Class {classes[i]}')\n",
        "      axs[i].set_xlabel('Principal Discriminant Axis 1')\n",
        "      axs[i].set_ylabel('Principal Discriminant Axis 2')\n",
        "      axs[i].legend()\n",
        "\n",
        "  plt.tight_layout()\n",
        "  plt.show()"
      ],
      "metadata": {
        "id": "ZX_iFNBl93pA"
      },
      "execution_count": 33,
      "outputs": []
    },
    {
      "cell_type": "markdown",
      "source": [
        "## Random Forest classifier"
      ],
      "metadata": {
        "id": "V3SJR_nSqllr"
      }
    },
    {
      "cell_type": "markdown",
      "source": [
        "Next, we search for the best hyperparameters for a RF classifier with `RandomizedSearchCV`."
      ],
      "metadata": {
        "id": "fYdlKNZyqsRC"
      }
    },
    {
      "cell_type": "code",
      "source": [
        "from sklearn.ensemble import RandomForestClassifier\n",
        "from sklearn.datasets import load_iris\n",
        "from sklearn.model_selection import RandomizedSearchCV, train_test_split\n",
        "from sklearn.metrics import accuracy_score\n",
        "\n",
        "# Split the dataset into training and testing sets\n",
        "X_train, X_test, y_train, y_test = train_test_split(X, y, test_size=0.2, random_state=42)\n",
        "# Create a Random Forest classifier\n",
        "rf_classifier = RandomForestClassifier()\n",
        "# Define the hyperparameter grid for RandomizedSearchCV\n",
        "param_grid = {\n",
        "    'n_estimators': [100, 200, 300],\n",
        "    'max_depth': [None, 5, 10, 20],\n",
        "    'min_samples_split': [2, 5, 10],\n",
        "    'min_samples_leaf': [1, 2, 4]\n",
        "}\n",
        "# Create a RandomizedSearchCV instance\n",
        "random_search = RandomizedSearchCV(estimator=rf_classifier, param_distributions=param_grid, n_iter=10, cv=5, random_state=42)\n",
        "# Perform the random search\n",
        "random_search.fit(X_train, y_train)\n",
        "# Get the best hyperparameters and model\n",
        "best_params = random_search.best_params_\n",
        "print(best_params)\n",
        "best_model = random_search.best_estimator_  # retrieve the best model\n",
        "# Make predictions on the test set using the best model\n",
        "y_pred = best_model.predict(X_test)\n",
        "# Evaluate the accuracy of the best model\n",
        "accuracy = accuracy_score(y_test, y_pred)\n",
        "print(\"Best Model Accuracy:\", accuracy)"
      ],
      "metadata": {
        "id": "MYf2DeRQPHae",
        "outputId": "420d8aa1-9ed3-4d28-9b3b-ae3a16c9b0cf",
        "colab": {
          "base_uri": "https://localhost:8080/"
        }
      },
      "execution_count": 18,
      "outputs": [
        {
          "output_type": "stream",
          "name": "stderr",
          "text": [
            "/usr/local/lib/python3.10/dist-packages/sklearn/model_selection/_split.py:700: UserWarning: The least populated class in y has only 4 members, which is less than n_splits=5.\n",
            "  warnings.warn(\n"
          ]
        },
        {
          "output_type": "stream",
          "name": "stdout",
          "text": [
            "{'n_estimators': 200, 'min_samples_split': 5, 'min_samples_leaf': 1, 'max_depth': None}\n",
            "Best Model Accuracy: 0.5770676691729323\n"
          ]
        }
      ]
    },
    {
      "cell_type": "code",
      "source": [
        "random_search.cv_results_['mean_test_score']"
      ],
      "metadata": {
        "id": "E31Z6CWFd90O",
        "outputId": "d4d3210e-6ebb-4a5c-d962-a7423b547658",
        "colab": {
          "base_uri": "https://localhost:8080/"
        }
      },
      "execution_count": 19,
      "outputs": [
        {
          "output_type": "execute_result",
          "data": {
            "text/plain": [
              "array([0.56250503, 0.56203445, 0.56931668, 0.56908415, 0.56038877,\n",
              "       0.56062434, 0.54605297, 0.54887153, 0.56743847, 0.56720318])"
            ]
          },
          "metadata": {},
          "execution_count": 19
        }
      ]
    },
    {
      "cell_type": "code",
      "source": [
        "from sklearn.metrics import confusion_matrix\n",
        "from sklearn.model_selection import cross_val_predict\n",
        "y_pred=cross_val_predict(best_model, X, y, cv=5)\n",
        "confusion_matrix(y,y_pred)"
      ],
      "metadata": {
        "id": "3uUmnlpxPcom",
        "outputId": "2b2459bf-07d0-4aab-bedd-efd1d3da3361",
        "colab": {
          "base_uri": "https://localhost:8080/"
        }
      },
      "execution_count": 20,
      "outputs": [
        {
          "output_type": "execute_result",
          "data": {
            "text/plain": [
              "array([[   0,    0,   17,   13,    0,    0,    0],\n",
              "       [   0,    3,  136,   65,    2,    0,    0],\n",
              "       [   0,    3, 1023,  707,   19,    0,    0],\n",
              "       [   0,    2,  783, 1359,  178,    1,    0],\n",
              "       [   0,    0,  146,  500,  208,    2,    0],\n",
              "       [   0,    0,   12,   91,   45,    0,    0],\n",
              "       [   0,    0,    1,    1,    3,    0,    0]])"
            ]
          },
          "metadata": {},
          "execution_count": 20
        }
      ]
    },
    {
      "cell_type": "markdown",
      "source": [
        "## Explore the importance of features"
      ],
      "metadata": {
        "id": "TR8hP4xlhaCB"
      }
    },
    {
      "cell_type": "markdown",
      "source": [
        "### Impurity-based feature importance"
      ],
      "metadata": {
        "id": "zsNQrRwXh5M7"
      }
    },
    {
      "cell_type": "code",
      "source": [
        "from sklearn.ensemble import RandomForestClassifier\n",
        "# Create a random forest classifier\n",
        "rfc = RandomForestClassifier()\n",
        "# Fit the classifier to your data\n",
        "rfc.fit(X_train, y_train)\n",
        "# Get feature importances\n",
        "importance_scores = rfc.feature_importances_\n",
        "# Create a DataFrame to store feature importance scores\n",
        "feature_importance_df = pd.DataFrame({'Feature': X.columns, 'Importance': importance_scores})\n",
        "# Sort the DataFrame by importance scores in descending order\n",
        "feature_importance_df = feature_importance_df.sort_values(by='Importance', ascending=False)\n",
        "# Print the feature importance\n",
        "print(feature_importance_df)\n",
        "# plot\n",
        "# compute std\n",
        "std = np.std([tree.feature_importances_ for tree in rfc.estimators_], axis=0)\n",
        "# plot\n",
        "forest_importances = pd.Series(importance_scores, index=X.columns)\n",
        "fig, ax = plt.subplots()\n",
        "forest_importances.plot.bar(yerr=std, ax=ax)\n",
        "ax.set_title(\"Feature importances using mean decrease in impurity\")\n",
        "ax.set_ylabel(\"Mean decrease in impurity\")\n",
        "fig.tight_layout()"
      ],
      "metadata": {
        "id": "J1DOa0sAi5jH",
        "outputId": "bd2ba7f6-69cb-4cdd-d438-4a52329e664e",
        "colab": {
          "base_uri": "https://localhost:8080/",
          "height": 699
        }
      },
      "execution_count": 34,
      "outputs": [
        {
          "output_type": "stream",
          "name": "stdout",
          "text": [
            "                 Feature  Importance\n",
            "10               alcohol    0.124964\n",
            "7                density    0.102539\n",
            "1       volatile acidity    0.099004\n",
            "6   total sulfur dioxide    0.090839\n",
            "9              sulphates    0.089452\n",
            "5    free sulfur dioxide    0.087810\n",
            "4              chlorides    0.085363\n",
            "3         residual sugar    0.084136\n",
            "8                     pH    0.083587\n",
            "2            citric acid    0.077340\n",
            "0          fixed acidity    0.074967\n"
          ]
        },
        {
          "output_type": "display_data",
          "data": {
            "text/plain": [
              "<Figure size 640x480 with 1 Axes>"
            ],
            "image/png": "[encoded data removed]"
          },
          "metadata": {}
        }
      ]
    },
    {
      "cell_type": "markdown",
      "source": [
        "### Permutation importance"
      ],
      "metadata": {
        "id": "gKNBhAKXhgpx"
      }
    },
    {
      "cell_type": "code",
      "source": [
        "from sklearn.inspection import permutation_importance\n",
        "\n",
        "result = permutation_importance(\n",
        "    best_model, X_test, y_test, n_repeats=10, random_state=42, n_jobs=2\n",
        ")\n",
        "\n",
        "sorted_importances_idx = result.importances_mean.argsort()\n",
        "importances = pd.DataFrame(\n",
        "    result.importances[sorted_importances_idx].T,\n",
        "    columns=X.columns[sorted_importances_idx],\n",
        ")\n",
        "ax = importances.plot.box(vert=False, whis=10)\n",
        "ax.set_title(\"Permutation Importances (test set)\")\n",
        "ax.axvline(x=0, color=\"k\", linestyle=\"--\")\n",
        "ax.set_xlabel(\"Decrease in accuracy score\")\n",
        "ax.figure.tight_layout()"
      ],
      "metadata": {
        "id": "G_wGlF-dl-4c",
        "outputId": "b91f17ff-a5b7-41e1-bf18-404f43a270d6",
        "colab": {
          "base_uri": "https://localhost:8080/",
          "height": 487
        }
      },
      "execution_count": 35,
      "outputs": [
        {
          "output_type": "display_data",
          "data": {
            "text/plain": [
              "<Figure size 640x480 with 1 Axes>"
            ],
            "image/png": "[encoded data removed]"
          },
          "metadata": {}
        }
      ]
    },
    {
      "cell_type": "markdown",
      "source": [
        "## Multiple layer perceptron (NN) "
      ],
      "metadata": {
        "id": "h0DchJyxrExj"
      }
    },
    {
      "cell_type": "markdown",
      "source": [
        "The search for a good architecture is done with `GridSearchCV`.\n"
      ],
      "metadata": {
        "id": "XyT4Sb2CrRVE"
      }
    },
    {
      "cell_type": "code",
      "source": [
        "from sklearn.preprocessing import StandardScaler\n",
        "scaler = StandardScaler().fit(X_train)\n",
        "Xstd=scaler.transform(X)"
      ],
      "metadata": {
        "id": "0gLbKE6Wg58V"
      },
      "execution_count": null,
      "outputs": []
    },
    {
      "cell_type": "code",
      "source": [
        "from sklearn.model_selection import GridSearchCV\n",
        "from sklearn.neural_network import MLPClassifier\n",
        "from sklearn.model_selection import train_test_split\n",
        "from sklearn.metrics import accuracy_score\n",
        "from sklearn.preprocessing import StandardScaler\n",
        "# Standardize\n",
        "scaler = StandardScaler().fit(X_train)\n",
        "Xstd=scaler.transform(X)\n",
        "# Split the dataset into training and testing sets\n",
        "X_train, X_test, y_train, y_test = train_test_split(Xstd, y, test_size=0.2, random_state=42)\n",
        "# define and train classifier\n",
        "clf = MLPClassifier(solver='adam',hidden_layer_sizes=(16,8), max_iter=1000,learning_rate_init=0.01,momentum=0.9, activation='relu')\n",
        "clf.fit(X_train, y_train)\n",
        "# Make predictions on the test set\n",
        "y_pred = clf.predict(X_test)\n",
        "# Evaluate the accuracy of the classifier\n",
        "accuracy = accuracy_score(y_test, y_pred)\n",
        "print(\"Accuracy:\", accuracy)"
      ],
      "metadata": {
        "id": "rt9A5y0GPm1-",
        "outputId": "22ff42ce-ab58-4b2f-e6b5-ce736656513c",
        "colab": {
          "base_uri": "https://localhost:8080/"
        }
      },
      "execution_count": null,
      "outputs": [
        {
          "output_type": "stream",
          "name": "stdout",
          "text": [
            "Accuracy: 0.5754812563323202\n"
          ]
        }
      ]
    },
    {
      "cell_type": "code",
      "source": [
        "\n",
        "# Define the hyperparameter grid for GridSearchCV\n",
        "param_grid = {\n",
        "    'hidden_layer_sizes': [ (16,8,4), (16,8),(32,16,8)],\n",
        "    'activation': ['relu'],\n",
        "    'solver': [ 'adam'],\n",
        "    'learning_rate': [ 'adaptive'],\n",
        "}\n",
        "\n",
        "# Create a GridSearchCV instance\n",
        "grid_search = GridSearchCV(estimator=clf, param_grid=param_grid, cv=5)\n",
        "\n",
        "# Perform the grid search\n",
        "grid_search.fit(X_train, y_train)\n",
        "\n",
        "# Get the best hyperparameters and model\n",
        "best_params = grid_search.best_params_\n",
        "print(best_params)\n",
        "print(grid_search.cv_results_['mean_test_score'])\n",
        "best_model = grid_search.best_estimator_\n",
        "\n",
        "# Make predictions on the test set using the best model\n",
        "y_pred = best_model.predict(X_test)\n",
        "\n",
        "# Evaluate the accuracy of the best model\n",
        "accuracy = accuracy_score(y_test, y_pred)\n",
        "print(\"Best Model Accuracy:\", accuracy)"
      ],
      "metadata": {
        "id": "eZn9reDDRrkB",
        "outputId": "46aa14a5-a508-4d5d-abad-823dfa77d194",
        "colab": {
          "base_uri": "https://localhost:8080/"
        }
      },
      "execution_count": null,
      "outputs": [
        {
          "output_type": "stream",
          "name": "stdout",
          "text": [
            "{'activation': 'relu', 'hidden_layer_sizes': (16, 8), 'learning_rate': 'adaptive', 'solver': 'adam'}\n",
            "[0.57200208 0.58594861 0.56008666]\n",
            "Best Model Accuracy: 0.5916919959473151\n"
          ]
        }
      ]
    },
    {
      "cell_type": "code",
      "source": [
        "print(best_params)\n",
        "print(grid_search.cv_results_['mean_test_score'])"
      ],
      "metadata": {
        "id": "BzovOQemU_ds",
        "outputId": "569f908e-f470-403a-8722-a77fc4dca281",
        "colab": {
          "base_uri": "https://localhost:8080/"
        }
      },
      "execution_count": null,
      "outputs": [
        {
          "output_type": "stream",
          "name": "stdout",
          "text": [
            "{'activation': 'relu', 'hidden_layer_sizes': (128, 64), 'learning_rate': 'adaptive', 'solver': 'adam'}\n",
            "[0.53852242 0.55768997 0.5350925 ]\n"
          ]
        }
      ]
    },
    {
      "cell_type": "markdown",
      "source": [
        "## XGBoost"
      ],
      "metadata": {
        "id": "6F00azKkrl_u"
      }
    },
    {
      "cell_type": "code",
      "source": [
        "import xgboost as xgb\n",
        "from sklearn.model_selection import train_test_split\n",
        "from sklearn.metrics import accuracy_score\n",
        "\n",
        "# Split the dataset into training and testing sets\n",
        "y0=0*(y==5)+1*(y==6)+2*(y==7)\n",
        "X_train, X_test, y_train, y_test = train_test_split(X, y0, test_size=0.2, random_state=42)\n",
        "\n",
        "# Create the DMatrix for XGBoost\n",
        "dtrain = xgb.DMatrix(X_train, label=y_train)\n",
        "dtest = xgb.DMatrix(X_test, label=y_test)\n",
        "\n",
        "# Set the hyperparameters for XGBoost\n",
        "params = {\n",
        "    'objective': 'multi:softmax',\n",
        "    'num_class': 3,\n",
        "    'max_depth': 3,\n",
        "    'eta': 0.1,\n",
        "    'gamma': 0.1,\n",
        "    'subsample': 0.8,\n",
        "    'colsample_bytree': 0.8\n",
        "}\n",
        "\n",
        "# Train the XGBoost model\n",
        "num_rounds = 100\n",
        "xgb_model = xgb.train(params, dtrain, num_rounds)\n",
        "\n",
        "# Make predictions on the test set\n",
        "y_pred = xgb_model.predict(dtest)\n",
        "\n",
        "# Convert the predicted labels to integers\n",
        "y_pred = y_pred.astype(int)\n",
        "\n",
        "# Evaluate the accuracy of the model\n",
        "accuracy = accuracy_score(y_test, y_pred)\n",
        "print(\"Accuracy:\", accuracy)"
      ],
      "metadata": {
        "id": "FHgrAvV7VCTs",
        "outputId": "4a05c315-4699-4abd-b160-2e02c7f82006",
        "colab": {
          "base_uri": "https://localhost:8080/"
        }
      },
      "execution_count": null,
      "outputs": [
        {
          "output_type": "stream",
          "name": "stdout",
          "text": [
            "Accuracy: 0.5957446808510638\n"
          ]
        }
      ]
    }
  ]
}