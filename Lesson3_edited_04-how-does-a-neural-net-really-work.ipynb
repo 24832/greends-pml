{
  "metadata": {
    "kernelspec": {
      "language": "python",
      "display_name": "Python 3",
      "name": "python3"
    },
    "language_info": {
      "pygments_lexer": "ipython3",
      "nbconvert_exporter": "python",
      "version": "3.6.4",
      "file_extension": ".py",
      "codemirror_mode": {
        "name": "ipython",
        "version": 3
      },
      "name": "python",
      "mimetype": "text/x-python"
    },
    "colab": {
      "provenance": [],
      "include_colab_link": true
    },
    "accelerator": "GPU",
    "gpuClass": "standard",
    "widgets": {
      "application/vnd.jupyter.widget-state+json": {
        "6cf2242be9204c8089ff6254742cb865": {
          "model_module": "@jupyter-widgets/controls",
          "model_name": "VBoxModel",
          "model_module_version": "1.5.0",
          "state": {
            "_dom_classes": [
              "widget-interact"
            ],
            "_model_module": "@jupyter-widgets/controls",
            "_model_module_version": "1.5.0",
            "_model_name": "VBoxModel",
            "_view_count": null,
            "_view_module": "@jupyter-widgets/controls",
            "_view_module_version": "1.5.0",
            "_view_name": "VBoxView",
            "box_style": "",
            "children": [
              "IPY_MODEL_b198d0df58a64f8aa218a14b8b20d213",
              "IPY_MODEL_a4aa98bd8aaf4a218bd5122950b15460",
              "IPY_MODEL_ef4ffea636044ca3bb65e73e2263bbe3",
              "IPY_MODEL_931426fe33654ac3859ce46b2a06391f"
            ],
            "layout": "IPY_MODEL_143a096a59d64d9b850b037ec3bfbec1"
          }
        },
        "b198d0df58a64f8aa218a14b8b20d213": {
          "model_module": "@jupyter-widgets/controls",
          "model_name": "FloatSliderModel",
          "model_module_version": "1.5.0",
          "state": {
            "_dom_classes": [],
            "_model_module": "@jupyter-widgets/controls",
            "_model_module_version": "1.5.0",
            "_model_name": "FloatSliderModel",
            "_view_count": null,
            "_view_module": "@jupyter-widgets/controls",
            "_view_module_version": "1.5.0",
            "_view_name": "FloatSliderView",
            "continuous_update": true,
            "description": "a",
            "description_tooltip": null,
            "disabled": false,
            "layout": "IPY_MODEL_97c613b2c35c4e1f82a70bc8098760ff",
            "max": 3.3000000000000003,
            "min": -1.1,
            "orientation": "horizontal",
            "readout": true,
            "readout_format": ".2f",
            "step": 0.1,
            "style": "IPY_MODEL_9ba4ab084a494872b99300d322e7d278",
            "value": 2.5
          }
        },
        "a4aa98bd8aaf4a218bd5122950b15460": {
          "model_module": "@jupyter-widgets/controls",
          "model_name": "FloatSliderModel",
          "model_module_version": "1.5.0",
          "state": {
            "_dom_classes": [],
            "_model_module": "@jupyter-widgets/controls",
            "_model_module_version": "1.5.0",
            "_model_name": "FloatSliderModel",
            "_view_count": null,
            "_view_module": "@jupyter-widgets/controls",
            "_view_module_version": "1.5.0",
            "_view_name": "FloatSliderView",
            "continuous_update": true,
            "description": "b",
            "description_tooltip": null,
            "disabled": false,
            "layout": "IPY_MODEL_679d229cf2d64036b385ff0a7e4adbf2",
            "max": 3.3000000000000003,
            "min": -1.1,
            "orientation": "horizontal",
            "readout": true,
            "readout_format": ".2f",
            "step": 0.1,
            "style": "IPY_MODEL_94ddda6a05e843e9b05762baacb53234",
            "value": 2.9
          }
        },
        "ef4ffea636044ca3bb65e73e2263bbe3": {
          "model_module": "@jupyter-widgets/controls",
          "model_name": "FloatSliderModel",
          "model_module_version": "1.5.0",
          "state": {
            "_dom_classes": [],
            "_model_module": "@jupyter-widgets/controls",
            "_model_module_version": "1.5.0",
            "_model_name": "FloatSliderModel",
            "_view_count": null,
            "_view_module": "@jupyter-widgets/controls",
            "_view_module_version": "1.5.0",
            "_view_name": "FloatSliderView",
            "continuous_update": true,
            "description": "c",
            "description_tooltip": null,
            "disabled": false,
            "layout": "IPY_MODEL_38f46e44f67740d7a1994a0d5aa11821",
            "max": 3.3000000000000003,
            "min": -1.1,
            "orientation": "horizontal",
            "readout": true,
            "readout_format": ".2f",
            "step": 0.1,
            "style": "IPY_MODEL_cb683d4822c84947b3a3d39268835d69",
            "value": 2.7
          }
        },
        "931426fe33654ac3859ce46b2a06391f": {
          "model_module": "@jupyter-widgets/output",
          "model_name": "OutputModel",
          "model_module_version": "1.0.0",
          "state": {
            "_dom_classes": [],
            "_model_module": "@jupyter-widgets/output",
            "_model_module_version": "1.0.0",
            "_model_name": "OutputModel",
            "_view_count": null,
            "_view_module": "@jupyter-widgets/output",
            "_view_module_version": "1.0.0",
            "_view_name": "OutputView",
            "layout": "IPY_MODEL_e7de30366adc4828a63ca3d0ca8fb9b3",
            "msg_id": "",
            "outputs": [
              {
                "output_type": "display_data",
                "data": {
                  "text/plain": "<Figure size 540x360 with 1 Axes>",
                  "image/png": "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\n"
                },
                "metadata": {
                  "needs_background": "light"
                }
              }
            ]
          }
        },
        "143a096a59d64d9b850b037ec3bfbec1": {
          "model_module": "@jupyter-widgets/base",
          "model_name": "LayoutModel",
          "model_module_version": "1.2.0",
          "state": {
            "_model_module": "@jupyter-widgets/base",
            "_model_module_version": "1.2.0",
            "_model_name": "LayoutModel",
            "_view_count": null,
            "_view_module": "@jupyter-widgets/base",
            "_view_module_version": "1.2.0",
            "_view_name": "LayoutView",
            "align_content": null,
            "align_items": null,
            "align_self": null,
            "border": null,
            "bottom": null,
            "display": null,
            "flex": null,
            "flex_flow": null,
            "grid_area": null,
            "grid_auto_columns": null,
            "grid_auto_flow": null,
            "grid_auto_rows": null,
            "grid_column": null,
            "grid_gap": null,
            "grid_row": null,
            "grid_template_areas": null,
            "grid_template_columns": null,
            "grid_template_rows": null,
            "height": null,
            "justify_content": null,
            "justify_items": null,
            "left": null,
            "margin": null,
            "max_height": null,
            "max_width": null,
            "min_height": null,
            "min_width": null,
            "object_fit": null,
            "object_position": null,
            "order": null,
            "overflow": null,
            "overflow_x": null,
            "overflow_y": null,
            "padding": null,
            "right": null,
            "top": null,
            "visibility": null,
            "width": null
          }
        },
        "97c613b2c35c4e1f82a70bc8098760ff": {
          "model_module": "@jupyter-widgets/base",
          "model_name": "LayoutModel",
          "model_module_version": "1.2.0",
          "state": {
            "_model_module": "@jupyter-widgets/base",
            "_model_module_version": "1.2.0",
            "_model_name": "LayoutModel",
            "_view_count": null,
            "_view_module": "@jupyter-widgets/base",
            "_view_module_version": "1.2.0",
            "_view_name": "LayoutView",
            "align_content": null,
            "align_items": null,
            "align_self": null,
            "border": null,
            "bottom": null,
            "display": null,
            "flex": null,
            "flex_flow": null,
            "grid_area": null,
            "grid_auto_columns": null,
            "grid_auto_flow": null,
            "grid_auto_rows": null,
            "grid_column": null,
            "grid_gap": null,
            "grid_row": null,
            "grid_template_areas": null,
            "grid_template_columns": null,
            "grid_template_rows": null,
            "height": null,
            "justify_content": null,
            "justify_items": null,
            "left": null,
            "margin": null,
            "max_height": null,
            "max_width": null,
            "min_height": null,
            "min_width": null,
            "object_fit": null,
            "object_position": null,
            "order": null,
            "overflow": null,
            "overflow_x": null,
            "overflow_y": null,
            "padding": null,
            "right": null,
            "top": null,
            "visibility": null,
            "width": null
          }
        },
        "9ba4ab084a494872b99300d322e7d278": {
          "model_module": "@jupyter-widgets/controls",
          "model_name": "SliderStyleModel",
          "model_module_version": "1.5.0",
          "state": {
            "_model_module": "@jupyter-widgets/controls",
            "_model_module_version": "1.5.0",
            "_model_name": "SliderStyleModel",
            "_view_count": null,
            "_view_module": "@jupyter-widgets/base",
            "_view_module_version": "1.2.0",
            "_view_name": "StyleView",
            "description_width": "",
            "handle_color": null
          }
        },
        "679d229cf2d64036b385ff0a7e4adbf2": {
          "model_module": "@jupyter-widgets/base",
          "model_name": "LayoutModel",
          "model_module_version": "1.2.0",
          "state": {
            "_model_module": "@jupyter-widgets/base",
            "_model_module_version": "1.2.0",
            "_model_name": "LayoutModel",
            "_view_count": null,
            "_view_module": "@jupyter-widgets/base",
            "_view_module_version": "1.2.0",
            "_view_name": "LayoutView",
            "align_content": null,
            "align_items": null,
            "align_self": null,
            "border": null,
            "bottom": null,
            "display": null,
            "flex": null,
            "flex_flow": null,
            "grid_area": null,
            "grid_auto_columns": null,
            "grid_auto_flow": null,
            "grid_auto_rows": null,
            "grid_column": null,
            "grid_gap": null,
            "grid_row": null,
            "grid_template_areas": null,
            "grid_template_columns": null,
            "grid_template_rows": null,
            "height": null,
            "justify_content": null,
            "justify_items": null,
            "left": null,
            "margin": null,
            "max_height": null,
            "max_width": null,
            "min_height": null,
            "min_width": null,
            "object_fit": null,
            "object_position": null,
            "order": null,
            "overflow": null,
            "overflow_x": null,
            "overflow_y": null,
            "padding": null,
            "right": null,
            "top": null,
            "visibility": null,
            "width": null
          }
        },
        "94ddda6a05e843e9b05762baacb53234": {
          "model_module": "@jupyter-widgets/controls",
          "model_name": "SliderStyleModel",
          "model_module_version": "1.5.0",
          "state": {
            "_model_module": "@jupyter-widgets/controls",
            "_model_module_version": "1.5.0",
            "_model_name": "SliderStyleModel",
            "_view_count": null,
            "_view_module": "@jupyter-widgets/base",
            "_view_module_version": "1.2.0",
            "_view_name": "StyleView",
            "description_width": "",
            "handle_color": null
          }
        },
        "38f46e44f67740d7a1994a0d5aa11821": {
          "model_module": "@jupyter-widgets/base",
          "model_name": "LayoutModel",
          "model_module_version": "1.2.0",
          "state": {
            "_model_module": "@jupyter-widgets/base",
            "_model_module_version": "1.2.0",
            "_model_name": "LayoutModel",
            "_view_count": null,
            "_view_module": "@jupyter-widgets/base",
            "_view_module_version": "1.2.0",
            "_view_name": "LayoutView",
            "align_content": null,
            "align_items": null,
            "align_self": null,
            "border": null,
            "bottom": null,
            "display": null,
            "flex": null,
            "flex_flow": null,
            "grid_area": null,
            "grid_auto_columns": null,
            "grid_auto_flow": null,
            "grid_auto_rows": null,
            "grid_column": null,
            "grid_gap": null,
            "grid_row": null,
            "grid_template_areas": null,
            "grid_template_columns": null,
            "grid_template_rows": null,
            "height": null,
            "justify_content": null,
            "justify_items": null,
            "left": null,
            "margin": null,
            "max_height": null,
            "max_width": null,
            "min_height": null,
            "min_width": null,
            "object_fit": null,
            "object_position": null,
            "order": null,
            "overflow": null,
            "overflow_x": null,
            "overflow_y": null,
            "padding": null,
            "right": null,
            "top": null,
            "visibility": null,
            "width": null
          }
        },
        "cb683d4822c84947b3a3d39268835d69": {
          "model_module": "@jupyter-widgets/controls",
          "model_name": "SliderStyleModel",
          "model_module_version": "1.5.0",
          "state": {
            "_model_module": "@jupyter-widgets/controls",
            "_model_module_version": "1.5.0",
            "_model_name": "SliderStyleModel",
            "_view_count": null,
            "_view_module": "@jupyter-widgets/base",
            "_view_module_version": "1.2.0",
            "_view_name": "StyleView",
            "description_width": "",
            "handle_color": null
          }
        },
        "e7de30366adc4828a63ca3d0ca8fb9b3": {
          "model_module": "@jupyter-widgets/base",
          "model_name": "LayoutModel",
          "model_module_version": "1.2.0",
          "state": {
            "_model_module": "@jupyter-widgets/base",
            "_model_module_version": "1.2.0",
            "_model_name": "LayoutModel",
            "_view_count": null,
            "_view_module": "@jupyter-widgets/base",
            "_view_module_version": "1.2.0",
            "_view_name": "LayoutView",
            "align_content": null,
            "align_items": null,
            "align_self": null,
            "border": null,
            "bottom": null,
            "display": null,
            "flex": null,
            "flex_flow": null,
            "grid_area": null,
            "grid_auto_columns": null,
            "grid_auto_flow": null,
            "grid_auto_rows": null,
            "grid_column": null,
            "grid_gap": null,
            "grid_row": null,
            "grid_template_areas": null,
            "grid_template_columns": null,
            "grid_template_rows": null,
            "height": null,
            "justify_content": null,
            "justify_items": null,
            "left": null,
            "margin": null,
            "max_height": null,
            "max_width": null,
            "min_height": null,
            "min_width": null,
            "object_fit": null,
            "object_position": null,
            "order": null,
            "overflow": null,
            "overflow_x": null,
            "overflow_y": null,
            "padding": null,
            "right": null,
            "top": null,
            "visibility": null,
            "width": null
          }
        },
        "eab2ca190bbf4e69ac12549e55c39144": {
          "model_module": "@jupyter-widgets/controls",
          "model_name": "VBoxModel",
          "model_module_version": "1.5.0",
          "state": {
            "_dom_classes": [
              "widget-interact"
            ],
            "_model_module": "@jupyter-widgets/controls",
            "_model_module_version": "1.5.0",
            "_model_name": "VBoxModel",
            "_view_count": null,
            "_view_module": "@jupyter-widgets/controls",
            "_view_module_version": "1.5.0",
            "_view_name": "VBoxView",
            "box_style": "",
            "children": [
              "IPY_MODEL_c1b3cdf007fa478983056b03d14be003",
              "IPY_MODEL_952e901042614547955ec95c62bc8677",
              "IPY_MODEL_8de50777523042bd8226bc621561d407",
              "IPY_MODEL_27d076efc76b44cfa11996ffc50d00cf"
            ],
            "layout": "IPY_MODEL_4091326444804e90854b49d34e7e11a8"
          }
        },
        "c1b3cdf007fa478983056b03d14be003": {
          "model_module": "@jupyter-widgets/controls",
          "model_name": "FloatSliderModel",
          "model_module_version": "1.5.0",
          "state": {
            "_dom_classes": [],
            "_model_module": "@jupyter-widgets/controls",
            "_model_module_version": "1.5.0",
            "_model_name": "FloatSliderModel",
            "_view_count": null,
            "_view_module": "@jupyter-widgets/controls",
            "_view_module_version": "1.5.0",
            "_view_name": "FloatSliderView",
            "continuous_update": true,
            "description": "a",
            "description_tooltip": null,
            "disabled": false,
            "layout": "IPY_MODEL_aff609761b8948e39fbccc66ab16a2d3",
            "max": 3.3000000000000003,
            "min": -1.1,
            "orientation": "horizontal",
            "readout": true,
            "readout_format": ".2f",
            "step": 0.1,
            "style": "IPY_MODEL_81632a5157684a10b8afc82f8e3eca1f",
            "value": 1.1
          }
        },
        "952e901042614547955ec95c62bc8677": {
          "model_module": "@jupyter-widgets/controls",
          "model_name": "FloatSliderModel",
          "model_module_version": "1.5.0",
          "state": {
            "_dom_classes": [],
            "_model_module": "@jupyter-widgets/controls",
            "_model_module_version": "1.5.0",
            "_model_name": "FloatSliderModel",
            "_view_count": null,
            "_view_module": "@jupyter-widgets/controls",
            "_view_module_version": "1.5.0",
            "_view_name": "FloatSliderView",
            "continuous_update": true,
            "description": "b",
            "description_tooltip": null,
            "disabled": false,
            "layout": "IPY_MODEL_451006af9af64c468a79fc38ec78b744",
            "max": 3.3000000000000003,
            "min": -1.1,
            "orientation": "horizontal",
            "readout": true,
            "readout_format": ".2f",
            "step": 0.1,
            "style": "IPY_MODEL_c4dc3c7cd7664b7d96ccb66a61b18598",
            "value": 2.1
          }
        },
        "8de50777523042bd8226bc621561d407": {
          "model_module": "@jupyter-widgets/controls",
          "model_name": "FloatSliderModel",
          "model_module_version": "1.5.0",
          "state": {
            "_dom_classes": [],
            "_model_module": "@jupyter-widgets/controls",
            "_model_module_version": "1.5.0",
            "_model_name": "FloatSliderModel",
            "_view_count": null,
            "_view_module": "@jupyter-widgets/controls",
            "_view_module_version": "1.5.0",
            "_view_name": "FloatSliderView",
            "continuous_update": true,
            "description": "c",
            "description_tooltip": null,
            "disabled": false,
            "layout": "IPY_MODEL_862ef7969a2649dca74e56eb850cc47f",
            "max": 3.3000000000000003,
            "min": -1.1,
            "orientation": "horizontal",
            "readout": true,
            "readout_format": ".2f",
            "step": 0.1,
            "style": "IPY_MODEL_396193239fcf429ea32f450aa158a904",
            "value": 2.6
          }
        },
        "27d076efc76b44cfa11996ffc50d00cf": {
          "model_module": "@jupyter-widgets/output",
          "model_name": "OutputModel",
          "model_module_version": "1.0.0",
          "state": {
            "_dom_classes": [],
            "_model_module": "@jupyter-widgets/output",
            "_model_module_version": "1.0.0",
            "_model_name": "OutputModel",
            "_view_count": null,
            "_view_module": "@jupyter-widgets/output",
            "_view_module_version": "1.0.0",
            "_view_name": "OutputView",
            "layout": "IPY_MODEL_aa92b6748d30483cb89e6e5c22adfa56",
            "msg_id": "",
            "outputs": [
              {
                "output_type": "display_data",
                "data": {
                  "text/plain": "<Figure size 540x360 with 1 Axes>",
                  "image/png": "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\n"
                },
                "metadata": {
                  "needs_background": "light"
                }
              }
            ]
          }
        },
        "4091326444804e90854b49d34e7e11a8": {
          "model_module": "@jupyter-widgets/base",
          "model_name": "LayoutModel",
          "model_module_version": "1.2.0",
          "state": {
            "_model_module": "@jupyter-widgets/base",
            "_model_module_version": "1.2.0",
            "_model_name": "LayoutModel",
            "_view_count": null,
            "_view_module": "@jupyter-widgets/base",
            "_view_module_version": "1.2.0",
            "_view_name": "LayoutView",
            "align_content": null,
            "align_items": null,
            "align_self": null,
            "border": null,
            "bottom": null,
            "display": null,
            "flex": null,
            "flex_flow": null,
            "grid_area": null,
            "grid_auto_columns": null,
            "grid_auto_flow": null,
            "grid_auto_rows": null,
            "grid_column": null,
            "grid_gap": null,
            "grid_row": null,
            "grid_template_areas": null,
            "grid_template_columns": null,
            "grid_template_rows": null,
            "height": null,
            "justify_content": null,
            "justify_items": null,
            "left": null,
            "margin": null,
            "max_height": null,
            "max_width": null,
            "min_height": null,
            "min_width": null,
            "object_fit": null,
            "object_position": null,
            "order": null,
            "overflow": null,
            "overflow_x": null,
            "overflow_y": null,
            "padding": null,
            "right": null,
            "top": null,
            "visibility": null,
            "width": null
          }
        },
        "aff609761b8948e39fbccc66ab16a2d3": {
          "model_module": "@jupyter-widgets/base",
          "model_name": "LayoutModel",
          "model_module_version": "1.2.0",
          "state": {
            "_model_module": "@jupyter-widgets/base",
            "_model_module_version": "1.2.0",
            "_model_name": "LayoutModel",
            "_view_count": null,
            "_view_module": "@jupyter-widgets/base",
            "_view_module_version": "1.2.0",
            "_view_name": "LayoutView",
            "align_content": null,
            "align_items": null,
            "align_self": null,
            "border": null,
            "bottom": null,
            "display": null,
            "flex": null,
            "flex_flow": null,
            "grid_area": null,
            "grid_auto_columns": null,
            "grid_auto_flow": null,
            "grid_auto_rows": null,
            "grid_column": null,
            "grid_gap": null,
            "grid_row": null,
            "grid_template_areas": null,
            "grid_template_columns": null,
            "grid_template_rows": null,
            "height": null,
            "justify_content": null,
            "justify_items": null,
            "left": null,
            "margin": null,
            "max_height": null,
            "max_width": null,
            "min_height": null,
            "min_width": null,
            "object_fit": null,
            "object_position": null,
            "order": null,
            "overflow": null,
            "overflow_x": null,
            "overflow_y": null,
            "padding": null,
            "right": null,
            "top": null,
            "visibility": null,
            "width": null
          }
        },
        "81632a5157684a10b8afc82f8e3eca1f": {
          "model_module": "@jupyter-widgets/controls",
          "model_name": "SliderStyleModel",
          "model_module_version": "1.5.0",
          "state": {
            "_model_module": "@jupyter-widgets/controls",
            "_model_module_version": "1.5.0",
            "_model_name": "SliderStyleModel",
            "_view_count": null,
            "_view_module": "@jupyter-widgets/base",
            "_view_module_version": "1.2.0",
            "_view_name": "StyleView",
            "description_width": "",
            "handle_color": null
          }
        },
        "451006af9af64c468a79fc38ec78b744": {
          "model_module": "@jupyter-widgets/base",
          "model_name": "LayoutModel",
          "model_module_version": "1.2.0",
          "state": {
            "_model_module": "@jupyter-widgets/base",
            "_model_module_version": "1.2.0",
            "_model_name": "LayoutModel",
            "_view_count": null,
            "_view_module": "@jupyter-widgets/base",
            "_view_module_version": "1.2.0",
            "_view_name": "LayoutView",
            "align_content": null,
            "align_items": null,
            "align_self": null,
            "border": null,
            "bottom": null,
            "display": null,
            "flex": null,
            "flex_flow": null,
            "grid_area": null,
            "grid_auto_columns": null,
            "grid_auto_flow": null,
            "grid_auto_rows": null,
            "grid_column": null,
            "grid_gap": null,
            "grid_row": null,
            "grid_template_areas": null,
            "grid_template_columns": null,
            "grid_template_rows": null,
            "height": null,
            "justify_content": null,
            "justify_items": null,
            "left": null,
            "margin": null,
            "max_height": null,
            "max_width": null,
            "min_height": null,
            "min_width": null,
            "object_fit": null,
            "object_position": null,
            "order": null,
            "overflow": null,
            "overflow_x": null,
            "overflow_y": null,
            "padding": null,
            "right": null,
            "top": null,
            "visibility": null,
            "width": null
          }
        },
        "c4dc3c7cd7664b7d96ccb66a61b18598": {
          "model_module": "@jupyter-widgets/controls",
          "model_name": "SliderStyleModel",
          "model_module_version": "1.5.0",
          "state": {
            "_model_module": "@jupyter-widgets/controls",
            "_model_module_version": "1.5.0",
            "_model_name": "SliderStyleModel",
            "_view_count": null,
            "_view_module": "@jupyter-widgets/base",
            "_view_module_version": "1.2.0",
            "_view_name": "StyleView",
            "description_width": "",
            "handle_color": null
          }
        },
        "862ef7969a2649dca74e56eb850cc47f": {
          "model_module": "@jupyter-widgets/base",
          "model_name": "LayoutModel",
          "model_module_version": "1.2.0",
          "state": {
            "_model_module": "@jupyter-widgets/base",
            "_model_module_version": "1.2.0",
            "_model_name": "LayoutModel",
            "_view_count": null,
            "_view_module": "@jupyter-widgets/base",
            "_view_module_version": "1.2.0",
            "_view_name": "LayoutView",
            "align_content": null,
            "align_items": null,
            "align_self": null,
            "border": null,
            "bottom": null,
            "display": null,
            "flex": null,
            "flex_flow": null,
            "grid_area": null,
            "grid_auto_columns": null,
            "grid_auto_flow": null,
            "grid_auto_rows": null,
            "grid_column": null,
            "grid_gap": null,
            "grid_row": null,
            "grid_template_areas": null,
            "grid_template_columns": null,
            "grid_template_rows": null,
            "height": null,
            "justify_content": null,
            "justify_items": null,
            "left": null,
            "margin": null,
            "max_height": null,
            "max_width": null,
            "min_height": null,
            "min_width": null,
            "object_fit": null,
            "object_position": null,
            "order": null,
            "overflow": null,
            "overflow_x": null,
            "overflow_y": null,
            "padding": null,
            "right": null,
            "top": null,
            "visibility": null,
            "width": null
          }
        },
        "396193239fcf429ea32f450aa158a904": {
          "model_module": "@jupyter-widgets/controls",
          "model_name": "SliderStyleModel",
          "model_module_version": "1.5.0",
          "state": {
            "_model_module": "@jupyter-widgets/controls",
            "_model_module_version": "1.5.0",
            "_model_name": "SliderStyleModel",
            "_view_count": null,
            "_view_module": "@jupyter-widgets/base",
            "_view_module_version": "1.2.0",
            "_view_name": "StyleView",
            "description_width": "",
            "handle_color": null
          }
        },
        "aa92b6748d30483cb89e6e5c22adfa56": {
          "model_module": "@jupyter-widgets/base",
          "model_name": "LayoutModel",
          "model_module_version": "1.2.0",
          "state": {
            "_model_module": "@jupyter-widgets/base",
            "_model_module_version": "1.2.0",
            "_model_name": "LayoutModel",
            "_view_count": null,
            "_view_module": "@jupyter-widgets/base",
            "_view_module_version": "1.2.0",
            "_view_name": "LayoutView",
            "align_content": null,
            "align_items": null,
            "align_self": null,
            "border": null,
            "bottom": null,
            "display": null,
            "flex": null,
            "flex_flow": null,
            "grid_area": null,
            "grid_auto_columns": null,
            "grid_auto_flow": null,
            "grid_auto_rows": null,
            "grid_column": null,
            "grid_gap": null,
            "grid_row": null,
            "grid_template_areas": null,
            "grid_template_columns": null,
            "grid_template_rows": null,
            "height": null,
            "justify_content": null,
            "justify_items": null,
            "left": null,
            "margin": null,
            "max_height": null,
            "max_width": null,
            "min_height": null,
            "min_width": null,
            "object_fit": null,
            "object_position": null,
            "order": null,
            "overflow": null,
            "overflow_x": null,
            "overflow_y": null,
            "padding": null,
            "right": null,
            "top": null,
            "visibility": null,
            "width": null
          }
        },
        "7dfd8037941b4a4985806e3e4d56c29d": {
          "model_module": "@jupyter-widgets/controls",
          "model_name": "VBoxModel",
          "model_module_version": "1.5.0",
          "state": {
            "_dom_classes": [
              "widget-interact"
            ],
            "_model_module": "@jupyter-widgets/controls",
            "_model_module_version": "1.5.0",
            "_model_name": "VBoxModel",
            "_view_count": null,
            "_view_module": "@jupyter-widgets/controls",
            "_view_module_version": "1.5.0",
            "_view_name": "VBoxView",
            "box_style": "",
            "children": [
              "IPY_MODEL_6d722b1f74ef4fc0b4cec2428551420f",
              "IPY_MODEL_0f5c7f0105374079a84492b3ba002f79",
              "IPY_MODEL_848aced63e494e15b440834e25b78367"
            ],
            "layout": "IPY_MODEL_ce190a31ba87407e97baed4b514ee3a2"
          }
        },
        "6d722b1f74ef4fc0b4cec2428551420f": {
          "model_module": "@jupyter-widgets/controls",
          "model_name": "FloatSliderModel",
          "model_module_version": "1.5.0",
          "state": {
            "_dom_classes": [],
            "_model_module": "@jupyter-widgets/controls",
            "_model_module_version": "1.5.0",
            "_model_name": "FloatSliderModel",
            "_view_count": null,
            "_view_module": "@jupyter-widgets/controls",
            "_view_module_version": "1.5.0",
            "_view_name": "FloatSliderView",
            "continuous_update": true,
            "description": "m",
            "description_tooltip": null,
            "disabled": false,
            "layout": "IPY_MODEL_6961f4380f1646d4b7b6083830e75fc1",
            "max": 4.5,
            "min": -1.5,
            "orientation": "horizontal",
            "readout": true,
            "readout_format": ".2f",
            "step": 0.1,
            "style": "IPY_MODEL_c10d8672aafc44809962355dabb996ba",
            "value": 1.5
          }
        },
        "0f5c7f0105374079a84492b3ba002f79": {
          "model_module": "@jupyter-widgets/controls",
          "model_name": "FloatSliderModel",
          "model_module_version": "1.5.0",
          "state": {
            "_dom_classes": [],
            "_model_module": "@jupyter-widgets/controls",
            "_model_module_version": "1.5.0",
            "_model_name": "FloatSliderModel",
            "_view_count": null,
            "_view_module": "@jupyter-widgets/controls",
            "_view_module_version": "1.5.0",
            "_view_name": "FloatSliderView",
            "continuous_update": true,
            "description": "b",
            "description_tooltip": null,
            "disabled": false,
            "layout": "IPY_MODEL_6e8361281668473eb907b424f9261890",
            "max": 4.5,
            "min": -1.5,
            "orientation": "horizontal",
            "readout": true,
            "readout_format": ".2f",
            "step": 0.1,
            "style": "IPY_MODEL_1931657c3c0b4972b13afcbc6848a748",
            "value": -0.1
          }
        },
        "848aced63e494e15b440834e25b78367": {
          "model_module": "@jupyter-widgets/output",
          "model_name": "OutputModel",
          "model_module_version": "1.0.0",
          "state": {
            "_dom_classes": [],
            "_model_module": "@jupyter-widgets/output",
            "_model_module_version": "1.0.0",
            "_model_name": "OutputModel",
            "_view_count": null,
            "_view_module": "@jupyter-widgets/output",
            "_view_module_version": "1.0.0",
            "_view_name": "OutputView",
            "layout": "IPY_MODEL_977e13f24c1a46c485c404684246e5a0",
            "msg_id": "",
            "outputs": [
              {
                "output_type": "display_data",
                "data": {
                  "text/plain": "<Figure size 540x360 with 1 Axes>",
                  "image/png": "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\n"
                },
                "metadata": {
                  "needs_background": "light"
                }
              }
            ]
          }
        },
        "ce190a31ba87407e97baed4b514ee3a2": {
          "model_module": "@jupyter-widgets/base",
          "model_name": "LayoutModel",
          "model_module_version": "1.2.0",
          "state": {
            "_model_module": "@jupyter-widgets/base",
            "_model_module_version": "1.2.0",
            "_model_name": "LayoutModel",
            "_view_count": null,
            "_view_module": "@jupyter-widgets/base",
            "_view_module_version": "1.2.0",
            "_view_name": "LayoutView",
            "align_content": null,
            "align_items": null,
            "align_self": null,
            "border": null,
            "bottom": null,
            "display": null,
            "flex": null,
            "flex_flow": null,
            "grid_area": null,
            "grid_auto_columns": null,
            "grid_auto_flow": null,
            "grid_auto_rows": null,
            "grid_column": null,
            "grid_gap": null,
            "grid_row": null,
            "grid_template_areas": null,
            "grid_template_columns": null,
            "grid_template_rows": null,
            "height": null,
            "justify_content": null,
            "justify_items": null,
            "left": null,
            "margin": null,
            "max_height": null,
            "max_width": null,
            "min_height": null,
            "min_width": null,
            "object_fit": null,
            "object_position": null,
            "order": null,
            "overflow": null,
            "overflow_x": null,
            "overflow_y": null,
            "padding": null,
            "right": null,
            "top": null,
            "visibility": null,
            "width": null
          }
        },
        "6961f4380f1646d4b7b6083830e75fc1": {
          "model_module": "@jupyter-widgets/base",
          "model_name": "LayoutModel",
          "model_module_version": "1.2.0",
          "state": {
            "_model_module": "@jupyter-widgets/base",
            "_model_module_version": "1.2.0",
            "_model_name": "LayoutModel",
            "_view_count": null,
            "_view_module": "@jupyter-widgets/base",
            "_view_module_version": "1.2.0",
            "_view_name": "LayoutView",
            "align_content": null,
            "align_items": null,
            "align_self": null,
            "border": null,
            "bottom": null,
            "display": null,
            "flex": null,
            "flex_flow": null,
            "grid_area": null,
            "grid_auto_columns": null,
            "grid_auto_flow": null,
            "grid_auto_rows": null,
            "grid_column": null,
            "grid_gap": null,
            "grid_row": null,
            "grid_template_areas": null,
            "grid_template_columns": null,
            "grid_template_rows": null,
            "height": null,
            "justify_content": null,
            "justify_items": null,
            "left": null,
            "margin": null,
            "max_height": null,
            "max_width": null,
            "min_height": null,
            "min_width": null,
            "object_fit": null,
            "object_position": null,
            "order": null,
            "overflow": null,
            "overflow_x": null,
            "overflow_y": null,
            "padding": null,
            "right": null,
            "top": null,
            "visibility": null,
            "width": null
          }
        },
        "c10d8672aafc44809962355dabb996ba": {
          "model_module": "@jupyter-widgets/controls",
          "model_name": "SliderStyleModel",
          "model_module_version": "1.5.0",
          "state": {
            "_model_module": "@jupyter-widgets/controls",
            "_model_module_version": "1.5.0",
            "_model_name": "SliderStyleModel",
            "_view_count": null,
            "_view_module": "@jupyter-widgets/base",
            "_view_module_version": "1.2.0",
            "_view_name": "StyleView",
            "description_width": "",
            "handle_color": null
          }
        },
        "6e8361281668473eb907b424f9261890": {
          "model_module": "@jupyter-widgets/base",
          "model_name": "LayoutModel",
          "model_module_version": "1.2.0",
          "state": {
            "_model_module": "@jupyter-widgets/base",
            "_model_module_version": "1.2.0",
            "_model_name": "LayoutModel",
            "_view_count": null,
            "_view_module": "@jupyter-widgets/base",
            "_view_module_version": "1.2.0",
            "_view_name": "LayoutView",
            "align_content": null,
            "align_items": null,
            "align_self": null,
            "border": null,
            "bottom": null,
            "display": null,
            "flex": null,
            "flex_flow": null,
            "grid_area": null,
            "grid_auto_columns": null,
            "grid_auto_flow": null,
            "grid_auto_rows": null,
            "grid_column": null,
            "grid_gap": null,
            "grid_row": null,
            "grid_template_areas": null,
            "grid_template_columns": null,
            "grid_template_rows": null,
            "height": null,
            "justify_content": null,
            "justify_items": null,
            "left": null,
            "margin": null,
            "max_height": null,
            "max_width": null,
            "min_height": null,
            "min_width": null,
            "object_fit": null,
            "object_position": null,
            "order": null,
            "overflow": null,
            "overflow_x": null,
            "overflow_y": null,
            "padding": null,
            "right": null,
            "top": null,
            "visibility": null,
            "width": null
          }
        },
        "1931657c3c0b4972b13afcbc6848a748": {
          "model_module": "@jupyter-widgets/controls",
          "model_name": "SliderStyleModel",
          "model_module_version": "1.5.0",
          "state": {
            "_model_module": "@jupyter-widgets/controls",
            "_model_module_version": "1.5.0",
            "_model_name": "SliderStyleModel",
            "_view_count": null,
            "_view_module": "@jupyter-widgets/base",
            "_view_module_version": "1.2.0",
            "_view_name": "StyleView",
            "description_width": "",
            "handle_color": null
          }
        },
        "977e13f24c1a46c485c404684246e5a0": {
          "model_module": "@jupyter-widgets/base",
          "model_name": "LayoutModel",
          "model_module_version": "1.2.0",
          "state": {
            "_model_module": "@jupyter-widgets/base",
            "_model_module_version": "1.2.0",
            "_model_name": "LayoutModel",
            "_view_count": null,
            "_view_module": "@jupyter-widgets/base",
            "_view_module_version": "1.2.0",
            "_view_name": "LayoutView",
            "align_content": null,
            "align_items": null,
            "align_self": null,
            "border": null,
            "bottom": null,
            "display": null,
            "flex": null,
            "flex_flow": null,
            "grid_area": null,
            "grid_auto_columns": null,
            "grid_auto_flow": null,
            "grid_auto_rows": null,
            "grid_column": null,
            "grid_gap": null,
            "grid_row": null,
            "grid_template_areas": null,
            "grid_template_columns": null,
            "grid_template_rows": null,
            "height": null,
            "justify_content": null,
            "justify_items": null,
            "left": null,
            "margin": null,
            "max_height": null,
            "max_width": null,
            "min_height": null,
            "min_width": null,
            "object_fit": null,
            "object_position": null,
            "order": null,
            "overflow": null,
            "overflow_x": null,
            "overflow_y": null,
            "padding": null,
            "right": null,
            "top": null,
            "visibility": null,
            "width": null
          }
        },
        "4776f553cbdf499a92bbb7b87b7f1cdc": {
          "model_module": "@jupyter-widgets/controls",
          "model_name": "VBoxModel",
          "model_module_version": "1.5.0",
          "state": {
            "_dom_classes": [
              "widget-interact"
            ],
            "_model_module": "@jupyter-widgets/controls",
            "_model_module_version": "1.5.0",
            "_model_name": "VBoxModel",
            "_view_count": null,
            "_view_module": "@jupyter-widgets/controls",
            "_view_module_version": "1.5.0",
            "_view_name": "VBoxView",
            "box_style": "",
            "children": [
              "IPY_MODEL_46236e341d0b44bf9910aa13ba7fbbdf",
              "IPY_MODEL_2151f742d61449e2b04868b3993cf757",
              "IPY_MODEL_07857780136d4f44a33118f1747203f8",
              "IPY_MODEL_1304f6ded50f4d35b1091e8430aa78cb",
              "IPY_MODEL_76ce542ee3f84617bd64ff33c1735199"
            ],
            "layout": "IPY_MODEL_ccfe750b521d4836bd083f5b25d90593"
          }
        },
        "46236e341d0b44bf9910aa13ba7fbbdf": {
          "model_module": "@jupyter-widgets/controls",
          "model_name": "FloatSliderModel",
          "model_module_version": "1.5.0",
          "state": {
            "_dom_classes": [],
            "_model_module": "@jupyter-widgets/controls",
            "_model_module_version": "1.5.0",
            "_model_name": "FloatSliderModel",
            "_view_count": null,
            "_view_module": "@jupyter-widgets/controls",
            "_view_module_version": "1.5.0",
            "_view_name": "FloatSliderView",
            "continuous_update": true,
            "description": "m1",
            "description_tooltip": null,
            "disabled": false,
            "layout": "IPY_MODEL_a866dc0749c6423cae02f4569441dbec",
            "max": 1.5,
            "min": -4.5,
            "orientation": "horizontal",
            "readout": true,
            "readout_format": ".2f",
            "step": 0.1,
            "style": "IPY_MODEL_042bdb36c8104620a752f8bc913badb1",
            "value": -1.5
          }
        },
        "2151f742d61449e2b04868b3993cf757": {
          "model_module": "@jupyter-widgets/controls",
          "model_name": "FloatSliderModel",
          "model_module_version": "1.5.0",
          "state": {
            "_dom_classes": [],
            "_model_module": "@jupyter-widgets/controls",
            "_model_module_version": "1.5.0",
            "_model_name": "FloatSliderModel",
            "_view_count": null,
            "_view_module": "@jupyter-widgets/controls",
            "_view_module_version": "1.5.0",
            "_view_name": "FloatSliderView",
            "continuous_update": true,
            "description": "b1",
            "description_tooltip": null,
            "disabled": false,
            "layout": "IPY_MODEL_dc3788c1260c4bc5965d13aa82257fce",
            "max": 1.5,
            "min": -4.5,
            "orientation": "horizontal",
            "readout": true,
            "readout_format": ".2f",
            "step": 0.1,
            "style": "IPY_MODEL_162357ef4c9049e0b71833fab02e70c2",
            "value": -0.9
          }
        },
        "07857780136d4f44a33118f1747203f8": {
          "model_module": "@jupyter-widgets/controls",
          "model_name": "FloatSliderModel",
          "model_module_version": "1.5.0",
          "state": {
            "_dom_classes": [],
            "_model_module": "@jupyter-widgets/controls",
            "_model_module_version": "1.5.0",
            "_model_name": "FloatSliderModel",
            "_view_count": null,
            "_view_module": "@jupyter-widgets/controls",
            "_view_module_version": "1.5.0",
            "_view_name": "FloatSliderView",
            "continuous_update": true,
            "description": "m2",
            "description_tooltip": null,
            "disabled": false,
            "layout": "IPY_MODEL_e3745a03adf34813b169d2606d86adfd",
            "max": 4.5,
            "min": -1.5,
            "orientation": "horizontal",
            "readout": true,
            "readout_format": ".2f",
            "step": 0.1,
            "style": "IPY_MODEL_7d2ceefc6e5347c3a248fada1ade4387",
            "value": 2.6
          }
        },
        "1304f6ded50f4d35b1091e8430aa78cb": {
          "model_module": "@jupyter-widgets/controls",
          "model_name": "FloatSliderModel",
          "model_module_version": "1.5.0",
          "state": {
            "_dom_classes": [],
            "_model_module": "@jupyter-widgets/controls",
            "_model_module_version": "1.5.0",
            "_model_name": "FloatSliderModel",
            "_view_count": null,
            "_view_module": "@jupyter-widgets/controls",
            "_view_module_version": "1.5.0",
            "_view_name": "FloatSliderView",
            "continuous_update": true,
            "description": "b2",
            "description_tooltip": null,
            "disabled": false,
            "layout": "IPY_MODEL_833df6c93b2448a9b22bb07204b858e7",
            "max": 4.5,
            "min": -1.5,
            "orientation": "horizontal",
            "readout": true,
            "readout_format": ".2f",
            "step": 0.1,
            "style": "IPY_MODEL_eacc836daec04d90a6e0f4ce17bd4f1e",
            "value": 1.5
          }
        },
        "76ce542ee3f84617bd64ff33c1735199": {
          "model_module": "@jupyter-widgets/output",
          "model_name": "OutputModel",
          "model_module_version": "1.0.0",
          "state": {
            "_dom_classes": [],
            "_model_module": "@jupyter-widgets/output",
            "_model_module_version": "1.0.0",
            "_model_name": "OutputModel",
            "_view_count": null,
            "_view_module": "@jupyter-widgets/output",
            "_view_module_version": "1.0.0",
            "_view_name": "OutputView",
            "layout": "IPY_MODEL_5963389e0ba648aa9ee0122153e889bd",
            "msg_id": "",
            "outputs": [
              {
                "output_type": "display_data",
                "data": {
                  "text/plain": "<Figure size 540x360 with 1 Axes>",
                  "image/png": "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\n"
                },
                "metadata": {
                  "needs_background": "light"
                }
              }
            ]
          }
        },
        "ccfe750b521d4836bd083f5b25d90593": {
          "model_module": "@jupyter-widgets/base",
          "model_name": "LayoutModel",
          "model_module_version": "1.2.0",
          "state": {
            "_model_module": "@jupyter-widgets/base",
            "_model_module_version": "1.2.0",
            "_model_name": "LayoutModel",
            "_view_count": null,
            "_view_module": "@jupyter-widgets/base",
            "_view_module_version": "1.2.0",
            "_view_name": "LayoutView",
            "align_content": null,
            "align_items": null,
            "align_self": null,
            "border": null,
            "bottom": null,
            "display": null,
            "flex": null,
            "flex_flow": null,
            "grid_area": null,
            "grid_auto_columns": null,
            "grid_auto_flow": null,
            "grid_auto_rows": null,
            "grid_column": null,
            "grid_gap": null,
            "grid_row": null,
            "grid_template_areas": null,
            "grid_template_columns": null,
            "grid_template_rows": null,
            "height": null,
            "justify_content": null,
            "justify_items": null,
            "left": null,
            "margin": null,
            "max_height": null,
            "max_width": null,
            "min_height": null,
            "min_width": null,
            "object_fit": null,
            "object_position": null,
            "order": null,
            "overflow": null,
            "overflow_x": null,
            "overflow_y": null,
            "padding": null,
            "right": null,
            "top": null,
            "visibility": null,
            "width": null
          }
        },
        "a866dc0749c6423cae02f4569441dbec": {
          "model_module": "@jupyter-widgets/base",
          "model_name": "LayoutModel",
          "model_module_version": "1.2.0",
          "state": {
            "_model_module": "@jupyter-widgets/base",
            "_model_module_version": "1.2.0",
            "_model_name": "LayoutModel",
            "_view_count": null,
            "_view_module": "@jupyter-widgets/base",
            "_view_module_version": "1.2.0",
            "_view_name": "LayoutView",
            "align_content": null,
            "align_items": null,
            "align_self": null,
            "border": null,
            "bottom": null,
            "display": null,
            "flex": null,
            "flex_flow": null,
            "grid_area": null,
            "grid_auto_columns": null,
            "grid_auto_flow": null,
            "grid_auto_rows": null,
            "grid_column": null,
            "grid_gap": null,
            "grid_row": null,
            "grid_template_areas": null,
            "grid_template_columns": null,
            "grid_template_rows": null,
            "height": null,
            "justify_content": null,
            "justify_items": null,
            "left": null,
            "margin": null,
            "max_height": null,
            "max_width": null,
            "min_height": null,
            "min_width": null,
            "object_fit": null,
            "object_position": null,
            "order": null,
            "overflow": null,
            "overflow_x": null,
            "overflow_y": null,
            "padding": null,
            "right": null,
            "top": null,
            "visibility": null,
            "width": null
          }
        },
        "042bdb36c8104620a752f8bc913badb1": {
          "model_module": "@jupyter-widgets/controls",
          "model_name": "SliderStyleModel",
          "model_module_version": "1.5.0",
          "state": {
            "_model_module": "@jupyter-widgets/controls",
            "_model_module_version": "1.5.0",
            "_model_name": "SliderStyleModel",
            "_view_count": null,
            "_view_module": "@jupyter-widgets/base",
            "_view_module_version": "1.2.0",
            "_view_name": "StyleView",
            "description_width": "",
            "handle_color": null
          }
        },
        "dc3788c1260c4bc5965d13aa82257fce": {
          "model_module": "@jupyter-widgets/base",
          "model_name": "LayoutModel",
          "model_module_version": "1.2.0",
          "state": {
            "_model_module": "@jupyter-widgets/base",
            "_model_module_version": "1.2.0",
            "_model_name": "LayoutModel",
            "_view_count": null,
            "_view_module": "@jupyter-widgets/base",
            "_view_module_version": "1.2.0",
            "_view_name": "LayoutView",
            "align_content": null,
            "align_items": null,
            "align_self": null,
            "border": null,
            "bottom": null,
            "display": null,
            "flex": null,
            "flex_flow": null,
            "grid_area": null,
            "grid_auto_columns": null,
            "grid_auto_flow": null,
            "grid_auto_rows": null,
            "grid_column": null,
            "grid_gap": null,
            "grid_row": null,
            "grid_template_areas": null,
            "grid_template_columns": null,
            "grid_template_rows": null,
            "height": null,
            "justify_content": null,
            "justify_items": null,
            "left": null,
            "margin": null,
            "max_height": null,
            "max_width": null,
            "min_height": null,
            "min_width": null,
            "object_fit": null,
            "object_position": null,
            "order": null,
            "overflow": null,
            "overflow_x": null,
            "overflow_y": null,
            "padding": null,
            "right": null,
            "top": null,
            "visibility": null,
            "width": null
          }
        },
        "162357ef4c9049e0b71833fab02e70c2": {
          "model_module": "@jupyter-widgets/controls",
          "model_name": "SliderStyleModel",
          "model_module_version": "1.5.0",
          "state": {
            "_model_module": "@jupyter-widgets/controls",
            "_model_module_version": "1.5.0",
            "_model_name": "SliderStyleModel",
            "_view_count": null,
            "_view_module": "@jupyter-widgets/base",
            "_view_module_version": "1.2.0",
            "_view_name": "StyleView",
            "description_width": "",
            "handle_color": null
          }
        },
        "e3745a03adf34813b169d2606d86adfd": {
          "model_module": "@jupyter-widgets/base",
          "model_name": "LayoutModel",
          "model_module_version": "1.2.0",
          "state": {
            "_model_module": "@jupyter-widgets/base",
            "_model_module_version": "1.2.0",
            "_model_name": "LayoutModel",
            "_view_count": null,
            "_view_module": "@jupyter-widgets/base",
            "_view_module_version": "1.2.0",
            "_view_name": "LayoutView",
            "align_content": null,
            "align_items": null,
            "align_self": null,
            "border": null,
            "bottom": null,
            "display": null,
            "flex": null,
            "flex_flow": null,
            "grid_area": null,
            "grid_auto_columns": null,
            "grid_auto_flow": null,
            "grid_auto_rows": null,
            "grid_column": null,
            "grid_gap": null,
            "grid_row": null,
            "grid_template_areas": null,
            "grid_template_columns": null,
            "grid_template_rows": null,
            "height": null,
            "justify_content": null,
            "justify_items": null,
            "left": null,
            "margin": null,
            "max_height": null,
            "max_width": null,
            "min_height": null,
            "min_width": null,
            "object_fit": null,
            "object_position": null,
            "order": null,
            "overflow": null,
            "overflow_x": null,
            "overflow_y": null,
            "padding": null,
            "right": null,
            "top": null,
            "visibility": null,
            "width": null
          }
        },
        "7d2ceefc6e5347c3a248fada1ade4387": {
          "model_module": "@jupyter-widgets/controls",
          "model_name": "SliderStyleModel",
          "model_module_version": "1.5.0",
          "state": {
            "_model_module": "@jupyter-widgets/controls",
            "_model_module_version": "1.5.0",
            "_model_name": "SliderStyleModel",
            "_view_count": null,
            "_view_module": "@jupyter-widgets/base",
            "_view_module_version": "1.2.0",
            "_view_name": "StyleView",
            "description_width": "",
            "handle_color": null
          }
        },
        "833df6c93b2448a9b22bb07204b858e7": {
          "model_module": "@jupyter-widgets/base",
          "model_name": "LayoutModel",
          "model_module_version": "1.2.0",
          "state": {
            "_model_module": "@jupyter-widgets/base",
            "_model_module_version": "1.2.0",
            "_model_name": "LayoutModel",
            "_view_count": null,
            "_view_module": "@jupyter-widgets/base",
            "_view_module_version": "1.2.0",
            "_view_name": "LayoutView",
            "align_content": null,
            "align_items": null,
            "align_self": null,
            "border": null,
            "bottom": null,
            "display": null,
            "flex": null,
            "flex_flow": null,
            "grid_area": null,
            "grid_auto_columns": null,
            "grid_auto_flow": null,
            "grid_auto_rows": null,
            "grid_column": null,
            "grid_gap": null,
            "grid_row": null,
            "grid_template_areas": null,
            "grid_template_columns": null,
            "grid_template_rows": null,
            "height": null,
            "justify_content": null,
            "justify_items": null,
            "left": null,
            "margin": null,
            "max_height": null,
            "max_width": null,
            "min_height": null,
            "min_width": null,
            "object_fit": null,
            "object_position": null,
            "order": null,
            "overflow": null,
            "overflow_x": null,
            "overflow_y": null,
            "padding": null,
            "right": null,
            "top": null,
            "visibility": null,
            "width": null
          }
        },
        "eacc836daec04d90a6e0f4ce17bd4f1e": {
          "model_module": "@jupyter-widgets/controls",
          "model_name": "SliderStyleModel",
          "model_module_version": "1.5.0",
          "state": {
            "_model_module": "@jupyter-widgets/controls",
            "_model_module_version": "1.5.0",
            "_model_name": "SliderStyleModel",
            "_view_count": null,
            "_view_module": "@jupyter-widgets/base",
            "_view_module_version": "1.2.0",
            "_view_name": "StyleView",
            "description_width": "",
            "handle_color": null
          }
        },
        "5963389e0ba648aa9ee0122153e889bd": {
          "model_module": "@jupyter-widgets/base",
          "model_name": "LayoutModel",
          "model_module_version": "1.2.0",
          "state": {
            "_model_module": "@jupyter-widgets/base",
            "_model_module_version": "1.2.0",
            "_model_name": "LayoutModel",
            "_view_count": null,
            "_view_module": "@jupyter-widgets/base",
            "_view_module_version": "1.2.0",
            "_view_name": "LayoutView",
            "align_content": null,
            "align_items": null,
            "align_self": null,
            "border": null,
            "bottom": null,
            "display": null,
            "flex": null,
            "flex_flow": null,
            "grid_area": null,
            "grid_auto_columns": null,
            "grid_auto_flow": null,
            "grid_auto_rows": null,
            "grid_column": null,
            "grid_gap": null,
            "grid_row": null,
            "grid_template_areas": null,
            "grid_template_columns": null,
            "grid_template_rows": null,
            "height": null,
            "justify_content": null,
            "justify_items": null,
            "left": null,
            "margin": null,
            "max_height": null,
            "max_width": null,
            "min_height": null,
            "min_width": null,
            "object_fit": null,
            "object_position": null,
            "order": null,
            "overflow": null,
            "overflow_x": null,
            "overflow_y": null,
            "padding": null,
            "right": null,
            "top": null,
            "visibility": null,
            "width": null
          }
        }
      }
    }
  },
  "nbformat_minor": 0,
  "nbformat": 4,
  "cells": [
    {
      "cell_type": "markdown",
      "metadata": {
        "id": "view-in-github",
        "colab_type": "text"
      },
      "source": [
        "<a href=\"https://colab.research.google.com/github/isa-ulisboa/greends-pml/blob/main/Lesson3_edited_04-how-does-a-neural-net-really-work.ipynb\" target=\"_parent\"><img src=\"https://colab.research.google.com/assets/colab-badge.svg\" alt=\"Open In Colab\"/></a>"
      ]
    },
    {
      "cell_type": "markdown",
      "source": [
        "**Important**: The interactive features of this notebook don't work in Kaggle's *Reader* mode. They only work in *Edit* mode. Therefore, before starting reading this, please click \"**Copy & Edit**\" in the top right of this window, then in the menu click *Run* and then *Run all*. Then you'll be able to use all the interactive sliders in this notebook."
      ],
      "metadata": {
        "id": "TyDYyFdLohN_"
      }
    },
    {
      "cell_type": "markdown",
      "source": [
        "## Fitting a function with *gradient descent*"
      ],
      "metadata": {
        "id": "lUeEx58ZohOD"
      }
    },
    {
      "cell_type": "markdown",
      "source": [
        "A neural network is just a mathematical function. In the most standard kind of neural network, the function:\n",
        "\n",
        "1. Multiplies each input by a number of values. These values are known as *parameters*\n",
        "1. Adds them up for each group of values\n",
        "1. Replaces the negative numbers with zeros\n",
        "\n",
        "This represents one \"layer\". Then these three steps are repeated, using the outputs of the previous layer as the inputs to the next layer. Initially, the parameters in this function are selected randomly. Therefore a newly created neural network doesn't do anything useful at all -- it's just random!\n",
        "\n",
        "To get the function to \"learn\" to do something useful, we have to change the parameters to make them \"better\" in some way. We do this using *gradient descent*. Let's see how this works..."
      ],
      "metadata": {
        "id": "WYxiOIbnohOE"
      }
    },
    {
      "cell_type": "code",
      "source": [
        "from ipywidgets import interact\n",
        "from fastai.basics import *\n",
        "\n",
        "plt.rc('figure', dpi=90)\n",
        "\n",
        "def plot_function(f, title=None, min=-2.1, max=2.1, color='r', ylim=None):\n",
        "    x = torch.linspace(min,max, 100)[:,None]\n",
        "    if ylim: plt.ylim(ylim)\n",
        "    plt.plot(x, f(x), color)\n",
        "    if title is not None: plt.title(title)"
      ],
      "metadata": {
        "_kg_hide-input": true,
        "execution": {
          "iopub.status.busy": "2022-04-23T08:54:34.585263Z",
          "iopub.execute_input": "2022-04-23T08:54:34.587766Z",
          "iopub.status.idle": "2022-04-23T08:54:36.961606Z",
          "shell.execute_reply.started": "2022-04-23T08:54:34.587646Z",
          "shell.execute_reply": "2022-04-23T08:54:36.960846Z"
        },
        "trusted": true,
        "id": "ncDxW0H1ohOG"
      },
      "execution_count": 3,
      "outputs": []
    },
    {
      "cell_type": "markdown",
      "source": [
        "To learn how gradient descent works, we're going to start by fitting a quadratic, since that's a function most of us are probably more familiar with than a neural network. Here's the quadratic we're going to try to fit:"
      ],
      "metadata": {
        "id": "xROa2fRTohOH"
      }
    },
    {
      "cell_type": "code",
      "source": [
        "def f(x): return 3*x**2 + 2*x + 1\n",
        "\n",
        "plot_function(f, \"$3x^2 + 2x + 1$\")"
      ],
      "metadata": {
        "execution": {
          "iopub.status.busy": "2022-04-23T08:54:36.963135Z",
          "iopub.execute_input": "2022-04-23T08:54:36.96361Z",
          "iopub.status.idle": "2022-04-23T08:54:37.603953Z",
          "shell.execute_reply.started": "2022-04-23T08:54:36.963574Z",
          "shell.execute_reply": "2022-04-23T08:54:37.60309Z"
        },
        "trusted": true,
        "colab": {
          "base_uri": "https://localhost:8080/",
          "height": 351
        },
        "id": "zqGUdzKKohOI",
        "outputId": "fc0c761f-b511-4644-aeed-7242dfa0da42"
      },
      "execution_count": 4,
      "outputs": [
        {
          "output_type": "display_data",
          "data": {
            "text/plain": [
              "<Figure size 540x360 with 1 Axes>"
            ],
            "image/png": "[encoded data removed]"
          },
          "metadata": {
            "needs_background": "light"
          }
        }
      ]
    },
    {
      "cell_type": "markdown",
      "source": [
        "This quadratic is of the form $ax^2+bx+c$, with parameters $a=3$, $b=2$, $c=1$. To make it easier to try out different quadratics for fitting a model to the data we'll create, let's create a function that calculates the value of a point on any quadratic:"
      ],
      "metadata": {
        "id": "cuzJyBijohOK"
      }
    },
    {
      "cell_type": "code",
      "source": [
        "def quad(a, b, c, x): return a*x**2 + b*x + c"
      ],
      "metadata": {
        "execution": {
          "iopub.status.busy": "2022-04-23T08:54:37.605073Z",
          "iopub.execute_input": "2022-04-23T08:54:37.605295Z",
          "iopub.status.idle": "2022-04-23T08:54:37.610024Z",
          "shell.execute_reply.started": "2022-04-23T08:54:37.605268Z",
          "shell.execute_reply": "2022-04-23T08:54:37.609103Z"
        },
        "trusted": true,
        "id": "f6j8PhljohOL"
      },
      "execution_count": 5,
      "outputs": []
    },
    {
      "cell_type": "markdown",
      "source": [
        "If we fix some particular values of a, b, and c, then we'll have made a quadratic. To fix values passed to a function in python, we use the `partial` function, like so:"
      ],
      "metadata": {
        "id": "S5g1qfa-ohOL"
      }
    },
    {
      "cell_type": "code",
      "source": [
        "def mk_quad(a,b,c): return partial(quad, a,b,c)"
      ],
      "metadata": {
        "execution": {
          "iopub.status.busy": "2022-04-23T08:54:37.611932Z",
          "iopub.execute_input": "2022-04-23T08:54:37.612415Z",
          "iopub.status.idle": "2022-04-23T08:54:37.622926Z",
          "shell.execute_reply.started": "2022-04-23T08:54:37.612377Z",
          "shell.execute_reply": "2022-04-23T08:54:37.622077Z"
        },
        "trusted": true,
        "id": "liK9sOodohOM"
      },
      "execution_count": 6,
      "outputs": []
    },
    {
      "cell_type": "markdown",
      "source": [
        "So for instance, we can recreate our previous quadratic:"
      ],
      "metadata": {
        "id": "FUnc5POzohOM"
      }
    },
    {
      "cell_type": "code",
      "source": [
        "f2 = mk_quad(3,2,1)\n",
        "plot_function(f2)"
      ],
      "metadata": {
        "execution": {
          "iopub.status.busy": "2022-04-23T08:54:37.624649Z",
          "iopub.execute_input": "2022-04-23T08:54:37.625357Z",
          "iopub.status.idle": "2022-04-23T08:54:37.829696Z",
          "shell.execute_reply.started": "2022-04-23T08:54:37.62531Z",
          "shell.execute_reply": "2022-04-23T08:54:37.828997Z"
        },
        "trusted": true,
        "colab": {
          "base_uri": "https://localhost:8080/",
          "height": 328
        },
        "id": "qc8jYIxkohON",
        "outputId": "2ccb5d41-0e5c-4f5b-b8ad-571013d181b2"
      },
      "execution_count": 7,
      "outputs": [
        {
          "output_type": "display_data",
          "data": {
            "text/plain": [
              "<Figure size 540x360 with 1 Axes>"
            ],
            "image/png": "[encoded data removed]"
          },
          "metadata": {
            "needs_background": "light"
          }
        }
      ]
    },
    {
      "cell_type": "markdown",
      "source": [
        "Now let's simulate making some noisy measurements of our quadratic `f`. We'll then use gradient descent to see if we can recreate the original function from the data.\n",
        "\n",
        "Here's a couple of functions to add some random noise to data:"
      ],
      "metadata": {
        "id": "QazW1IHfohOO"
      }
    },
    {
      "cell_type": "code",
      "source": [
        "def noise(x, scale): return np.random.normal(scale=scale, size=x.shape)\n",
        "def add_noise(x, mult, add): return x * (1+noise(x,mult)) + noise(x,add)"
      ],
      "metadata": {
        "execution": {
          "iopub.status.busy": "2022-04-23T08:54:37.831069Z",
          "iopub.execute_input": "2022-04-23T08:54:37.831627Z",
          "iopub.status.idle": "2022-04-23T08:54:37.838391Z",
          "shell.execute_reply.started": "2022-04-23T08:54:37.831581Z",
          "shell.execute_reply": "2022-04-23T08:54:37.837454Z"
        },
        "trusted": true,
        "id": "U0-yAZySohOO"
      },
      "execution_count": 8,
      "outputs": []
    },
    {
      "cell_type": "markdown",
      "source": [
        "Let's use the now to create our noisy measurements based on the quadratic above:"
      ],
      "metadata": {
        "id": "I8lvZD7CohOO"
      }
    },
    {
      "cell_type": "code",
      "source": [
        "np.random.seed(42)\n",
        "\n",
        "x = torch.linspace(-2, 2, steps=20)[:,None]\n",
        "y = add_noise(f(x), 0.15, 1.5)"
      ],
      "metadata": {
        "execution": {
          "iopub.status.busy": "2022-04-23T08:54:37.839727Z",
          "iopub.execute_input": "2022-04-23T08:54:37.83997Z",
          "iopub.status.idle": "2022-04-23T08:54:37.86166Z",
          "shell.execute_reply.started": "2022-04-23T08:54:37.839939Z",
          "shell.execute_reply": "2022-04-23T08:54:37.861067Z"
        },
        "trusted": true,
        "id": "QkJvE9soohOO"
      },
      "execution_count": 9,
      "outputs": []
    },
    {
      "cell_type": "markdown",
      "source": [
        "Here's the first few values of each of `x` and `y`:"
      ],
      "metadata": {
        "id": "L7kavdKlohOO"
      }
    },
    {
      "cell_type": "code",
      "source": [
        "x[:5],y[:5]"
      ],
      "metadata": {
        "execution": {
          "iopub.status.busy": "2022-04-23T08:54:37.862576Z",
          "iopub.execute_input": "2022-04-23T08:54:37.863311Z",
          "iopub.status.idle": "2022-04-23T08:54:37.901746Z",
          "shell.execute_reply.started": "2022-04-23T08:54:37.863275Z",
          "shell.execute_reply": "2022-04-23T08:54:37.9009Z"
        },
        "trusted": true,
        "colab": {
          "base_uri": "https://localhost:8080/"
        },
        "id": "Gl3bfw2IohOP",
        "outputId": "8a73fb6b-946e-4aa9-851c-30bf655ceadf"
      },
      "execution_count": 10,
      "outputs": [
        {
          "output_type": "execute_result",
          "data": {
            "text/plain": [
              "(tensor([[-2.0000],\n",
              "         [-1.7895],\n",
              "         [-1.5789],\n",
              "         [-1.3684],\n",
              "         [-1.1579]]), tensor([[11.8690],\n",
              "         [ 6.5433],\n",
              "         [ 5.9396],\n",
              "         [ 2.6304],\n",
              "         [ 1.7947]], dtype=torch.float64))"
            ]
          },
          "metadata": {},
          "execution_count": 10
        }
      ]
    },
    {
      "cell_type": "markdown",
      "source": [
        "As you can see, they're *tensors*. A tensor is just like an `array` in numpy (if you're not familiar with numpy, I strongly recommend reading [this great book](https://wesmckinney.com/book/), because it's a critical foundation for nearly all numeric programming in Python. Furthermore, PyTorch, which most researchers use for deep learning, is modeled closely on numpy.) A tensor can be a single number (a *scalar* or *rank-0 tensor*), a list of numbers (a *vector* or *rank-1 tensor*), a table of numbers (a *matrix* or *rank-0 tensor*), a table of tables of numbers (a *rank-3 tensor*), and so forth.\n",
        "\n",
        "We're not going to learn much about our data by just looking at the raw numbers, so let's draw a picture:"
      ],
      "metadata": {
        "id": "Pl67wDfGohOP"
      }
    },
    {
      "cell_type": "code",
      "source": [
        "plt.scatter(x,y);"
      ],
      "metadata": {
        "execution": {
          "iopub.status.busy": "2022-04-23T08:54:37.903248Z",
          "iopub.execute_input": "2022-04-23T08:54:37.903736Z",
          "iopub.status.idle": "2022-04-23T08:54:38.141765Z",
          "shell.execute_reply.started": "2022-04-23T08:54:37.903689Z",
          "shell.execute_reply": "2022-04-23T08:54:38.140818Z"
        },
        "trusted": true,
        "colab": {
          "base_uri": "https://localhost:8080/",
          "height": 328
        },
        "id": "_-cEZpYsohOP",
        "outputId": "15fb419a-9d87-41af-c904-0e9e24381df6"
      },
      "execution_count": 11,
      "outputs": [
        {
          "output_type": "display_data",
          "data": {
            "text/plain": [
              "<Figure size 540x360 with 1 Axes>"
            ],
            "image/png": "[encoded data removed]"
          },
          "metadata": {
            "needs_background": "light"
          }
        }
      ]
    },
    {
      "cell_type": "markdown",
      "source": [
        "How do we find values of a, b, and c which fit this data? One approach is to try a few values and see what fits. Here's a function which overlays a quadratic on top of our data, along with some sliders to change a, b, and c, and see how it looks:"
      ],
      "metadata": {
        "id": "fFxoiRJuohOQ"
      }
    },
    {
      "cell_type": "code",
      "source": [
        "@interact(a=1.1, b=1.1, c=1.1)\n",
        "def plot_quad(a, b, c):\n",
        "    plt.scatter(x,y)\n",
        "    plot_function(mk_quad(a,b,c), ylim=(-3,13))"
      ],
      "metadata": {
        "execution": {
          "iopub.status.busy": "2022-04-23T08:54:38.143544Z",
          "iopub.execute_input": "2022-04-23T08:54:38.143753Z",
          "iopub.status.idle": "2022-04-23T08:54:38.372553Z",
          "shell.execute_reply.started": "2022-04-23T08:54:38.143725Z",
          "shell.execute_reply": "2022-04-23T08:54:38.37172Z"
        },
        "trusted": true,
        "colab": {
          "base_uri": "https://localhost:8080/",
          "height": 424,
          "referenced_widgets": [
            "6cf2242be9204c8089ff6254742cb865",
            "b198d0df58a64f8aa218a14b8b20d213",
            "a4aa98bd8aaf4a218bd5122950b15460",
            "ef4ffea636044ca3bb65e73e2263bbe3",
            "931426fe33654ac3859ce46b2a06391f",
            "143a096a59d64d9b850b037ec3bfbec1",
            "97c613b2c35c4e1f82a70bc8098760ff",
            "9ba4ab084a494872b99300d322e7d278",
            "679d229cf2d64036b385ff0a7e4adbf2",
            "94ddda6a05e843e9b05762baacb53234",
            "38f46e44f67740d7a1994a0d5aa11821",
            "cb683d4822c84947b3a3d39268835d69",
            "e7de30366adc4828a63ca3d0ca8fb9b3"
          ]
        },
        "id": "ZdoflOJDohOQ",
        "outputId": "7161210d-9abf-4462-87dd-dd03cff4cff7"
      },
      "execution_count": 12,
      "outputs": [
        {
          "output_type": "display_data",
          "data": {
            "text/plain": [
              "interactive(children=(FloatSlider(value=1.1, description='a', max=3.3000000000000003, min=-1.1), FloatSlider(v…"
            ],
            "application/vnd.jupyter.widget-view+json": {
              "version_major": 2,
              "version_minor": 0,
              "model_id": "6cf2242be9204c8089ff6254742cb865"
            }
          },
          "metadata": {}
        }
      ]
    },
    {
      "cell_type": "markdown",
      "source": [
        "**Reminder**: If the sliders above aren't working for you, that's because the interactive features of this notebook don't work in Kaggle's *Reader* mode. They only work in *Edit* mode. Please click \"**Copy & Edit**\" in the top right of this window, then in the menu click *Run* and then *Run all*. Then you'll be able to use all the interactive sliders in this notebook."
      ],
      "metadata": {
        "id": "8NTVe5HHohOQ"
      }
    },
    {
      "cell_type": "markdown",
      "source": [
        "Try moving slider `a` a bit to the left. Does that look better or worse? How about if you move it a bit to the right? Find out which direction seems to improve the fit of the quadratic to the data, and move the slider a bit in that direction. Next, do the same for slider `b`: first figure out which direction improves the fit, then move it a bit in that direction. Then do the same for `c`.\n",
        "\n",
        "OK, now go back to slider `a` and repeat the process. Do it again for `b` and `c` as well.\n",
        "\n",
        "Did you notice that by going back and doing the sliders a second time that you were able to improve things a bit further? That's an important insight -- it's only after changing `b` and `c`, for instance, that you realise that `a` actually needs some adjustment based on those new values.\n",
        "\n",
        "One thing that's making this tricky is that we don't really have a great sense of whether our fit is really better or worse. It would be easier if we had a numeric measure of that. On easy metric we could use is *mean absolute error* -- which is the distance from each data point to the curve:"
      ],
      "metadata": {
        "id": "puAvRdQFohOQ"
      }
    },
    {
      "cell_type": "code",
      "source": [
        "def mae(preds, acts): return (torch.abs(preds-acts)).mean()"
      ],
      "metadata": {
        "execution": {
          "iopub.status.busy": "2022-04-23T08:55:06.428918Z",
          "iopub.execute_input": "2022-04-23T08:55:06.429237Z",
          "iopub.status.idle": "2022-04-23T08:55:06.433738Z",
          "shell.execute_reply.started": "2022-04-23T08:55:06.429205Z",
          "shell.execute_reply": "2022-04-23T08:55:06.432713Z"
        },
        "trusted": true,
        "id": "MzwZnXSBohOR"
      },
      "execution_count": 13,
      "outputs": []
    },
    {
      "cell_type": "markdown",
      "source": [
        "We'll update our interactive function to print this at the top for us.\n",
        "\n",
        "Use this to repeat the approach we took before to try to find the best fit, but this time just use the value of the metric to decide which direction to move each slider, and how far to move it.\n",
        "\n",
        "This time around, try doing it in the opposite order: `c`, then `b`, then `a`.\n",
        "\n",
        "You'll probably find that you have to go through the set of sliders a couple of times to get the best fit."
      ],
      "metadata": {
        "id": "ZW8717tSohOR"
      }
    },
    {
      "cell_type": "code",
      "source": [
        "@interact(a=1.1, b=1.1, c=1.1)\n",
        "def plot_quad(a, b, c):\n",
        "    f = mk_quad(a,b,c)\n",
        "    plt.scatter(x,y)\n",
        "    loss = mae(f(x), y)\n",
        "    plot_function(f, ylim=(-3,12), title=f\"MAE: {loss:.2f}\")"
      ],
      "metadata": {
        "execution": {
          "iopub.status.busy": "2022-04-23T08:55:07.451295Z",
          "iopub.execute_input": "2022-04-23T08:55:07.452152Z",
          "iopub.status.idle": "2022-04-23T08:55:07.701428Z",
          "shell.execute_reply.started": "2022-04-23T08:55:07.452102Z",
          "shell.execute_reply": "2022-04-23T08:55:07.700643Z"
        },
        "trusted": true,
        "colab": {
          "base_uri": "https://localhost:8080/",
          "height": 444,
          "referenced_widgets": [
            "eab2ca190bbf4e69ac12549e55c39144",
            "c1b3cdf007fa478983056b03d14be003",
            "952e901042614547955ec95c62bc8677",
            "8de50777523042bd8226bc621561d407",
            "27d076efc76b44cfa11996ffc50d00cf",
            "4091326444804e90854b49d34e7e11a8",
            "aff609761b8948e39fbccc66ab16a2d3",
            "81632a5157684a10b8afc82f8e3eca1f",
            "451006af9af64c468a79fc38ec78b744",
            "c4dc3c7cd7664b7d96ccb66a61b18598",
            "862ef7969a2649dca74e56eb850cc47f",
            "396193239fcf429ea32f450aa158a904",
            "aa92b6748d30483cb89e6e5c22adfa56"
          ]
        },
        "id": "ou29jMHWohOR",
        "outputId": "45d9b9a2-236f-44d3-c959-f69568357664"
      },
      "execution_count": 14,
      "outputs": [
        {
          "output_type": "display_data",
          "data": {
            "text/plain": [
              "interactive(children=(FloatSlider(value=1.1, description='a', max=3.3000000000000003, min=-1.1), FloatSlider(v…"
            ],
            "application/vnd.jupyter.widget-view+json": {
              "version_major": 2,
              "version_minor": 0,
              "model_id": "eab2ca190bbf4e69ac12549e55c39144"
            }
          },
          "metadata": {}
        }
      ]
    },
    {
      "cell_type": "markdown",
      "source": [
        "In a modern neural network we'll often have tens of millions of parameters to fit, or more, and thousands or millions of data points to fit them to. We're not going to be able to do that by moving sliders around! We'll need to automate this process.\n",
        "\n",
        "Thankfully, that turns out to be pretty straightforward. We can use calculus to figure out, for each parameter, whether we should increase or decrease it.\n",
        "\n",
        "Uh oh, calculus! If you haven't touched calculus since school, you might be getting ready to run away at this point. But don't worry, we don't actually need much calculus at all. Just derivatives, which measure the rate of change of a function. We don't even need to calculate them ourselves, because the computer will do it for us! If you've forgotten what a derivitive is, then watch the first three of these fantastic [videos by Professor Dave](https://www.youtube.com/playlist?list=PLybg94GvOJ9ELZEe9s2NXTKr41Yedbw7M). It's only 15 minutes in total, so give it a go! Then come back here and we'll continue on our journey..."
      ],
      "metadata": {
        "id": "j4YNkFACohOS"
      }
    },
    {
      "cell_type": "markdown",
      "source": [
        "## Automating gradient descent"
      ],
      "metadata": {
        "id": "SkGKPzfUohOS"
      }
    },
    {
      "cell_type": "markdown",
      "source": [
        "The basic idea is this: if we know the *gradient* of our `mae()` function *with respect to* our parameters, `a`, `b`, and `c`, then that means we know how adjusting (for instance) `a` will change the value of `mae()`. If, say, `a` has a *negative* gradient, then we know that increasing `a` will decrease `mae()`. Then we know that's what we need to do, since we trying to make `mae()` as low as possible.\n",
        "\n",
        "So, we find the gradient of `mae()` for each of our parameters, and then adjust our parameters a bit in the *opposite* direction to the sign of the gradient.\n",
        "\n",
        "To do this, first we need a function that takes all the parameters `a`, `b`, and `c` as a single vector input, and returns the value `mae()` based on those parameters:"
      ],
      "metadata": {
        "id": "qCNEUj9nohOS"
      }
    },
    {
      "cell_type": "code",
      "source": [
        "def quad_mae(params):\n",
        "    f = mk_quad(*params)\n",
        "    return mae(f(x), y)"
      ],
      "metadata": {
        "execution": {
          "iopub.status.busy": "2022-04-22T22:28:41.831976Z",
          "iopub.execute_input": "2022-04-22T22:28:41.832211Z",
          "iopub.status.idle": "2022-04-22T22:28:41.837761Z",
          "shell.execute_reply.started": "2022-04-22T22:28:41.832181Z",
          "shell.execute_reply": "2022-04-22T22:28:41.836892Z"
        },
        "trusted": true,
        "id": "Vs2oykPvohOT"
      },
      "execution_count": 15,
      "outputs": []
    },
    {
      "cell_type": "markdown",
      "source": [
        "Let's try it:"
      ],
      "metadata": {
        "id": "q4CjGXxHohOT"
      }
    },
    {
      "cell_type": "code",
      "source": [
        "quad_mae([1.1, 1.1, 1.1])"
      ],
      "metadata": {
        "execution": {
          "iopub.status.busy": "2022-04-22T22:28:41.839427Z",
          "iopub.execute_input": "2022-04-22T22:28:41.839663Z",
          "iopub.status.idle": "2022-04-22T22:28:41.853343Z",
          "shell.execute_reply.started": "2022-04-22T22:28:41.839635Z",
          "shell.execute_reply": "2022-04-22T22:28:41.852644Z"
        },
        "trusted": true,
        "colab": {
          "base_uri": "https://localhost:8080/"
        },
        "id": "8VHoTURNohOT",
        "outputId": "d037db1d-f121-4039-f7b8-5950dc30374a"
      },
      "execution_count": 16,
      "outputs": [
        {
          "output_type": "execute_result",
          "data": {
            "text/plain": [
              "tensor(2.4219, dtype=torch.float64)"
            ]
          },
          "metadata": {},
          "execution_count": 16
        }
      ]
    },
    {
      "cell_type": "markdown",
      "source": [
        "Yup, that's the same as the starting `mae()` we had in our plot before.\n",
        "\n",
        "We're first going to do exactly the same thing as we did manually -- pick some arbritrary starting point for our parameters. We'll put them all into a single tensor:"
      ],
      "metadata": {
        "id": "l1DJs3ruohOT"
      }
    },
    {
      "cell_type": "code",
      "source": [
        "abc = torch.tensor([1.1,1.1,1.1])"
      ],
      "metadata": {
        "execution": {
          "iopub.status.busy": "2022-04-22T22:28:41.854708Z",
          "iopub.execute_input": "2022-04-22T22:28:41.855001Z",
          "iopub.status.idle": "2022-04-22T22:28:41.863677Z",
          "shell.execute_reply.started": "2022-04-22T22:28:41.854965Z",
          "shell.execute_reply": "2022-04-22T22:28:41.862424Z"
        },
        "trusted": true,
        "id": "ZnrZZkEvohOU"
      },
      "execution_count": 17,
      "outputs": []
    },
    {
      "cell_type": "markdown",
      "source": [
        "To tell PyTorch that we want it to calculate gradients for these parameters, we need to call `requires_grad_()`:"
      ],
      "metadata": {
        "id": "nFxfgKWiohOU"
      }
    },
    {
      "cell_type": "code",
      "source": [
        "abc.requires_grad_()"
      ],
      "metadata": {
        "execution": {
          "iopub.status.busy": "2022-04-22T22:28:41.865105Z",
          "iopub.execute_input": "2022-04-22T22:28:41.86557Z",
          "iopub.status.idle": "2022-04-22T22:28:41.881016Z",
          "shell.execute_reply.started": "2022-04-22T22:28:41.865497Z",
          "shell.execute_reply": "2022-04-22T22:28:41.879681Z"
        },
        "trusted": true,
        "colab": {
          "base_uri": "https://localhost:8080/"
        },
        "id": "T_RBBMzIohOU",
        "outputId": "6eebea51-c3a0-4edc-a124-b1dd9c131b50"
      },
      "execution_count": 18,
      "outputs": [
        {
          "output_type": "execute_result",
          "data": {
            "text/plain": [
              "tensor([1.1000, 1.1000, 1.1000], requires_grad=True)"
            ]
          },
          "metadata": {},
          "execution_count": 18
        }
      ]
    },
    {
      "cell_type": "markdown",
      "source": [
        "We can now calculate `mae()`. Generally, when doing gradient descent, the thing we're trying to minimise is called the *loss*:"
      ],
      "metadata": {
        "id": "ZkuFc_H6ohOU"
      }
    },
    {
      "cell_type": "code",
      "source": [
        "loss = quad_mae(abc)\n",
        "loss"
      ],
      "metadata": {
        "execution": {
          "iopub.status.busy": "2022-04-22T22:28:41.882498Z",
          "iopub.execute_input": "2022-04-22T22:28:41.882908Z",
          "iopub.status.idle": "2022-04-22T22:28:41.894811Z",
          "shell.execute_reply.started": "2022-04-22T22:28:41.882865Z",
          "shell.execute_reply": "2022-04-22T22:28:41.893828Z"
        },
        "trusted": true,
        "colab": {
          "base_uri": "https://localhost:8080/"
        },
        "id": "4UytPij_ohOU",
        "outputId": "59858a1b-719a-4f27-a810-f998ff4f9878"
      },
      "execution_count": 19,
      "outputs": [
        {
          "output_type": "execute_result",
          "data": {
            "text/plain": [
              "tensor(2.4219, dtype=torch.float64, grad_fn=<MeanBackward0>)"
            ]
          },
          "metadata": {},
          "execution_count": 19
        }
      ]
    },
    {
      "cell_type": "markdown",
      "source": [
        "To get PyTorch to now calculate the gradients, we need to call `backward()`"
      ],
      "metadata": {
        "id": "RHisBd4VohOW"
      }
    },
    {
      "cell_type": "code",
      "source": [
        "loss.backward()"
      ],
      "metadata": {
        "execution": {
          "iopub.status.busy": "2022-04-22T22:28:41.896144Z",
          "iopub.execute_input": "2022-04-22T22:28:41.896493Z",
          "iopub.status.idle": "2022-04-22T22:28:41.914719Z",
          "shell.execute_reply.started": "2022-04-22T22:28:41.896462Z",
          "shell.execute_reply": "2022-04-22T22:28:41.913717Z"
        },
        "trusted": true,
        "id": "I8B8CVn4ohOW"
      },
      "execution_count": 20,
      "outputs": []
    },
    {
      "cell_type": "markdown",
      "source": [
        "The gradients will be stored for us in an attribute called `grad`:"
      ],
      "metadata": {
        "id": "5OVWpkDGohOW"
      }
    },
    {
      "cell_type": "code",
      "source": [
        "abc.grad"
      ],
      "metadata": {
        "execution": {
          "iopub.status.busy": "2022-04-22T22:28:41.916372Z",
          "iopub.execute_input": "2022-04-22T22:28:41.91704Z",
          "iopub.status.idle": "2022-04-22T22:28:41.925299Z",
          "shell.execute_reply.started": "2022-04-22T22:28:41.916988Z",
          "shell.execute_reply": "2022-04-22T22:28:41.924407Z"
        },
        "trusted": true,
        "colab": {
          "base_uri": "https://localhost:8080/"
        },
        "id": "i1iV9kH8ohOW",
        "outputId": "d6d4ffde-62d3-41f0-bdae-e82aa6192d4f"
      },
      "execution_count": 21,
      "outputs": [
        {
          "output_type": "execute_result",
          "data": {
            "text/plain": [
              "tensor([-1.3529, -0.0316, -0.5000])"
            ]
          },
          "metadata": {},
          "execution_count": 21
        }
      ]
    },
    {
      "cell_type": "markdown",
      "source": [
        "According to these gradients, all our parameters are a little low. So let's increase them a bit. If we subtract the gradient, multiplied by a small number, that should improve them a bit:"
      ],
      "metadata": {
        "id": "L8AwkyPdohOW"
      }
    },
    {
      "cell_type": "code",
      "source": [
        "with torch.no_grad():\n",
        "    abc -= abc.grad*0.01\n",
        "    loss = quad_mae(abc)\n",
        "    \n",
        "print(f'loss={loss:.2f}')"
      ],
      "metadata": {
        "execution": {
          "iopub.status.busy": "2022-04-22T22:28:41.927221Z",
          "iopub.execute_input": "2022-04-22T22:28:41.927714Z",
          "iopub.status.idle": "2022-04-22T22:28:41.941471Z",
          "shell.execute_reply.started": "2022-04-22T22:28:41.927665Z",
          "shell.execute_reply": "2022-04-22T22:28:41.940784Z"
        },
        "trusted": true,
        "colab": {
          "base_uri": "https://localhost:8080/"
        },
        "id": "vW7cZPdXohOW",
        "outputId": "6d5cbc5b-559c-47a6-da47-9518731e28a4"
      },
      "execution_count": 22,
      "outputs": [
        {
          "output_type": "stream",
          "name": "stdout",
          "text": [
            "loss=2.40\n"
          ]
        }
      ]
    },
    {
      "cell_type": "markdown",
      "source": [
        "Yes, our loss has gone down!\n",
        "\n",
        "The \"small number\" we multiply is called the *learning rate*, and is the most important *hyper-parameter* to set when training a neural network.\n",
        "\n",
        "BTW, you'll see we had to wrap our calculation of the new parameters in `with torch.no_grad()`. That disables the calculation of gradients for any operations inside that context manager. We have to do that, because `abc -= abc.grad*0.01` isn't actually part of our quadratic model, so we don't want derivitives to include that calculation.\n",
        "\n",
        "We can use a loop to do a few more iterations of this:"
      ],
      "metadata": {
        "id": "2cW4p7BHohOW"
      }
    },
    {
      "cell_type": "code",
      "source": [
        "for i in range(10):\n",
        "    loss = quad_mae(abc)\n",
        "    loss.backward()\n",
        "    with torch.no_grad(): abc -= abc.grad*0.01\n",
        "    print(f'step={i}; loss={loss:.2f}')"
      ],
      "metadata": {
        "execution": {
          "iopub.status.busy": "2022-04-22T22:28:41.942822Z",
          "iopub.execute_input": "2022-04-22T22:28:41.943242Z",
          "iopub.status.idle": "2022-04-22T22:28:41.968186Z",
          "shell.execute_reply.started": "2022-04-22T22:28:41.943202Z",
          "shell.execute_reply": "2022-04-22T22:28:41.967081Z"
        },
        "trusted": true,
        "colab": {
          "base_uri": "https://localhost:8080/"
        },
        "id": "ZDxx9PF-ohOX",
        "outputId": "8e37a9ca-47c6-4660-bd49-0e4d36236eb7"
      },
      "execution_count": 23,
      "outputs": [
        {
          "output_type": "stream",
          "name": "stdout",
          "text": [
            "step=0; loss=2.40\n",
            "step=1; loss=2.36\n",
            "step=2; loss=2.30\n",
            "step=3; loss=2.21\n",
            "step=4; loss=2.11\n",
            "step=5; loss=1.98\n",
            "step=6; loss=1.85\n",
            "step=7; loss=1.72\n",
            "step=8; loss=1.58\n",
            "step=9; loss=1.46\n"
          ]
        }
      ]
    },
    {
      "cell_type": "markdown",
      "source": [
        "As you can see, our loss keeps going down!\n",
        "\n",
        "If you keep running this loop for long enough however, you'll see that the loss eventually starts increasing for a while. That's because once the parameters get close to the correct answer, our parameter updates will jump right over the correct answer! To avoid this, we need to decrease our learning rate as we train. This is done using a *learning rate schedule*, and can be automated in most deep learning frameworks, such as fastai and PyTorch."
      ],
      "metadata": {
        "id": "i5S3O7DrohOX"
      }
    },
    {
      "cell_type": "markdown",
      "source": [
        "## How a neural network approximates any given function"
      ],
      "metadata": {
        "id": "in0404adohOX"
      }
    },
    {
      "cell_type": "markdown",
      "source": [
        "But neural nets are much more convenient and powerful than this example showed, because we can learn much more than just a quadratic with them. How does *that* work?\n",
        "\n",
        "The trick is that a neural network is a very expressive function. In fact -- it's [infinitely expressive](https://en.wikipedia.org/wiki/Universal_approximation_theorem). A neural network can approximate any computable function, given enough parameters. A \"computable function\" can cover just about anything you can imagine: understand and translate human speech; paint a picture; diagnose a disease from medical imaging; write an essay; etc...\n",
        "\n",
        "The way a neural network approximates a function actually turns out to be very simple. The key trick is to combine two extremely basic steps:\n",
        "\n",
        "1. Matrix multiplication, which is just multiplying things together and then adding them up\n",
        "1. The function $max(x,0)$, which simply replaces all negative numbers with zero.\n",
        "\n",
        "In PyTorch, the function $max(x,0)$ is written as `np.clip(x,0)`. The combination of a linear function and this *max()* is called a *rectified linear function*, and it can be implemented like this:"
      ],
      "metadata": {
        "id": "qR_-BpqBohOX"
      }
    },
    {
      "cell_type": "code",
      "source": [
        "def rectified_linear(m,b,x):\n",
        "    y = m*x+b\n",
        "    return torch.clip(y, 0.)"
      ],
      "metadata": {
        "execution": {
          "iopub.status.busy": "2022-04-22T22:28:41.970051Z",
          "iopub.execute_input": "2022-04-22T22:28:41.970814Z",
          "iopub.status.idle": "2022-04-22T22:28:41.976113Z",
          "shell.execute_reply.started": "2022-04-22T22:28:41.970763Z",
          "shell.execute_reply": "2022-04-22T22:28:41.975338Z"
        },
        "trusted": true,
        "id": "na9OrTF9ohOY"
      },
      "execution_count": 24,
      "outputs": []
    },
    {
      "cell_type": "markdown",
      "source": [
        "Here's what it looks like:"
      ],
      "metadata": {
        "id": "lFpVy0dEohOY"
      }
    },
    {
      "cell_type": "code",
      "source": [
        "plot_function(partial(rectified_linear, 1,1))"
      ],
      "metadata": {
        "execution": {
          "iopub.status.busy": "2022-04-22T22:28:41.977336Z",
          "iopub.execute_input": "2022-04-22T22:28:41.978052Z",
          "iopub.status.idle": "2022-04-22T22:28:42.197682Z",
          "shell.execute_reply.started": "2022-04-22T22:28:41.978012Z",
          "shell.execute_reply": "2022-04-22T22:28:42.196709Z"
        },
        "trusted": true,
        "id": "vt7ZXB14ohOY"
      },
      "execution_count": null,
      "outputs": []
    },
    {
      "cell_type": "markdown",
      "source": [
        "BTW, instead of `torch.clip(y, 0.)`, we can instead use `F.relu(x)`, which does exactly the same thing. In PyTorch, `F` refers to the `torch.nn.functional` module."
      ],
      "metadata": {
        "id": "bcJTrYrrohOY"
      }
    },
    {
      "cell_type": "code",
      "source": [
        "import torch.nn.functional as F\n",
        "def rectified_linear2(m,b,x): return F.relu(m*x+b)\n",
        "plot_function(partial(rectified_linear2, 1,1))"
      ],
      "metadata": {
        "execution": {
          "iopub.status.busy": "2022-04-22T22:28:42.199561Z",
          "iopub.execute_input": "2022-04-22T22:28:42.200133Z",
          "iopub.status.idle": "2022-04-22T22:28:42.40433Z",
          "shell.execute_reply.started": "2022-04-22T22:28:42.200083Z",
          "shell.execute_reply": "2022-04-22T22:28:42.403323Z"
        },
        "trusted": true,
        "colab": {
          "base_uri": "https://localhost:8080/",
          "height": 328
        },
        "id": "WP6OZh3vohOa",
        "outputId": "06ebf2ec-89ef-4179-f4aa-9371aa459400"
      },
      "execution_count": 25,
      "outputs": [
        {
          "output_type": "display_data",
          "data": {
            "text/plain": [
              "<Figure size 540x360 with 1 Axes>"
            ],
            "image/png": "[encoded data removed]"
          },
          "metadata": {
            "needs_background": "light"
          }
        }
      ]
    },
    {
      "cell_type": "markdown",
      "source": [
        "To understand how this function works, try using this interactive version to play around with the parameters `m` and `b`:"
      ],
      "metadata": {
        "id": "TG1jSs9OohOa"
      }
    },
    {
      "cell_type": "code",
      "source": [
        "@interact(m=1.5, b=1.5)\n",
        "def plot_relu(m, b):\n",
        "    plot_function(partial(rectified_linear, m,b), ylim=(-1,4))"
      ],
      "metadata": {
        "execution": {
          "iopub.status.busy": "2022-04-22T22:28:42.405808Z",
          "iopub.execute_input": "2022-04-22T22:28:42.406108Z",
          "iopub.status.idle": "2022-04-22T22:28:42.61219Z",
          "shell.execute_reply.started": "2022-04-22T22:28:42.406071Z",
          "shell.execute_reply": "2022-04-22T22:28:42.61144Z"
        },
        "trusted": true,
        "colab": {
          "base_uri": "https://localhost:8080/",
          "height": 397,
          "referenced_widgets": [
            "7dfd8037941b4a4985806e3e4d56c29d",
            "6d722b1f74ef4fc0b4cec2428551420f",
            "0f5c7f0105374079a84492b3ba002f79",
            "848aced63e494e15b440834e25b78367",
            "ce190a31ba87407e97baed4b514ee3a2",
            "6961f4380f1646d4b7b6083830e75fc1",
            "c10d8672aafc44809962355dabb996ba",
            "6e8361281668473eb907b424f9261890",
            "1931657c3c0b4972b13afcbc6848a748",
            "977e13f24c1a46c485c404684246e5a0"
          ]
        },
        "id": "QQhwVU2YohOa",
        "outputId": "6f01727d-73d8-4114-bd50-2346eebcac56"
      },
      "execution_count": 26,
      "outputs": [
        {
          "output_type": "display_data",
          "data": {
            "text/plain": [
              "interactive(children=(FloatSlider(value=1.5, description='m', max=4.5, min=-1.5), FloatSlider(value=1.5, descr…"
            ],
            "application/vnd.jupyter.widget-view+json": {
              "version_major": 2,
              "version_minor": 0,
              "model_id": "7dfd8037941b4a4985806e3e4d56c29d"
            }
          },
          "metadata": {}
        }
      ]
    },
    {
      "cell_type": "markdown",
      "source": [
        "As you see, `m` changes the slope, and `b` changes where the \"hook\" appears. This function doesn't do much on its own, but look what happens when we add two of them together:"
      ],
      "metadata": {
        "id": "I4yKa2yOohOb"
      }
    },
    {
      "cell_type": "code",
      "source": [
        "def double_relu(m1,b1,m2,b2,x):\n",
        "    return rectified_linear(m1,b1,x) + rectified_linear(m2,b2,x)\n",
        "\n",
        "@interact(m1=-1.5, b1=-1.5, m2=1.5, b2=1.5)\n",
        "def plot_double_relu(m1, b1, m2, b2):\n",
        "    plot_function(partial(double_relu, m1,b1,m2,b2), ylim=(-1,6))"
      ],
      "metadata": {
        "execution": {
          "iopub.status.busy": "2022-04-22T22:28:42.613745Z",
          "iopub.execute_input": "2022-04-22T22:28:42.614042Z",
          "iopub.status.idle": "2022-04-22T22:28:42.851224Z",
          "shell.execute_reply.started": "2022-04-22T22:28:42.614007Z",
          "shell.execute_reply": "2022-04-22T22:28:42.85035Z"
        },
        "trusted": true,
        "colab": {
          "base_uri": "https://localhost:8080/",
          "height": 461,
          "referenced_widgets": [
            "4776f553cbdf499a92bbb7b87b7f1cdc",
            "46236e341d0b44bf9910aa13ba7fbbdf",
            "2151f742d61449e2b04868b3993cf757",
            "07857780136d4f44a33118f1747203f8",
            "1304f6ded50f4d35b1091e8430aa78cb",
            "76ce542ee3f84617bd64ff33c1735199",
            "ccfe750b521d4836bd083f5b25d90593",
            "a866dc0749c6423cae02f4569441dbec",
            "042bdb36c8104620a752f8bc913badb1",
            "dc3788c1260c4bc5965d13aa82257fce",
            "162357ef4c9049e0b71833fab02e70c2",
            "e3745a03adf34813b169d2606d86adfd",
            "7d2ceefc6e5347c3a248fada1ade4387",
            "833df6c93b2448a9b22bb07204b858e7",
            "eacc836daec04d90a6e0f4ce17bd4f1e",
            "5963389e0ba648aa9ee0122153e889bd"
          ]
        },
        "id": "0JRdtAGyohOb",
        "outputId": "16b5a569-a939-46b4-dbf0-a69f41448430"
      },
      "execution_count": 27,
      "outputs": [
        {
          "output_type": "display_data",
          "data": {
            "text/plain": [
              "interactive(children=(FloatSlider(value=-1.5, description='m1', max=1.5, min=-4.5), FloatSlider(value=-1.5, de…"
            ],
            "application/vnd.jupyter.widget-view+json": {
              "version_major": 2,
              "version_minor": 0,
              "model_id": "4776f553cbdf499a92bbb7b87b7f1cdc"
            }
          },
          "metadata": {}
        }
      ]
    },
    {
      "cell_type": "markdown",
      "source": [
        "If you play around with that for a while, you notice something quite profound: with enough of these rectified linear functions added together, you could approximate any function with a single input, to whatever accuracy you like! Any time the function doesn't quite match, you can just add a few more additions to the mix to make it a bit closer. As an experiment, perhaps you'd like to try creating your own `plot_triple_relu` interactive function, and maybe even include the scatter plot of our data from before, to see how close you can get?\n",
        "\n",
        "This exact same approach can be expanded to functions of 2, 3, or more parameters."
      ],
      "metadata": {
        "id": "NJ_3jvP0ohOb"
      }
    },
    {
      "cell_type": "markdown",
      "source": [
        "## How to recognise an owl"
      ],
      "metadata": {
        "id": "1y8Q84QnohOb"
      }
    },
    {
      "cell_type": "markdown",
      "source": [
        "OK great, we've created a nifty little example showing that we can drawing squiggly lines that go through some points. So what?\n",
        "\n",
        "Well... the truth is that actually drawing squiggly lines (or planes, or high-dimensional hyperplanes...) through some points is literally *all that deep learning does*! If your data points are, say, the RGB values of pixels in photos of owls, then you can create an owl-recogniser model by following the exact steps above.\n",
        "\n",
        "This may, at first, sound about as useful as the classic \"how to draw an owl\" guide:"
      ],
      "metadata": {
        "id": "cWBGW-mHohOb"
      }
    },
    {
      "cell_type": "markdown",
      "source": [
        "image.png"
      ],
      "metadata": {
        "id": "N6n0o8SBohOb"
      }
    },
    {
      "cell_type": "markdown",
      "source": [
        "Students often ask me at this point \"OK Jeremy, but how do neural nets *actually work*\". But at a foundational level, there is no \"step 2\". We're done -- the above steps will, given enough time and enough data, create (for example) an owl recogniser, if you feed in enough owls (and non-owls).\n",
        "\n",
        "The devil, I guess, is in the \"given enough time and enough data\" part of the above sentence. There's a *lot* of tweaks we can make to reduce both of these things. For instance, instead of running our calculations on a normal CPU, as we've done above, we could do thousands of them simultaneously by taking advantage of a GPU. We could greatly reduce the amount of computation and data needed by using a convolution instead of a matrix multiplication, which basically means skipping over a bunch of the multiplications and additions for bits that you'd guess won't be important. We could make things much faster if, instead of starting with random parameters, we start with parameters of someone else's model that does something similar to what we want (this is called *transfer learning*).\n",
        "\n",
        "And, of course, there's lots of helpful software out there to do this stuff for you without too much fuss. Like, say, [fastai](https://docs.fast.ai).\n",
        "\n",
        "Learning these things is what we teach in our [course](https://course.fast.ai), which, like everything we make, is totally free. So if you're interested in learning more, do check it out!"
      ],
      "metadata": {
        "id": "jp447YZCohOb"
      }
    },
    {
      "cell_type": "markdown",
      "source": [
        "As always, if you enjoyed this notebook, please upvote it to help others find it, and to encourage me to write more. If you upvote it, be careful you don't accidentally upvote your copy that's created when you click \"Copy & Edit\" -- you can find my original at [this link](https://www.kaggle.com/code/jhoward/how-does-a-neural-net-really-work)."
      ],
      "metadata": {
        "id": "UKlb7IFyohOb"
      }
    },
    {
      "cell_type": "code",
      "source": [],
      "metadata": {
        "id": "P5oU3tTXohOb"
      },
      "execution_count": null,
      "outputs": []
    }
  ]
}