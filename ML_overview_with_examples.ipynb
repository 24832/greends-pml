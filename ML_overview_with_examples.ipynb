{
  "nbformat": 4,
  "nbformat_minor": 0,
  "metadata": {
    "colab": {
      "provenance": [],
      "authorship_tag": "ABX9TyMAdOxqMHEQ/iXywkM8GmuZ",
      "include_colab_link": true
    },
    "kernelspec": {
      "name": "python3",
      "display_name": "Python 3"
    },
    "language_info": {
      "name": "python"
    },
    "widgets": {
      "application/vnd.jupyter.widget-state+json": {
        "53a7c71e17d641cebc67373ee668eeca": {
          "model_module": "@jupyter-widgets/controls",
          "model_name": "VBoxModel",
          "model_module_version": "1.5.0",
          "state": {
            "_dom_classes": [
              "widget-interact"
            ],
            "_model_module": "@jupyter-widgets/controls",
            "_model_module_version": "1.5.0",
            "_model_name": "VBoxModel",
            "_view_count": null,
            "_view_module": "@jupyter-widgets/controls",
            "_view_module_version": "1.5.0",
            "_view_name": "VBoxView",
            "box_style": "",
            "children": [
              "IPY_MODEL_1fb2c018e72147d8ad4fa0f3635912e7",
              "IPY_MODEL_da92fd90ef0a4d79a977828c69061549",
              "IPY_MODEL_7efde3d6140f448da65e77092e8d5d84",
              "IPY_MODEL_fce33e3253c8492ea08324da1192e95c"
            ],
            "layout": "IPY_MODEL_41d5cc6d51ad4d6d8ca2e037bc3970d4"
          }
        },
        "1fb2c018e72147d8ad4fa0f3635912e7": {
          "model_module": "@jupyter-widgets/controls",
          "model_name": "FloatSliderModel",
          "model_module_version": "1.5.0",
          "state": {
            "_dom_classes": [],
            "_model_module": "@jupyter-widgets/controls",
            "_model_module_version": "1.5.0",
            "_model_name": "FloatSliderModel",
            "_view_count": null,
            "_view_module": "@jupyter-widgets/controls",
            "_view_module_version": "1.5.0",
            "_view_name": "FloatSliderView",
            "continuous_update": true,
            "description": "a",
            "description_tooltip": null,
            "disabled": false,
            "layout": "IPY_MODEL_9ec6bd0d843e412bbe33709a309dca33",
            "max": 3.3000000000000003,
            "min": -1.1,
            "orientation": "horizontal",
            "readout": true,
            "readout_format": ".2f",
            "step": 0.1,
            "style": "IPY_MODEL_c8f691b05bfd4ab998eec61b9277df05",
            "value": 1.1
          }
        },
        "da92fd90ef0a4d79a977828c69061549": {
          "model_module": "@jupyter-widgets/controls",
          "model_name": "FloatSliderModel",
          "model_module_version": "1.5.0",
          "state": {
            "_dom_classes": [],
            "_model_module": "@jupyter-widgets/controls",
            "_model_module_version": "1.5.0",
            "_model_name": "FloatSliderModel",
            "_view_count": null,
            "_view_module": "@jupyter-widgets/controls",
            "_view_module_version": "1.5.0",
            "_view_name": "FloatSliderView",
            "continuous_update": true,
            "description": "b",
            "description_tooltip": null,
            "disabled": false,
            "layout": "IPY_MODEL_6e425c95e973453ca5303cead7f0b19e",
            "max": 3.3000000000000003,
            "min": -1.1,
            "orientation": "horizontal",
            "readout": true,
            "readout_format": ".2f",
            "step": 0.1,
            "style": "IPY_MODEL_54097ffa00d64fd99226ead410d11db1",
            "value": 1.1
          }
        },
        "7efde3d6140f448da65e77092e8d5d84": {
          "model_module": "@jupyter-widgets/controls",
          "model_name": "FloatSliderModel",
          "model_module_version": "1.5.0",
          "state": {
            "_dom_classes": [],
            "_model_module": "@jupyter-widgets/controls",
            "_model_module_version": "1.5.0",
            "_model_name": "FloatSliderModel",
            "_view_count": null,
            "_view_module": "@jupyter-widgets/controls",
            "_view_module_version": "1.5.0",
            "_view_name": "FloatSliderView",
            "continuous_update": true,
            "description": "c",
            "description_tooltip": null,
            "disabled": false,
            "layout": "IPY_MODEL_87ff0db29734441e82f7df090620eb09",
            "max": 3.3000000000000003,
            "min": -1.1,
            "orientation": "horizontal",
            "readout": true,
            "readout_format": ".2f",
            "step": 0.1,
            "style": "IPY_MODEL_b3f79516afe241919cd77fe90679e59d",
            "value": 1.1
          }
        },
        "fce33e3253c8492ea08324da1192e95c": {
          "model_module": "@jupyter-widgets/output",
          "model_name": "OutputModel",
          "model_module_version": "1.0.0",
          "state": {
            "_dom_classes": [],
            "_model_module": "@jupyter-widgets/output",
            "_model_module_version": "1.0.0",
            "_model_name": "OutputModel",
            "_view_count": null,
            "_view_module": "@jupyter-widgets/output",
            "_view_module_version": "1.0.0",
            "_view_name": "OutputView",
            "layout": "IPY_MODEL_4be5a3ffb38f41d7887d61036a4c2052",
            "msg_id": "",
            "outputs": [
              {
                "output_type": "display_data",
                "data": {
                  "text/plain": "<Figure size 432x288 with 1 Axes>",
                  "image/png": "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\n"
                },
                "metadata": {
                  "needs_background": "light"
                }
              }
            ]
          }
        },
        "41d5cc6d51ad4d6d8ca2e037bc3970d4": {
          "model_module": "@jupyter-widgets/base",
          "model_name": "LayoutModel",
          "model_module_version": "1.2.0",
          "state": {
            "_model_module": "@jupyter-widgets/base",
            "_model_module_version": "1.2.0",
            "_model_name": "LayoutModel",
            "_view_count": null,
            "_view_module": "@jupyter-widgets/base",
            "_view_module_version": "1.2.0",
            "_view_name": "LayoutView",
            "align_content": null,
            "align_items": null,
            "align_self": null,
            "border": null,
            "bottom": null,
            "display": null,
            "flex": null,
            "flex_flow": null,
            "grid_area": null,
            "grid_auto_columns": null,
            "grid_auto_flow": null,
            "grid_auto_rows": null,
            "grid_column": null,
            "grid_gap": null,
            "grid_row": null,
            "grid_template_areas": null,
            "grid_template_columns": null,
            "grid_template_rows": null,
            "height": null,
            "justify_content": null,
            "justify_items": null,
            "left": null,
            "margin": null,
            "max_height": null,
            "max_width": null,
            "min_height": null,
            "min_width": null,
            "object_fit": null,
            "object_position": null,
            "order": null,
            "overflow": null,
            "overflow_x": null,
            "overflow_y": null,
            "padding": null,
            "right": null,
            "top": null,
            "visibility": null,
            "width": null
          }
        },
        "9ec6bd0d843e412bbe33709a309dca33": {
          "model_module": "@jupyter-widgets/base",
          "model_name": "LayoutModel",
          "model_module_version": "1.2.0",
          "state": {
            "_model_module": "@jupyter-widgets/base",
            "_model_module_version": "1.2.0",
            "_model_name": "LayoutModel",
            "_view_count": null,
            "_view_module": "@jupyter-widgets/base",
            "_view_module_version": "1.2.0",
            "_view_name": "LayoutView",
            "align_content": null,
            "align_items": null,
            "align_self": null,
            "border": null,
            "bottom": null,
            "display": null,
            "flex": null,
            "flex_flow": null,
            "grid_area": null,
            "grid_auto_columns": null,
            "grid_auto_flow": null,
            "grid_auto_rows": null,
            "grid_column": null,
            "grid_gap": null,
            "grid_row": null,
            "grid_template_areas": null,
            "grid_template_columns": null,
            "grid_template_rows": null,
            "height": null,
            "justify_content": null,
            "justify_items": null,
            "left": null,
            "margin": null,
            "max_height": null,
            "max_width": null,
            "min_height": null,
            "min_width": null,
            "object_fit": null,
            "object_position": null,
            "order": null,
            "overflow": null,
            "overflow_x": null,
            "overflow_y": null,
            "padding": null,
            "right": null,
            "top": null,
            "visibility": null,
            "width": null
          }
        },
        "c8f691b05bfd4ab998eec61b9277df05": {
          "model_module": "@jupyter-widgets/controls",
          "model_name": "SliderStyleModel",
          "model_module_version": "1.5.0",
          "state": {
            "_model_module": "@jupyter-widgets/controls",
            "_model_module_version": "1.5.0",
            "_model_name": "SliderStyleModel",
            "_view_count": null,
            "_view_module": "@jupyter-widgets/base",
            "_view_module_version": "1.2.0",
            "_view_name": "StyleView",
            "description_width": "",
            "handle_color": null
          }
        },
        "6e425c95e973453ca5303cead7f0b19e": {
          "model_module": "@jupyter-widgets/base",
          "model_name": "LayoutModel",
          "model_module_version": "1.2.0",
          "state": {
            "_model_module": "@jupyter-widgets/base",
            "_model_module_version": "1.2.0",
            "_model_name": "LayoutModel",
            "_view_count": null,
            "_view_module": "@jupyter-widgets/base",
            "_view_module_version": "1.2.0",
            "_view_name": "LayoutView",
            "align_content": null,
            "align_items": null,
            "align_self": null,
            "border": null,
            "bottom": null,
            "display": null,
            "flex": null,
            "flex_flow": null,
            "grid_area": null,
            "grid_auto_columns": null,
            "grid_auto_flow": null,
            "grid_auto_rows": null,
            "grid_column": null,
            "grid_gap": null,
            "grid_row": null,
            "grid_template_areas": null,
            "grid_template_columns": null,
            "grid_template_rows": null,
            "height": null,
            "justify_content": null,
            "justify_items": null,
            "left": null,
            "margin": null,
            "max_height": null,
            "max_width": null,
            "min_height": null,
            "min_width": null,
            "object_fit": null,
            "object_position": null,
            "order": null,
            "overflow": null,
            "overflow_x": null,
            "overflow_y": null,
            "padding": null,
            "right": null,
            "top": null,
            "visibility": null,
            "width": null
          }
        },
        "54097ffa00d64fd99226ead410d11db1": {
          "model_module": "@jupyter-widgets/controls",
          "model_name": "SliderStyleModel",
          "model_module_version": "1.5.0",
          "state": {
            "_model_module": "@jupyter-widgets/controls",
            "_model_module_version": "1.5.0",
            "_model_name": "SliderStyleModel",
            "_view_count": null,
            "_view_module": "@jupyter-widgets/base",
            "_view_module_version": "1.2.0",
            "_view_name": "StyleView",
            "description_width": "",
            "handle_color": null
          }
        },
        "87ff0db29734441e82f7df090620eb09": {
          "model_module": "@jupyter-widgets/base",
          "model_name": "LayoutModel",
          "model_module_version": "1.2.0",
          "state": {
            "_model_module": "@jupyter-widgets/base",
            "_model_module_version": "1.2.0",
            "_model_name": "LayoutModel",
            "_view_count": null,
            "_view_module": "@jupyter-widgets/base",
            "_view_module_version": "1.2.0",
            "_view_name": "LayoutView",
            "align_content": null,
            "align_items": null,
            "align_self": null,
            "border": null,
            "bottom": null,
            "display": null,
            "flex": null,
            "flex_flow": null,
            "grid_area": null,
            "grid_auto_columns": null,
            "grid_auto_flow": null,
            "grid_auto_rows": null,
            "grid_column": null,
            "grid_gap": null,
            "grid_row": null,
            "grid_template_areas": null,
            "grid_template_columns": null,
            "grid_template_rows": null,
            "height": null,
            "justify_content": null,
            "justify_items": null,
            "left": null,
            "margin": null,
            "max_height": null,
            "max_width": null,
            "min_height": null,
            "min_width": null,
            "object_fit": null,
            "object_position": null,
            "order": null,
            "overflow": null,
            "overflow_x": null,
            "overflow_y": null,
            "padding": null,
            "right": null,
            "top": null,
            "visibility": null,
            "width": null
          }
        },
        "b3f79516afe241919cd77fe90679e59d": {
          "model_module": "@jupyter-widgets/controls",
          "model_name": "SliderStyleModel",
          "model_module_version": "1.5.0",
          "state": {
            "_model_module": "@jupyter-widgets/controls",
            "_model_module_version": "1.5.0",
            "_model_name": "SliderStyleModel",
            "_view_count": null,
            "_view_module": "@jupyter-widgets/base",
            "_view_module_version": "1.2.0",
            "_view_name": "StyleView",
            "description_width": "",
            "handle_color": null
          }
        },
        "4be5a3ffb38f41d7887d61036a4c2052": {
          "model_module": "@jupyter-widgets/base",
          "model_name": "LayoutModel",
          "model_module_version": "1.2.0",
          "state": {
            "_model_module": "@jupyter-widgets/base",
            "_model_module_version": "1.2.0",
            "_model_name": "LayoutModel",
            "_view_count": null,
            "_view_module": "@jupyter-widgets/base",
            "_view_module_version": "1.2.0",
            "_view_name": "LayoutView",
            "align_content": null,
            "align_items": null,
            "align_self": null,
            "border": null,
            "bottom": null,
            "display": null,
            "flex": null,
            "flex_flow": null,
            "grid_area": null,
            "grid_auto_columns": null,
            "grid_auto_flow": null,
            "grid_auto_rows": null,
            "grid_column": null,
            "grid_gap": null,
            "grid_row": null,
            "grid_template_areas": null,
            "grid_template_columns": null,
            "grid_template_rows": null,
            "height": null,
            "justify_content": null,
            "justify_items": null,
            "left": null,
            "margin": null,
            "max_height": null,
            "max_width": null,
            "min_height": null,
            "min_width": null,
            "object_fit": null,
            "object_position": null,
            "order": null,
            "overflow": null,
            "overflow_x": null,
            "overflow_y": null,
            "padding": null,
            "right": null,
            "top": null,
            "visibility": null,
            "width": null
          }
        }
      }
    }
  },
  "cells": [
    {
      "cell_type": "markdown",
      "metadata": {
        "id": "view-in-github",
        "colab_type": "text"
      },
      "source": [
        "<a href=\"https://colab.research.google.com/github/isa-ulisboa/greends-pml/blob/main/ML_overview_with_examples.ipynb\" target=\"_parent\"><img src=\"https://colab.research.google.com/assets/colab-badge.svg\" alt=\"Open In Colab\"/></a>"
      ]
    },
    {
      "cell_type": "markdown",
      "source": [
        "Course on Pratical Machine Learning\n",
        "\n",
        "Masters in Green Data Science, ISA/ULisboa, 2022-2023\n",
        "\n",
        "Instructor: Manuel Campagnolo mlc@isa.ulisboa.pt"
      ],
      "metadata": {
        "id": "f0qoqpJ4-iom"
      }
    },
    {
      "cell_type": "markdown",
      "source": [
        "## Introduction and some basic concepts in Machine Learning (ML)\n",
        "\n",
        "In this course we are dealing with data sets of *labeled examples*. Examples can be scalar numbers, rows of tabular data, images, etc. For tabular data, we refer the to columns as *explanatory variables* (sometimes also called *independent* or *descriptive* variables).\n",
        "\n",
        "Labels can be categorial, ordinal or continuous. Labels can be refered to as the *response variable* (or *dependent* variable). They are also called *targets*. Typically, we the problems are called:\n",
        "1. *Regression problems*, when the labels are continuous. \n",
        "2. *Classification problems*, when the labels are categorial.\n",
        "\n",
        "The distinction is not always clear. Some problems can be considered either as regression or classification problems. \n",
        "\n",
        "Given a ML problem, i.e. a set of labeled examples, the goal is to build a function $f$ that maps examples to labels or, in other words, that predicts the label from the example.\n",
        "\n",
        "We call *predictions* or *predicted values* to the output of $f$, and *observations* or *actual values* to the actual labels.\n",
        "\n",
        "\n"
      ],
      "metadata": {
        "id": "RP73ZCHW-5IP"
      }
    },
    {
      "cell_type": "markdown",
      "source": [
        "## Models and parameters"
      ],
      "metadata": {
        "id": "RW_X7OPCXc3C"
      }
    },
    {
      "cell_type": "markdown",
      "source": [
        "\n",
        "More formally, if $E$ is the set of examples and $L$ is a set that includes the labels, then what we call the *model* is a family of functions $f_{\\rm \\bf w}$ that depends on a set of parameters ${\\rm \\bf w}$: $$f_{\\rm \\bf w}: E → L.$$\n",
        "\n",
        "It can be more convenient to express the function as depending on the parameters ${\\rm \\bf w}$ as well as the example ${\\rm \\bf x}$. The model's predicted label $\\hat{y}$ for the example ${\\rm \\bf x}$ is:\n",
        "\n",
        "$$\\hat{y}=f_{\\rm \\bf w}({\\rm \\bf x})= f({\\rm \\bf x}; {\\rm \\bf w}).$$\n",
        "\n",
        "ML practicioners use an enormous variety of models, depending on the problem at hand and on the available computational resources to train the model. Models include convolucional neural networks (CNN) for image classification (resnet and other kind of CNNs), neural networks (NN) for classification of tabular data, linear regression models, decision and regression trees, random forest and other ensemble models, among many other models.\n",
        "\n",
        "![picture](https://drive.google.com/uc?export=view&id=1rjcetay_O8EPd9mUHh4k1XFQIi84FfX2)"
      ],
      "metadata": {
        "id": "IKZwTca7XfkW"
      }
    },
    {
      "cell_type": "markdown",
      "source": [
        "### Example of a simple model (simple linear regression)"
      ],
      "metadata": {
        "id": "xNbDdfhgXHQg"
      }
    },
    {
      "cell_type": "markdown",
      "source": [
        "Suppose that our examples are scalar numbers $x_1,\\dots, x_n$ and the labels are continuous labels $y_1, \\dots, y_n$. We call $x$ the explanatory variable and $y$ the response variable. \n",
        "\n",
        "Let's consider the simple linear regression model:\n",
        "$f_{\\rm a,b}(x)= a \\, x + b.$\n",
        "\n",
        "The model parameters are ${\\rm \\bf w}=(a,b)$ and the predicted values are given by$\\\\[1em]$ \n",
        "$$\\hat{y}=f(x; {\\rm a,b})=a\\, x + b.$$\n",
        "\n",
        "The observed or actual label values are the $y_1, \\dots, y_n$, and the predicted label values are the $\\hat{y}_1,\\dots,\\hat{y}_n$.\n",
        "\n"
      ],
      "metadata": {
        "id": "ak8k0ZkGXL5T"
      }
    },
    {
      "cell_type": "markdown",
      "source": [
        "### Example of a simple model (quadratic regression)"
      ],
      "metadata": {
        "id": "KCwiAiilXOkJ"
      }
    },
    {
      "cell_type": "markdown",
      "source": [
        "In notebook [Lesson3_edited_04-how-does-a-neural-net-really-work.ipynb](Lesson3_edited_04-how-does-a-neural-net-really-work.ipynb), a similar simple example was discussed. The only difference was that the model $f_{\\rm a,b,c}$ was quadratic instead of linear: \n",
        "\n",
        "$$f_{\\rm a,b,c}(x)= f(x;a,b,c)= a \\, x^2 + b \\, x + c.$$\n",
        "\n",
        "In the illustration below, the observed (actual) values are plotted in blue, and the values preditted by the model for a fixed set of parameters $a=3, b=2, c=1$ are plotted in red."
      ],
      "metadata": {
        "id": "B06MlDsTXWxi"
      }
    },
    {
      "cell_type": "code",
      "source": [
        "# example from Lesson3_edited_04-how-does-a-neural-net-really-work.ipynb\n",
        "import numpy as np\n",
        "import torch\n",
        "import matplotlib.pyplot as plt\n",
        "np.random.seed(42)\n",
        "def noise(x, scale): return np.random.normal(scale=scale, size=x.shape)\n",
        "def add_noise(x, mult, add): return x * (1+noise(x,mult)) + noise(x,add)\n",
        "# create synthetic examples (x) and labels (y), and calculate predictions\n",
        "x = torch.linspace(-2, 2, steps=20)[:,None]\n",
        "def f(x): return 3*x**2 + 2*x + 1\n",
        "y = add_noise(f(x), 0.15, 1.5)\n",
        "ypred=f(x)\n",
        "# plot \n",
        "plt.scatter(x,y);\n",
        "plt.scatter(x,ypred,color='red');\n",
        "plt.title(\"Example of a simple quadratic model with 3 parameters\")\n",
        "plt.xlabel(\"Explanatory variable\")\n",
        "plt.ylabel(\"Response (actual in blue, predicted in red)\")\n",
        "plt.plot(x, f(x), 'red')\n",
        "plt.show()"
      ],
      "metadata": {
        "colab": {
          "base_uri": "https://localhost:8080/",
          "height": 54
        },
        "id": "WcGDmG34Jshd",
        "outputId": "1005b5b9-525c-402d-daee-5aaa45ddf046"
      },
      "execution_count": null,
      "outputs": [
        {
          "output_type": "display_data",
          "data": {
            "text/plain": [
              "<Figure size 432x288 with 1 Axes>"
            ],
            "image/png": "[encoded data removed]"
          },
          "metadata": {
            "needs_background": "light"
          }
        }
      ]
    },
    {
      "cell_type": "markdown",
      "source": [
        "## Loss function"
      ],
      "metadata": {
        "id": "TsCcLtocYK6M"
      }
    },
    {
      "cell_type": "markdown",
      "source": [
        "In ML, it is usual to call *loss* to the **dissimilarity** between actual and predicted label values for a *set* of labeled examples.\n",
        "\n",
        "Let ${\\rm \\bf x}_1, \\dots , {\\rm \\bf x}_n$ be a set of examples with labels $y_1, \\dots , y_n$. Let $f_{\\rm \\bf w}$ be our model. Therefore, the predicted labels are \n",
        "\n",
        "$$\\hat{y}_1=f_{\\rm \\bf w}({\\rm \\bf x}_1), \\dots, \\hat{y}_n=f_{\\rm \\bf w}({\\rm \\bf x}_n).$$\n",
        "\n",
        "The loss over that set of examples is some dissimilarity measure between the actual labels $y_1, \\dots , y_n$ and the predicted labels $\\hat{y}_1, \\dots , \\hat{y}_n$.\n",
        "\n"
      ],
      "metadata": {
        "id": "Bp8K-cntPVfx"
      }
    },
    {
      "cell_type": "markdown",
      "source": [
        "### Example (simple linear regression)\n"
      ],
      "metadata": {
        "id": "cM7AZbYpYeRO"
      }
    },
    {
      "cell_type": "markdown",
      "source": [
        "\n",
        "For the linear regression example, the response variable is continuous. We wish to measure the dissimilarity between the set of actual label values $y_1, \\dots , y_n$  and the set of values predicted by the model \n",
        "$f_{\\rm a,b}(x)= a \\, x + b$: \n",
        "\n",
        "$$\\hat{y}_1=a\\, x_1+ b, \\dots, \\hat{y}_n=a\\, x_n+ b.$$\n",
        "\n",
        "Since the response is continuous, it makes sense to use a function like:\n",
        "\n",
        "1. Mean absolute error (MAE), given by $\\sum_{i=1}^n |y_i-\\hat{y}_i|$; or\n",
        "\n",
        "2. Mean square error (MSE), given by $\\frac{1}{n}\\sum_{i=1}^n \\left(y_i-\\hat{y}_i\\right)^2$."
      ],
      "metadata": {
        "id": "L2buuqntYha_"
      }
    },
    {
      "cell_type": "markdown",
      "source": [
        "### Example (quadratic regression)"
      ],
      "metadata": {
        "id": "2WgfmI8oavMx"
      }
    },
    {
      "cell_type": "markdown",
      "source": [
        "In notebook [Lesson3_edited_04-how-does-a-neural-net-really-work.ipynb](Lesson3_edited_04-how-does-a-neural-net-really-work.ipynb), loss was given by MAE, i.e. $\\sum_{i=1}^n |y_i-\\hat{y}_i|$."
      ],
      "metadata": {
        "id": "FE79yyV8a1hQ"
      }
    },
    {
      "cell_type": "code",
      "source": [
        "def mae(preds, acts): return (torch.abs(preds-acts)).mean()"
      ],
      "metadata": {
        "id": "P2hSIz50ckp8"
      },
      "execution_count": null,
      "outputs": []
    },
    {
      "cell_type": "markdown",
      "source": [
        "The notebook includes code to interactively change the parameter values and compute the MAE loss function for the data set.  \n",
        "\n",
        "Function `partial` in the code below converts the 4-argument function $f(x,a,b,c)$ into a one argument function $f(x;a,b,c)=f_{\\rm a,b,c}(x)$. Therefore, `mk_quad` corresponds to the one argument function $f_{\\rm a,b,c}(x)$. Hence it can be passed to `plot_function` which expects a one argument function.\n",
        "\n"
      ],
      "metadata": {
        "id": "Mz8gGbFccln_"
      }
    },
    {
      "cell_type": "code",
      "source": [
        "from fastai.basics import * # necessary for partial\n",
        "def quad(a, b, c, x): return a*x**2 + b*x + c\n",
        "def mk_quad(a,b,c): return partial(quad, a,b,c)\n",
        "def plot_function(f, title=None, min=-2.1, max=2.1, color='r', ylim=None):\n",
        "    x = torch.linspace(min,max, 100)[:,None]\n",
        "    if ylim: plt.ylim(ylim)\n",
        "    plt.plot(x, f(x), color)\n",
        "    if title is not None: plt.title(title)\n",
        "# interactive plot\n",
        "from ipywidgets import interact\n",
        "@interact(a=1.1, b=1.1, c=1.1)\n",
        "def plot_quad(a, b, c):\n",
        "    f = mk_quad(a,b,c)\n",
        "    plt.scatter(x,y)\n",
        "    loss = mae(f(x), y)\n",
        "    plot_function(f, ylim=(-3,12), title=f\"MAE: {loss:.2f}\")"
      ],
      "metadata": {
        "colab": {
          "base_uri": "https://localhost:8080/",
          "height": 377,
          "referenced_widgets": [
            "53a7c71e17d641cebc67373ee668eeca",
            "1fb2c018e72147d8ad4fa0f3635912e7",
            "da92fd90ef0a4d79a977828c69061549",
            "7efde3d6140f448da65e77092e8d5d84",
            "fce33e3253c8492ea08324da1192e95c",
            "41d5cc6d51ad4d6d8ca2e037bc3970d4",
            "9ec6bd0d843e412bbe33709a309dca33",
            "c8f691b05bfd4ab998eec61b9277df05",
            "6e425c95e973453ca5303cead7f0b19e",
            "54097ffa00d64fd99226ead410d11db1",
            "87ff0db29734441e82f7df090620eb09",
            "b3f79516afe241919cd77fe90679e59d",
            "4be5a3ffb38f41d7887d61036a4c2052"
          ]
        },
        "id": "PoOuvmF9bHM4",
        "outputId": "aeaac7b3-2926-4cd8-be1f-db2337303a81"
      },
      "execution_count": null,
      "outputs": [
        {
          "output_type": "display_data",
          "data": {
            "text/plain": [
              "interactive(children=(FloatSlider(value=1.1, description='a', max=3.3000000000000003, min=-1.1), FloatSlider(v…"
            ],
            "application/vnd.jupyter.widget-view+json": {
              "version_major": 2,
              "version_minor": 0,
              "model_id": "53a7c71e17d641cebc67373ee668eeca"
            }
          },
          "metadata": {}
        }
      ]
    },
    {
      "cell_type": "markdown",
      "source": [
        "## Dissimilarity measures to define *loss*"
      ],
      "metadata": {
        "id": "9dLMWMHcYlvn"
      }
    },
    {
      "cell_type": "markdown",
      "source": [
        "\n",
        "To define loss, we then need to choose an appropriate dissimilarity metric between a set of actual $y_1, \\dots , y_n$ and predicted labels $\\hat{y}_1, \\dots , \\hat{y}_n$. The choice depends on the type of problem, and while MAE or RMSE are adequate for *regression* problems, other dissimilarities are used for *classification* problems.\n",
        "\n",
        "\n"
      ],
      "metadata": {
        "id": "JaP8Ef2zYo24"
      }
    },
    {
      "cell_type": "markdown",
      "source": [
        "### Examples of loss functions for regression problems (MAE, MSE, Huber)\n",
        "\n"
      ],
      "metadata": {
        "id": "TazkXj5DYsdC"
      }
    },
    {
      "cell_type": "markdown",
      "source": [
        "Above, two common loss functions for regression problems were listed\n",
        "\n",
        "1. Mean absolute error (MAE), given by $\\sum_{i=1}^n |y_i-\\hat{y}_i|$; or\n",
        "\n",
        "2. Mean square error (MSE), given by $\\frac{1}{n}\\sum_{i=1}^n \\left(y_i-\\hat{y}_i\\right)^2$\n",
        "\n",
        "In the one hand, MAE is not differentiable everywhere, which is an undesirable property for ML. On the other hand, MSE penalizes too much large differences between actual and predicted values, which means that a single example can constraint strongly the solution. \n",
        "\n",
        "An alternative is called the Huber loss function, which is differentiable everywhere, and behaves like MSE near the origin and like MAE for large $|y_i-\\hat{y}_i|$.\n"
      ],
      "metadata": {
        "id": "WlJNpKjwWRLO"
      }
    },
    {
      "cell_type": "markdown",
      "source": [
        "### Example of loss functions for classification problems (cross-entropy)"
      ],
      "metadata": {
        "id": "Fsp3Fh9KYwCe"
      }
    },
    {
      "cell_type": "markdown",
      "source": [
        "Classification problems have categorical labels. Therefore, the model predictions should return the most likely label for each example. \n",
        "\n",
        "While in regression, the model's output is typically an unbounded response variable (for instance, it is $f(x;a,b) = a\\, x + b$ in simple linear regression), for classification problems, it is more convenient to have:\n",
        "1. one output per label;\n",
        "2. each output being a value between 0 and 1 that can be interpreted as the probability of the label.\n",
        "\n",
        "![picture](https://drive.google.com/uc?export=view&id=1iD519g8QbBmOGp9SiOQsIneJnWg53SMQ)\n",
        "\n",
        "\n",
        "Therefore, it is usual to have a model that outputs $f_1({\\rm \\bf x};{\\rm \\bf w_1}), \\dots , f_k({\\rm \\bf x};{\\rm \\bf w_k})$ for each of the $k$ possible labels, and an additional model component that converts those *raw* outputs into probability-like values for the labels.\n",
        "\n",
        "You saw that kind of probabilistic output when you trained and deployed an image classifier in notebook [Lesson2_edited_book_02_production.ipynb](Lesson2_edited_book_02_production.ipynb). When you did predict the label for a new example with\n",
        "\n",
        "`learn_inf.predict('images/grizzly.jpg')`,\n",
        "\n",
        "you got a vector of estimated probabilities like the following:\n",
        "\n",
        "`('grizzly', tensor(1), tensor([9.0767e-06, 9.9999e-01, 1.5748e-07]))`.\n",
        "\n",
        "#### Softmax \n",
        "\n",
        "The unormalized model outputs $f_1, \\dots, f_k$ are called *logits* or *raw* outputs. Each $z_i=f_i({\\rm \\bf x};{\\rm \\bf w_i})$ is converted into a [0,1] value by the *softmax* function:\n",
        "\n",
        "$$S(z)=\\frac{\\exp(z)}{\\sum_{i=1}^k \\exp(z_i)} ∈ [0,1].$$\n",
        "\n",
        "After that transformation, the classification model's output is a vector of values $(p_1,\\dots,p_k)$, with $p_i \\ge 0$ and $\\sum p_i=1$ that can be interpreted as probabilities, and the predicted label is the one with highest $p$.\n",
        "\n",
        "While in the regression problem the loss is a dissimilarity between the actual labels $y_1,\\dots,y_n$ and the predicted labels $\\hat{y}_1,\\dots,\\hat{y}_n$ for the set with $n$ examples, in classification with *softmax* the loss is then a dissimilarity between the actual labels $y_1,\\dots,y_n$ and the $n$ probability vectors $(p_1,\\dots,p_k)$.\n",
        "\n",
        "The most common *loss* function for classification is called *cross-entropy*. Notebook [Lesson1_00_is_it_a_bird_creating_a_model_from_your_own_data.ipynb](Lesson1_00_is_it_a_bird_creating_a_model_from_your_own_data.ipynb) creates the learner with:\n",
        "\n",
        "`learn = vision_learner(dls, resnet18, metrics=error_rate)`\n",
        "\n",
        "`vision_learner` allows to explicitely define the loss function  with the argument `loss_func`. Since it is not explicitely defined in the code above, we can check the default which is stored in property `loss_func`:\n",
        "\n",
        "`learn.loss_func` \n",
        "\n",
        "which returns `FlattenedLoss of CrossEntropyLoss()`. This `fastai` loss is described in the Pytorch documentation as the `nn.CrossEntropyLoss` class  [https://pytorch.org/docs/stable/generated/torch.nn.CrossEntropyLoss.html](https://pytorch.org/docs/stable/generated/torch.nn.CrossEntropyLoss.html). Hence, the loss function that is applied in the example in the notebook is  `torch.nn.CrossEntropyLoss` that computes the cross entropy loss between input logits and target. \n",
        "\n",
        "#### Cross-entropy\n",
        "\n",
        "So, what is the *loss* you see in the output when you train an image classifier in notebook [Lesson2_edited_book_02_production.ipynb](Lesson2_edited_book_02_production.ipynb)?\n",
        "\n",
        "> epoch \ttrain_loss \tvalid_loss \terror_rate \ttime\n",
        "\n",
        ">     0   1.174910    0.043982    0.009091    00:34\n",
        "\n",
        "\n",
        "Suppose that your model (`resnet`) was trained to classify photos of bears into *black*, *grizzly* and *teddy* as in [Lesson2_edited_book_02_production.ipynb](Lesson2_edited_book_02_production.ipynb). The last layer of the model outputs the values of three functions $f_1, f_2, f_3$, where $f_1$ is associated to *black*, $f_2$ is associated to *grizzly* and $f_3$ is associated to *teddy*. The values $(z_1,z_2,z_3)$ of the function for some input and for your trained model are the so-called *logits* or *raw* outputs. \n",
        "\n",
        "The code below creates an example of the outputs for a *batch* of 4 examples. In the matrix below each row is an example and each column is a label. Consider that column 1 is for *black*, column 2 for *grizzly* and column 3 for *teddy*."
      ],
      "metadata": {
        "id": "NHRyajD_N6hv"
      }
    },
    {
      "cell_type": "code",
      "source": [
        "import torch\n",
        "raws=torch.tensor([[4.5,2.1,0.2],\n",
        "                   [1.3,8.3,0.8],\n",
        "                   [1.2,1.5,4.2],\n",
        "                   [5.1,0.4,2.3]])\n",
        "raws"
      ],
      "metadata": {
        "colab": {
          "base_uri": "https://localhost:8080/"
        },
        "id": "pYMCDHdArmrf",
        "outputId": "5632307a-1438-4e47-8b2f-f4dc4b5e0346"
      },
      "execution_count": null,
      "outputs": [
        {
          "output_type": "execute_result",
          "data": {
            "text/plain": [
              "tensor([[4.5000, 2.1000, 0.2000],\n",
              "        [1.3000, 8.3000, 0.8000],\n",
              "        [1.2000, 1.5000, 4.2000],\n",
              "        [5.1000, 0.4000, 2.3000]])"
            ]
          },
          "metadata": {},
          "execution_count": 70
        }
      ]
    },
    {
      "cell_type": "code",
      "source": [],
      "metadata": {
        "id": "Ikv6xMwCYSAm"
      },
      "execution_count": null,
      "outputs": []
    },
    {
      "cell_type": "markdown",
      "source": [
        "Looking at the tensor above, it looks like the first and fourth examples have a larger likelihood of being photos of *black* bears, while the second example is more likely a *grizzly* bear and the third one seems to be a *teddy* bear photo. Let's apply *softmax* to convert the raw outputs into probability-like values."
      ],
      "metadata": {
        "id": "9N7exOe4L6Y8"
      }
    },
    {
      "cell_type": "code",
      "source": [
        " softs = raws.softmax(dim=1)\n",
        " softs"
      ],
      "metadata": {
        "id": "_JktsXREIxvg",
        "outputId": "c047496a-7924-431d-deff-7d8aef0a08d1",
        "colab": {
          "base_uri": "https://localhost:8080/"
        }
      },
      "execution_count": null,
      "outputs": [
        {
          "output_type": "execute_result",
          "data": {
            "text/plain": [
              "tensor([[9.0556e-01, 8.2151e-02, 1.2287e-02],\n",
              "        [9.1055e-04, 9.9854e-01, 5.5228e-04],\n",
              "        [4.4572e-02, 6.0166e-02, 8.9526e-01],\n",
              "        [9.3466e-01, 8.5010e-03, 5.6837e-02]])"
            ]
          },
          "metadata": {},
          "execution_count": 71
        }
      ]
    },
    {
      "cell_type": "markdown",
      "source": [
        "It is clear that the softmax rule did amplify the difference in values for each example. In each row there is one value close to 1 and the remainder values are close to 0. For each example, *cross-entropy* compares the target distribution with the probability distribution returned by *softmax*. For instance, for the first row we have:"
      ],
      "metadata": {
        "id": "q-ok5s3pMwFf"
      }
    },
    {
      "cell_type": "code",
      "source": [
        "target=torch.zeros(1,3)\n",
        "target[0,softs[0,:].argmax(axis=0)]=1\n",
        "print('probability distribution (p): ', softs[0,:])\n",
        "print('target distribution      (t):', target)"
      ],
      "metadata": {
        "id": "5MLo9NugNaLE",
        "outputId": "c8ebd62e-500c-4875-a1a2-75813b910fdb",
        "colab": {
          "base_uri": "https://localhost:8080/"
        }
      },
      "execution_count": null,
      "outputs": [
        {
          "output_type": "stream",
          "name": "stdout",
          "text": [
            "probability distribution (p):  tensor([0.9056, 0.0822, 0.0123])\n",
            "target distribution      (t): tensor([[1., 0., 0.]])\n"
          ]
        }
      ]
    },
    {
      "cell_type": "markdown",
      "source": [
        "Cross-entropy loss measures the dissimilarity between the probability distribution returned by *softmax* $(p_1,p_2,p_3)$ and the target distribution $(t_1,t_2,t_3)$ for the $i$-th example with the expression, and takes values between 0 (optimal value associated to minimum uncertainty) and 1 (maximum value associated to maximum uncertainty, i.e. all probabilities are equal):\n",
        "\n",
        "$$L_i=-\\left( t_1 \\, \\log(p_1) + t_2 \\, \\log(p_2) + t_3 \\, \\log(p_3) \\right) \\in [0,1].$$\n",
        "\n",
        "In the expression above, we suppose that the probabilities are non zero. \n",
        "For the whole batch of $n$ examples, the cross-entropy loss is given by the average of the $n$ individual loss values:\n",
        "\n",
        "$$L=\\frac{1}{n} \\left( L_1+L_2+ \\dots,L_n\\right).$$\n",
        "\n",
        "This can be computed with `nn.CrossEntropyLoss()` as below:"
      ],
      "metadata": {
        "id": "2ziX1cVzOkaU"
      }
    },
    {
      "cell_type": "code",
      "source": [
        "import torch.nn as nn\n",
        "# Create target distributions\n",
        "n,k=raws.shape\n",
        "target=torch.zeros(n,k)\n",
        "for i in range(n): target[i,softs.argmax(axis=1)[i]]=1\n",
        "print(target)\n",
        "# compute loss\n",
        "loss = nn.CrossEntropyLoss()\n",
        "output = loss(raws, target)\n",
        "print('Cross Entropy Loss: ', output)"
      ],
      "metadata": {
        "colab": {
          "base_uri": "https://localhost:8080/"
        },
        "id": "NIbwzbeJp7Vg",
        "outputId": "9e6ebada-05d1-4a27-d82d-f214af679e2b"
      },
      "execution_count": null,
      "outputs": [
        {
          "output_type": "stream",
          "name": "stdout",
          "text": [
            "tensor([[1., 0., 0.],\n",
            "        [0., 1., 0.],\n",
            "        [0., 0., 1.],\n",
            "        [1., 0., 0.]])\n",
            "Cross Entropy Loss:  tensor(0.0697)\n"
          ]
        }
      ]
    },
    {
      "cell_type": "markdown",
      "source": [
        "\n",
        "## ML as an optimization problem\n"
      ],
      "metadata": {
        "id": "BZmxXfDFYx3q"
      }
    },
    {
      "cell_type": "markdown",
      "source": [
        "\n",
        "Now, we can define a ML problem as a optimization problem. Given\n",
        "\n",
        "1.  a set of examples  ${\\rm \\bf x}_1, \\dots , {\\rm \\bf x}_n$  with labels $y_1, \\dots , y_n$\n",
        "2. a model $f_{\\rm \\bf w}$\n",
        "3. a *loss* function $L$\n",
        "\n",
        "the goal is to determine the optimal set of parameters ${\\rm \\bf w}$ that minimize the loss $\\mathcal{L}$ over that set of examples.\n",
        "\n",
        "### Training and validation sets\n",
        "\n",
        "To prevent *overfitting* the parameters to the set of examples, the *loss* is computed over an independent set of examples which is called the *validation* set. In general, the example data set with $N$ examples is partitioned into a subset with, say $0.2 \\times N$ examples for validation and $0.8 \\times N$ examples for training like we saw in [Lesson2_edited_book_02_production.ipynb](Lesson2_edited_book_02_production.ipynb):\n",
        "\n",
        "    bears = DataBlock(\n",
        "        blocks=(ImageBlock, CategoryBlock), \n",
        "        get_items=get_image_files, \n",
        "        splitter=RandomSplitter(valid_pct=0.2, seed=42),\n",
        "        get_y=parent_label,\n",
        "        item_tfms=Resize(128))\n",
        "\n",
        "where `RandomSplitter(valid_pct=0.2, seed=42)` indicates that 20% of the examples are used for validation.\n",
        "\n",
        "The training data set is used to search for the optimal set of weights for the model.\n",
        "\n",
        "\n",
        "\n",
        "Examples\n",
        "1. Quadratic function\n",
        "Xs are just scalars\n",
        "Y are continuous (regression problem)\n",
        "F_w is f(x;a,b,c)\n",
        "Loss is mãe or rmse\n",
        "In this case the best set of weights can be determined analytacally\n",
        "In alternative one can use gradient descent\n",
        "\n",
        "2. Perceptron (no sigmoid) = mlr\n",
        "X are vectors , after preprocessing\n",
        "Y are 0 or 1 (regression or classification)\n",
        "Fw is S(X1 w1+....)\n",
        "Loss is ...\n",
        "In this case the problem 8s equivalent to least square mlr, and has an analital solution\n",
        "\n",
        "3. Perceptron with sigmoid output\n",
        "\n",
        "\n",
        "4 FC nn with hidden layers\n",
        "\n"
      ],
      "metadata": {
        "id": "1fG2E4DuYzu8"
      }
    },
    {
      "cell_type": "markdown",
      "source": [
        "## Assessing ML performance"
      ],
      "metadata": {
        "id": "kP-e5P8tGRD4"
      }
    },
    {
      "cell_type": "markdown",
      "source": [
        "Notebook [https://github.com/isa-ulisboa/greends-pml/blob/main/Lesson1_00_is_it_a_bird_creating_a_model_from_your_own_data.ipynb](https://github.com/isa-ulisboa/greends-pml/blob/main/Lesson1_00_is_it_a_bird_creating_a_model_from_your_own_data.ipynb) does it with\n",
        "\n",
        "`learn = vision_learner(dls, resnet18, metrics=error_rate)`\n",
        "\n",
        "where `dls` is a `DataLoaders` object with the input data, `resnet18` is a deep CNN model, and `metrics=error_rate` determines the *loss* function.  In that case, `error_rate` returns the proportion of mismatches between the set of actual labels $y_1, \\dots , y_n$ and the set of predicted labels $\\hat{y}_1, \\dots , \\hat{y}_n$.\n",
        "\n",
        "\n",
        "Change? Is this about error_rate and not loss?\n",
        "A large list of dissimilarity metrics for regression and classification problem can be found at\n",
        "https://scikit-learn.org/stable/modules/classes.html#module-sklearn.metrics. The package `fastai` provides many similarity/dissimilarity metrics, including all metrics from `scikit-learn`. The documentation is available at https://docs.fast.ai/metrics.html."
      ],
      "metadata": {
        "id": "At32ItDHGVkP"
      }
    }
  ]
}