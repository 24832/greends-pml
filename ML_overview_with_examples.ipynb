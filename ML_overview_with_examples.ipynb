{
  "nbformat": 4,
  "nbformat_minor": 0,
  "metadata": {
    "colab": {
      "provenance": [],
      "toc_visible": true,
      "mount_file_id": "https://github.com/isa-ulisboa/greends-pml/blob/main/ML_overview_with_examples.ipynb",
      "authorship_tag": "ABX9TyNu0V4Ulaalzi21dUURaLVZ",
      "include_colab_link": true
    },
    "kernelspec": {
      "name": "python3",
      "display_name": "Python 3"
    },
    "language_info": {
      "name": "python"
    },
    "widgets": {
      "application/vnd.jupyter.widget-state+json": {
        "287b831a2015472ca1ad96be2344a838": {
          "model_module": "@jupyter-widgets/controls",
          "model_name": "VBoxModel",
          "model_module_version": "1.5.0",
          "state": {
            "_dom_classes": [
              "widget-interact"
            ],
            "_model_module": "@jupyter-widgets/controls",
            "_model_module_version": "1.5.0",
            "_model_name": "VBoxModel",
            "_view_count": null,
            "_view_module": "@jupyter-widgets/controls",
            "_view_module_version": "1.5.0",
            "_view_name": "VBoxView",
            "box_style": "",
            "children": [
              "IPY_MODEL_5037df45e75347b999912f5ff8148050",
              "IPY_MODEL_242053e6c5fe49e9b821e592142baa86",
              "IPY_MODEL_0294731999604d828d2f6db099524643",
              "IPY_MODEL_b56866f8cd04425090c8847432d99030"
            ],
            "layout": "IPY_MODEL_0ad66d52b29b4132880bc2c3878bb0cc"
          }
        },
        "5037df45e75347b999912f5ff8148050": {
          "model_module": "@jupyter-widgets/controls",
          "model_name": "FloatSliderModel",
          "model_module_version": "1.5.0",
          "state": {
            "_dom_classes": [],
            "_model_module": "@jupyter-widgets/controls",
            "_model_module_version": "1.5.0",
            "_model_name": "FloatSliderModel",
            "_view_count": null,
            "_view_module": "@jupyter-widgets/controls",
            "_view_module_version": "1.5.0",
            "_view_name": "FloatSliderView",
            "continuous_update": true,
            "description": "a",
            "description_tooltip": null,
            "disabled": false,
            "layout": "IPY_MODEL_7eb98727910e4732a7a0961c9024160c",
            "max": 3.3000000000000003,
            "min": -1.1,
            "orientation": "horizontal",
            "readout": true,
            "readout_format": ".2f",
            "step": 0.1,
            "style": "IPY_MODEL_6fb1bc9c4e4940fea7bd973249e4c294",
            "value": 2.5
          }
        },
        "242053e6c5fe49e9b821e592142baa86": {
          "model_module": "@jupyter-widgets/controls",
          "model_name": "FloatSliderModel",
          "model_module_version": "1.5.0",
          "state": {
            "_dom_classes": [],
            "_model_module": "@jupyter-widgets/controls",
            "_model_module_version": "1.5.0",
            "_model_name": "FloatSliderModel",
            "_view_count": null,
            "_view_module": "@jupyter-widgets/controls",
            "_view_module_version": "1.5.0",
            "_view_name": "FloatSliderView",
            "continuous_update": true,
            "description": "b",
            "description_tooltip": null,
            "disabled": false,
            "layout": "IPY_MODEL_468087a33c8d482bb2cd7bdbe0ab01c5",
            "max": 3.3000000000000003,
            "min": -1.1,
            "orientation": "horizontal",
            "readout": true,
            "readout_format": ".2f",
            "step": 0.1,
            "style": "IPY_MODEL_af0c9f2494794d8faf9647863eb50e61",
            "value": 1.1
          }
        },
        "0294731999604d828d2f6db099524643": {
          "model_module": "@jupyter-widgets/controls",
          "model_name": "FloatSliderModel",
          "model_module_version": "1.5.0",
          "state": {
            "_dom_classes": [],
            "_model_module": "@jupyter-widgets/controls",
            "_model_module_version": "1.5.0",
            "_model_name": "FloatSliderModel",
            "_view_count": null,
            "_view_module": "@jupyter-widgets/controls",
            "_view_module_version": "1.5.0",
            "_view_name": "FloatSliderView",
            "continuous_update": true,
            "description": "c",
            "description_tooltip": null,
            "disabled": false,
            "layout": "IPY_MODEL_cdd35afc8efb4be9ae8fd575d1009bc5",
            "max": 3.3000000000000003,
            "min": -1.1,
            "orientation": "horizontal",
            "readout": true,
            "readout_format": ".2f",
            "step": 0.1,
            "style": "IPY_MODEL_454e8a074fa54e4c93a2e75e611c5e13",
            "value": 1.1
          }
        },
        "b56866f8cd04425090c8847432d99030": {
          "model_module": "@jupyter-widgets/output",
          "model_name": "OutputModel",
          "model_module_version": "1.0.0",
          "state": {
            "_dom_classes": [],
            "_model_module": "@jupyter-widgets/output",
            "_model_module_version": "1.0.0",
            "_model_name": "OutputModel",
            "_view_count": null,
            "_view_module": "@jupyter-widgets/output",
            "_view_module_version": "1.0.0",
            "_view_name": "OutputView",
            "layout": "IPY_MODEL_003db380868741ce917469e6dd6b746d",
            "msg_id": "",
            "outputs": [
              {
                "output_type": "display_data",
                "data": {
                  "text/plain": "<Figure size 432x288 with 1 Axes>",
                  "image/png": "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\n"
                },
                "metadata": {
                  "needs_background": "light"
                }
              }
            ]
          }
        },
        "0ad66d52b29b4132880bc2c3878bb0cc": {
          "model_module": "@jupyter-widgets/base",
          "model_name": "LayoutModel",
          "model_module_version": "1.2.0",
          "state": {
            "_model_module": "@jupyter-widgets/base",
            "_model_module_version": "1.2.0",
            "_model_name": "LayoutModel",
            "_view_count": null,
            "_view_module": "@jupyter-widgets/base",
            "_view_module_version": "1.2.0",
            "_view_name": "LayoutView",
            "align_content": null,
            "align_items": null,
            "align_self": null,
            "border": null,
            "bottom": null,
            "display": null,
            "flex": null,
            "flex_flow": null,
            "grid_area": null,
            "grid_auto_columns": null,
            "grid_auto_flow": null,
            "grid_auto_rows": null,
            "grid_column": null,
            "grid_gap": null,
            "grid_row": null,
            "grid_template_areas": null,
            "grid_template_columns": null,
            "grid_template_rows": null,
            "height": null,
            "justify_content": null,
            "justify_items": null,
            "left": null,
            "margin": null,
            "max_height": null,
            "max_width": null,
            "min_height": null,
            "min_width": null,
            "object_fit": null,
            "object_position": null,
            "order": null,
            "overflow": null,
            "overflow_x": null,
            "overflow_y": null,
            "padding": null,
            "right": null,
            "top": null,
            "visibility": null,
            "width": null
          }
        },
        "7eb98727910e4732a7a0961c9024160c": {
          "model_module": "@jupyter-widgets/base",
          "model_name": "LayoutModel",
          "model_module_version": "1.2.0",
          "state": {
            "_model_module": "@jupyter-widgets/base",
            "_model_module_version": "1.2.0",
            "_model_name": "LayoutModel",
            "_view_count": null,
            "_view_module": "@jupyter-widgets/base",
            "_view_module_version": "1.2.0",
            "_view_name": "LayoutView",
            "align_content": null,
            "align_items": null,
            "align_self": null,
            "border": null,
            "bottom": null,
            "display": null,
            "flex": null,
            "flex_flow": null,
            "grid_area": null,
            "grid_auto_columns": null,
            "grid_auto_flow": null,
            "grid_auto_rows": null,
            "grid_column": null,
            "grid_gap": null,
            "grid_row": null,
            "grid_template_areas": null,
            "grid_template_columns": null,
            "grid_template_rows": null,
            "height": null,
            "justify_content": null,
            "justify_items": null,
            "left": null,
            "margin": null,
            "max_height": null,
            "max_width": null,
            "min_height": null,
            "min_width": null,
            "object_fit": null,
            "object_position": null,
            "order": null,
            "overflow": null,
            "overflow_x": null,
            "overflow_y": null,
            "padding": null,
            "right": null,
            "top": null,
            "visibility": null,
            "width": null
          }
        },
        "6fb1bc9c4e4940fea7bd973249e4c294": {
          "model_module": "@jupyter-widgets/controls",
          "model_name": "SliderStyleModel",
          "model_module_version": "1.5.0",
          "state": {
            "_model_module": "@jupyter-widgets/controls",
            "_model_module_version": "1.5.0",
            "_model_name": "SliderStyleModel",
            "_view_count": null,
            "_view_module": "@jupyter-widgets/base",
            "_view_module_version": "1.2.0",
            "_view_name": "StyleView",
            "description_width": "",
            "handle_color": null
          }
        },
        "468087a33c8d482bb2cd7bdbe0ab01c5": {
          "model_module": "@jupyter-widgets/base",
          "model_name": "LayoutModel",
          "model_module_version": "1.2.0",
          "state": {
            "_model_module": "@jupyter-widgets/base",
            "_model_module_version": "1.2.0",
            "_model_name": "LayoutModel",
            "_view_count": null,
            "_view_module": "@jupyter-widgets/base",
            "_view_module_version": "1.2.0",
            "_view_name": "LayoutView",
            "align_content": null,
            "align_items": null,
            "align_self": null,
            "border": null,
            "bottom": null,
            "display": null,
            "flex": null,
            "flex_flow": null,
            "grid_area": null,
            "grid_auto_columns": null,
            "grid_auto_flow": null,
            "grid_auto_rows": null,
            "grid_column": null,
            "grid_gap": null,
            "grid_row": null,
            "grid_template_areas": null,
            "grid_template_columns": null,
            "grid_template_rows": null,
            "height": null,
            "justify_content": null,
            "justify_items": null,
            "left": null,
            "margin": null,
            "max_height": null,
            "max_width": null,
            "min_height": null,
            "min_width": null,
            "object_fit": null,
            "object_position": null,
            "order": null,
            "overflow": null,
            "overflow_x": null,
            "overflow_y": null,
            "padding": null,
            "right": null,
            "top": null,
            "visibility": null,
            "width": null
          }
        },
        "af0c9f2494794d8faf9647863eb50e61": {
          "model_module": "@jupyter-widgets/controls",
          "model_name": "SliderStyleModel",
          "model_module_version": "1.5.0",
          "state": {
            "_model_module": "@jupyter-widgets/controls",
            "_model_module_version": "1.5.0",
            "_model_name": "SliderStyleModel",
            "_view_count": null,
            "_view_module": "@jupyter-widgets/base",
            "_view_module_version": "1.2.0",
            "_view_name": "StyleView",
            "description_width": "",
            "handle_color": null
          }
        },
        "cdd35afc8efb4be9ae8fd575d1009bc5": {
          "model_module": "@jupyter-widgets/base",
          "model_name": "LayoutModel",
          "model_module_version": "1.2.0",
          "state": {
            "_model_module": "@jupyter-widgets/base",
            "_model_module_version": "1.2.0",
            "_model_name": "LayoutModel",
            "_view_count": null,
            "_view_module": "@jupyter-widgets/base",
            "_view_module_version": "1.2.0",
            "_view_name": "LayoutView",
            "align_content": null,
            "align_items": null,
            "align_self": null,
            "border": null,
            "bottom": null,
            "display": null,
            "flex": null,
            "flex_flow": null,
            "grid_area": null,
            "grid_auto_columns": null,
            "grid_auto_flow": null,
            "grid_auto_rows": null,
            "grid_column": null,
            "grid_gap": null,
            "grid_row": null,
            "grid_template_areas": null,
            "grid_template_columns": null,
            "grid_template_rows": null,
            "height": null,
            "justify_content": null,
            "justify_items": null,
            "left": null,
            "margin": null,
            "max_height": null,
            "max_width": null,
            "min_height": null,
            "min_width": null,
            "object_fit": null,
            "object_position": null,
            "order": null,
            "overflow": null,
            "overflow_x": null,
            "overflow_y": null,
            "padding": null,
            "right": null,
            "top": null,
            "visibility": null,
            "width": null
          }
        },
        "454e8a074fa54e4c93a2e75e611c5e13": {
          "model_module": "@jupyter-widgets/controls",
          "model_name": "SliderStyleModel",
          "model_module_version": "1.5.0",
          "state": {
            "_model_module": "@jupyter-widgets/controls",
            "_model_module_version": "1.5.0",
            "_model_name": "SliderStyleModel",
            "_view_count": null,
            "_view_module": "@jupyter-widgets/base",
            "_view_module_version": "1.2.0",
            "_view_name": "StyleView",
            "description_width": "",
            "handle_color": null
          }
        },
        "003db380868741ce917469e6dd6b746d": {
          "model_module": "@jupyter-widgets/base",
          "model_name": "LayoutModel",
          "model_module_version": "1.2.0",
          "state": {
            "_model_module": "@jupyter-widgets/base",
            "_model_module_version": "1.2.0",
            "_model_name": "LayoutModel",
            "_view_count": null,
            "_view_module": "@jupyter-widgets/base",
            "_view_module_version": "1.2.0",
            "_view_name": "LayoutView",
            "align_content": null,
            "align_items": null,
            "align_self": null,
            "border": null,
            "bottom": null,
            "display": null,
            "flex": null,
            "flex_flow": null,
            "grid_area": null,
            "grid_auto_columns": null,
            "grid_auto_flow": null,
            "grid_auto_rows": null,
            "grid_column": null,
            "grid_gap": null,
            "grid_row": null,
            "grid_template_areas": null,
            "grid_template_columns": null,
            "grid_template_rows": null,
            "height": null,
            "justify_content": null,
            "justify_items": null,
            "left": null,
            "margin": null,
            "max_height": null,
            "max_width": null,
            "min_height": null,
            "min_width": null,
            "object_fit": null,
            "object_position": null,
            "order": null,
            "overflow": null,
            "overflow_x": null,
            "overflow_y": null,
            "padding": null,
            "right": null,
            "top": null,
            "visibility": null,
            "width": null
          }
        }
      }
    },
    "accelerator": "GPU",
    "gpuClass": "standard"
  },
  "cells": [
    {
      "cell_type": "markdown",
      "metadata": {
        "id": "view-in-github",
        "colab_type": "text"
      },
      "source": [
        "<a href=\"https://colab.research.google.com/github/isa-ulisboa/greends-pml/blob/main/ML_overview_with_examples.ipynb\" target=\"_parent\"><img src=\"https://colab.research.google.com/assets/colab-badge.svg\" alt=\"Open In Colab\"/></a>"
      ]
    },
    {
      "cell_type": "markdown",
      "source": [
        "**Practical Machine Learning**\n",
        "\n",
        "Masters in Green Data Science, ISA/ULisboa, 2022-2023\n",
        "\n",
        "Instructor: Manuel Campagnolo mlc@isa.ulisboa.pt"
      ],
      "metadata": {
        "id": "f0qoqpJ4-iom"
      }
    },
    {
      "cell_type": "markdown",
      "source": [
        "# Overview of Machine Learning (ML) \n",
        "\n",
        "In this course we are dealing with data sets of *labeled examples*. Examples can be scalar numbers, rows of tabular data, images, etc. For tabular data, we refer the to columns as *explanatory variables* (sometimes also called *independent* or *descriptive* variables).\n",
        "\n",
        "Labels can be categorical, ordinal or continuous. Labels can be refered to as the *response variable* (or *dependent* variable). They are also called *targets*. Typically, we the problems are called:\n",
        "1. *Regression problems*, when the labels are continuous. \n",
        "2. *Classification problems*, when the labels are categorical.\n",
        "\n",
        "The distinction is not always clear. Some problems can be considered either as regression or classification problems. \n",
        "\n",
        "Given a ML problem, i.e. a set of labeled examples, the goal is to build a function $f$ that maps examples to labels or, in other words, that predicts the label from the example.\n",
        "\n",
        "The outputs of $f$ are called *predictions* or *predicted values*, and the actual labels of the examples are called *actual values* or *target values*.\n",
        "\n",
        "\n"
      ],
      "metadata": {
        "id": "RP73ZCHW-5IP"
      }
    },
    {
      "cell_type": "markdown",
      "source": [
        "## Python packages"
      ],
      "metadata": {
        "id": "OV7OxFdf78XU"
      }
    },
    {
      "cell_type": "markdown",
      "source": [
        "In this ML course, the main Python packages are:\n",
        "\n",
        "1. **Fastai**, a high-level package build from `pytorch`. A description of `fastai` is available in the paper *Howard, J.; Gugger, S. Fastai: A Layered API for Deep Learning. Information 2020, 11, 108. https://doi.org/10.3390/info11020108* and on the site https://docs.fast.ai/\n",
        "\n",
        "2. **Pytorch**: PyTorch is an optimized tensor library for deep learning using GPUs and CPUs;  https://pytorch.org/docs/stable/index.html\n",
        "\n",
        "3. **Scikit-learn**: Another high-level package build on `NumPy`, `SciPy`, and `matplotlib` which covers most ML techniques except deep learning;  https://scikit-learn.org/stable/index.html."
      ],
      "metadata": {
        "id": "Ly1ySlnR8AMM"
      }
    },
    {
      "cell_type": "markdown",
      "source": [
        "# Models and parameters"
      ],
      "metadata": {
        "id": "RW_X7OPCXc3C"
      }
    },
    {
      "cell_type": "markdown",
      "source": [
        "\n",
        "More formally, if $E$ is the set of examples and $L$ is a set that includes the labels, then what we call the *model* is a family of functions $f_{\\rm \\bf w}$ that depends on a set of parameters ${\\rm \\bf w}$: $$f_{\\rm \\bf w}: E → L.$$\n",
        "\n",
        "It can be more convenient to express the function as depending on the parameters ${\\rm \\bf w}$ as well as the example ${\\rm \\bf x}$. The model's predicted label $\\hat{y}$ for the example ${\\rm \\bf x}$ is:\n",
        "\n",
        "$$\\hat{y}=f_{\\rm \\bf w}({\\rm \\bf x})= f({\\rm \\bf x}; {\\rm \\bf w}).$$\n",
        "\n",
        "ML practicioners use an enormous variety of models, depending on the problem at hand and on the available computational resources to train the model. Models include convolucional neural networks (CNN) for image classification (resnet and other kind of CNNs), neural networks (NN) for classification of tabular data, linear regression models, decision and regression trees, random forest and other ensemble models, among many other models.\n",
        "\n",
        "\n",
        "<img src=\"https://drive.google.com/uc?export=view&id=1rjcetay_O8EPd9mUHh4k1XFQIi84FfX2\" width=\"800\" >\n",
        "\n"
      ],
      "metadata": {
        "id": "IKZwTca7XfkW"
      }
    },
    {
      "cell_type": "markdown",
      "source": [
        "## Example of a simple model (simple linear regression)"
      ],
      "metadata": {
        "id": "xNbDdfhgXHQg"
      }
    },
    {
      "cell_type": "markdown",
      "source": [
        "Suppose that our examples are scalar numbers $x_1,\\dots, x_n$ and the labels are continuous labels $y_1, \\dots, y_n$. We call $x$ the explanatory variable and $y$ the response variable. \n",
        "\n",
        "Let's consider the simple linear regression model:\n",
        "$f_{\\rm a,b}(x)= a \\, x + b$. The model parameters are ${\\rm \\bf w}=(a,b)$ and the predicted values are given by$\\\\[1em]$ \n",
        "$$\\hat{y}=f(x; {\\rm a,b})=a\\, x + b.$$\n",
        "\n",
        "The target  or actual label values are the $y_1, \\dots, y_n$, and the predicted label values are the $\\hat{y}_1,\\dots,\\hat{y}_n$.\n",
        "\n"
      ],
      "metadata": {
        "id": "ak8k0ZkGXL5T"
      }
    },
    {
      "cell_type": "markdown",
      "source": [
        "## Example of a simple model (quadratic regression)"
      ],
      "metadata": {
        "id": "KCwiAiilXOkJ"
      }
    },
    {
      "cell_type": "markdown",
      "source": [
        "In notebook [Lesson3_edited_04-how-does-a-neural-net-really-work.ipynb](Lesson3_edited_04-how-does-a-neural-net-really-work.ipynb), a similar simple example was discussed. The only difference was that the model $f_{\\rm a,b,c}$ was quadratic instead of linear: \n",
        "\n",
        "$$f_{\\rm a,b,c}(x)= f(x;a,b,c)= a \\, x^2 + b \\, x + c.$$\n",
        "\n",
        "In the illustration below, the observed (actual) values are plotted in blue, and the values preditted by the model for a fixed set of parameters $a=3, b=2, c=1$ are plotted in red."
      ],
      "metadata": {
        "id": "B06MlDsTXWxi"
      }
    },
    {
      "cell_type": "code",
      "source": [
        "# example from Lesson3_edited_04-how-does-a-neural-net-really-work.ipynb\n",
        "import numpy as np\n",
        "import torch\n",
        "import matplotlib.pyplot as plt\n",
        "np.random.seed(42)\n",
        "def noise(x, scale): return np.random.normal(scale=scale, size=x.shape)\n",
        "def add_noise(x, mult, add): return x * (1+noise(x,mult)) + noise(x,add)\n",
        "# create synthetic examples (x) and labels (y), and calculate predictions\n",
        "x = torch.linspace(-2, 2, steps=20)[:,None]\n",
        "def f(x): return 3*x**2 + 2*x + 1\n",
        "y = add_noise(f(x), 0.15, 1.5)\n",
        "ypred=f(x)\n",
        "# plot \n",
        "plt.scatter(x,y);\n",
        "plt.scatter(x,ypred,color='red');\n",
        "plt.title(\"Example of a simple quadratic model with 3 parameters\")\n",
        "plt.xlabel(\"Explanatory variable\")\n",
        "plt.ylabel(\"Response (actual in blue, predicted in red)\")\n",
        "plt.plot(x, f(x), 'red')\n",
        "plt.show()"
      ],
      "metadata": {
        "colab": {
          "base_uri": "https://localhost:8080/",
          "height": 295
        },
        "id": "WcGDmG34Jshd",
        "outputId": "f19cdb50-58a4-4b62-ef9f-ad255aa7e431"
      },
      "execution_count": null,
      "outputs": [
        {
          "output_type": "display_data",
          "data": {
            "text/plain": [
              "<Figure size 432x288 with 1 Axes>"
            ],
            "image/png": "[encoded data removed]"
          },
          "metadata": {
            "needs_background": "light"
          }
        }
      ]
    },
    {
      "cell_type": "markdown",
      "source": [
        "# Loss function"
      ],
      "metadata": {
        "id": "TsCcLtocYK6M"
      }
    },
    {
      "cell_type": "markdown",
      "source": [
        "In ML, it is usual to call *loss* to the **dissimilarity** between actual and predicted label values for a *set* of labeled examples.\n",
        "\n",
        "Let ${\\rm \\bf x}_1, \\dots , {\\rm \\bf x}_n$ be a set of examples with labels $y_1, \\dots , y_n$. Let $f_{\\rm \\bf w}$ be our model. Therefore, the predicted labels are \n",
        "\n",
        "$$\\hat{y}_1=f_{\\rm \\bf w}({\\rm \\bf x}_1), \\dots, \\hat{y}_n=f_{\\rm \\bf w}({\\rm \\bf x}_n).$$\n",
        "\n",
        "The loss over that set of examples is some dissimilarity measure between the actual labels $y_1, \\dots , y_n$ and the predicted labels $\\hat{y}_1, \\dots , \\hat{y}_n$.\n",
        "\n"
      ],
      "metadata": {
        "id": "Bp8K-cntPVfx"
      }
    },
    {
      "cell_type": "markdown",
      "source": [
        "## Example (simple linear regression)\n"
      ],
      "metadata": {
        "id": "cM7AZbYpYeRO"
      }
    },
    {
      "cell_type": "markdown",
      "source": [
        "\n",
        "For the linear regression example, the response variable is continuous. We wish to measure the dissimilarity between the set of actual label values $y_1, \\dots , y_n$  and the set of values predicted by the model \n",
        "$f_{\\rm a,b}(x)= a \\, x + b$: \n",
        "\n",
        "$$\\hat{y}_1=a\\, x_1+ b, \\dots, \\hat{y}_n=a\\, x_n+ b.$$\n",
        "\n",
        "Since the response is continuous, it makes sense to use a function like:\n",
        "\n",
        "1. Mean absolute error (MAE), given by $\\frac{1}{n}\\sum_{i=1}^n |y_i-\\hat{y}_i|$; or\n",
        "\n",
        "2. Mean square error (MSE), given by $\\frac{1}{n}\\sum_{i=1}^n \\left(y_i-\\hat{y}_i\\right)^2$."
      ],
      "metadata": {
        "id": "L2buuqntYha_"
      }
    },
    {
      "cell_type": "markdown",
      "source": [
        "## Example (quadratic regression)"
      ],
      "metadata": {
        "id": "2WgfmI8oavMx"
      }
    },
    {
      "cell_type": "markdown",
      "source": [
        "In notebook [Lesson3_edited_04-how-does-a-neural-net-really-work.ipynb](Lesson3_edited_04-how-does-a-neural-net-really-work.ipynb), loss was given by MAE, i.e. $\\frac{1}{n}\\sum_{i=1}^n |y_i-\\hat{y}_i|$."
      ],
      "metadata": {
        "id": "FE79yyV8a1hQ"
      }
    },
    {
      "cell_type": "code",
      "source": [
        "def mae(preds, acts): return (torch.abs(preds-acts)).mean()"
      ],
      "metadata": {
        "id": "P2hSIz50ckp8"
      },
      "execution_count": null,
      "outputs": []
    },
    {
      "cell_type": "markdown",
      "source": [
        "The notebook includes code to interactively change the parameter values and compute the MAE loss function for the data set for an arbitrary choice of weights $(a,b,c)$.\n",
        "\n",
        "Function `partial` in the code below converts the 4-argument function $f(x,a,b,c)$ into a one argument function $f(x;a,b,c)=f_{\\rm a,b,c}(x)$. Therefore, `mk_quad` corresponds to the one argument function $f_{\\rm a,b,c}(x)$. Hence it can be passed to `plot_function` which expects a one argument function.\n",
        "\n"
      ],
      "metadata": {
        "id": "Mz8gGbFccln_"
      }
    },
    {
      "cell_type": "code",
      "source": [
        "from fastai.basics import * # necessary for partial\n",
        "def quad(a, b, c, x): return a*x**2 + b*x + c\n",
        "def mk_quad(a,b,c): return partial(quad, a,b,c)\n",
        "def plot_function(f, title=None, min=-2.1, max=2.1, color='r', ylim=None):\n",
        "    x = torch.linspace(min,max, 100)[:,None]\n",
        "    if ylim: plt.ylim(ylim)\n",
        "    plt.plot(x, f(x), color)\n",
        "    if title is not None: plt.title(title)\n",
        "# interactive plot\n",
        "from ipywidgets import interact\n",
        "@interact(a=1.1, b=1.1, c=1.1) # this is called a decorator\n",
        "def plot_quad(a, b, c):\n",
        "    f = mk_quad(a,b,c)\n",
        "    plt.scatter(x,y)\n",
        "    loss = mae(f(x), y)\n",
        "    plot_function(f, ylim=(-3,12), title=f\"MAE: {loss:.2f}\")"
      ],
      "metadata": {
        "colab": {
          "base_uri": "https://localhost:8080/",
          "height": 377,
          "referenced_widgets": [
            "287b831a2015472ca1ad96be2344a838",
            "5037df45e75347b999912f5ff8148050",
            "242053e6c5fe49e9b821e592142baa86",
            "0294731999604d828d2f6db099524643",
            "b56866f8cd04425090c8847432d99030",
            "0ad66d52b29b4132880bc2c3878bb0cc",
            "7eb98727910e4732a7a0961c9024160c",
            "6fb1bc9c4e4940fea7bd973249e4c294",
            "468087a33c8d482bb2cd7bdbe0ab01c5",
            "af0c9f2494794d8faf9647863eb50e61",
            "cdd35afc8efb4be9ae8fd575d1009bc5",
            "454e8a074fa54e4c93a2e75e611c5e13",
            "003db380868741ce917469e6dd6b746d"
          ]
        },
        "id": "PoOuvmF9bHM4",
        "outputId": "8a86cddb-3408-4ace-a71e-56c81e087cc5"
      },
      "execution_count": null,
      "outputs": [
        {
          "output_type": "display_data",
          "data": {
            "text/plain": [
              "interactive(children=(FloatSlider(value=1.1, description='a', max=3.3000000000000003, min=-1.1), FloatSlider(v…"
            ],
            "application/vnd.jupyter.widget-view+json": {
              "version_major": 2,
              "version_minor": 0,
              "model_id": "287b831a2015472ca1ad96be2344a838"
            }
          },
          "metadata": {}
        }
      ]
    },
    {
      "cell_type": "markdown",
      "source": [
        "## Dissimilarity measures to define *loss*"
      ],
      "metadata": {
        "id": "9dLMWMHcYlvn"
      }
    },
    {
      "cell_type": "markdown",
      "source": [
        "\n",
        "To define loss, we then need to choose an appropriate dissimilarity metric between a set of actual $y_1, \\dots , y_n$ and predicted labels $\\hat{y}_1, \\dots , \\hat{y}_n$. The choice depends on the type of problem, and while MAE or RMSE are adequate for *regression* problems, other dissimilarities are used for *classification* problems.\n",
        "\n",
        "\n"
      ],
      "metadata": {
        "id": "JaP8Ef2zYo24"
      }
    },
    {
      "cell_type": "markdown",
      "source": [
        "## Examples of loss functions for regression problems (MAE, MSE, Huber)\n",
        "\n"
      ],
      "metadata": {
        "id": "TazkXj5DYsdC"
      }
    },
    {
      "cell_type": "markdown",
      "source": [
        "Above, two common loss functions for regression problems were listed\n",
        "\n",
        "1. Mean absolute error (MAE), given by $\\frac{1}{n}\\sum_{i=1}^n |y_i-\\hat{y}_i|$; or\n",
        "\n",
        "2. Mean square error (MSE), given by $\\frac{1}{n}\\sum_{i=1}^n \\left(y_i-\\hat{y}_i\\right)^2$\n",
        "\n",
        "In the one hand, MAE is not differentiable everywhere, which is an undesirable property for ML. On the other hand, MSE penalizes too much large differences between actual and predicted values, which means that a single example can constraint strongly the solution. \n",
        "\n",
        "An alternative is called the Huber loss function, which is differentiable everywhere, and behaves like MSE near the origin and like MAE for large $|y_i-\\hat{y}_i|$.\n"
      ],
      "metadata": {
        "id": "WlJNpKjwWRLO"
      }
    },
    {
      "cell_type": "markdown",
      "source": [
        "## Example of loss functions for classification problems (cross-entropy)"
      ],
      "metadata": {
        "id": "Fsp3Fh9KYwCe"
      }
    },
    {
      "cell_type": "markdown",
      "source": [
        "Classification problems have categorical labels. Therefore, the model predictions should return the most likely label for each example. \n",
        "\n",
        "While in regression the model's output is typically an unbounded response variable (for instance, it is $f(x;a,b) = a\\, x + b$ in simple linear regression), for classification problems, it is more convenient to have:\n",
        "1. one output per label;\n",
        "2. each output being a value between 0 and 1 that can be interpreted as the probability of the label.\n",
        "\n",
        "\n",
        "<img src=\"https://drive.google.com/uc?export=view&id=1iD519g8QbBmOGp9SiOQsIneJnWg53SMQ\" width=\"600\" >\n",
        "\n",
        "Therefore, it is usual to have a model that outputs scores $f_1({\\rm \\bf x};{\\rm \\bf w_1}), \\dots , f_k({\\rm \\bf x};{\\rm \\bf w_k})$ for each of the $k$ possible labels, and an additional model component that converts those *raw* scores into probability-like values for the labels.\n",
        "\n",
        "You saw that kind of probabilistic output when you trained and deployed an image classifier in notebook [Lesson2_edited_book_02_production.ipynb](Lesson2_edited_book_02_production.ipynb). When you did predict the label for a new example with\n",
        "\n",
        "    learn_inf.predict('images/grizzly.jpg'),\n",
        "\n",
        "you got a vector of estimated probabilities like the following:\n",
        "\n",
        "    ('grizzly', tensor(1), tensor([9.0767e-06, 9.9999e-01, 1.5748e-07])).\n",
        "\n",
        "where the values `9.0767e-06, 9.9999e-01, 1.5748e-07` correspond, respectively, to labels *black*, *grizzly* and *teddy*.\n",
        "\n",
        "\n"
      ],
      "metadata": {
        "id": "NHRyajD_N6hv"
      }
    },
    {
      "cell_type": "markdown",
      "source": [
        "### Softmax \n",
        "\n"
      ],
      "metadata": {
        "id": "iPE1rlP3fzTA"
      }
    },
    {
      "cell_type": "markdown",
      "source": [
        "The unormalized model outputs $f_1, \\dots, f_k$ are called *scores*, *logits* or *raw* outputs. Each score $z_i=f_i({\\rm \\bf x};{\\rm \\bf w_i})$ is converted into a [0,1] value by the *softmax* function:\n",
        "\n",
        "$$p_i=\\frac{\\exp(z_i)}{\\sum_{j=1}^k \\exp(z_j)} ~~ {\\rm which~implies~that} ~~ 0<p_i \\le 1.$$\n",
        "\n",
        "After that transformation, the classification model's probabilistic output is a vector of values $(p_1,\\dots,p_k)$, with $p_i \\ge 0$ and $\\sum p_i=1$ as required for  probability distributions. The predicted label is the one with highest $p$.\n"
      ],
      "metadata": {
        "id": "9g9P9qwTf18P"
      }
    },
    {
      "cell_type": "markdown",
      "source": [
        "### Comparing target and predicted probability distributions\n",
        "\n"
      ],
      "metadata": {
        "id": "B-r4_0PVfthi"
      }
    },
    {
      "cell_type": "markdown",
      "source": [
        "While in the regression problem the loss is a dissimilarity between the actual labels $y_1,\\dots,y_n$ and the predicted labels $\\hat{y}_1,\\dots,\\hat{y}_n$ for the set with $n$ examples, in classification with *softmax* the loss is then a dissimilarity between the actual labels $y_1,\\dots,y_n$ and the $n$ probability vectors $(p_1,\\dots,p_k)_1, \\dots, (p_1,\\dots,p_k)_n$.\n",
        "\n",
        "To compare vectors of the same dimension, one can express each target label $y_i$ as a probabilitity distribution with 0 uncertainty. Suppose that there are 3 different possible labels and the actual label of the example is the first label: then, the *target distribution* would be $(1,0,0)$ which can be  compared with the model's output probability distribution $(p_1,p_2,p_3)$. This will be illustrated with an example below.\n",
        "\n",
        "\n"
      ],
      "metadata": {
        "id": "86MG2Jplf8LX"
      }
    },
    {
      "cell_type": "markdown",
      "source": [
        "###Loss functions in fastai\n",
        "\n"
      ],
      "metadata": {
        "id": "JeIWFIf1gCoH"
      }
    },
    {
      "cell_type": "markdown",
      "source": [
        "A list of `fastai` loss functions is available in https://docs.fast.ai/losses.html. In general, they are simple adaptations of `pytorch` loss functions listed in https://pytorch.org/docs/stable/nn.html#loss-functions.  The most common *loss* function for classification is called *cross-entropy*. \n",
        "\n",
        "Notebook [Lesson1_00_is_it_a_bird_creating_a_model_from_your_own_data.ipynb](Lesson1_00_is_it_a_bird_creating_a_model_from_your_own_data.ipynb) creates the learner with:\n",
        "\n",
        "    learn = vision_learner(dls, resnet18, metrics=error_rate)\n",
        "\n",
        "`vision_learner` allows to explicitely define the loss function  with the argument `loss_func`. Since it is not explicitely defined in the code above, we can check the default which is stored in property `loss_func`:\n",
        "\n",
        "    learn.loss_func\n",
        "\n",
        "which returns `FlattenedLoss of CrossEntropyLoss()`. This `fastai` loss is described in the Pytorch documentation as the `nn.CrossEntropyLoss` class  [https://pytorch.org/docs/stable/generated/torch.nn.CrossEntropyLoss.html](https://pytorch.org/docs/stable/generated/torch.nn.CrossEntropyLoss.html). Hence, the loss function that is applied in the example in the notebook is  `torch.nn.CrossEntropyLoss` that computes the cross entropy loss between input logits and target. \n",
        "\n"
      ],
      "metadata": {
        "id": "iPfaq5EUgOR_"
      }
    },
    {
      "cell_type": "markdown",
      "source": [
        "### Cross-entropy\n",
        "\n"
      ],
      "metadata": {
        "id": "qq_PFJW3gGcn"
      }
    },
    {
      "cell_type": "markdown",
      "source": [
        "So, what is the *loss* you see in the output when you train an image classifier in notebook [Lesson2_edited_book_02_production.ipynb](Lesson2_edited_book_02_production.ipynb)?\n",
        "\n",
        "    epoch \ttrain_loss \tvalid_loss \terror_rate \ttime\n",
        "    0          1.174910        0.043982      0.009091     00:34\n",
        "\n",
        "\n",
        "Suppose that your model (`resnet`) was trained to classify photos of bears into *black*, *grizzly* and *teddy* as in [Lesson2_edited_book_02_production.ipynb](Lesson2_edited_book_02_production.ipynb). The last layer of the model outputs scores $z_1=f_1(x_1,\\dots,x_n), z_2=f_2(x_1,\\dots,x_n), z_3=f_3(x_1,\\dots,x_n)$, where $z_1$ is associated to *black*, $z_2$ is associated to *grizzly* and $z_3$ is associated to *teddy*. \n",
        "\n",
        "The code below creates an example of the outputs for a *batch* of 4 examples. In the matrix below each row is an example and each column is a label. Consider that column 1 is for *black*, column 2 is for *grizzly* and column 3 is for *teddy*."
      ],
      "metadata": {
        "id": "lqWLiFHzgJjn"
      }
    },
    {
      "cell_type": "code",
      "source": [
        "import torch\n",
        "scores=torch.tensor([[4.5,2.1,0.2],\n",
        "                     [1.3,8.3,0.8],\n",
        "                     [1.2,1.5,4.2],\n",
        "                     [5.1,0.4,2.3]])"
      ],
      "metadata": {
        "id": "pYMCDHdArmrf"
      },
      "execution_count": null,
      "outputs": []
    },
    {
      "cell_type": "code",
      "source": [],
      "metadata": {
        "id": "Ikv6xMwCYSAm"
      },
      "execution_count": null,
      "outputs": []
    },
    {
      "cell_type": "markdown",
      "source": [
        "Looking at the tensor above, it looks like the first and fourth examples have a higher likelihood of being photos of *black* bears, while the second example is more likely a *grizzly* bear and the third one seems to be a *teddy* bear photo. Let's apply *softmax* to convert the raw outputs into probability-like values."
      ],
      "metadata": {
        "id": "9N7exOe4L6Y8"
      }
    },
    {
      "cell_type": "code",
      "source": [
        " softs = scores.softmax(dim=1)\n",
        " torch.set_printoptions(sci_mode=False)\n",
        " softs"
      ],
      "metadata": {
        "id": "_JktsXREIxvg",
        "outputId": "40f4c65a-fadc-4b6a-c9fe-84dca1ab5454",
        "colab": {
          "base_uri": "https://localhost:8080/"
        }
      },
      "execution_count": null,
      "outputs": [
        {
          "output_type": "execute_result",
          "data": {
            "text/plain": [
              "tensor([[    0.9056,     0.0822,     0.0123],\n",
              "        [    0.0009,     0.9985,     0.0006],\n",
              "        [    0.0446,     0.0602,     0.8953],\n",
              "        [    0.9347,     0.0085,     0.0568]])"
            ]
          },
          "metadata": {},
          "execution_count": 15
        }
      ]
    },
    {
      "cell_type": "markdown",
      "source": [
        "It is clear that the softmax rule did amplify the difference in values for each example. In each row there is one value close to 1 and the remainder values are close to 0. For each example, *cross-entropy* compares the target distribution with the probability distribution returned by *softmax*. \n",
        "\n",
        "Let's suppose that in fact, the first and last examples have actually label *black*, the second is actually *grizzly* and the third is actually *teddy*. Then the target distribution will be 1 for the correct label and 0 for the remaining labels. This is known as  *one-hot encoding* and it's illustrated by the rows of the following tensor (each row is one example):"
      ],
      "metadata": {
        "id": "q-ok5s3pMwFf"
      }
    },
    {
      "cell_type": "code",
      "source": [
        "target=torch.tensor([[1.,0.,0.],\n",
        "                     [0.,1.,0.],\n",
        "                     [0.,0.,1.],\n",
        "                     [1.,0.,0.]])"
      ],
      "metadata": {
        "id": "5MLo9NugNaLE"
      },
      "execution_count": null,
      "outputs": []
    },
    {
      "cell_type": "markdown",
      "source": [
        "Cross-entropy loss measures the dissimilarity between the probability distribution returned by *softmax* $(p_1,p_2,p_3)$ and the target distribution $(t_1,t_2,t_3)$ for the $i$-th example with the expression, and takes values between 0 (optimal value associated to minimum uncertainty) and 1 (maximum value associated to maximum uncertainty, i.e. all probabilities are equal):\n",
        "\n",
        "$$L_i=-\\left( t_1 \\, \\log(p_1) + t_2 \\, \\log(p_2) + t_3 \\, \\log(p_3) \\right) \\in [0,1].$$\n",
        "\n",
        "In the expression above, we suppose that the probabilities are non zero. \n",
        "For the whole batch of $n$ examples, the cross-entropy loss is given by the average of the $n$ individual loss values:\n",
        "\n",
        "$$L=\\frac{1}{n} \\left( L_1+L_2+ \\dots,L_n\\right).$$\n",
        "\n",
        "This can be computed with `nn.CrossEntropyLoss()` directly from the *scores* and *target* values as shown below:"
      ],
      "metadata": {
        "id": "2ziX1cVzOkaU"
      }
    },
    {
      "cell_type": "code",
      "source": [
        "import torch.nn as nn\n",
        "# compute loss\n",
        "loss = nn.CrossEntropyLoss()\n",
        "output = loss(scores, target)\n",
        "print('Cross Entropy Loss: ', output)"
      ],
      "metadata": {
        "colab": {
          "base_uri": "https://localhost:8080/"
        },
        "id": "NIbwzbeJp7Vg",
        "outputId": "33f64b4d-0208-46bc-973c-12c428bc61c7"
      },
      "execution_count": null,
      "outputs": [
        {
          "output_type": "stream",
          "name": "stdout",
          "text": [
            "Cross Entropy Loss:  tensor(0.0697)\n"
          ]
        }
      ]
    },
    {
      "cell_type": "markdown",
      "source": [
        "\n",
        "# ML as an optimization problem\n"
      ],
      "metadata": {
        "id": "BZmxXfDFYx3q"
      }
    },
    {
      "cell_type": "markdown",
      "source": [
        "\n",
        "Now, we can define a ML problem as a optimization problem. Given\n",
        "\n",
        "1.  a set of examples  ${\\rm \\bf x}_1, \\dots , {\\rm \\bf x}_n$  with labels $y_1, \\dots , y_n$\n",
        "2. a model $f_{\\rm \\bf w}$\n",
        "3. a *loss* function $L$\n",
        "\n",
        "the goal is to determine the optimal set of parameters ${\\rm \\bf w}$ that minimize the loss $L$ over that set of examples."
      ],
      "metadata": {
        "id": "8GK-Y7gRLHC3"
      }
    },
    {
      "cell_type": "markdown",
      "source": [
        "## Training and validation sets"
      ],
      "metadata": {
        "id": "xTke3ilGLKyf"
      }
    },
    {
      "cell_type": "markdown",
      "source": [
        "To prevent *overfitting* the parameters to the set of examples, an independent set of examples for *validation* are set apart. In general, the example data set with $N$ examples is partitioned into a subset with, say $0.2 \\times N$ examples for validation and $0.8 \\times N$ examples for training like we saw in [Lesson2_edited_book_02_production.ipynb](Lesson2_edited_book_02_production.ipynb):\n",
        "\n",
        "    bears = DataBlock(\n",
        "        blocks=(ImageBlock, CategoryBlock), \n",
        "        get_items=get_image_files, \n",
        "        splitter=RandomSplitter(valid_pct=0.2, seed=42),\n",
        "        get_y=parent_label,\n",
        "        item_tfms=Resize(128))\n",
        "\n",
        "where `RandomSplitter(valid_pct=0.2, seed=42)` indicates that 20% of the examples are used for validation.\n",
        "\n",
        "The *training* data set is used to search for the optimal set of weights for the model, typically by iteratively updating the weights from a initial set of weights using *gradient descent* over the loss. The *validation* data set is used to compute the same loss metric over an independent set of examples.\n",
        "\n",
        "By comparing the training and validation losses it is possible to assess issues in model behaviour like *high bias/underfitting*,  *high variance/overfitting*,  and *unrepresentativeness* of either training or validation set."
      ],
      "metadata": {
        "id": "hP5GBX3zLPpQ"
      }
    },
    {
      "cell_type": "markdown",
      "source": [
        "## Gradient descent and learning rate"
      ],
      "metadata": {
        "id": "zIX1NzGbLTkI"
      }
    },
    {
      "cell_type": "markdown",
      "source": [
        "Informally, a gradient measures how much the output of a function changes if you change the inputs a little bit.\n",
        "\n",
        "Given a model $f_{\\rm \\bf w}({\\rm \\bf x})= f({\\rm \\bf x}; {\\rm \\bf w})$ and a batch of examples ${\\rm \\bf x_1}, \\dots, {\\rm \\bf x_n}$, we have seen how we can define a *loss* function \n",
        "\n",
        "$$L({\\rm \\bf x_1, \\dots, x_n; w})= L_{\\rm \\bf x_1, \\dots, \\rm \\bf x_n}(\\rm \\bf w).$$ \n",
        "\n",
        "We can write $L$ just a function of the weights since the ${\\rm \\bf x_i}$ are fixed for given batch of examples. Our goal is to find the set of weights ${\\rm \\bf w}$ that minimize $L({\\rm \\bf w})$. In order to do this iteratively, starting with an arbitrary set of initial weights, we would like to know how $L$ changes with a small change in the weights $\\rm \\bf w$ from the current set weights ${\\rm \\bf w}^{*}$.\n",
        "\n",
        "This  is given by the gradient of $L$ with respect to ${\\rm \\bf w}$ at ${\\rm \\bf w}^{*}$, which is a vector of partial derivatives of $L$ with length equal to $m$=number of model parameters.\n",
        "\n",
        "$$ \\nabla L({\\rm \\bf w}^{*}) = \\frac{\\partial L}{\\partial \\rm \\bf w}({\\rm \\bf w}^{*})= \\left(\\frac{\\partial L}{\\partial \\rm w_1}({\\rm \\bf w}^{*}), \\dots,  \\frac{\\partial L}{\\partial \\rm w_m}({\\rm \\bf w}^{*}) \\right).$$\n",
        "\n",
        "The computation of $\\nabla L({\\rm \\bf w}^{*})$ is usually done by **back-propagation**, which is an automatic differentiation algorithm for calculating gradients for the weights in a neural network graph structure. Back-propagation (aka *backprop*) is an automatic differentiation algorithm that applies the *chain-rule*.\n",
        "\n",
        "The vector $\\nabla L({\\rm \\bf w}^{*})$ points to the direction from ${\\rm \\bf w}^{*}$ along which $L$ grows faster, so gradient descent follows the opposite direction $ - \\nabla L({\\rm \\bf w}^{*})$. \n",
        "\n",
        "<img src=\"https://drive.google.com/uc?export=view&id=1-KGjbUaR1l3z879V_eJu7JutnSutqbdC\" width=\"500\" >\n",
        "\n",
        "\n",
        "To simplify, let's suppose that all examples are visited before updating the set of weights. \n",
        "Then, the steps of gradient descent algorithm are the following. In ML, one *epoch* corresponds to the processing of the totally of examples in the data set. So, for instance, if the algorithm runs for 20 epochs, then the model is applied to all examples 20 times.\n",
        "\n",
        "---\n",
        "\n",
        "1. Choose an initial set of weights ${\\rm \\bf w}^{*}$\n",
        "\n",
        "2. For $i = 1, \\dots, E$, where $E$ is the number of epochs, do:\n",
        "\n",
        "   i) Cumpute $\\nabla L({\\rm \\bf w}^{*})$\n",
        "\n",
        "   ii) Update ${\\rm \\bf w}^{*}:={\\rm \\bf w}^{*} - \\eta \\, \\nabla L({\\rm \\bf w}^{*}) $, where $\\eta >0 $ is the learning rate.\n",
        "\n",
        "---\n",
        "\n",
        "The choice of the *learning rate* is critical for a good performance of the algorithm. A very small learning rate will permit a good approximation of the gradient flow by the algorithm (see next figure). But if the step is too small, many epochs will be needed to get a good solution. \n",
        "\n",
        "<img src=\"https://drive.google.com/uc?export=view&id=12c4X3po4-xVGUJKzyKC56lwl4ZEmXqWa\" width=\"400\" >\n",
        "\n",
        "\n",
        "\n",
        "ML practicioners use many different techniques to determine the *learning rate*. In particular, the learning rate can be adaptive and change along epochs, which is a standard approach in ML. An adaptive learning rate is provided by the `fine_tune` method used in   [Lesson1_02_saving_a_basic_fastai_model.ipynb](Lesson1_02_saving_a_basic_fastai_model.ipynb):\n",
        "\n",
        "    learn = vision_learner(dls, resnet18, metrics=error_rate)\n",
        "    learn.fine_tune(3)\n",
        "\n",
        "In alternative, package `fastai` contains a method `lr_find()` that helps to find a adequate lerning rate, as discussed at 1:20' of Lesson 5 of [Practical Deep Learning for Coders 2022](https://course.fast.ai/), where it is used in the following chunk of code:\n",
        "\n",
        "    learn = tabular_learner(dls, metrics=accuracy, layers=[10,10])\n",
        "    learn.lr_find(suggest_funcs=(slide, valley))\n",
        "    learn.fit(16, lr=0.03)\n",
        "\n",
        "The value `0.03` used with `learn.fit` is derived from the visual interpretation of the output of `learn.lr_find(suggest_funcs=(slide, valley))` which is the following.\n",
        "\n",
        "<img src=\"https://drive.google.com/uc?export=view&id=1bAH7oLrIsuISeZMr749FkI1rkmDp-hw-\" width=\"500\" >\n"
      ],
      "metadata": {
        "id": "yl_HK7NvwxUi"
      }
    },
    {
      "cell_type": "markdown",
      "source": [
        "\n",
        "## Mini-Batch Gradient Descent applied to simple linear regression\n",
        "\n",
        "The description above of the gradient descent algorithm is for the simplest case, where weights are updated once per epoch. This is called *batch gradient descent*. Things get a bit more involved if one wants to group examples in smaller batches and update the weights after each batch, which is the most common approach in ML. There is another alternative, which is opposite to *batch gradient descent*, called *stochastic gradient descent*, where weights are updated after each single example (this is the particular case of a mini-batch of size 1).\n",
        "\n",
        "In short:\n",
        "1. *stochastic gradient descent*, where weights are updated after each single example;\n",
        "2. *batch gradient descent*, where weights are updated once per epoch;\n",
        "3. *mini-batch gradient descent*, which is somewhere in between the other two.\n",
        "\n",
        "Next, we create from scratch a gradient descent for the very simple linear regression problem, and we compare the result with the optimal coefficients obtained by *least squares*. The code below shows how *training loss* and *validation loss* are computed. It also illustrates how weights update are done after each mini-batch of data (i.e. *mini-Batch Gradient Descent*).\n",
        "\n",
        "The most specific part of the algorithm is the gradient computation. Note that the *gradient machinery* of `pytorch` is turned-on for each weight with `requires_grad = True` as in the following case:\n",
        "\n",
        "    coeffs=torch.tensor([-20.,-10.]).requires_grad_()\n",
        "\n",
        "Then, the derivatives can be computed for any continuous function of the weights in tensor `coeffs`. In particular, the *loss* $L$ is defined as a function (that can be arbitrarily complicated) of the weights, and the *gradient* $\\nabla L({\\rm \\bf w}^{*})$ for the current set of weights ${\\rm \\bf w}^{*}$ is computed with \n",
        "\n",
        "    loss.backward()\n",
        "\n",
        "Finally, the weights are updated with \n",
        "\n",
        "    coeffs.sub_(coeffs.grad * step_size)\n",
        "\n",
        "where method `sub_` is substraction for weight updating ${\\rm \\bf w}^{*}:={\\rm \\bf w}^{*} - \\eta \\, \\nabla L({\\rm \\bf w}^{*})$, and  the learning rate $\\eta$ is called `step_size` in the code.\n"
      ],
      "metadata": {
        "id": "1fG2E4DuYzu8"
      }
    },
    {
      "cell_type": "code",
      "source": [
        "import matplotlib.pyplot as plt\n",
        "import torch\n",
        "import numpy as np\n",
        "from sklearn.model_selection import train_test_split\n",
        "torch.manual_seed(42)\n",
        "\n",
        "B=20 # batch size\n",
        "step_size = 0.1 # learning rate\n",
        "iter=20 # number epochs\n",
        "\n",
        "############################################ Creating synthetic data\n",
        "# Creating a function f(X) with a slope of -5\n",
        "X = torch.arange(-5, 5, 0.1).view(-1, 1) # rank-2 tensor\n",
        "func = -5 * X + 2\n",
        "# Adding Gaussian noise to the function f(X) and saving it in Y\n",
        "y = func + 0.4 * torch.randn(X.size())\n",
        "\n",
        "##################################### Create train and validation sets\n",
        "X_train, X_valid, y_train, y_valid = train_test_split(X, y, test_size=0.2, random_state=42)\n",
        "\n",
        "########################################## Baseline: Linear regression LS solution\n",
        "from sklearn.linear_model import LinearRegression\n",
        "reg = LinearRegression().fit(X, y)\n",
        "print('coefficients:',reg.intercept_,reg.coef_)\n",
        "\n",
        "####################################################### Gradient Descent\n",
        "# initial weights\n",
        "coeffs=torch.tensor([-20.,-10.]).requires_grad_() \n",
        "\n",
        "# defining the function for prediction (linear regression)\n",
        "def calc_preds(x): return coeffs[0] + coeffs[1] * x \n",
        "\n",
        "# Computing MSE loss for one batch of exemples\n",
        "def calc_loss_from_labels(y_pred, y): return torch.mean((y_pred - y) ** 2)\n",
        "\n",
        "# lists to store losses for each epoch\n",
        "training_losses=[]; validation_losses=[]\n",
        "\n",
        "# epochs\n",
        "for i in range(iter):\n",
        "  # calculating loss as in the beginning of an epoch and storing it\n",
        "    y_pred = calc_preds(X_train)\n",
        "    training_losses.append(calc_loss_from_labels(y_pred, y_train).tolist())\n",
        "    y_pred = calc_preds(X_valid)\n",
        "    validation_losses.append(calc_loss_from_labels(y_pred, y_valid).tolist())\n",
        "    # mini-batch gradient descent: weight are updated after each batch\n",
        "    for idx_start in np.arange(0,X_train.shape[0],B):\n",
        "        # create batch\n",
        "        batch_X=X_train[idx_start:(idx_start+B),:]\n",
        "        batch_y=y_train[idx_start:(idx_start+B):]\n",
        "        # making a prediction in forward pass\n",
        "        y_pred = calc_preds(batch_X)\n",
        "        # calculating the loss between predicted and actual values\n",
        "        loss = calc_loss_from_labels(y_pred, batch_y)\n",
        "        # compute gradient\n",
        "        loss.backward()\n",
        "        with torch.no_grad():\n",
        "            # update coeffs\n",
        "            coeffs.sub_(coeffs.grad * step_size)\n",
        "            # zerofy gradients (because they add up)\n",
        "            coeffs.grad.zero_()\n",
        "\n",
        "print('batch size:', B)\n",
        "print('coeffs found by gradient descent:',coeffs.requires_grad_(False))\n",
        "# plot training and validation losses along epochs\n",
        "plt.plot(training_losses, '-g',  validation_losses, '-r')\n",
        "plt.gca().legend(('train','validation'))\n",
        "plt.ylim(0, 5)\n",
        "plt.xlabel('epoch')\n",
        "plt.ylabel('loss (MSE)')\n",
        "plt.show()"
      ],
      "metadata": {
        "colab": {
          "base_uri": "https://localhost:8080/",
          "height": 335
        },
        "id": "sS0Uki84xoHN",
        "outputId": "72deaf5d-36ac-4821-bda1-2973574c77c7"
      },
      "execution_count": null,
      "outputs": [
        {
          "output_type": "stream",
          "name": "stdout",
          "text": [
            "coefficients: [2.0237875] [[-5.0023813]]\n",
            "batch size: 20\n",
            "coeffs found by gradient descent: tensor([ 2.0390, -5.0677])\n"
          ]
        },
        {
          "output_type": "display_data",
          "data": {
            "text/plain": [
              "<Figure size 432x288 with 1 Axes>"
            ],
            "image/png": "[encoded data removed]"
          },
          "metadata": {
            "needs_background": "light"
          }
        }
      ]
    },
    {
      "cell_type": "markdown",
      "source": [
        "# Some techniques to improve deep learning"
      ],
      "metadata": {
        "id": "CTkkRiF4A9TH"
      }
    },
    {
      "cell_type": "markdown",
      "source": [
        "**Regularization** is a technique used in machine learning to prevent overfitting by adding a penalty term to the loss function. This encourages the model to learn a simpler representation of the data and reduces its capacity to memorize the training data.\n",
        "\n",
        "**Self-regularized activation functions** can help improve the generalization performance of a neural network by introducing an implicit form of regularization. This can be achieved through various mechanisms, such as controlling the distribution of the activations or the gradients. For example, the *Mish activation function* has been shown to have a self-regularizing effect due to its non-monotonic and smooth nature, which can help prevent the vanishing gradient problem and improve the training dynamics of deep neural networks.\n",
        "\n",
        "The *Mish activation function* (https://arxiv.org/abs/1908.08681) is an alternative to *ReLu*. It is a smooth, continuous, self regularized, non-monotonic activation function mathematically defined as\n",
        "\n",
        "$$f(x)= x \\, {\\rm tanh} (\\ln (1+e^x)).$$\n",
        "\n",
        "**Dropout** is a regularization technique used in deep learning to prevent overfitting. It works by randomly “dropping out” or deactivating some of the neurons in a neural network during training. This means that during each forward pass, some of the neurons are temporarily removed from the network, along with all their incoming and outgoing connections.\n",
        "\n",
        "The idea behind dropout is to introduce randomness and prevent the model from relying too heavily on any single neuron or feature. By randomly dropping out neurons during training, the model is forced to learn a more robust representation of the data that is less sensitive to small changes in the input.\n",
        "\n",
        "Dropout is typically applied to the hidden layers of a neural network and can be controlled by a hyperparameter called the dropout rate, which specifies the probability that any given neuron will be dropped out during training. A common value for the dropout rate is 0.5, meaning that on average, half of the neurons in a given layer will be dropped out during each forward pass.\n",
        "\n",
        "During testing or inference, dropout is not applied and all neurons are active. However, to account for the fact that only a fraction of the neurons were active during training, the outputs of the neurons are typically scaled down by the dropout rate.\n",
        "\n",
        "**Momentum**  is a technique used in deep learning to accelerate the training of neural networks. It is an optimization algorithm that helps the model converge faster by adding a fraction of the previous weight update to the current weight update.\n",
        "\n",
        "In gradient descent, the weights of a neural network are updated by taking a step in the direction of the negative gradient of the loss function with respect to the weights. This can sometimes result in slow convergence or getting stuck in local minima. Momentum addresses these issues by introducing a “momentum” term that takes into account the previous weight updates.\n",
        "\n",
        "The idea behind momentum is to add a fraction of the previous weight update to the current weight update, effectively “smoothing out” the updates and helping the model converge faster. This can be controlled by a hyperparameter called the momentum coefficient, which specifies how much of the previous weight update should be added to the current weight update. A common value for the momentum coefficient is 0.9.\n",
        "\n",
        "Momentum can be used with various optimization algorithms, such as stochastic gradient descent (SGD) or Adam, to improve their convergence properties.\n",
        "\n",
        "**Adam** (short for Adaptive Moment Estimation) is an optimization algorithm commonly used in deep learning to train neural networks. It is an extension of stochastic gradient descent (SGD) that incorporates ideas from other optimization algorithms such as AdaGrad and RMSProp.\n",
        "\n",
        "Adam works by maintaining an estimate of the first and second moments of the gradients (i.e., the mean and uncentered variance) and using these estimates to adaptively adjust the learning rate for each weight in the network. This allows the algorithm to converge faster and achieve better performance than traditional SGD.\n",
        "\n",
        "One of the key advantages of Adam is that it requires little tuning of its hyperparameters. The algorithm has three main hyperparameters: the learning rate, the first moment decay rate (beta1), and the second moment decay rate (beta2). The default values for these hyperparameters (0.001, 0.9, and 0.999, respectively) usually work well in practice.\n",
        "\n",
        "Adam has been shown to work well on a wide range of deep learning problems and is often used as the default optimizer in many deep learning frameworks.\n",
        "\n",
        "\n"
      ],
      "metadata": {
        "id": "rYJGaxwxBEMG"
      }
    },
    {
      "cell_type": "markdown",
      "source": [
        "# Assessing ML performance"
      ],
      "metadata": {
        "id": "kP-e5P8tGRD4"
      }
    },
    {
      "cell_type": "markdown",
      "source": [
        "## Error rate and accuracy"
      ],
      "metadata": {
        "id": "4VcxcaTjMHJR"
      }
    },
    {
      "cell_type": "markdown",
      "source": [
        "Notebook [Lesson1_00_is_it_a_bird_creating_a_model_from_your_own_data.ipynb](Lesson1_00_is_it_a_bird_creating_a_model_from_your_own_data.ipynb) uses  `error_rate` when creating the `learner`:\n",
        "\n",
        "    learn = vision_learner(dls, resnet18, metrics=error_rate)\n",
        "\n",
        "    learn.fine_tune(3)\n",
        "\n",
        "where `dls` is a `DataLoaders` object with the input data, `resnet18` is a deep CNN model. The argument `metrics=error_rate` indicates that the overall performance of the algorithm is measured proportion of mismatches between the set of actual labels $y_1, \\dots , y_n$ and the set of predicted labels $\\hat{y}_1, \\dots , \\hat{y}_n$. A very similar metric is `accuracy` which is simply `1-error_rate`. \n",
        "\n",
        "When one trains a classifier in `fastai`, the output for the training epochs looks like\n",
        "\n",
        "<img src=\"https://drive.google.com/uc?export=view&id=1PJ36nJ-Isu-LThJTFwRj7XwVY5qWeRfJ\" width=\"300\" >\n",
        "\n",
        "One could wonder how the  `error_rate` is computed when the data set is divided into *training* and *validation* sets. In `fastai`, because the training set and validation set are integrated into a single class (`dataloaders`),  by default the metrics displayed during training (as in the output above) use the validation set, so the `error_rate`is computed over the validation set.\n",
        "\n",
        "At this point it should be clear what `epoch`, `train_loss`, `valid_loss` and `error_rate` in the above training output are:\n",
        "1. `epoch`: number of times that the whole set of examples has been used for prediction;\n",
        "2. `train_loss`: the value of the loss function computed with the model weights for that epoch and the training examples;\n",
        "3. `valid_loss`: the value of the loss function computed with the model weights for that epoch and the validation examples;\n",
        "4. `error_rate`: proportion of mismatches between the set of actual labels $y_1, \\dots , y_n$ and the set of predicted labels $\\hat{y}_1, \\dots , \\hat{y}_n$ computed with the model weights for that epoch and the validation examples.\n",
        "\n",
        "There are many metrics other than `error_rate` for measuring the performance of *regression* and *classification* problems. For instance, `scikit-learn` provides the metrics listed in \n",
        "https://scikit-learn.org/stable/modules/classes.html#module-sklearn.metrics. The package `fastai`  includes  all metrics from `scikit-learn` and some additional ones. The documentation is available at https://docs.fast.ai/metrics.html. \n",
        "\n",
        "\n"
      ],
      "metadata": {
        "id": "At32ItDHGVkP"
      }
    },
    {
      "cell_type": "markdown",
      "source": [
        "## Confusion matrix"
      ],
      "metadata": {
        "id": "RyKdSl5bQA_C"
      }
    },
    {
      "cell_type": "markdown",
      "source": [
        "In [Lesson2_edited_book_02_production.ipynb](Lesson2_edited_book_02_production.ipynb), to understand in detail which  mistakes the model is making,  a confusion matrix (also called an *error matrix*) was created with \n",
        "\n",
        "    interp = ClassificationInterpretation.from_learner(learn)\n",
        "\n",
        "    interp.plot_confusion_matrix()\n",
        "\n",
        "which output was: \n",
        "\n",
        "<img src=\"https://drive.google.com/uc?export=view&id=1zsTJ7wh6KneWG7_QuXijy5LDlJiu3K-F\" width=\"300\" >\n",
        "\n",
        "\n",
        "The comment in the notebook for this figure is the following: The rows represent all the black, grizzly, and teddy bears in our dataset, respectively. The columns represent the images which the model predicted as black, grizzly, and teddy bears, respectively. Therefore, the diagonal of the matrix shows the images which were classified correctly, and the off-diagonal cells represent those which were classified incorrectly. This is one of the many ways that fastai allows you to view the results of your model. *It is (of course!) calculated using the validation set*. \n"
      ],
      "metadata": {
        "id": "AaA2DfU8P_9n"
      }
    },
    {
      "cell_type": "markdown",
      "source": [
        "# Some specific models for ML"
      ],
      "metadata": {
        "id": "emfh_GZQagkJ"
      }
    },
    {
      "cell_type": "markdown",
      "source": [
        "## Tabular data"
      ],
      "metadata": {
        "id": "buB1nxDccH5M"
      }
    },
    {
      "cell_type": "markdown",
      "source": [
        "So far all ''from scratch'' examples above (simple linear regression, quadratic regression) dealt with *scalar* inputs, i.e. each example was described by a single number. \n",
        "\n",
        "Examples can also be tabular data, where each example is described by a numeric vector. Formally, the $i$-th example is described by a vector  $(x_{i1}, \\dots, x_{ik})$ of length $k$, for examples $i = 1, \\dots, n$ and labels are $y_1, \\dots,  y_n$  as before.\n",
        "\n",
        "\n"
      ],
      "metadata": {
        "id": "ZxwIpE1oavEr"
      }
    },
    {
      "cell_type": "markdown",
      "source": [
        "### Decision trees"
      ],
      "metadata": {
        "id": "gnji-_ie0Ta4"
      }
    },
    {
      "cell_type": "markdown",
      "source": [
        "The `DecisionTreeClassifier` class in `scikit-learn` allows you to choose from several criteria to measure the quality of a split. The available criteria for *classification trees* are:\n",
        "\n",
        "1. `gini`: This is the default criterion and it measures the impurity of a set of samples as the probability of misclassifying a randomly chosen element from the set: $G = 1 - \\sum_{i=1}^n p_i^2$, where $p_i$ is the probability of belonging to the $i$th class.\n",
        "2. `entropy`: This criterion measures the impurity of a set of samples as the amount of information gained about the class variable from observing the features: $E=-\\sum_{i=1}^n p_i \\log_2 p_i$.\n",
        "\n",
        "Both measures range from 0 (minimum impurity, maximum certainty) to some maximum value (maximum impurity, minimum certainty). For instance, for a 2-class problem, maximum impurity is reached when $p_1=p_2=0.5$, where $G=1-0.5=0.5$ and $E= - 2 \\times (0.5 \\, \\log_2 0.5)= - 2 \\times (-0.5)=1$. \n",
        "\n",
        "The reduction in entropy resulting from a split can be considered a measure of the *information gain*, and this gain in information can be interpreted as a reduction in the *loss* of the model. In this sense, the reduction in entropy resulting from a split can be viewed as a loss measure, with the goal being to choosing the split that *minimizes the loss*.\n",
        "\n",
        "The loss function is calculated separately for each subset resulting from the split, and the *total loss* is the weighted sum of the losses of the subsets, where the weights are the fractions of samples in each subset. The split with the lowest total loss (i.e., the greatest reduction in entropy) is chosen as the best split. The expression for the loss of a split is the following, where $L$ can be either the entropy ($E$) or the Gini criterion $G$.\n",
        "\n",
        "$$L = \\frac{n_{\\rm left}}{n} \\times L_{\\rm left} + \\frac{n_{\\rm right}}{n} \\times L_{\\rm right}$$\n",
        "\n",
        "For *regression trees* the usual *loss* functions  are `mse`and `mae` instead of entropy or Gini."
      ],
      "metadata": {
        "id": "LoCk_P6M0W6P"
      }
    },
    {
      "cell_type": "code",
      "source": [
        "from sklearn.datasets import load_iris\n",
        "from sklearn import tree\n",
        "from matplotlib import pyplot as plt\n",
        "iris = load_iris()\n",
        "\n",
        "X = iris.data\n",
        "y = iris.target\n",
        "print(iris.target_names)\n",
        "\n",
        "#build decision tree\n",
        "clf = tree.DecisionTreeClassifier(criterion='entropy', max_depth=4,min_samples_leaf=4)\n",
        "#max_depth represents max level allowed in each tree, min_samples_leaf minumum samples storable in leaf node\n",
        "\n",
        "#fit the tree to iris dataset\n",
        "clf.fit(X,y)\n",
        "\n",
        "#plot decision tree\n",
        "fig, ax = plt.subplots(figsize=(10, 10)) #figsize value changes the size of plot\n",
        "tree.plot_tree(clf,ax=ax,feature_names=['sepal length','sepal width','petal length','petal width'])\n",
        "plt.show()"
      ],
      "metadata": {
        "id": "J8nrDgCb0fBw"
      },
      "execution_count": null,
      "outputs": []
    },
    {
      "cell_type": "markdown",
      "source": [
        "**Bias** measures how much the predictions of a model differ from the true values. **Variance** measures how much the predictions of a model differ from each other. One possible technique to estimate  bias and variance is **cross-validation**.\n",
        "\n",
        "In general, cross-validation is a technique used to evaluate the performance of a machine learning model. It involves splitting the dataset into multiple subsets, training the model on some of them, and testing it on the remaining subsets. This allows us to estimate the performance of the model on new, unseen data.\n",
        "\n",
        "The code below relies on `validation_curve`from `scikit-learn` to estimate bias and variance of a classification model. In fact, the code applies a family of models (decision trees) that depend on the hyper-parameter `max_depth`.  Note that the synthetic data set is generated by `make_classification`. \n"
      ],
      "metadata": {
        "id": "XhEYgwmM9XlH"
      }
    },
    {
      "cell_type": "code",
      "source": [
        "from sklearn.datasets import make_classification\n",
        "from sklearn.model_selection import validation_curve\n",
        "from sklearn import tree\n",
        "import numpy as np\n",
        "import matplotlib.pyplot as plt\n",
        "\n",
        "# generate a toy dataset\n",
        "X, y = make_classification(n_samples=1000, n_features=10, random_state=42,n_classes=2)\n",
        "\n",
        "# define the model\n",
        "model = tree.DecisionTreeClassifier(criterion='entropy', min_samples_leaf=4)\n",
        "\n",
        "# define the range of hyperparameters to test\n",
        "param_range = np.arange(4, 10)\n",
        "\n",
        "# use validation_curve to compute training and validation scores for different hyperparameters\n",
        "train_scores, test_scores = validation_curve(\n",
        "    model, X, y,  \n",
        "    param_name=\"max_depth\", param_range=param_range,\n",
        "    cv=5,\n",
        "    scoring=\"accuracy\")\n",
        "\n",
        "# calculate the mean and standard deviation of the training and validation scores for each hyperparameter\n",
        "train_mean = np.mean(train_scores, axis=1)\n",
        "train_std = np.std(train_scores, axis=1)\n",
        "test_mean = np.mean(test_scores, axis=1)\n",
        "test_std = np.std(test_scores, axis=1)\n",
        "\n",
        "# plot the validation curves\n",
        "plt.plot(param_range, train_mean, label=\"Training score\", color=\"darkorange\")\n",
        "plt.fill_between(param_range, train_mean - train_std, train_mean + train_std, alpha=0.2, color=\"darkorange\")\n",
        "plt.plot(param_range, test_mean, label=\"Cross-validation score\", color=\"navy\")\n",
        "plt.fill_between(param_range, test_mean - test_std, test_mean + test_std, alpha=0.2, color=\"navy\")\n",
        "plt.legend(loc=\"best\")\n",
        "plt.xlabel(\"max_depth\")\n",
        "plt.ylabel(\"Accuracy\")\n",
        "plt.show()\n",
        "\n",
        "# calculate bias and variance\n",
        "bias = (1 - test_mean) ** 2\n",
        "variance = test_std ** 2\n",
        "\n",
        "print(\"Bias:\", bias)\n",
        "print(\"Variance:\", variance)\n"
      ],
      "metadata": {
        "id": "qGYQrLvP-4DD",
        "outputId": "111f5c25-89c2-443f-d66f-9c2d610bee1e",
        "colab": {
          "base_uri": "https://localhost:8080/",
          "height": 90
        }
      },
      "execution_count": 10,
      "outputs": [
        {
          "output_type": "display_data",
          "data": {
            "text/plain": [
              "<Figure size 640x480 with 1 Axes>"
            ],
            "image/png": "[encoded data removed]"
          },
          "metadata": {}
        },
        {
          "output_type": "stream",
          "name": "stdout",
          "text": [
            "Bias: [0.012769 0.01     0.014161 0.016129 0.014884 0.013456]\n",
            "Variance: [0.000406 0.0004   0.000394 0.000326 0.000476 0.000184]\n"
          ]
        }
      ]
    },
    {
      "cell_type": "markdown",
      "source": [
        "In the example above, *bias* and *variance* are estimated from the validation scores. For instance, for the model with `max_depth=4`, the estimated bias is $\\approx 0.013$, which corresponds to an estimated 87% accuracy, while the estimated variance is $\\approx 0.0004$, which is the plotted standard deviation ($\\approx 0.02$) squared. \n",
        "\n",
        "Suggestion: thry the code above using the `gini` instead of the `entropy` criterion for spliting."
      ],
      "metadata": {
        "id": "2fZ1mQV8HF3p"
      }
    },
    {
      "cell_type": "markdown",
      "source": [
        "### Perceptron"
      ],
      "metadata": {
        "id": "AnfcN6V9am9h"
      }
    },
    {
      "cell_type": "markdown",
      "source": [
        "The *perceptron* is one of the simplest models for numerical tabular data and 0/1 classification problems.\n",
        "\n",
        "<img src=\"https://drive.google.com/uc?export=view&id=1HqHfJn7ejJMGeAa5fTTQzW_myubIDsDh\" width=\"600\" >\n",
        "\n",
        "\n",
        "The model is \n",
        "\n",
        "$$f_{\\rm \\bf w}(x_1,\\dots,x_k)= \\sigma (w_1 \\, x_1 + \\dots + w_k \\, x_k)$$\n",
        "\n",
        "where $\\sigma(.)$ is the activation function, and it is defined by \n",
        "\n",
        "$$\\sigma(z) = \\left\\{\\begin{align}\n",
        "1 &, &  z \\ge t \\\\\n",
        "0 &, &  z < t \\\\\n",
        "\\end{align} \\right.$$\n",
        "\n",
        "where $t$ is some *threshold*.\n"
      ],
      "metadata": {
        "id": "9k6m_gN4aqDZ"
      }
    },
    {
      "cell_type": "markdown",
      "source": [
        "The code below is an adaptation of the code for simple linear regression, where the examples are tabular data instead of just scalar values, and the classes are 0/1 as in the *Titanic* example in notebook [Lesson5_edited_for_colab_linear_model_and_neural_net_from_scratch.ipynb](Lesson5_edited_for_colab_linear_model_and_neural_net_from_scratch.ipynb).\n",
        "\n",
        "Here, we consider that the input data as already been pre-processed, and all explanatory variables $(x_{i1},\\dots,x_{ik})$ are numerical, while the response variable is $y_i \\in \\{0,1\\}$ for $n$ examples $i=1,\\dots,n$.\n",
        "\n",
        "In matrix form, each row represents one example. For $n$ examples $i=1,\\dots,n$, the following matrices represent the examples and the labels.\n",
        "\n",
        "$\n",
        "\t{\\rm \\bf X}= \\begin{bmatrix} \n",
        "\tx_{11} & \\dots & x_{1k} \\\\\n",
        "\tx_{21} & \\dots & x_{2k} \\\\\n",
        "\t\\dots & \\dots & \\dots\\\\\n",
        "\tx_{n1} & \\dots & x_{nk} \\\\\n",
        "\t\\end{bmatrix}~~~~~~\n",
        "$\n",
        "$\n",
        "\t{\\rm \\bf y}= \\begin{bmatrix} \n",
        "\ty_1  \\\\\n",
        "\ty_2  \\\\\n",
        "\t\\dots \\\\\n",
        "\ty_n  \\\\\n",
        "\t\\end{bmatrix}\n",
        "$\n",
        "\n",
        "Since each example corresponds to a row of ${\\rm \\bf X}$, the $i$-th example is  $(x_{i1},\\dots,x_{ik})$\n",
        "and has label $y_i \\in \\{0,1\\}$. \n",
        "\n",
        "To prevent discontinuities, one can choose instead for $\\sigma(.)$  a continuous function. The usual candidate is the *sigmoid* function\n",
        "\n",
        "$$\\sigma(z)= \\frac{1}{1+e^{-z}}$$\n",
        "\n",
        "that ranges between 0 and 1. This function is available in `pytorch` through `torch.sigmoid`. \n",
        "\n"
      ],
      "metadata": {
        "id": "pfmqoyLshvns"
      }
    },
    {
      "cell_type": "code",
      "source": [
        "import sympy\n",
        "sympy.plot(\"1/(1+exp(-z))\", xlim=(-5,5));\n"
      ],
      "metadata": {
        "colab": {
          "base_uri": "https://localhost:8080/",
          "height": 296
        },
        "id": "LvOfeyF8X72_",
        "outputId": "99c9e99a-94d4-40ea-9af0-773abb0f12a9"
      },
      "execution_count": null,
      "outputs": [
        {
          "output_type": "display_data",
          "data": {
            "text/plain": [
              "<Figure size 432x288 with 1 Axes>"
            ],
            "image/png": "[encoded data removed]"
          },
          "metadata": {
            "needs_background": "light"
          }
        }
      ]
    },
    {
      "cell_type": "markdown",
      "source": [
        "The following code allows you to compare results from multiple linear regression and the perceptron for the Titanic data set problem. Try changing some parameters for gradient descent to see what happens."
      ],
      "metadata": {
        "id": "Pqqx3vIggVT8"
      }
    },
    {
      "cell_type": "code",
      "source": [
        "import os\n",
        "from pathlib import Path\n",
        "import matplotlib.pyplot as plt\n",
        "import torch\n",
        "import numpy as np\n",
        "from sklearn.model_selection import train_test_split\n",
        "from sklearn.metrics import confusion_matrix, ConfusionMatrixDisplay\n",
        "torch.manual_seed(42)\n",
        "\n",
        "B=10 # batch size\n",
        "lr = 0.1 # learning rate\n",
        "iter=20 # number epochs\n",
        "\n",
        "############################################ Reading Titanic numerical data, i.e., X and y\n",
        "var_names=['Age', 'SibSp', 'Parch', 'LogFare', 'Sex_male', 'Sex_female', 'Pclass_1', 'Pclass_2', 'Pclass_3', 'Embarked_C', 'Embarked_Q', 'Embarked_S']\n",
        "path=Path('/content/drive/MyDrive/AAA/Lesson_5/titanic_data') # adapt to your path\n",
        "X,y=torch.load(path/'titanic_tensor_data_set.ts') # these values are not yet normalized\n",
        "y=y[:,None] # to turn it into a column vector\n",
        "\n",
        "##################################### Create train and validation sets\n",
        "X_train, X_valid, y_train, y_valid = train_test_split(X, y, test_size=0.2, random_state=42)\n",
        "\n",
        "############################################## Ordinary least squares solution with 0.5 threshold\n",
        "# variables to keep to avoid linear dependencies\n",
        "var_keep=['Age', 'SibSp', 'Parch', 'LogFare', 'Sex_male',  'Pclass_1', 'Pclass_2',  'Embarked_C', 'Embarked_Q']\n",
        "keep=np.isin(var_names,var_keep) # boolean list\n",
        "# \n",
        "from sklearn.linear_model import LinearRegression\n",
        "reg = LinearRegression().fit(X_train[:,keep], y_train)\n",
        "print('coefficients MLR:',reg.intercept_,reg.coef_)\n",
        "y_pred=reg.predict(X_valid[:,keep])\n",
        "disp = ConfusionMatrixDisplay(confusion_matrix(y_valid,(y_pred>0.5)))\n",
        "disp.plot()\n",
        "plt.show()\n",
        "\n",
        "####################################################### Gradient Descent\n",
        "# if you want to standardize X and include an additional additive coefficient to the model:\n",
        "if False: \n",
        "  means = X.mean(dim=1, keepdim=True)\n",
        "  stds = X.std(dim=1, keepdim=True)\n",
        "  X=normalized_data = (X - means) / stds\n",
        "  # add column of 1s to X\n",
        "  ones=torch.ones(X.shape[0]).reshape(X.shape[0],1)\n",
        "  X=torch.cat((ones,X),1)\n",
        "  X_train, X_valid, y_train, y_valid = train_test_split(X, y, test_size=0.2, random_state=42)\n",
        "\n",
        "# initial weights\n",
        "def init_coeffs(n_coeff): return (torch.rand(n_coeff,1)-0.5).requires_grad_() # creates a column matrix\n",
        "\n",
        "# defining the function for prediction: the output is a vector of size=nrows(X)\n",
        "def calc_preds(coeffs,X): return  torch.sigmoid(X@coeffs) # using matrix multiplication (aka matmul)\n",
        "\n",
        "# Computing MSE loss for one batch of exemples: the output is a scalar\n",
        "def calc_loss_from_labels(y_pred, y): return torch.mean((y_pred - y) ** 2)\n",
        "\n",
        "# update coeffs\n",
        "def update_coeffs(coeffs, lr):\n",
        "    coeffs.sub_(coeffs.grad * lr)\n",
        "    # zerofy gradients (because they add up)\n",
        "    coeffs.grad.zero_()\n",
        "\n",
        "# compute initial weights as a column matrix\n",
        "n_coeff = X_train.shape[1] # number of columns of X, or X_train, or X_valid\n",
        "coeffs = init_coeffs(n_coeff)\n",
        "\n",
        "# create lists to store losses for each epoch\n",
        "training_losses=[]; validation_losses=[]\n",
        "\n",
        "# epochs\n",
        "for i in range(iter):\n",
        "  # calculating loss as in the beginning of an epoch and storing it\n",
        "    y_pred = calc_preds(coeffs,X_train)\n",
        "    training_losses.append(calc_loss_from_labels(y_pred, y_train).tolist())\n",
        "    y_pred = calc_preds(coeffs,X_valid)\n",
        "    validation_losses.append(calc_loss_from_labels(y_pred, y_valid).tolist())\n",
        "    # mini-batch gradient descent: weight are updated after each batch\n",
        "    for idx_start in np.arange(0,X_train.shape[0],B):\n",
        "        # create batch\n",
        "        batch_X=X_train[idx_start:(idx_start+B),:]\n",
        "        batch_y=y_train[idx_start:(idx_start+B):]\n",
        "        # making a prediction in forward pass\n",
        "        y_pred = calc_preds(coeffs,batch_X)\n",
        "        # calculating the loss between predicted and actual values\n",
        "        loss = calc_loss_from_labels(y_pred, batch_y)\n",
        "        # compute gradient\n",
        "        loss.backward()\n",
        "        with torch.no_grad():\n",
        "            # update coeffs\n",
        "            update_coeffs(coeffs, lr)\n",
        "\n",
        "# predictions and confusion matrix\n",
        "print('coefficients GD:',torch.flatten(coeffs.requires_grad_(False)))\n",
        "y_pred=calc_preds(coeffs,X_valid)\n",
        "disp = ConfusionMatrixDisplay(confusion_matrix(y_valid,(y_pred>0.5)))\n",
        "disp.plot()\n",
        "plt.show()\n",
        "\n",
        "# plot losses along epochs\n",
        "plt.plot(training_losses, '-g',  validation_losses, '-r')\n",
        "plt.gca().legend(('train','validation'))\n",
        "plt.ylim(0, 1)\n",
        "plt.xlabel('epoch')\n",
        "plt.ylabel('loss (MSE)')\n",
        "#plt.title(\"Train (green) and validation (red) losses\")\n",
        "plt.show()"
      ],
      "metadata": {
        "id": "v1ufDH1Wareo",
        "colab": {
          "base_uri": "https://localhost:8080/",
          "height": 876
        },
        "outputId": "dc023b3e-6219-44f9-f6a2-c80b1b13b0c3"
      },
      "execution_count": null,
      "outputs": [
        {
          "output_type": "stream",
          "name": "stdout",
          "text": [
            "coefficients MLR: [0.5854171] [[-0.0042809  -0.04922816 -0.03017007  0.05970862 -0.5046148   0.22423151\n",
            "   0.1791499   0.07168674  0.04639366]]\n"
          ]
        },
        {
          "output_type": "display_data",
          "data": {
            "text/plain": [
              "<Figure size 432x288 with 2 Axes>"
            ],
            "image/png": "[encoded data removed]"
          },
          "metadata": {
            "needs_background": "light"
          }
        },
        {
          "output_type": "stream",
          "name": "stdout",
          "text": [
            "coefficients GD: tensor([-0.4428, -0.8563,  0.0372,  0.9528, -0.6359,  0.6533, -0.0090,  0.5945,\n",
            "        -0.0683, -0.1924,  0.3725,  0.0073])\n"
          ]
        },
        {
          "output_type": "display_data",
          "data": {
            "text/plain": [
              "<Figure size 432x288 with 2 Axes>"
            ],
            "image/png": "[encoded data removed]"
          },
          "metadata": {
            "needs_background": "light"
          }
        },
        {
          "output_type": "display_data",
          "data": {
            "text/plain": [
              "<Figure size 432x288 with 1 Axes>"
            ],
            "image/png": "[encoded data removed]"
          },
          "metadata": {
            "needs_background": "light"
          }
        }
      ]
    },
    {
      "cell_type": "markdown",
      "source": [
        "### Feed-forward fully connected neural network with ReLu units"
      ],
      "metadata": {
        "id": "O0Bsy-6bLa-V"
      }
    },
    {
      "cell_type": "markdown",
      "source": [
        "The next step is to add more layers to the model. Instead of having just one output from the first (input) layer, the model can have many units in the following *hidden* layers. In general, the number of model outputs (output layer) is equal to the number of labels (one is enough for the Titanic problem, since the prediction is just \"survived\" or not). As mentioned earlier, typically there is either a *sigmoid* unit or a *softmax* layer to complete the model, so the final outputs can be interpreted as probabilities.\n",
        "\n",
        "This model is also known as the *Multilayer Perceptron* (MLP).\n",
        "\n",
        "If all the intermediate layers would just multiply inputs by weights, the model could be reduced to a single matrix multiplication layer. Therefore, there must some non-linearity after each matrix multiplication. That's what is described in the following figure, where $f$ represents some non-linear *activation function* for each layer of the neural network.\n",
        "\n",
        "<img src=\"https://drive.google.com/uc?export=view&id=1Ky82nfC7GUp7YBqp1Spzn9aHDrTzbiCH\" width=\"600\" >\n",
        "\n",
        "The layer is called *fully connected* when each matrix multiplication, which returns the dot product $x_1 \\, w_1 + \\dots + x_n \\, w_n$ envolves all neurons from the previous layer. \n",
        "\n",
        "Typically, all activation functions ($f$ in the figure above) for the *hidden layers* are called rectified linear units (*ReLu*) and they represent the following continuous function, which is the identity function for positive arguments and *zero* for negative arguments.\n",
        "\n",
        "${\\rm ReLu}(z) = \\left\\{\\begin{align}\n",
        "z &, &  z \\ge 0 \\\\\n",
        "0 &, &  z < 0 \\\\\n",
        "\\end{align} \\right.$\n",
        "\n",
        "If there is only one output, the activation layer for the *output layer* is typically the *sigmoid* function. If there is more than one output (as in the figure above), the typical choice of activation function for the output layer is the *softmax* function.\n",
        "\n",
        "For first *neuron* in the first hidden unit, the calculation goes exactely as  we discussed for the perceptron model, where the inputs are multiplied by the  weights $w_1^{(1)},\\dots, w_4^{(1)}$ to return\n",
        "\n",
        "$$w_1^{(1)} \\, x_1 + w_2^{(1)} \\, x_2 + w_3^{(1)} \\, x_3 + w_4^{(1)} \\, x_4 .$$\n",
        "\n",
        "The same product is computed for the second neuron of the first hidden layer, but for a *different set of weights* $w_1^{(2)},\\dots, w_4^{(2)}$, and so on. Hence, in total there are for the example in the figure above, 12 multiplicative weights (4 input variables $\\times$ 3 neuros in the hidden layer). The three multiplications (for the three neurns in the hidden layer) can all be done with a single matrix multiplication:\n",
        "\n",
        "If the weights and input values are  $~~~~~\n",
        "\t{\\rm W}= \\begin{bmatrix} \n",
        "\tw_{1}^{(1)} & w_{2}^{(1)} & w_{3}^{(1)} & w_{4}^{(1)} \\\\\n",
        "\tw_{1}^{(2)} & w_{2}^{(2)} & w_{3}^{(2)} & w_{4}^{(2)} \\\\\n",
        "\tw_{1}^{(3)} & w_{2}^{(3)} & w_{3}^{(3)} & w_{4}^{(3)} \\\\\n",
        "\t\\end{bmatrix}~~~{\\rm and}~~~~\n",
        "$\n",
        "$\n",
        "\t{\\rm x}= \\begin{bmatrix} \n",
        "\tx_1  \\\\\n",
        "\tx_2 \\\\\n",
        "\tx_3  \\\\\n",
        "\tx_4  \\\\\n",
        "\t\\end{bmatrix}~~~\n",
        "$\n",
        "\n",
        "then, the hidden layer three outputs (before applying the activation function) are just the rows of the product ${\\rm W} \\, {\\rm x}$:\n",
        "\n",
        "$$ {\\rm  W} \\, {\\rm x}= \\begin{bmatrix} \n",
        "\tw_1^{(1)} \\, x_1 + w_2^{(1)} \\, x_2 + w_3^{(1)} \\, x_3 + w_4^{(1)} \\, x_4  \\\\\n",
        "\tw_1^{(2)} \\, x_1 + w_2^{(2)} \\, x_2 + w_3^{(2)} \\, x_3 + w_4^{(2)} \\, x_4  \\\\\n",
        "\tw_1^{(3)} \\, x_1 + w_2^{(3)} \\, x_2 + w_3^{(3)} \\, x_3 + w_4^{(3)} \\, x_4  \\\\\n",
        "\t\\end{bmatrix}\n",
        ".$$\n",
        "\n",
        "This is very convenient since matrix multiplication can be computed quickly.\n",
        "\n",
        "Note that it is usual to include also an *additive weight* for each neuron (this is called the *bias*). Without lost of generality, we can think that $x_1$ is an artificial input which value is always 1, and therefore $w_1^{(j)} \\times x_1=w_1^{(j)}$ is the additive weight. In alternative, we can add a weight $w_0^{(j)}$ to each neuron, so the neuron output (before applying the activation function) is \n",
        "\n",
        "$$w_0^{(1)} + w_1^{(1)} \\, x_1 + w_2^{(1)} \\, x_2 + w_3^{(1)} \\, x_3 + w_4^{(1)} \\, x_4 $$\n",
        "\n",
        "in the above example.\n",
        "\n",
        "Putting everything together, the three outputs of the first hidden layer are:\n",
        "\n",
        "$$\n",
        "\t {\\rm ReLu} \\left(w_0^{(1)} + w_1^{(1)} \\, x_1 + w_2^{(1)} \\, x_2 + w_3^{(1)} \\, x_3 + w_4^{(1)} \\, x_4 \\right)  \\\\\n",
        "   {\\rm ReLu} \\left(w_0^{(2)} + w_1^{(2)} \\, x_1 + w_2^{(2)} \\, x_2 + w_3^{(2)} \\, x_3 + w_4^{(2)} \\, x_4 \\right)  \\\\\n",
        " {\\rm ReLu} \\left(w_0^{(3)} + w_1^{(3)} \\, x_1 + w_2^{(3)} \\, x_2 + w_3^{(3)} \\, x_3 + w_4^{(3)} \\, x_4 \\right)  \\\\\n",
        "$$\n",
        "\n",
        "Then, calculations proceed to the following layer, and so on, until they reach  the output layer. This network is called *feed-forward* because computations are done sequentially layer by layer.\n",
        "\n"
      ],
      "metadata": {
        "id": "LVVVxdMRMEyV"
      }
    },
    {
      "cell_type": "markdown",
      "source": [
        "## Image classification"
      ],
      "metadata": {
        "id": "CD6hFZ18NweS"
      }
    },
    {
      "cell_type": "markdown",
      "source": [
        "### Convolutional neural networks for image classification"
      ],
      "metadata": {
        "id": "6mQQM1QvFPZ-"
      }
    },
    {
      "cell_type": "markdown",
      "source": [
        "For a detailed overview of convolutional neural networks see the notebook that includes `pytorch`code for computing covolutions:  https://github.com/fastai/fastbook/blob/master/13_convolutions.ipynb. Some concepts and examples from that notebook are included in the text below."
      ],
      "metadata": {
        "id": "1yIjopNB75t9"
      }
    },
    {
      "cell_type": "markdown",
      "source": [
        "#### Convolutions and kernels"
      ],
      "metadata": {
        "id": "HPga1DGR_h4S"
      }
    },
    {
      "cell_type": "markdown",
      "source": [
        "A convolution applies a kernel across an image. A kernel is a little matrix, such as the 3×3 matrix below. The 7×7 grid to the left is the image we're going to apply the kernel to. The convolution operation multiplies each element of the kernel by each element of a 3×3 block of the image. The results of these multiplications are then added together. The diagram  shows an example of applying a kernel to a single location in the image, the 3×3 block around cell 18."
      ],
      "metadata": {
        "id": "De9r08q58Jf_"
      }
    },
    {
      "cell_type": "markdown",
      "metadata": {
        "id": "Pm9ZH_4P7sgM"
      },
      "source": [
        "<img src=\"https://github.com/fastai/fastbook/blob/master/images/chapter9_conv_basic.png?raw=1\" id=\"basic_conv\" caption=\"Applying a kernel to one location\" alt=\"Applying a kernel to one location\" width=\"600\">"
      ]
    },
    {
      "cell_type": "markdown",
      "metadata": {
        "id": "HytpwvII7sga"
      },
      "source": [
        "In the paper [\"A Guide to Convolution Arithmetic for Deep Learning\"](https://arxiv.org/abs/1603.07285) there are many great diagrams showing how image kernels can be applied. Here's an example from the paper showing (at the bottom) a light blue 4×4 image, with a dark blue 3×3 kernel being applied, creating a 2×2 green output activation map at the top. "
      ]
    },
    {
      "cell_type": "markdown",
      "metadata": {
        "id": "fM0gl8pN7sga"
      },
      "source": [
        "<img alt=\"Result of applying a 3×3 kernel to a 4×4 image\" width=\"782\" caption=\"Result of applying a 3×3 kernel to a 4×4 image (courtesy of Vincent Dumoulin and Francesco Visin)\" id=\"three_ex_four_conv\" src=\"https://github.com/fastai/fastbook/blob/master/images/att_00028.png?raw=1\">"
      ]
    },
    {
      "cell_type": "markdown",
      "metadata": {
        "id": "YZTVi15h7sga"
      },
      "source": [
        "What is the shape of the result? If the original image has a height of `h` and a width of `w`, how many 3×3 windows can we find? As you can see from the example, there are `h-2` by `w-2` windows, so the image we get has a result as a height of `h-2` and a width of `w-2`."
      ]
    },
    {
      "cell_type": "markdown",
      "metadata": {
        "id": "gx_3HUel_N6i"
      },
      "source": [
        "#### Padding, pooling, stride and activation map"
      ]
    },
    {
      "cell_type": "markdown",
      "metadata": {
        "id": "bhvgNqbz_N6j"
      },
      "source": [
        "**Padding** consists in creating new cells on th emargins of the input, with a given value (in general 0). With appropriate padding, we can ensure that the output **activation map** is the same size as the original image, which can make things a lot simpler when we construct our architectures. The figure below shows how adding padding allows us to apply the kernels in the image corners."
      ]
    },
    {
      "cell_type": "markdown",
      "metadata": {
        "id": "EwuyrTB3_N6j"
      },
      "source": [
        "<img src=\"https://github.com/fastai/fastbook/blob/master/images/chapter9_padconv.svg?raw=1\" id=\"pad_conv\" caption=\"A convolution with padding\" alt=\"A convolution with padding\" width=\"600\">"
      ]
    },
    {
      "cell_type": "markdown",
      "metadata": {
        "id": "uBonLNgi_N6k"
      },
      "source": [
        "With a 5×5 input, 4×4 kernel, and 2 pixels of padding, we end up with a 6×6 activation map:"
      ]
    },
    {
      "cell_type": "markdown",
      "metadata": {
        "id": "IZs6pyQO_N6k"
      },
      "source": [
        "<img alt=\"A 4×4 kernel with 5×5 input and 2 pixels of padding\" width=\"783\" caption=\"A 4×4 kernel with 5×5 input and 2 pixels of padding (courtesy of Vincent Dumoulin and Francesco Visin)\" id=\"four_by_five_conv\" src=\"https://github.com/fastai/fastbook/blob/master/images/att_00029.png?raw=1\">"
      ]
    },
    {
      "cell_type": "markdown",
      "metadata": {
        "id": "jBr61m-P_N6l"
      },
      "source": [
        "If we add a kernel of size `ks` by `ks` (with `ks` an odd number), the necessary padding on each side to keep the same shape is `ks//2`. An even number for `ks` would require a different amount of padding on the top/bottom and left/right, but in practice we almost never use an even filter size.\n",
        "\n",
        "**Stride**. So far, when we have applied the kernel to the grid, we have moved it one pixel over at a time. But we can jump further; for instance, we could move over two pixels after each kernel application, as in the figure below. This is known as a *stride-2* convolution. The most common kernel size in practice is 3×3, and the most common padding is 1. As you'll see, **stride-2** convolutions are useful for decreasing the size of our outputs, and **stride-1** convolutions are useful for adding layers without changing the output size."
      ]
    },
    {
      "cell_type": "markdown",
      "metadata": {
        "id": "T1cu9Gle_N6m"
      },
      "source": [
        "<img alt=\"A 3×3 kernel with 5×5 input, stride-2 convolution, and 1 pixel of padding\" width=\"774\" caption=\"A 3×3 kernel with 5×5 input, stride-2 convolution, and 1 pixel of padding (courtesy of Vincent Dumoulin and Francesco Visin)\" id=\"three_by_five_conv\" src=\"https://github.com/fastai/fastbook/blob/master/images/att_00030.png?raw=1\">"
      ]
    },
    {
      "cell_type": "markdown",
      "metadata": {
        "id": "dFr3YGMP_N6m"
      },
      "source": [
        "In an image of size `h` by `w`, using a padding of 1 and a stride of 2 will give us a result of size `(h+1)//2` by `(w+1)//2`. The general formula for each dimension is `(n + 2*pad - ks)//stride + 1`, where `pad` is the padding, `ks`, the size of our kernel, and `stride` is the stride.\n",
        "\n",
        "**Pooling** is a type of convolution with a fixed operation (not trainable) as illustrated in the example below. This can be used to reduce the size of a layer. However, pooling can be replaced by convolution with stride larger than 1 (see paper \"Striving for Simplicity: The All Convolutional Net\" at https://arxiv.org/abs/1412.6806). \n",
        "\n",
        "<img src=\"https://epynn.net/_images/pool-01.svg\"  width=\"600\">\n"
      ]
    },
    {
      "cell_type": "markdown",
      "source": [
        "#### Example with MNIST data set (\"3\" and \"7\" digits)"
      ],
      "metadata": {
        "id": "9zSYuXnzG8Wz"
      }
    },
    {
      "cell_type": "code",
      "source": [
        "from fastai.vision.all import *\n",
        "matplotlib.rc('image', cmap='Greys')\n",
        "path = untar_data(URLs.MNIST_SAMPLE) # MNIST_SAMPLE only contains digits 3 and 7\n",
        "path"
      ],
      "metadata": {
        "colab": {
          "base_uri": "https://localhost:8080/"
        },
        "id": "rgkMU1q_HCNp",
        "outputId": "3dd816f4-d079-4232-99d9-f9683efbb223"
      },
      "execution_count": null,
      "outputs": [
        {
          "output_type": "execute_result",
          "data": {
            "text/plain": [
              "Path('/root/.fastai/data/mnist_sample')"
            ]
          },
          "metadata": {},
          "execution_count": 9
        }
      ]
    },
    {
      "cell_type": "code",
      "source": [
        "im3 = Image.open(path/'train'/'3'/'12.png')\n",
        "show_image(im3);"
      ],
      "metadata": {
        "colab": {
          "base_uri": "https://localhost:8080/",
          "height": 114
        },
        "id": "GLSo4CFxHbto",
        "outputId": "1ffc776a-53f7-4417-fc9f-9a7685e7c6ac"
      },
      "execution_count": null,
      "outputs": [
        {
          "output_type": "display_data",
          "data": {
            "text/plain": [
              "<Figure size 100x100 with 1 Axes>"
            ],
            "image/png": "[encoded data removed]"
          },
          "metadata": {}
        }
      ]
    },
    {
      "cell_type": "code",
      "source": [
        "# create dataloaders (dls)\n",
        "mnist = DataBlock((ImageBlock(cls=PILImageBW), CategoryBlock), \n",
        "                  get_items=get_image_files, \n",
        "                  splitter=GrandparentSplitter(),\n",
        "                  get_y=parent_label)\n",
        "\n",
        "dls = mnist.dataloaders(path)\n",
        "xb,yb = first(dls.valid)\n",
        "# By default, fastai puts data on the GPU when using data blocks. Let's move it to the CPU for our examples:\n",
        "xb,yb = to_cpu(xb),to_cpu(yb)\n",
        "xb.shape # batch size, number of channels, number of rows, number of columns"
      ],
      "metadata": {
        "colab": {
          "base_uri": "https://localhost:8080/"
        },
        "id": "ctAiH9amHySA",
        "outputId": "ddfc9d14-1d10-43c1-a5de-3d36d021a345"
      },
      "execution_count": null,
      "outputs": [
        {
          "output_type": "execute_result",
          "data": {
            "text/plain": [
              "torch.Size([64, 1, 28, 28])"
            ]
          },
          "metadata": {},
          "execution_count": 15
        }
      ]
    },
    {
      "cell_type": "markdown",
      "source": [
        "#### Creating a simple CNN from scratch"
      ],
      "metadata": {
        "id": "4cLf5yYEKCei"
      }
    },
    {
      "cell_type": "markdown",
      "metadata": {
        "id": "MgF4HmK97sgo"
      },
      "source": [
        "We will create a CNN from scratch with `nn.Conv2d`. First, we'll define a function with the basic parameters we'll use in each convolution. Each layer receives `ni` channels of input and produces `nf` output features."
      ]
    },
    {
      "cell_type": "code",
      "execution_count": null,
      "metadata": {
        "id": "4N6_WTVu7sgq",
        "colab": {
          "base_uri": "https://localhost:8080/"
        },
        "outputId": "3536a732-1730-4ebb-9f07-7e4c7590feea"
      },
      "outputs": [
        {
          "output_type": "execute_result",
          "data": {
            "text/plain": [
              "torch.Size([64, 2])"
            ]
          },
          "metadata": {},
          "execution_count": 20
        }
      ],
      "source": [
        "# ni and nf are the number of input and output channels (also called output features)\n",
        "def conv(ni, nf, ks=3, act=True):\n",
        "    res = nn.Conv2d(ni, nf, stride=2, kernel_size=ks, padding=ks//2)\n",
        "    if act: res = nn.Sequential(res, nn.ReLU())\n",
        "    return res\n",
        "\n",
        "# build CNN:\n",
        "simple_cnn = sequential(\n",
        "    conv(1 ,4),            #14x14\n",
        "    conv(4 ,8),            #7x7\n",
        "    conv(8 ,16),           #4x4\n",
        "    conv(16,32),           #2x2\n",
        "    conv(32,2, act=False), #1x1\n",
        "    Flatten(),\n",
        ")\n",
        "simple_cnn(xb).shape"
      ]
    },
    {
      "cell_type": "markdown",
      "source": [
        "So, overall, the model's input (`batch`, `channel`, `height`, `width`) is a batch of 64 examples of 1-channel images with 28 rows and columns, and outputs two activations, which map to the two possible levels in our labels. \n",
        "\n",
        "We can now create the `learner`, and look at its structure with `summary`.\n"
      ],
      "metadata": {
        "id": "mPCSTnSbLptM"
      }
    },
    {
      "cell_type": "code",
      "source": [
        "learn = Learner(dls, simple_cnn, loss_func=F.cross_entropy, metrics=accuracy)\n",
        "learn.summary()"
      ],
      "metadata": {
        "colab": {
          "base_uri": "https://localhost:8080/",
          "height": 705
        },
        "id": "ECGpSRWkM4ng",
        "outputId": "2b1eb4da-dc5b-4df4-dff1-fa829c923032"
      },
      "execution_count": null,
      "outputs": [
        {
          "output_type": "display_data",
          "data": {
            "text/plain": [
              "<IPython.core.display.HTML object>"
            ],
            "text/html": [
              "\n",
              "<style>\n",
              "    /* Turns off some styling */\n",
              "    progress {\n",
              "        /* gets rid of default border in Firefox and Opera. */\n",
              "        border: none;\n",
              "        /* Needs to be in here for Safari polyfill so background images work as expected. */\n",
              "        background-size: auto;\n",
              "    }\n",
              "    progress:not([value]), progress:not([value])::-webkit-progress-bar {\n",
              "        background: repeating-linear-gradient(45deg, #7e7e7e, #7e7e7e 10px, #5c5c5c 10px, #5c5c5c 20px);\n",
              "    }\n",
              "    .progress-bar-interrupted, .progress-bar-interrupted::-webkit-progress-bar {\n",
              "        background: #F44336;\n",
              "    }\n",
              "</style>\n"
            ]
          },
          "metadata": {}
        },
        {
          "output_type": "display_data",
          "data": {
            "text/plain": [
              "<IPython.core.display.HTML object>"
            ],
            "text/html": []
          },
          "metadata": {}
        },
        {
          "output_type": "execute_result",
          "data": {
            "text/plain": [
              "Sequential (Input shape: 64 x 1 x 28 x 28)\n",
              "============================================================================\n",
              "Layer (type)         Output Shape         Param #    Trainable \n",
              "============================================================================\n",
              "                     64 x 4 x 14 x 14    \n",
              "Conv2d                                    40         True      \n",
              "ReLU                                                           \n",
              "____________________________________________________________________________\n",
              "                     64 x 8 x 7 x 7      \n",
              "Conv2d                                    296        True      \n",
              "ReLU                                                           \n",
              "____________________________________________________________________________\n",
              "                     64 x 16 x 4 x 4     \n",
              "Conv2d                                    1168       True      \n",
              "ReLU                                                           \n",
              "____________________________________________________________________________\n",
              "                     64 x 32 x 2 x 2     \n",
              "Conv2d                                    4640       True      \n",
              "ReLU                                                           \n",
              "____________________________________________________________________________\n",
              "                     64 x 2 x 1 x 1      \n",
              "Conv2d                                    578        True      \n",
              "____________________________________________________________________________\n",
              "                     64 x 2              \n",
              "Flatten                                                        \n",
              "____________________________________________________________________________\n",
              "\n",
              "Total params: 6,722\n",
              "Total trainable params: 6,722\n",
              "Total non-trainable params: 0\n",
              "\n",
              "Optimizer used: <function Adam at 0x7f2b59a85c10>\n",
              "Loss function: <function cross_entropy at 0x7f2b6cd19c10>\n",
              "\n",
              "Callbacks:\n",
              "  - TrainEvalCallback\n",
              "  - CastToTensor\n",
              "  - Recorder\n",
              "  - ProgressCallback"
            ],
            "application/vnd.google.colaboratory.intrinsic+json": {
              "type": "string"
            }
          },
          "metadata": {},
          "execution_count": 18
        }
      ]
    },
    {
      "cell_type": "code",
      "source": [
        "learn.fit_one_cycle(2, 0.01)"
      ],
      "metadata": {
        "colab": {
          "base_uri": "https://localhost:8080/",
          "height": 112
        },
        "id": "Nmyv44o5NbeK",
        "outputId": "266b1728-7531-44d7-feed-e65831020d10"
      },
      "execution_count": null,
      "outputs": [
        {
          "output_type": "display_data",
          "data": {
            "text/plain": [
              "<IPython.core.display.HTML object>"
            ],
            "text/html": [
              "\n",
              "<style>\n",
              "    /* Turns off some styling */\n",
              "    progress {\n",
              "        /* gets rid of default border in Firefox and Opera. */\n",
              "        border: none;\n",
              "        /* Needs to be in here for Safari polyfill so background images work as expected. */\n",
              "        background-size: auto;\n",
              "    }\n",
              "    progress:not([value]), progress:not([value])::-webkit-progress-bar {\n",
              "        background: repeating-linear-gradient(45deg, #7e7e7e, #7e7e7e 10px, #5c5c5c 10px, #5c5c5c 20px);\n",
              "    }\n",
              "    .progress-bar-interrupted, .progress-bar-interrupted::-webkit-progress-bar {\n",
              "        background: #F44336;\n",
              "    }\n",
              "</style>\n"
            ]
          },
          "metadata": {}
        },
        {
          "output_type": "display_data",
          "data": {
            "text/plain": [
              "<IPython.core.display.HTML object>"
            ],
            "text/html": [
              "<table border=\"1\" class=\"dataframe\">\n",
              "  <thead>\n",
              "    <tr style=\"text-align: left;\">\n",
              "      <th>epoch</th>\n",
              "      <th>train_loss</th>\n",
              "      <th>valid_loss</th>\n",
              "      <th>accuracy</th>\n",
              "      <th>time</th>\n",
              "    </tr>\n",
              "  </thead>\n",
              "  <tbody>\n",
              "    <tr>\n",
              "      <td>0</td>\n",
              "      <td>0.072641</td>\n",
              "      <td>0.039753</td>\n",
              "      <td>0.985280</td>\n",
              "      <td>00:13</td>\n",
              "    </tr>\n",
              "    <tr>\n",
              "      <td>1</td>\n",
              "      <td>0.030240</td>\n",
              "      <td>0.031761</td>\n",
              "      <td>0.989696</td>\n",
              "      <td>00:14</td>\n",
              "    </tr>\n",
              "  </tbody>\n",
              "</table>"
            ]
          },
          "metadata": {}
        }
      ]
    },
    {
      "cell_type": "markdown",
      "source": [
        "#### Weights and bias parameters"
      ],
      "metadata": {
        "id": "1VqJ9dVKS39v"
      }
    },
    {
      "cell_type": "markdown",
      "metadata": {
        "id": "8NJiUPV47sgv"
      },
      "source": [
        "The number of parameters depend on the kernel size, the number of input channels and the number of output features. Each convolution applies over the kernel and the input channels. There will be one convolution per output feature. The number of multiplicative weights per convolution is therefore `ni*ks*ks`. If there is an additive weight (bias) that will add one more parameter per convolution. Finally, the number of parameters `ni*ks*ks+1`must be multiplied by the number `nf` of output fatures. \n",
        "\n",
        "The summary shows we have 40 parameters for the first convolution, which is  `nf*(ni*ks*ks+1)=4*(1*3*3+1)`. Four of those parameters are for the bias."
      ]
    },
    {
      "cell_type": "code",
      "source": [
        "m = learn.model[0] # first layer\n",
        "print(m)\n",
        "print(m[0].weight.shape)\n",
        "print(m[0].bias.shape)"
      ],
      "metadata": {
        "colab": {
          "base_uri": "https://localhost:8080/"
        },
        "id": "FZfYnATzS7aL",
        "outputId": "174231c6-6419-4706-8b41-a36c89ad5d94"
      },
      "execution_count": null,
      "outputs": [
        {
          "output_type": "stream",
          "name": "stdout",
          "text": [
            "Sequential(\n",
            "  (0): Conv2d(1, 4, kernel_size=(3, 3), stride=(2, 2), padding=(1, 1))\n",
            "  (1): ReLU()\n",
            ")\n",
            "torch.Size([4, 1, 3, 3])\n",
            "torch.Size([4])\n"
          ]
        }
      ]
    },
    {
      "cell_type": "markdown",
      "metadata": {
        "id": "fPEjZ_ch7sgx"
      },
      "source": [
        "Similarly, for the second convolution, the depth of the input is `4`, the kernel is `3x3` which means that there are `4*3*3` multiplicative weights and `1` additive weight (bias) per output feature. Since the depth (`nf`=number output features) is 8, then, in total there are `8*(4*3*3+1)=296` parameters.\n",
        "\n",
        "We can now use this information to clarify the statement : \"When we use a stride-2 convolution, we often increase the number of features because we're decreasing the number of activations in the activation map by a factor of 4; we don't want to decrease the capacity of a layer by too much at a time.\"\n",
        "\n",
        "There is one bias for each channel. (Sometimes channels are called *features* or *filters* when they are not input channels.) The output shape is `64x4x14x14`, and this will therefore become the input shape to the next layer. The next layer, according to `summary`, has 296 parameters. Let's ignore the batch axis to keep things simple. So for each of `14*14=196` locations we are multiplying `296-8=288` weights (ignoring the bias for simplicity), so that's `196*288=56448` multiplications at this layer. The next layer will have `7*7*(1168-16)=56448` multiplications.\n",
        "\n",
        "What happened here is that our stride-2 convolution halved the *grid size* from `14x14` to `7x7`, and we doubled the *number of filters* from 8 to 16, resulting in no overall change in the amount of computation. If we left the number of channels the same in each stride-2 layer, the amount of computation being done in the net would get less and less as it gets deeper. But we know that the deeper layers have to compute semantically rich features (such as eyes or fur), so we wouldn't expect that doing *less* computation would make sense."
      ]
    },
    {
      "cell_type": "markdown",
      "metadata": {
        "id": "O1QsEp5T7sgx"
      },
      "source": [
        "#### Receptive Fields"
      ]
    },
    {
      "cell_type": "markdown",
      "metadata": {
        "id": "G5xAPJ5_7sgx"
      },
      "source": [
        "The *receptive field* is the area of an image that is involved in the calculation of a layer. "
      ]
    },
    {
      "cell_type": "markdown",
      "metadata": {
        "id": "8-m_ec6O7sgy"
      },
      "source": [
        "<img alt=\"Secondary precedents of conv2 layer\" width=\"700\" caption=\"Secondary precedents of Conv2 layer\" id=\"preced2\" src=\"https://github.com/fastai/fastbook/blob/master/images/att_00069.png?raw=1\">"
      ]
    },
    {
      "cell_type": "markdown",
      "metadata": {
        "id": "iSJE4WSl7sgy"
      },
      "source": [
        "In this example, we have just two convolutional layers, each of stride 2, so this is now tracing right back to the input image. We can see that a 7×7 area of cells in the input layer is used to calculate the single green cell in the Conv2 layer. This 7×7 area is the *receptive field* in the input of the green activation in Conv2. We can also see that a second filter kernel is needed now, since we have two layers.\n",
        "\n",
        "As you see from this example, the deeper we are in the network (specifically, the more stride-2 convs we have before a layer), the larger the receptive field for an activation in that layer. A large receptive field means that a large amount of the input image is used to calculate each activation in that layer is. We now know that in the deeper layers of the network we have semantically rich features, corresponding to larger receptive fields. Therefore, we'd expect that we'd need more weights for each of our features to handle this increasing complexity. This is another way of saying the same thing we mentioned in the previous section: when we introduce a stride-2 conv in our network, we should also increase the number of channels."
      ]
    },
    {
      "cell_type": "markdown",
      "metadata": {
        "id": "6GwmVyTf7shD"
      },
      "source": [
        "#### Batch Normalization"
      ]
    },
    {
      "cell_type": "markdown",
      "metadata": {
        "id": "HarhfRxO7shD"
      },
      "source": [
        "Batch normalization  tries to maintain a good distribution of activations throughout training.\n",
        "\n",
        "Sergey Ioffe and Christian Szegedy presented a solution to this problem in the 2015 paper [\"Batch Normalization: Accelerating Deep Network Training by Reducing Internal Covariate Shift\"](https://arxiv.org/abs/1502.03167). In the abstract, they describe just the problem that we've seen:\n",
        "\n",
        "> : Training Deep Neural Networks is complicated by the fact that the distribution of each layer's inputs changes during training, as the parameters of the previous layers change. This slows down the training by requiring lower learning rates and careful parameter initialization... We refer to this phenomenon as internal covariate shift, and address the problem by normalizing layer inputs.\n",
        "\n",
        "Their solution, they say is:\n",
        "\n",
        "> : Making normalization a part of the model architecture and performing the normalization for each training mini-batch. Batch Normalization allows us to use much higher learning rates and be less careful about initialization.\n"
      ]
    },
    {
      "cell_type": "markdown",
      "metadata": {
        "id": "CrvY5kiK7shD"
      },
      "source": [
        "Batch normalization (often just called *batchnorm*) works by taking an average of the mean and standard deviations of the activations of a layer and using those to normalize the activations. However, this can cause problems because the network might want some activations to be really high in order to make accurate predictions. So they also added two learnable parameters (meaning they will be updated in the SGD step), usually called `gamma` and `beta`. After normalizing the activations to get some new activation vector `y`, a batchnorm layer returns `gamma*y + beta`.\n",
        "\n",
        "That's why  activations can have any mean or variance, independent from the mean and standard deviation of the results of the previous layer. Those statistics are learned separately, making training easier on our model. The behavior is different during training and validation: during training, we use the mean and standard deviation of the batch to normalize the data, while during validation we instead use a running mean of the statistics calculated during training.\n",
        "\n",
        "Let's add a batchnorm layer to `conv` and fit again the model."
      ]
    },
    {
      "cell_type": "code",
      "execution_count": null,
      "metadata": {
        "id": "8L7F0un07shD",
        "colab": {
          "base_uri": "https://localhost:8080/",
          "height": 112
        },
        "outputId": "65f7da3a-078d-4227-fa05-4b242513c83e"
      },
      "outputs": [
        {
          "output_type": "display_data",
          "data": {
            "text/plain": [
              "<IPython.core.display.HTML object>"
            ],
            "text/html": [
              "\n",
              "<style>\n",
              "    /* Turns off some styling */\n",
              "    progress {\n",
              "        /* gets rid of default border in Firefox and Opera. */\n",
              "        border: none;\n",
              "        /* Needs to be in here for Safari polyfill so background images work as expected. */\n",
              "        background-size: auto;\n",
              "    }\n",
              "    progress:not([value]), progress:not([value])::-webkit-progress-bar {\n",
              "        background: repeating-linear-gradient(45deg, #7e7e7e, #7e7e7e 10px, #5c5c5c 10px, #5c5c5c 20px);\n",
              "    }\n",
              "    .progress-bar-interrupted, .progress-bar-interrupted::-webkit-progress-bar {\n",
              "        background: #F44336;\n",
              "    }\n",
              "</style>\n"
            ]
          },
          "metadata": {}
        },
        {
          "output_type": "display_data",
          "data": {
            "text/plain": [
              "<IPython.core.display.HTML object>"
            ],
            "text/html": [
              "<table border=\"1\" class=\"dataframe\">\n",
              "  <thead>\n",
              "    <tr style=\"text-align: left;\">\n",
              "      <th>epoch</th>\n",
              "      <th>train_loss</th>\n",
              "      <th>valid_loss</th>\n",
              "      <th>accuracy</th>\n",
              "      <th>time</th>\n",
              "    </tr>\n",
              "  </thead>\n",
              "  <tbody>\n",
              "    <tr>\n",
              "      <td>0</td>\n",
              "      <td>0.019299</td>\n",
              "      <td>0.015921</td>\n",
              "      <td>0.993621</td>\n",
              "      <td>00:13</td>\n",
              "    </tr>\n",
              "    <tr>\n",
              "      <td>1</td>\n",
              "      <td>0.005612</td>\n",
              "      <td>0.009632</td>\n",
              "      <td>0.997056</td>\n",
              "      <td>00:13</td>\n",
              "    </tr>\n",
              "  </tbody>\n",
              "</table>"
            ]
          },
          "metadata": {}
        }
      ],
      "source": [
        "def conv(ni, nf, ks=3, act=True):\n",
        "    layers = [nn.Conv2d(ni, nf, stride=2, kernel_size=ks, padding=ks//2)]\n",
        "    if act: layers.append(nn.ReLU())\n",
        "    layers.append(nn.BatchNorm2d(nf))\n",
        "    return nn.Sequential(*layers)\n",
        "    \n",
        "learn.fit_one_cycle(2, 0.01)"
      ]
    },
    {
      "cell_type": "markdown",
      "source": [
        "#### CNN as Encoders"
      ],
      "metadata": {
        "id": "uSJ_lA-7OKk6"
      }
    },
    {
      "cell_type": "markdown",
      "source": [
        "LeNet (1998) to VGG-net (2015) are two examples of convolutional neural networks for image classification. Typically, they have an input layer which is a tensor that represents an image with dimension *(number rows, number columns, number channels)*, followed by sets of *convolutional* layers, *ReLu* layers, and *pooling* layers, and at the end they have a couple of   *fully connected layers*  followed by a *sofwmax* or a *sigmoid layer*.\n",
        "\n",
        "LeNet: \n",
        "\n",
        "<img src=\"https://drive.google.com/uc?export=view&id=1-Nxj4sRWiWmjWcPgVnqcoSItiuJo38oH\" width=\"700\" >\n",
        "\n",
        "\n",
        "VGG-net: \n",
        "\n",
        "<img src=\"https://drive.google.com/uc?export=view&id=1hoR6Qxda7Ls0VsY-xAzSz1ddlL6IEAnT\" width=\"700\" >\n",
        "\n",
        "\n",
        "\n",
        "Those kind of networks exhibit the following structure:\n",
        "1.  reduction of width and height dimensions of input through each layer in this network; \n",
        "2. accompanied by an organized increment in the number of channels in each layer.\n",
        "\n",
        "\n"
      ],
      "metadata": {
        "id": "aSMVUgTnFVz2"
      }
    },
    {
      "cell_type": "markdown",
      "source": [
        "#### Resnets"
      ],
      "metadata": {
        "id": "wXks4Spcd0W7"
      }
    },
    {
      "cell_type": "markdown",
      "source": [
        "Diagram that describes `resnet18`. The arrows represent the application of the identity function. That architecture, proposed in https://arxiv.org/abs/1512.03385, reformulate the layers as learning residual functions with reference to the layer inputs, instead of learning unreferenced functions. Those residual networks are easier to optimize, and can gain accuracy from considerably increased depth.\n",
        "\n",
        "<img src=\"https://www.researchgate.net/profile/Sajid-Iqbal-13/publication/336642248/figure/fig1/AS:839151377203201@1577080687133/Original-ResNet-18-Architecture_W640.jpg\" width=\"700\" >"
      ],
      "metadata": {
        "id": "ggmRGNdnhZI8"
      }
    },
    {
      "cell_type": "markdown",
      "source": [
        "### Convolutional neural networks for image segmentation: the encoder/decoder model"
      ],
      "metadata": {
        "id": "oa7bw6mYcSIN"
      }
    },
    {
      "cell_type": "markdown",
      "source": [
        "U-nets (https://arxiv.org/abs/1505.04597) are a kind of neural networks used for image segmentation which has an encoder that converts input into a small but with nany channels, followed by a decoder that generates a output with the same number of rows and columns as the input. The output is the predicted segmentation of the input image.\n",
        "\n",
        "\n",
        "<img src=\"https://www.frontiersin.org/files/Articles/841297/fnagi-14-841297-HTML-r2/image_m/fnagi-14-841297-g001.jpg\" width=\"700\" >\n",
        "\n",
        "This approach for image segmentation can be applied to large images by an *overlap-tile strategy* as illustrated by Figure 2 in https://arxiv.org/abs/1505.04597:  \n",
        "\n",
        "<img src=\"https://github.com/isa-ulisboa/greends-pml/blob/main/images/overlap-tile-strategy-U-net-paper-2015.png?raw=1\" width=\"700\" >\n",
        "\n",
        "\n",
        "A commented example of the use of a U-Net to segment self-driving cars street photos is available at [Image_Segmentation_with_Unet.ipynb](Image_Segmentation_with_Unet.ipynb).\n",
        "\n",
        "\n",
        "\n"
      ],
      "metadata": {
        "id": "UhlpjU4PkXF0"
      }
    }
  ]
}