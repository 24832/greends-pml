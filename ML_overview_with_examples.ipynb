{
  "nbformat": 4,
  "nbformat_minor": 0,
  "metadata": {
    "colab": {
      "provenance": [],
      "authorship_tag": "ABX9TyPYchrEnKEHIEGeGo7cYXW8",
      "include_colab_link": true
    },
    "kernelspec": {
      "name": "python3",
      "display_name": "Python 3"
    },
    "language_info": {
      "name": "python"
    },
    "widgets": {
      "application/vnd.jupyter.widget-state+json": {
        "287b831a2015472ca1ad96be2344a838": {
          "model_module": "@jupyter-widgets/controls",
          "model_name": "VBoxModel",
          "model_module_version": "1.5.0",
          "state": {
            "_dom_classes": [
              "widget-interact"
            ],
            "_model_module": "@jupyter-widgets/controls",
            "_model_module_version": "1.5.0",
            "_model_name": "VBoxModel",
            "_view_count": null,
            "_view_module": "@jupyter-widgets/controls",
            "_view_module_version": "1.5.0",
            "_view_name": "VBoxView",
            "box_style": "",
            "children": [
              "IPY_MODEL_5037df45e75347b999912f5ff8148050",
              "IPY_MODEL_242053e6c5fe49e9b821e592142baa86",
              "IPY_MODEL_0294731999604d828d2f6db099524643",
              "IPY_MODEL_b56866f8cd04425090c8847432d99030"
            ],
            "layout": "IPY_MODEL_0ad66d52b29b4132880bc2c3878bb0cc"
          }
        },
        "5037df45e75347b999912f5ff8148050": {
          "model_module": "@jupyter-widgets/controls",
          "model_name": "FloatSliderModel",
          "model_module_version": "1.5.0",
          "state": {
            "_dom_classes": [],
            "_model_module": "@jupyter-widgets/controls",
            "_model_module_version": "1.5.0",
            "_model_name": "FloatSliderModel",
            "_view_count": null,
            "_view_module": "@jupyter-widgets/controls",
            "_view_module_version": "1.5.0",
            "_view_name": "FloatSliderView",
            "continuous_update": true,
            "description": "a",
            "description_tooltip": null,
            "disabled": false,
            "layout": "IPY_MODEL_7eb98727910e4732a7a0961c9024160c",
            "max": 3.3000000000000003,
            "min": -1.1,
            "orientation": "horizontal",
            "readout": true,
            "readout_format": ".2f",
            "step": 0.1,
            "style": "IPY_MODEL_6fb1bc9c4e4940fea7bd973249e4c294",
            "value": 2.5
          }
        },
        "242053e6c5fe49e9b821e592142baa86": {
          "model_module": "@jupyter-widgets/controls",
          "model_name": "FloatSliderModel",
          "model_module_version": "1.5.0",
          "state": {
            "_dom_classes": [],
            "_model_module": "@jupyter-widgets/controls",
            "_model_module_version": "1.5.0",
            "_model_name": "FloatSliderModel",
            "_view_count": null,
            "_view_module": "@jupyter-widgets/controls",
            "_view_module_version": "1.5.0",
            "_view_name": "FloatSliderView",
            "continuous_update": true,
            "description": "b",
            "description_tooltip": null,
            "disabled": false,
            "layout": "IPY_MODEL_468087a33c8d482bb2cd7bdbe0ab01c5",
            "max": 3.3000000000000003,
            "min": -1.1,
            "orientation": "horizontal",
            "readout": true,
            "readout_format": ".2f",
            "step": 0.1,
            "style": "IPY_MODEL_af0c9f2494794d8faf9647863eb50e61",
            "value": 1.1
          }
        },
        "0294731999604d828d2f6db099524643": {
          "model_module": "@jupyter-widgets/controls",
          "model_name": "FloatSliderModel",
          "model_module_version": "1.5.0",
          "state": {
            "_dom_classes": [],
            "_model_module": "@jupyter-widgets/controls",
            "_model_module_version": "1.5.0",
            "_model_name": "FloatSliderModel",
            "_view_count": null,
            "_view_module": "@jupyter-widgets/controls",
            "_view_module_version": "1.5.0",
            "_view_name": "FloatSliderView",
            "continuous_update": true,
            "description": "c",
            "description_tooltip": null,
            "disabled": false,
            "layout": "IPY_MODEL_cdd35afc8efb4be9ae8fd575d1009bc5",
            "max": 3.3000000000000003,
            "min": -1.1,
            "orientation": "horizontal",
            "readout": true,
            "readout_format": ".2f",
            "step": 0.1,
            "style": "IPY_MODEL_454e8a074fa54e4c93a2e75e611c5e13",
            "value": 1.1
          }
        },
        "b56866f8cd04425090c8847432d99030": {
          "model_module": "@jupyter-widgets/output",
          "model_name": "OutputModel",
          "model_module_version": "1.0.0",
          "state": {
            "_dom_classes": [],
            "_model_module": "@jupyter-widgets/output",
            "_model_module_version": "1.0.0",
            "_model_name": "OutputModel",
            "_view_count": null,
            "_view_module": "@jupyter-widgets/output",
            "_view_module_version": "1.0.0",
            "_view_name": "OutputView",
            "layout": "IPY_MODEL_003db380868741ce917469e6dd6b746d",
            "msg_id": "",
            "outputs": [
              {
                "output_type": "display_data",
                "data": {
                  "text/plain": "<Figure size 432x288 with 1 Axes>",
                  "image/png": "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\n"
                },
                "metadata": {
                  "needs_background": "light"
                }
              }
            ]
          }
        },
        "0ad66d52b29b4132880bc2c3878bb0cc": {
          "model_module": "@jupyter-widgets/base",
          "model_name": "LayoutModel",
          "model_module_version": "1.2.0",
          "state": {
            "_model_module": "@jupyter-widgets/base",
            "_model_module_version": "1.2.0",
            "_model_name": "LayoutModel",
            "_view_count": null,
            "_view_module": "@jupyter-widgets/base",
            "_view_module_version": "1.2.0",
            "_view_name": "LayoutView",
            "align_content": null,
            "align_items": null,
            "align_self": null,
            "border": null,
            "bottom": null,
            "display": null,
            "flex": null,
            "flex_flow": null,
            "grid_area": null,
            "grid_auto_columns": null,
            "grid_auto_flow": null,
            "grid_auto_rows": null,
            "grid_column": null,
            "grid_gap": null,
            "grid_row": null,
            "grid_template_areas": null,
            "grid_template_columns": null,
            "grid_template_rows": null,
            "height": null,
            "justify_content": null,
            "justify_items": null,
            "left": null,
            "margin": null,
            "max_height": null,
            "max_width": null,
            "min_height": null,
            "min_width": null,
            "object_fit": null,
            "object_position": null,
            "order": null,
            "overflow": null,
            "overflow_x": null,
            "overflow_y": null,
            "padding": null,
            "right": null,
            "top": null,
            "visibility": null,
            "width": null
          }
        },
        "7eb98727910e4732a7a0961c9024160c": {
          "model_module": "@jupyter-widgets/base",
          "model_name": "LayoutModel",
          "model_module_version": "1.2.0",
          "state": {
            "_model_module": "@jupyter-widgets/base",
            "_model_module_version": "1.2.0",
            "_model_name": "LayoutModel",
            "_view_count": null,
            "_view_module": "@jupyter-widgets/base",
            "_view_module_version": "1.2.0",
            "_view_name": "LayoutView",
            "align_content": null,
            "align_items": null,
            "align_self": null,
            "border": null,
            "bottom": null,
            "display": null,
            "flex": null,
            "flex_flow": null,
            "grid_area": null,
            "grid_auto_columns": null,
            "grid_auto_flow": null,
            "grid_auto_rows": null,
            "grid_column": null,
            "grid_gap": null,
            "grid_row": null,
            "grid_template_areas": null,
            "grid_template_columns": null,
            "grid_template_rows": null,
            "height": null,
            "justify_content": null,
            "justify_items": null,
            "left": null,
            "margin": null,
            "max_height": null,
            "max_width": null,
            "min_height": null,
            "min_width": null,
            "object_fit": null,
            "object_position": null,
            "order": null,
            "overflow": null,
            "overflow_x": null,
            "overflow_y": null,
            "padding": null,
            "right": null,
            "top": null,
            "visibility": null,
            "width": null
          }
        },
        "6fb1bc9c4e4940fea7bd973249e4c294": {
          "model_module": "@jupyter-widgets/controls",
          "model_name": "SliderStyleModel",
          "model_module_version": "1.5.0",
          "state": {
            "_model_module": "@jupyter-widgets/controls",
            "_model_module_version": "1.5.0",
            "_model_name": "SliderStyleModel",
            "_view_count": null,
            "_view_module": "@jupyter-widgets/base",
            "_view_module_version": "1.2.0",
            "_view_name": "StyleView",
            "description_width": "",
            "handle_color": null
          }
        },
        "468087a33c8d482bb2cd7bdbe0ab01c5": {
          "model_module": "@jupyter-widgets/base",
          "model_name": "LayoutModel",
          "model_module_version": "1.2.0",
          "state": {
            "_model_module": "@jupyter-widgets/base",
            "_model_module_version": "1.2.0",
            "_model_name": "LayoutModel",
            "_view_count": null,
            "_view_module": "@jupyter-widgets/base",
            "_view_module_version": "1.2.0",
            "_view_name": "LayoutView",
            "align_content": null,
            "align_items": null,
            "align_self": null,
            "border": null,
            "bottom": null,
            "display": null,
            "flex": null,
            "flex_flow": null,
            "grid_area": null,
            "grid_auto_columns": null,
            "grid_auto_flow": null,
            "grid_auto_rows": null,
            "grid_column": null,
            "grid_gap": null,
            "grid_row": null,
            "grid_template_areas": null,
            "grid_template_columns": null,
            "grid_template_rows": null,
            "height": null,
            "justify_content": null,
            "justify_items": null,
            "left": null,
            "margin": null,
            "max_height": null,
            "max_width": null,
            "min_height": null,
            "min_width": null,
            "object_fit": null,
            "object_position": null,
            "order": null,
            "overflow": null,
            "overflow_x": null,
            "overflow_y": null,
            "padding": null,
            "right": null,
            "top": null,
            "visibility": null,
            "width": null
          }
        },
        "af0c9f2494794d8faf9647863eb50e61": {
          "model_module": "@jupyter-widgets/controls",
          "model_name": "SliderStyleModel",
          "model_module_version": "1.5.0",
          "state": {
            "_model_module": "@jupyter-widgets/controls",
            "_model_module_version": "1.5.0",
            "_model_name": "SliderStyleModel",
            "_view_count": null,
            "_view_module": "@jupyter-widgets/base",
            "_view_module_version": "1.2.0",
            "_view_name": "StyleView",
            "description_width": "",
            "handle_color": null
          }
        },
        "cdd35afc8efb4be9ae8fd575d1009bc5": {
          "model_module": "@jupyter-widgets/base",
          "model_name": "LayoutModel",
          "model_module_version": "1.2.0",
          "state": {
            "_model_module": "@jupyter-widgets/base",
            "_model_module_version": "1.2.0",
            "_model_name": "LayoutModel",
            "_view_count": null,
            "_view_module": "@jupyter-widgets/base",
            "_view_module_version": "1.2.0",
            "_view_name": "LayoutView",
            "align_content": null,
            "align_items": null,
            "align_self": null,
            "border": null,
            "bottom": null,
            "display": null,
            "flex": null,
            "flex_flow": null,
            "grid_area": null,
            "grid_auto_columns": null,
            "grid_auto_flow": null,
            "grid_auto_rows": null,
            "grid_column": null,
            "grid_gap": null,
            "grid_row": null,
            "grid_template_areas": null,
            "grid_template_columns": null,
            "grid_template_rows": null,
            "height": null,
            "justify_content": null,
            "justify_items": null,
            "left": null,
            "margin": null,
            "max_height": null,
            "max_width": null,
            "min_height": null,
            "min_width": null,
            "object_fit": null,
            "object_position": null,
            "order": null,
            "overflow": null,
            "overflow_x": null,
            "overflow_y": null,
            "padding": null,
            "right": null,
            "top": null,
            "visibility": null,
            "width": null
          }
        },
        "454e8a074fa54e4c93a2e75e611c5e13": {
          "model_module": "@jupyter-widgets/controls",
          "model_name": "SliderStyleModel",
          "model_module_version": "1.5.0",
          "state": {
            "_model_module": "@jupyter-widgets/controls",
            "_model_module_version": "1.5.0",
            "_model_name": "SliderStyleModel",
            "_view_count": null,
            "_view_module": "@jupyter-widgets/base",
            "_view_module_version": "1.2.0",
            "_view_name": "StyleView",
            "description_width": "",
            "handle_color": null
          }
        },
        "003db380868741ce917469e6dd6b746d": {
          "model_module": "@jupyter-widgets/base",
          "model_name": "LayoutModel",
          "model_module_version": "1.2.0",
          "state": {
            "_model_module": "@jupyter-widgets/base",
            "_model_module_version": "1.2.0",
            "_model_name": "LayoutModel",
            "_view_count": null,
            "_view_module": "@jupyter-widgets/base",
            "_view_module_version": "1.2.0",
            "_view_name": "LayoutView",
            "align_content": null,
            "align_items": null,
            "align_self": null,
            "border": null,
            "bottom": null,
            "display": null,
            "flex": null,
            "flex_flow": null,
            "grid_area": null,
            "grid_auto_columns": null,
            "grid_auto_flow": null,
            "grid_auto_rows": null,
            "grid_column": null,
            "grid_gap": null,
            "grid_row": null,
            "grid_template_areas": null,
            "grid_template_columns": null,
            "grid_template_rows": null,
            "height": null,
            "justify_content": null,
            "justify_items": null,
            "left": null,
            "margin": null,
            "max_height": null,
            "max_width": null,
            "min_height": null,
            "min_width": null,
            "object_fit": null,
            "object_position": null,
            "order": null,
            "overflow": null,
            "overflow_x": null,
            "overflow_y": null,
            "padding": null,
            "right": null,
            "top": null,
            "visibility": null,
            "width": null
          }
        }
      }
    }
  },
  "cells": [
    {
      "cell_type": "markdown",
      "metadata": {
        "id": "view-in-github",
        "colab_type": "text"
      },
      "source": [
        "<a href=\"https://colab.research.google.com/github/isa-ulisboa/greends-pml/blob/main/ML_overview_with_examples.ipynb\" target=\"_parent\"><img src=\"https://colab.research.google.com/assets/colab-badge.svg\" alt=\"Open In Colab\"/></a>"
      ]
    },
    {
      "cell_type": "markdown",
      "source": [
        "**Practical Machine Learning**\n",
        "\n",
        "Masters in Green Data Science, ISA/ULisboa, 2022-2023\n",
        "\n",
        "Instructor: Manuel Campagnolo mlc@isa.ulisboa.pt"
      ],
      "metadata": {
        "id": "f0qoqpJ4-iom"
      }
    },
    {
      "cell_type": "markdown",
      "source": [
        "## Introduction and some basic concepts in Machine Learning (ML)\n",
        "\n",
        "In this course we are dealing with data sets of *labeled examples*. Examples can be scalar numbers, rows of tabular data, images, etc. For tabular data, we refer the to columns as *explanatory variables* (sometimes also called *independent* or *descriptive* variables).\n",
        "\n",
        "Labels can be categorical, ordinal or continuous. Labels can be refered to as the *response variable* (or *dependent* variable). They are also called *targets*. Typically, we the problems are called:\n",
        "1. *Regression problems*, when the labels are continuous. \n",
        "2. *Classification problems*, when the labels are categorical.\n",
        "\n",
        "The distinction is not always clear. Some problems can be considered either as regression or classification problems. \n",
        "\n",
        "Given a ML problem, i.e. a set of labeled examples, the goal is to build a function $f$ that maps examples to labels or, in other words, that predicts the label from the example.\n",
        "\n",
        "The outputs of $f$ are called *predictions* or *predicted values*, and the actual labels of the examples are called *actual values* or *target values*.\n",
        "\n",
        "\n"
      ],
      "metadata": {
        "id": "RP73ZCHW-5IP"
      }
    },
    {
      "cell_type": "markdown",
      "source": [
        "## Models and parameters"
      ],
      "metadata": {
        "id": "RW_X7OPCXc3C"
      }
    },
    {
      "cell_type": "markdown",
      "source": [
        "\n",
        "More formally, if $E$ is the set of examples and $L$ is a set that includes the labels, then what we call the *model* is a family of functions $f_{\\rm \\bf w}$ that depends on a set of parameters ${\\rm \\bf w}$: $$f_{\\rm \\bf w}: E → L.$$\n",
        "\n",
        "It can be more convenient to express the function as depending on the parameters ${\\rm \\bf w}$ as well as the example ${\\rm \\bf x}$. The model's predicted label $\\hat{y}$ for the example ${\\rm \\bf x}$ is:\n",
        "\n",
        "$$\\hat{y}=f_{\\rm \\bf w}({\\rm \\bf x})= f({\\rm \\bf x}; {\\rm \\bf w}).$$\n",
        "\n",
        "ML practicioners use an enormous variety of models, depending on the problem at hand and on the available computational resources to train the model. Models include convolucional neural networks (CNN) for image classification (resnet and other kind of CNNs), neural networks (NN) for classification of tabular data, linear regression models, decision and regression trees, random forest and other ensemble models, among many other models.\n",
        "\n",
        "![picture](https://drive.google.com/uc?export=view&id=1rjcetay_O8EPd9mUHh4k1XFQIi84FfX2)"
      ],
      "metadata": {
        "id": "IKZwTca7XfkW"
      }
    },
    {
      "cell_type": "markdown",
      "source": [
        "### Example of a simple model (simple linear regression)"
      ],
      "metadata": {
        "id": "xNbDdfhgXHQg"
      }
    },
    {
      "cell_type": "markdown",
      "source": [
        "Suppose that our examples are scalar numbers $x_1,\\dots, x_n$ and the labels are continuous labels $y_1, \\dots, y_n$. We call $x$ the explanatory variable and $y$ the response variable. \n",
        "\n",
        "Let's consider the simple linear regression model:\n",
        "$f_{\\rm a,b}(x)= a \\, x + b$. The model parameters are ${\\rm \\bf w}=(a,b)$ and the predicted values are given by$\\\\[1em]$ \n",
        "$$\\hat{y}=f(x; {\\rm a,b})=a\\, x + b.$$\n",
        "\n",
        "The target  or actual label values are the $y_1, \\dots, y_n$, and the predicted label values are the $\\hat{y}_1,\\dots,\\hat{y}_n$.\n",
        "\n"
      ],
      "metadata": {
        "id": "ak8k0ZkGXL5T"
      }
    },
    {
      "cell_type": "markdown",
      "source": [
        "### Example of a simple model (quadratic regression)"
      ],
      "metadata": {
        "id": "KCwiAiilXOkJ"
      }
    },
    {
      "cell_type": "markdown",
      "source": [
        "In notebook [Lesson3_edited_04-how-does-a-neural-net-really-work.ipynb](Lesson3_edited_04-how-does-a-neural-net-really-work.ipynb), a similar simple example was discussed. The only difference was that the model $f_{\\rm a,b,c}$ was quadratic instead of linear: \n",
        "\n",
        "$$f_{\\rm a,b,c}(x)= f(x;a,b,c)= a \\, x^2 + b \\, x + c.$$\n",
        "\n",
        "In the illustration below, the observed (actual) values are plotted in blue, and the values preditted by the model for a fixed set of parameters $a=3, b=2, c=1$ are plotted in red."
      ],
      "metadata": {
        "id": "B06MlDsTXWxi"
      }
    },
    {
      "cell_type": "code",
      "source": [
        "# example from Lesson3_edited_04-how-does-a-neural-net-really-work.ipynb\n",
        "import numpy as np\n",
        "import torch\n",
        "import matplotlib.pyplot as plt\n",
        "np.random.seed(42)\n",
        "def noise(x, scale): return np.random.normal(scale=scale, size=x.shape)\n",
        "def add_noise(x, mult, add): return x * (1+noise(x,mult)) + noise(x,add)\n",
        "# create synthetic examples (x) and labels (y), and calculate predictions\n",
        "x = torch.linspace(-2, 2, steps=20)[:,None]\n",
        "def f(x): return 3*x**2 + 2*x + 1\n",
        "y = add_noise(f(x), 0.15, 1.5)\n",
        "ypred=f(x)\n",
        "# plot \n",
        "plt.scatter(x,y);\n",
        "plt.scatter(x,ypred,color='red');\n",
        "plt.title(\"Example of a simple quadratic model with 3 parameters\")\n",
        "plt.xlabel(\"Explanatory variable\")\n",
        "plt.ylabel(\"Response (actual in blue, predicted in red)\")\n",
        "plt.plot(x, f(x), 'red')\n",
        "plt.show()"
      ],
      "metadata": {
        "colab": {
          "base_uri": "https://localhost:8080/",
          "height": 295
        },
        "id": "WcGDmG34Jshd",
        "outputId": "f19cdb50-58a4-4b62-ef9f-ad255aa7e431"
      },
      "execution_count": 1,
      "outputs": [
        {
          "output_type": "display_data",
          "data": {
            "text/plain": [
              "<Figure size 432x288 with 1 Axes>"
            ],
            "image/png": "[encoded data removed]"
          },
          "metadata": {
            "needs_background": "light"
          }
        }
      ]
    },
    {
      "cell_type": "markdown",
      "source": [
        "## Loss function"
      ],
      "metadata": {
        "id": "TsCcLtocYK6M"
      }
    },
    {
      "cell_type": "markdown",
      "source": [
        "In ML, it is usual to call *loss* to the **dissimilarity** between actual and predicted label values for a *set* of labeled examples.\n",
        "\n",
        "Let ${\\rm \\bf x}_1, \\dots , {\\rm \\bf x}_n$ be a set of examples with labels $y_1, \\dots , y_n$. Let $f_{\\rm \\bf w}$ be our model. Therefore, the predicted labels are \n",
        "\n",
        "$$\\hat{y}_1=f_{\\rm \\bf w}({\\rm \\bf x}_1), \\dots, \\hat{y}_n=f_{\\rm \\bf w}({\\rm \\bf x}_n).$$\n",
        "\n",
        "The loss over that set of examples is some dissimilarity measure between the actual labels $y_1, \\dots , y_n$ and the predicted labels $\\hat{y}_1, \\dots , \\hat{y}_n$.\n",
        "\n"
      ],
      "metadata": {
        "id": "Bp8K-cntPVfx"
      }
    },
    {
      "cell_type": "markdown",
      "source": [
        "### Example (simple linear regression)\n"
      ],
      "metadata": {
        "id": "cM7AZbYpYeRO"
      }
    },
    {
      "cell_type": "markdown",
      "source": [
        "\n",
        "For the linear regression example, the response variable is continuous. We wish to measure the dissimilarity between the set of actual label values $y_1, \\dots , y_n$  and the set of values predicted by the model \n",
        "$f_{\\rm a,b}(x)= a \\, x + b$: \n",
        "\n",
        "$$\\hat{y}_1=a\\, x_1+ b, \\dots, \\hat{y}_n=a\\, x_n+ b.$$\n",
        "\n",
        "Since the response is continuous, it makes sense to use a function like:\n",
        "\n",
        "1. Mean absolute error (MAE), given by $\\sum_{i=1}^n |y_i-\\hat{y}_i|$; or\n",
        "\n",
        "2. Mean square error (MSE), given by $\\frac{1}{n}\\sum_{i=1}^n \\left(y_i-\\hat{y}_i\\right)^2$."
      ],
      "metadata": {
        "id": "L2buuqntYha_"
      }
    },
    {
      "cell_type": "markdown",
      "source": [
        "### Example (quadratic regression)"
      ],
      "metadata": {
        "id": "2WgfmI8oavMx"
      }
    },
    {
      "cell_type": "markdown",
      "source": [
        "In notebook [Lesson3_edited_04-how-does-a-neural-net-really-work.ipynb](Lesson3_edited_04-how-does-a-neural-net-really-work.ipynb), loss was given by MAE, i.e. $\\sum_{i=1}^n |y_i-\\hat{y}_i|$."
      ],
      "metadata": {
        "id": "FE79yyV8a1hQ"
      }
    },
    {
      "cell_type": "code",
      "source": [
        "def mae(preds, acts): return (torch.abs(preds-acts)).mean()"
      ],
      "metadata": {
        "id": "P2hSIz50ckp8"
      },
      "execution_count": null,
      "outputs": []
    },
    {
      "cell_type": "markdown",
      "source": [
        "The notebook includes code to interactively change the parameter values and compute the MAE loss function for the data set for an arbitrary choice of weights $(a,b,c)$.\n",
        "\n",
        "Function `partial` in the code below converts the 4-argument function $f(x,a,b,c)$ into a one argument function $f(x;a,b,c)=f_{\\rm a,b,c}(x)$. Therefore, `mk_quad` corresponds to the one argument function $f_{\\rm a,b,c}(x)$. Hence it can be passed to `plot_function` which expects a one argument function.\n",
        "\n"
      ],
      "metadata": {
        "id": "Mz8gGbFccln_"
      }
    },
    {
      "cell_type": "code",
      "source": [
        "from fastai.basics import * # necessary for partial\n",
        "def quad(a, b, c, x): return a*x**2 + b*x + c\n",
        "def mk_quad(a,b,c): return partial(quad, a,b,c)\n",
        "def plot_function(f, title=None, min=-2.1, max=2.1, color='r', ylim=None):\n",
        "    x = torch.linspace(min,max, 100)[:,None]\n",
        "    if ylim: plt.ylim(ylim)\n",
        "    plt.plot(x, f(x), color)\n",
        "    if title is not None: plt.title(title)\n",
        "# interactive plot\n",
        "from ipywidgets import interact\n",
        "@interact(a=1.1, b=1.1, c=1.1) # this is called a decorator\n",
        "def plot_quad(a, b, c):\n",
        "    f = mk_quad(a,b,c)\n",
        "    plt.scatter(x,y)\n",
        "    loss = mae(f(x), y)\n",
        "    plot_function(f, ylim=(-3,12), title=f\"MAE: {loss:.2f}\")"
      ],
      "metadata": {
        "colab": {
          "base_uri": "https://localhost:8080/",
          "height": 377,
          "referenced_widgets": [
            "287b831a2015472ca1ad96be2344a838",
            "5037df45e75347b999912f5ff8148050",
            "242053e6c5fe49e9b821e592142baa86",
            "0294731999604d828d2f6db099524643",
            "b56866f8cd04425090c8847432d99030",
            "0ad66d52b29b4132880bc2c3878bb0cc",
            "7eb98727910e4732a7a0961c9024160c",
            "6fb1bc9c4e4940fea7bd973249e4c294",
            "468087a33c8d482bb2cd7bdbe0ab01c5",
            "af0c9f2494794d8faf9647863eb50e61",
            "cdd35afc8efb4be9ae8fd575d1009bc5",
            "454e8a074fa54e4c93a2e75e611c5e13",
            "003db380868741ce917469e6dd6b746d"
          ]
        },
        "id": "PoOuvmF9bHM4",
        "outputId": "8a86cddb-3408-4ace-a71e-56c81e087cc5"
      },
      "execution_count": 2,
      "outputs": [
        {
          "output_type": "display_data",
          "data": {
            "text/plain": [
              "interactive(children=(FloatSlider(value=1.1, description='a', max=3.3000000000000003, min=-1.1), FloatSlider(v…"
            ],
            "application/vnd.jupyter.widget-view+json": {
              "version_major": 2,
              "version_minor": 0,
              "model_id": "287b831a2015472ca1ad96be2344a838"
            }
          },
          "metadata": {}
        }
      ]
    },
    {
      "cell_type": "markdown",
      "source": [
        "## Dissimilarity measures to define *loss*"
      ],
      "metadata": {
        "id": "9dLMWMHcYlvn"
      }
    },
    {
      "cell_type": "markdown",
      "source": [
        "\n",
        "To define loss, we then need to choose an appropriate dissimilarity metric between a set of actual $y_1, \\dots , y_n$ and predicted labels $\\hat{y}_1, \\dots , \\hat{y}_n$. The choice depends on the type of problem, and while MAE or RMSE are adequate for *regression* problems, other dissimilarities are used for *classification* problems.\n",
        "\n",
        "\n"
      ],
      "metadata": {
        "id": "JaP8Ef2zYo24"
      }
    },
    {
      "cell_type": "markdown",
      "source": [
        "### Examples of loss functions for regression problems (MAE, MSE, Huber)\n",
        "\n"
      ],
      "metadata": {
        "id": "TazkXj5DYsdC"
      }
    },
    {
      "cell_type": "markdown",
      "source": [
        "Above, two common loss functions for regression problems were listed\n",
        "\n",
        "1. Mean absolute error (MAE), given by $\\sum_{i=1}^n |y_i-\\hat{y}_i|$; or\n",
        "\n",
        "2. Mean square error (MSE), given by $\\frac{1}{n}\\sum_{i=1}^n \\left(y_i-\\hat{y}_i\\right)^2$\n",
        "\n",
        "In the one hand, MAE is not differentiable everywhere, which is an undesirable property for ML. On the other hand, MSE penalizes too much large differences between actual and predicted values, which means that a single example can constraint strongly the solution. \n",
        "\n",
        "An alternative is called the Huber loss function, which is differentiable everywhere, and behaves like MSE near the origin and like MAE for large $|y_i-\\hat{y}_i|$.\n"
      ],
      "metadata": {
        "id": "WlJNpKjwWRLO"
      }
    },
    {
      "cell_type": "markdown",
      "source": [
        "### Example of loss functions for classification problems (cross-entropy)"
      ],
      "metadata": {
        "id": "Fsp3Fh9KYwCe"
      }
    },
    {
      "cell_type": "markdown",
      "source": [
        "Classification problems have categorical labels. Therefore, the model predictions should return the most likely label for each example. \n",
        "\n",
        "While in regression, the model's output is typically an unbounded response variable (for instance, it is $f(x;a,b) = a\\, x + b$ in simple linear regression), for classification problems, it is more convenient to have:\n",
        "1. one output per label;\n",
        "2. each output being a value between 0 and 1 that can be interpreted as the probability of the label.\n",
        "\n",
        "![picture](https://drive.google.com/uc?export=view&id=1iD519g8QbBmOGp9SiOQsIneJnWg53SMQ)\n",
        "\n",
        "\n",
        "Therefore, it is usual to have a model that outputs $f_1({\\rm \\bf x};{\\rm \\bf w_1}), \\dots , f_k({\\rm \\bf x};{\\rm \\bf w_k})$ for each of the $k$ possible labels, and an additional model component that converts those *raw* outputs into probability-like values for the labels.\n",
        "\n",
        "You saw that kind of probabilistic output when you trained and deployed an image classifier in notebook [Lesson2_edited_book_02_production.ipynb](Lesson2_edited_book_02_production.ipynb). When you did predict the label for a new example with\n",
        "\n",
        "    learn_inf.predict('images/grizzly.jpg'),\n",
        "\n",
        "you got a vector of estimated probabilities like the following:\n",
        "\n",
        "    ('grizzly', tensor(1), tensor([9.0767e-06, 9.9999e-01, 1.5748e-07])).\n",
        "\n",
        "#### Softmax \n",
        "\n",
        "The unormalized model outputs $f_1, \\dots, f_k$ are called *logits* or *raw* outputs. Each $z_i=f_i({\\rm \\bf x};{\\rm \\bf w_i})$ is converted into a [0,1] value by the *softmax* function:\n",
        "\n",
        "$$p_j=\\frac{\\exp(z_j)}{\\sum_{i=1}^k \\exp(z_i)} ∈ [0,1].$$\n",
        "\n",
        "After that transformation, the classification model's output is a vector of values $(p_1,\\dots,p_k)$, with $p_i \\ge 0$ and $\\sum p_i=1$ as required for  probability distributions. The predicted label is the one with highest $p$.\n",
        "\n",
        "#### Loss functions for classification\n",
        "\n",
        "A list of `fastai`loss functions is available in https://docs.fast.ai/losses.html. In general, they are simple adaptations of loss functions for `pytorch` listed in https://pytorch.org/docs/stable/nn.html#loss-functions. \n",
        "\n",
        "While in the regression problem the loss is a dissimilarity between the actual labels $y_1,\\dots,y_n$ and the predicted labels $\\hat{y}_1,\\dots,\\hat{y}_n$ for the set with $n$ examples, in classification with *softmax* the loss is then a dissimilarity between the actual labels $y_1,\\dots,y_n$ and the $n$ probability vectors $(p_1,\\dots,p_k)_1, \\dots, (p_1,\\dots,p_k)_n$.\n",
        "\n",
        "To compare vectors of the same dimension, one can express each target label $y_i$ as a probabilitity distribution with 0 uncertainty. Suppose that there are 3 different possible labels and the actual label of the example is the first label: then, the *target distribution* would be $(1,0,0)$ which can be  compared with the model's output probability distribution $(p_1,p_2,p_3)$. This will be illustrated with an example below.\n",
        "\n",
        "\n",
        "####Cross-entropy\n",
        "\n",
        "The most common *loss* function for classification is called *cross-entropy*. Notebook [Lesson1_00_is_it_a_bird_creating_a_model_from_your_own_data.ipynb](Lesson1_00_is_it_a_bird_creating_a_model_from_your_own_data.ipynb) creates the learner with:\n",
        "\n",
        "    learn = vision_learner(dls, resnet18, metrics=error_rate)\n",
        "\n",
        "`vision_learner` allows to explicitely define the loss function  with the argument `loss_func`. Since it is not explicitely defined in the code above, we can check the default which is stored in property `loss_func`:\n",
        "\n",
        "    learn.loss_func\n",
        "\n",
        "which returns `FlattenedLoss of CrossEntropyLoss()`. This `fastai` loss is described in the Pytorch documentation as the `nn.CrossEntropyLoss` class  [https://pytorch.org/docs/stable/generated/torch.nn.CrossEntropyLoss.html](https://pytorch.org/docs/stable/generated/torch.nn.CrossEntropyLoss.html). Hence, the loss function that is applied in the example in the notebook is  `torch.nn.CrossEntropyLoss` that computes the cross entropy loss between input logits and target. \n",
        "\n",
        "#### Cross-entropy\n",
        "\n",
        "So, what is the *loss* you see in the output when you train an image classifier in notebook [Lesson2_edited_book_02_production.ipynb](Lesson2_edited_book_02_production.ipynb)?\n",
        "\n",
        "    epoch \ttrain_loss \tvalid_loss \terror_rate \ttime\n",
        "    0           1.174910        0.043982      0.009091     00:34\n",
        "\n",
        "\n",
        "Suppose that your model (`resnet`) was trained to classify photos of bears into *black*, *grizzly* and *teddy* as in [Lesson2_edited_book_02_production.ipynb](Lesson2_edited_book_02_production.ipynb). The last layer of the model outputs the values of three functions $f_1, f_2, f_3$, where $f_1$ is associated to *black*, $f_2$ is associated to *grizzly* and $f_3$ is associated to *teddy*. The values $(z_1,z_2,z_3)$ of the function for some input and for your trained model are the so-called *logits* or *raw* outputs. \n",
        "\n",
        "The code below creates an example of the outputs for a *batch* of 4 examples. In the matrix below each row is an example and each column is a label. Consider that column 1 is for *black*, column 2 for *grizzly* and column 3 for *teddy*."
      ],
      "metadata": {
        "id": "NHRyajD_N6hv"
      }
    },
    {
      "cell_type": "code",
      "source": [
        "import torch\n",
        "raws=torch.tensor([[4.5,2.1,0.2],\n",
        "                   [1.3,8.3,0.8],\n",
        "                   [1.2,1.5,4.2],\n",
        "                   [5.1,0.4,2.3]])"
      ],
      "metadata": {
        "id": "pYMCDHdArmrf"
      },
      "execution_count": null,
      "outputs": []
    },
    {
      "cell_type": "code",
      "source": [],
      "metadata": {
        "id": "Ikv6xMwCYSAm"
      },
      "execution_count": null,
      "outputs": []
    },
    {
      "cell_type": "markdown",
      "source": [
        "Looking at the tensor above, it looks like the first and fourth examples have a higher likelihood of being photos of *black* bears, while the second example is more likely a *grizzly* bear and the third one seems to be a *teddy* bear photo. Let's apply *softmax* to convert the raw outputs into probability-like values."
      ],
      "metadata": {
        "id": "9N7exOe4L6Y8"
      }
    },
    {
      "cell_type": "code",
      "source": [
        " softs = raws.softmax(dim=1)\n",
        " torch.set_printoptions(sci_mode=False)\n",
        " softs"
      ],
      "metadata": {
        "id": "_JktsXREIxvg",
        "outputId": "40f4c65a-fadc-4b6a-c9fe-84dca1ab5454",
        "colab": {
          "base_uri": "https://localhost:8080/"
        }
      },
      "execution_count": null,
      "outputs": [
        {
          "output_type": "execute_result",
          "data": {
            "text/plain": [
              "tensor([[    0.9056,     0.0822,     0.0123],\n",
              "        [    0.0009,     0.9985,     0.0006],\n",
              "        [    0.0446,     0.0602,     0.8953],\n",
              "        [    0.9347,     0.0085,     0.0568]])"
            ]
          },
          "metadata": {},
          "execution_count": 15
        }
      ]
    },
    {
      "cell_type": "markdown",
      "source": [
        "It is clear that the softmax rule did amplify the difference in values for each example. In each row there is one value close to 1 and the remainder values are close to 0. For each example, *cross-entropy* compares the target distribution with the probability distribution returned by *softmax*. \n",
        "\n",
        "Let's suppose that in fact, the first and last examples have actually label *black*, the second is actually *grizzly* and the third is actually *teddy*. Then the target distribution will be 1 for the correct label and 0 for the remaining labels:"
      ],
      "metadata": {
        "id": "q-ok5s3pMwFf"
      }
    },
    {
      "cell_type": "code",
      "source": [
        "target=torch.tensor([[1.,0.,0.],\n",
        "                     [0.,1.,0.],\n",
        "                     [0.,0.,1.],\n",
        "                     [1.,0.,0.]])"
      ],
      "metadata": {
        "id": "5MLo9NugNaLE"
      },
      "execution_count": null,
      "outputs": []
    },
    {
      "cell_type": "markdown",
      "source": [
        "Cross-entropy loss measures the dissimilarity between the probability distribution returned by *softmax* $(p_1,p_2,p_3)$ and the target distribution $(t_1,t_2,t_3)$ for the $i$-th example with the expression, and takes values between 0 (optimal value associated to minimum uncertainty) and 1 (maximum value associated to maximum uncertainty, i.e. all probabilities are equal):\n",
        "\n",
        "$$L_i=-\\left( t_1 \\, \\log(p_1) + t_2 \\, \\log(p_2) + t_3 \\, \\log(p_3) \\right) \\in [0,1].$$\n",
        "\n",
        "In the expression above, we suppose that the probabilities are non zero. \n",
        "For the whole batch of $n$ examples, the cross-entropy loss is given by the average of the $n$ individual loss values:\n",
        "\n",
        "$$L=\\frac{1}{n} \\left( L_1+L_2+ \\dots,L_n\\right).$$\n",
        "\n",
        "This can be computed with `nn.CrossEntropyLoss()` directly from the *raw* and *target* values as shown below:"
      ],
      "metadata": {
        "id": "2ziX1cVzOkaU"
      }
    },
    {
      "cell_type": "code",
      "source": [
        "import torch.nn as nn\n",
        "# compute loss\n",
        "loss = nn.CrossEntropyLoss()\n",
        "output = loss(raws, target)\n",
        "print('Cross Entropy Loss: ', output)"
      ],
      "metadata": {
        "colab": {
          "base_uri": "https://localhost:8080/"
        },
        "id": "NIbwzbeJp7Vg",
        "outputId": "33f64b4d-0208-46bc-973c-12c428bc61c7"
      },
      "execution_count": null,
      "outputs": [
        {
          "output_type": "stream",
          "name": "stdout",
          "text": [
            "Cross Entropy Loss:  tensor(0.0697)\n"
          ]
        }
      ]
    },
    {
      "cell_type": "markdown",
      "source": [
        "\n",
        "## ML as an optimization problem\n"
      ],
      "metadata": {
        "id": "BZmxXfDFYx3q"
      }
    },
    {
      "cell_type": "markdown",
      "source": [
        "\n",
        "Now, we can define a ML problem as a optimization problem. Given\n",
        "\n",
        "1.  a set of examples  ${\\rm \\bf x}_1, \\dots , {\\rm \\bf x}_n$  with labels $y_1, \\dots , y_n$\n",
        "2. a model $f_{\\rm \\bf w}$\n",
        "3. a *loss* function $L$\n",
        "\n",
        "the goal is to determine the optimal set of parameters ${\\rm \\bf w}$ that minimize the loss $L$ over that set of examples.\n",
        "\n",
        "### Training and validation sets\n",
        "\n",
        "To prevent *overfitting* the parameters to the set of examples, an independent set of examples for *validation* are set apart. In general, the example data set with $N$ examples is partitioned into a subset with, say $0.2 \\times N$ examples for validation and $0.8 \\times N$ examples for training like we saw in [Lesson2_edited_book_02_production.ipynb](Lesson2_edited_book_02_production.ipynb):\n",
        "\n",
        "    bears = DataBlock(\n",
        "        blocks=(ImageBlock, CategoryBlock), \n",
        "        get_items=get_image_files, \n",
        "        splitter=RandomSplitter(valid_pct=0.2, seed=42),\n",
        "        get_y=parent_label,\n",
        "        item_tfms=Resize(128))\n",
        "\n",
        "where `RandomSplitter(valid_pct=0.2, seed=42)` indicates that 20% of the examples are used for validation.\n",
        "\n",
        "The *training* data set is used to search for the optimal set of weights for the model, typically by iteratively updating the weights from a initial set of weights using *gradient descent* over the loss. The *validation* data set is used to compute the same loss metric over an independent set of examples.\n",
        "\n",
        "By comparing the training and validation losses it is possible to assess issues in model behaviour like *high bias/underfitting*,  *high variance/overfitting*,  and *unrepresentativeness* of either training or validation set.\n",
        "\n",
        "### Gradient descent and learning rate\n",
        "\n",
        "Informally, a gradient measures how much the output of a function changes if you change the inputs a little bit.\n",
        "\n",
        "Given a model $f_{\\rm \\bf w}({\\rm \\bf x})= f({\\rm \\bf x}; {\\rm \\bf w})$ and a batch of examples ${\\rm \\bf x_1}, \\dots, {\\rm \\bf x_n}$, we have seen how we can define a *loss* function \n",
        "\n",
        "$$L({\\rm \\bf x_1, \\dots, x_n; w})= L_{\\rm \\bf x_1, \\dots, \\rm \\bf x_n}(\\rm \\bf w).$$ \n",
        "\n",
        "We can write $L$ just a function of the weights since the ${\\rm \\bf x_i}$ are fixed for given batch of examples. Our goal is to find the set of weights ${\\rm \\bf w}$ that minimize $L({\\rm \\bf w})$. In order to do this step by step, we would like to know how $L$ changes with a small change in the weights $\\rm \\bf w$ from the current set weights ${\\rm \\bf w}^{*}$.\n",
        "\n",
        "This  is given by the gradient of $L$ with respect to ${\\rm \\bf w}$ at ${\\rm \\bf w}^{*}$, which is a vector with length equal to $m$=number of model parameters.\n",
        "\n",
        "$$ \\nabla L({\\rm \\bf w}^{*}) = \\frac{\\partial L}{\\partial \\rm \\bf w}({\\rm \\bf w}^{*})= \\left(\\frac{\\partial L}{\\partial \\rm w_1}({\\rm \\bf w}^{*}), \\dots,  \\frac{\\partial L}{\\partial \\rm w_m}({\\rm \\bf w}^{*}) \\right).$$\n",
        "\n",
        "\n",
        "The vector $\\nabla L({\\rm \\bf w}^{*})$ points to the direction from ${\\rm \\bf w}^{*}$ along which $L$ grows faster, so gradient descent follows the opposite direction $ - \\nabla L({\\rm \\bf w}^{*})$. \n",
        "\n",
        "![picture](https://drive.google.com/uc?export=view&id=1-KGjbUaR1l3z879V_eJu7JutnSutqbdC)\n",
        "\n",
        "\n",
        "The steps of gradient descent algorithm are the following:\n",
        "\n",
        "---\n",
        "\n",
        "1. Choose an initial set of weights ${\\rm \\bf w}^{*}$\n",
        "\n",
        "2. For $i = 1, \\dots, E$, where $E$ is the number of epochs, do:\n",
        "\n",
        "   i) Cumpute $\\nabla L({\\rm \\bf w}^{*})$\n",
        "\n",
        "   ii) Update ${\\rm \\bf w}^{*}:={\\rm \\bf w}^{*} - \\eta \\, \\nabla L({\\rm \\bf w}^{*}) $, where $\\eta >0 $ is the learning rate.\n",
        "\n",
        "---\n",
        "\n",
        "The choice of the *learning rate* is critical for a good performance of the algorithm. A very small learning rate will permit a good approximation of the gradient flow by the algorithm (see next figure). But if the step is too small, many epochs will be needed to get a good solution. \n",
        "\n",
        "\n",
        "![picture](https://drive.google.com/uc?export=view&id=12c4X3po4-xVGUJKzyKC56lwl4ZEmXqWa)\n",
        "\n",
        "\n",
        "ML practicioners use many different techniques to determine the *learning rate*. In particular, the learning rate can be adaptive and change along epochs, which is a standard approach in ML. An adaptive learning rate is provided by the `fine_tune` method used in   [Lesson1_02_saving_a_basic_fastai_model.ipynb](Lesson1_02_saving_a_basic_fastai_model.ipynb):\n",
        "\n",
        "    learn = vision_learner(dls, resnet18, metrics=error_rate)\n",
        "    learn.fine_tune(3)\n",
        "\n",
        "### Mini-Batch Gradient Descent applied to simple linear regression\n",
        "\n",
        "The description above of the gradient descent algorithm is for the simplest case, where weights are update once per epoch. This is called *batch gradient descent*. Things get a bit more envolved if one wants to group examples in batches and update the weights after each batch, which is the most common approach in ML. There is another alternative, called *stochastic gradient descent*, where weights are updated after each single example (this corresponds to a mini-batch of size 1).\n",
        "\n",
        "Next, we create from scratch a gradient descent for the very simple linear regression problem, and we compare the result with the optimal least squares regression. The code shows how *training loss* and *validation loss* are computed. It also illustrates how weights update are done after each mini-batch of data, which is known as *Mini-Batch Gradient Descent*.\n",
        "\n"
      ],
      "metadata": {
        "id": "1fG2E4DuYzu8"
      }
    },
    {
      "cell_type": "code",
      "source": [
        "# very loose adaptation of https://machinelearningmastery.com/mini-batch-gradient-descent-and-dataloader-in-pytorch/\n",
        "import matplotlib.pyplot as plt\n",
        "import torch\n",
        "import numpy as np\n",
        "from sklearn.model_selection import train_test_split\n",
        "torch.manual_seed(42)\n",
        "\n",
        "B=20 # batch size\n",
        "step_size = 0.1 # learning rate\n",
        "iter=20 # number epochs\n",
        "\n",
        "# Creating synthetic data\n",
        "# Creating a function f(X) with a slope of -5\n",
        "X = torch.arange(-5, 5, 0.1).view(-1, 1)\n",
        "func = -5 * X + 2\n",
        "\n",
        "# Adding Gaussian noise to the function f(X) and saving it in Y\n",
        "y = func + 0.4 * torch.randn(X.size())\n",
        "\n",
        "# Create train and validation sets\n",
        "X_train, X_valid, y_train, y_valid = train_test_split(X, y, test_size=0.2, random_state=42)\n",
        "\n",
        "########################################## Linear regression LS solution\n",
        "from sklearn.linear_model import LinearRegression\n",
        "reg = LinearRegression().fit(X, y)\n",
        "print('coefficients:',reg.coef_,reg.intercept_)\n",
        "\n",
        "####################################################### Gradient Descent\n",
        "# initial weights\n",
        "w = torch.tensor(-10.0, requires_grad = True)\n",
        "b = torch.tensor(-20.0, requires_grad = True)\n",
        "\n",
        "# defining the function for forward pass for prediction (linear regression)\n",
        "def forward(x):\n",
        "    return w * x + b\n",
        "\n",
        "# evaluating data points with Mean Square Error (MSE)\n",
        "def criterion(y_pred, y):\n",
        "    return torch.mean((y_pred - y) ** 2)\n",
        "\n",
        "# lists to store losses for each epoch\n",
        "training_losses=[]\n",
        "validation_losses=[]\n",
        "\n",
        "# epochs\n",
        "for i in range(iter):\n",
        "  # calculating loss as in the beginning of an epoch and storing it\n",
        "    y_pred = forward(X)\n",
        "    training_losses.append(criterion(y_pred, Y).tolist())\n",
        "    y_pred = forward(X_valid)\n",
        "    validation_losses.append(criterion(y_pred, y_valid).tolist())\n",
        "    # mini-batch gradient descent: weight are updated after one batch\n",
        "    for idx_start in np.arange(0,N,B):\n",
        "        batch_X=X_train[idx_start:(idx_start+B),:]\n",
        "        batch_y=y_train[idx_start:(idx_start+B),:]\n",
        "        # making a prediction in forward pass\n",
        "        y_hat = forward(batch_X)\n",
        "        # calculating the loss between original and predicted data points\n",
        "        loss = criterion(y_hat, batch_y)\n",
        "        # backward pass for computing the gradients of the loss w.r.t to learnable parameters\n",
        "        loss.backward()\n",
        "        # updating the parameters after each iteration\n",
        "        w.data = w.data - step_size * w.grad.data\n",
        "        b.data = b.data - step_size * b.grad.data    \n",
        "        # zeroing gradients after each iteration\n",
        "        w.grad.data.zero_()\n",
        "        b.grad.data.zero_()\n",
        "\n",
        "print('batch size:', B)\n",
        "print('w=',w.requires_grad_(False),'; b=',b.requires_grad_(False))\n",
        "plt.plot(training_losses, 'g*', validation_losses, 'ro')\n",
        "plt.ylim(0, 5)\n",
        "plt.title(\"Train (green) and validation (red) losses\")\n",
        "plt.show()"
      ],
      "metadata": {
        "colab": {
          "base_uri": "https://localhost:8080/",
          "height": 333
        },
        "id": "sS0Uki84xoHN",
        "outputId": "b517ee25-da5f-4b00-f28a-7cbd68bf5836"
      },
      "execution_count": null,
      "outputs": [
        {
          "output_type": "stream",
          "name": "stdout",
          "text": [
            "coefficients: [[-5.0023813]] [2.0237875]\n",
            "batch size: 20\n",
            "w= tensor(-5.0677) ; b= tensor(2.0390)\n"
          ]
        },
        {
          "output_type": "display_data",
          "data": {
            "text/plain": [
              "<Figure size 432x288 with 1 Axes>"
            ],
            "image/png": "[encoded data removed]"
          },
          "metadata": {
            "needs_background": "light"
          }
        }
      ]
    },
    {
      "cell_type": "markdown",
      "source": [
        "## Assessing ML performance"
      ],
      "metadata": {
        "id": "kP-e5P8tGRD4"
      }
    },
    {
      "cell_type": "markdown",
      "source": [
        "Notebook [https://github.com/isa-ulisboa/greends-pml/blob/main/Lesson1_00_is_it_a_bird_creating_a_model_from_your_own_data.ipynb](https://github.com/isa-ulisboa/greends-pml/blob/main/Lesson1_00_is_it_a_bird_creating_a_model_from_your_own_data.ipynb) does it with\n",
        "\n",
        "`learn = vision_learner(dls, resnet18, metrics=error_rate)`\n",
        "\n",
        "where `dls` is a `DataLoaders` object with the input data, `resnet18` is a deep CNN model, and `metrics=error_rate` determines the *loss* function.  In that case, `error_rate` returns the proportion of mismatches between the set of actual labels $y_1, \\dots , y_n$ and the set of predicted labels $\\hat{y}_1, \\dots , \\hat{y}_n$.\n",
        "\n",
        "\n",
        "Change? Is this about error_rate and not loss?\n",
        "A large list of dissimilarity metrics for regression and classification problem can be found at\n",
        "https://scikit-learn.org/stable/modules/classes.html#module-sklearn.metrics. The package `fastai` provides many similarity/dissimilarity metrics, including all metrics from `scikit-learn`. The documentation is available at https://docs.fast.ai/metrics.html."
      ],
      "metadata": {
        "id": "At32ItDHGVkP"
      }
    },
    {
      "cell_type": "markdown",
      "source": [
        "\n",
        "\n",
        "Examples\n",
        "1. Quadratic function\n",
        "Xs are just scalars\n",
        "Y are continuous (regression problem)\n",
        "F_w is f(x;a,b,c)\n",
        "Loss is mãe or rmse\n",
        "In this case the best set of weights can be determined analytacally\n",
        "In alternative one can use gradient descent\n",
        "\n",
        "2. Perceptron (no sigmoid) = mlr\n",
        "X are vectors , after preprocessing\n",
        "Y are 0 or 1 (regression or classification)\n",
        "Fw is S(X1 w1+....)\n",
        "Loss is ...\n",
        "In this case the problem 8s equivalent to least square mlr, and has an analital solution\n",
        "\n",
        "3. Perceptron with sigmoid output\n",
        "\n",
        "\n",
        "4 FC nn with hidden layers\n"
      ],
      "metadata": {
        "id": "1iMtNBUt7zxi"
      }
    }
  ]
}