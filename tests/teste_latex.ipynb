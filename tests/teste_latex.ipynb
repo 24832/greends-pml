{
  "nbformat": 4,
  "nbformat_minor": 0,
  "metadata": {
    "colab": {
      "provenance": [],
      "authorship_tag": "ABX9TyNJvbtnpWcTF8Y5Cn/G5fNB",
      "include_colab_link": true
    },
    "kernelspec": {
      "name": "python3",
      "display_name": "Python 3"
    },
    "language_info": {
      "name": "python"
    },
    "widgets": {
      "application/vnd.jupyter.widget-state+json": {
        "688415b66f9349819d71c2e7a3dec5c4": {
          "model_module": "@jupyter-widgets/controls",
          "model_name": "VBoxModel",
          "model_module_version": "1.5.0",
          "state": {
            "_dom_classes": [
              "widget-interact"
            ],
            "_model_module": "@jupyter-widgets/controls",
            "_model_module_version": "1.5.0",
            "_model_name": "VBoxModel",
            "_view_count": null,
            "_view_module": "@jupyter-widgets/controls",
            "_view_module_version": "1.5.0",
            "_view_name": "VBoxView",
            "box_style": "",
            "children": [
              "IPY_MODEL_c59f3f99ed254305bf516ddbe8eb79b7",
              "IPY_MODEL_db739ebbfb3b40eb813533c207e9584a",
              "IPY_MODEL_2299738c0f094a98b6c9d3569ed58b24",
              "IPY_MODEL_bc108c459b8b4c78974f1f3366e45e22"
            ],
            "layout": "IPY_MODEL_d49d289af59c4985b2f6c940b4e47a5e"
          }
        },
        "c59f3f99ed254305bf516ddbe8eb79b7": {
          "model_module": "@jupyter-widgets/controls",
          "model_name": "FloatSliderModel",
          "model_module_version": "1.5.0",
          "state": {
            "_dom_classes": [],
            "_model_module": "@jupyter-widgets/controls",
            "_model_module_version": "1.5.0",
            "_model_name": "FloatSliderModel",
            "_view_count": null,
            "_view_module": "@jupyter-widgets/controls",
            "_view_module_version": "1.5.0",
            "_view_name": "FloatSliderView",
            "continuous_update": true,
            "description": "a",
            "description_tooltip": null,
            "disabled": false,
            "layout": "IPY_MODEL_857807200f284b2b8b9cd031c9e695ab",
            "max": 3.3000000000000003,
            "min": -1.1,
            "orientation": "horizontal",
            "readout": true,
            "readout_format": ".2f",
            "step": 0.1,
            "style": "IPY_MODEL_43c33f7e8c53407f8b5ae76244d25812",
            "value": 2.8
          }
        },
        "db739ebbfb3b40eb813533c207e9584a": {
          "model_module": "@jupyter-widgets/controls",
          "model_name": "FloatSliderModel",
          "model_module_version": "1.5.0",
          "state": {
            "_dom_classes": [],
            "_model_module": "@jupyter-widgets/controls",
            "_model_module_version": "1.5.0",
            "_model_name": "FloatSliderModel",
            "_view_count": null,
            "_view_module": "@jupyter-widgets/controls",
            "_view_module_version": "1.5.0",
            "_view_name": "FloatSliderView",
            "continuous_update": true,
            "description": "b",
            "description_tooltip": null,
            "disabled": false,
            "layout": "IPY_MODEL_901e76b80b894d38bca76d4436f0a123",
            "max": 3.3000000000000003,
            "min": -1.1,
            "orientation": "horizontal",
            "readout": true,
            "readout_format": ".2f",
            "step": 0.1,
            "style": "IPY_MODEL_00505d19fb5941d285dacaa980735893",
            "value": 1.9
          }
        },
        "2299738c0f094a98b6c9d3569ed58b24": {
          "model_module": "@jupyter-widgets/controls",
          "model_name": "FloatSliderModel",
          "model_module_version": "1.5.0",
          "state": {
            "_dom_classes": [],
            "_model_module": "@jupyter-widgets/controls",
            "_model_module_version": "1.5.0",
            "_model_name": "FloatSliderModel",
            "_view_count": null,
            "_view_module": "@jupyter-widgets/controls",
            "_view_module_version": "1.5.0",
            "_view_name": "FloatSliderView",
            "continuous_update": true,
            "description": "c",
            "description_tooltip": null,
            "disabled": false,
            "layout": "IPY_MODEL_d40a2a225c24469d9952b94dc0361da2",
            "max": 3.3000000000000003,
            "min": -1.1,
            "orientation": "horizontal",
            "readout": true,
            "readout_format": ".2f",
            "step": 0.1,
            "style": "IPY_MODEL_3751b04658e441bf92b09b24e64d0122",
            "value": -0.8
          }
        },
        "bc108c459b8b4c78974f1f3366e45e22": {
          "model_module": "@jupyter-widgets/output",
          "model_name": "OutputModel",
          "model_module_version": "1.0.0",
          "state": {
            "_dom_classes": [],
            "_model_module": "@jupyter-widgets/output",
            "_model_module_version": "1.0.0",
            "_model_name": "OutputModel",
            "_view_count": null,
            "_view_module": "@jupyter-widgets/output",
            "_view_module_version": "1.0.0",
            "_view_name": "OutputView",
            "layout": "IPY_MODEL_b6ca4b8f2784408b8edf3c7c7aa963f4",
            "msg_id": "",
            "outputs": [
              {
                "output_type": "display_data",
                "data": {
                  "text/plain": "<Figure size 432x288 with 1 Axes>",
                  "image/png": "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\n"
                },
                "metadata": {
                  "needs_background": "light"
                }
              }
            ]
          }
        },
        "d49d289af59c4985b2f6c940b4e47a5e": {
          "model_module": "@jupyter-widgets/base",
          "model_name": "LayoutModel",
          "model_module_version": "1.2.0",
          "state": {
            "_model_module": "@jupyter-widgets/base",
            "_model_module_version": "1.2.0",
            "_model_name": "LayoutModel",
            "_view_count": null,
            "_view_module": "@jupyter-widgets/base",
            "_view_module_version": "1.2.0",
            "_view_name": "LayoutView",
            "align_content": null,
            "align_items": null,
            "align_self": null,
            "border": null,
            "bottom": null,
            "display": null,
            "flex": null,
            "flex_flow": null,
            "grid_area": null,
            "grid_auto_columns": null,
            "grid_auto_flow": null,
            "grid_auto_rows": null,
            "grid_column": null,
            "grid_gap": null,
            "grid_row": null,
            "grid_template_areas": null,
            "grid_template_columns": null,
            "grid_template_rows": null,
            "height": null,
            "justify_content": null,
            "justify_items": null,
            "left": null,
            "margin": null,
            "max_height": null,
            "max_width": null,
            "min_height": null,
            "min_width": null,
            "object_fit": null,
            "object_position": null,
            "order": null,
            "overflow": null,
            "overflow_x": null,
            "overflow_y": null,
            "padding": null,
            "right": null,
            "top": null,
            "visibility": null,
            "width": null
          }
        },
        "857807200f284b2b8b9cd031c9e695ab": {
          "model_module": "@jupyter-widgets/base",
          "model_name": "LayoutModel",
          "model_module_version": "1.2.0",
          "state": {
            "_model_module": "@jupyter-widgets/base",
            "_model_module_version": "1.2.0",
            "_model_name": "LayoutModel",
            "_view_count": null,
            "_view_module": "@jupyter-widgets/base",
            "_view_module_version": "1.2.0",
            "_view_name": "LayoutView",
            "align_content": null,
            "align_items": null,
            "align_self": null,
            "border": null,
            "bottom": null,
            "display": null,
            "flex": null,
            "flex_flow": null,
            "grid_area": null,
            "grid_auto_columns": null,
            "grid_auto_flow": null,
            "grid_auto_rows": null,
            "grid_column": null,
            "grid_gap": null,
            "grid_row": null,
            "grid_template_areas": null,
            "grid_template_columns": null,
            "grid_template_rows": null,
            "height": null,
            "justify_content": null,
            "justify_items": null,
            "left": null,
            "margin": null,
            "max_height": null,
            "max_width": null,
            "min_height": null,
            "min_width": null,
            "object_fit": null,
            "object_position": null,
            "order": null,
            "overflow": null,
            "overflow_x": null,
            "overflow_y": null,
            "padding": null,
            "right": null,
            "top": null,
            "visibility": null,
            "width": null
          }
        },
        "43c33f7e8c53407f8b5ae76244d25812": {
          "model_module": "@jupyter-widgets/controls",
          "model_name": "SliderStyleModel",
          "model_module_version": "1.5.0",
          "state": {
            "_model_module": "@jupyter-widgets/controls",
            "_model_module_version": "1.5.0",
            "_model_name": "SliderStyleModel",
            "_view_count": null,
            "_view_module": "@jupyter-widgets/base",
            "_view_module_version": "1.2.0",
            "_view_name": "StyleView",
            "description_width": "",
            "handle_color": null
          }
        },
        "901e76b80b894d38bca76d4436f0a123": {
          "model_module": "@jupyter-widgets/base",
          "model_name": "LayoutModel",
          "model_module_version": "1.2.0",
          "state": {
            "_model_module": "@jupyter-widgets/base",
            "_model_module_version": "1.2.0",
            "_model_name": "LayoutModel",
            "_view_count": null,
            "_view_module": "@jupyter-widgets/base",
            "_view_module_version": "1.2.0",
            "_view_name": "LayoutView",
            "align_content": null,
            "align_items": null,
            "align_self": null,
            "border": null,
            "bottom": null,
            "display": null,
            "flex": null,
            "flex_flow": null,
            "grid_area": null,
            "grid_auto_columns": null,
            "grid_auto_flow": null,
            "grid_auto_rows": null,
            "grid_column": null,
            "grid_gap": null,
            "grid_row": null,
            "grid_template_areas": null,
            "grid_template_columns": null,
            "grid_template_rows": null,
            "height": null,
            "justify_content": null,
            "justify_items": null,
            "left": null,
            "margin": null,
            "max_height": null,
            "max_width": null,
            "min_height": null,
            "min_width": null,
            "object_fit": null,
            "object_position": null,
            "order": null,
            "overflow": null,
            "overflow_x": null,
            "overflow_y": null,
            "padding": null,
            "right": null,
            "top": null,
            "visibility": null,
            "width": null
          }
        },
        "00505d19fb5941d285dacaa980735893": {
          "model_module": "@jupyter-widgets/controls",
          "model_name": "SliderStyleModel",
          "model_module_version": "1.5.0",
          "state": {
            "_model_module": "@jupyter-widgets/controls",
            "_model_module_version": "1.5.0",
            "_model_name": "SliderStyleModel",
            "_view_count": null,
            "_view_module": "@jupyter-widgets/base",
            "_view_module_version": "1.2.0",
            "_view_name": "StyleView",
            "description_width": "",
            "handle_color": null
          }
        },
        "d40a2a225c24469d9952b94dc0361da2": {
          "model_module": "@jupyter-widgets/base",
          "model_name": "LayoutModel",
          "model_module_version": "1.2.0",
          "state": {
            "_model_module": "@jupyter-widgets/base",
            "_model_module_version": "1.2.0",
            "_model_name": "LayoutModel",
            "_view_count": null,
            "_view_module": "@jupyter-widgets/base",
            "_view_module_version": "1.2.0",
            "_view_name": "LayoutView",
            "align_content": null,
            "align_items": null,
            "align_self": null,
            "border": null,
            "bottom": null,
            "display": null,
            "flex": null,
            "flex_flow": null,
            "grid_area": null,
            "grid_auto_columns": null,
            "grid_auto_flow": null,
            "grid_auto_rows": null,
            "grid_column": null,
            "grid_gap": null,
            "grid_row": null,
            "grid_template_areas": null,
            "grid_template_columns": null,
            "grid_template_rows": null,
            "height": null,
            "justify_content": null,
            "justify_items": null,
            "left": null,
            "margin": null,
            "max_height": null,
            "max_width": null,
            "min_height": null,
            "min_width": null,
            "object_fit": null,
            "object_position": null,
            "order": null,
            "overflow": null,
            "overflow_x": null,
            "overflow_y": null,
            "padding": null,
            "right": null,
            "top": null,
            "visibility": null,
            "width": null
          }
        },
        "3751b04658e441bf92b09b24e64d0122": {
          "model_module": "@jupyter-widgets/controls",
          "model_name": "SliderStyleModel",
          "model_module_version": "1.5.0",
          "state": {
            "_model_module": "@jupyter-widgets/controls",
            "_model_module_version": "1.5.0",
            "_model_name": "SliderStyleModel",
            "_view_count": null,
            "_view_module": "@jupyter-widgets/base",
            "_view_module_version": "1.2.0",
            "_view_name": "StyleView",
            "description_width": "",
            "handle_color": null
          }
        },
        "b6ca4b8f2784408b8edf3c7c7aa963f4": {
          "model_module": "@jupyter-widgets/base",
          "model_name": "LayoutModel",
          "model_module_version": "1.2.0",
          "state": {
            "_model_module": "@jupyter-widgets/base",
            "_model_module_version": "1.2.0",
            "_model_name": "LayoutModel",
            "_view_count": null,
            "_view_module": "@jupyter-widgets/base",
            "_view_module_version": "1.2.0",
            "_view_name": "LayoutView",
            "align_content": null,
            "align_items": null,
            "align_self": null,
            "border": null,
            "bottom": null,
            "display": null,
            "flex": null,
            "flex_flow": null,
            "grid_area": null,
            "grid_auto_columns": null,
            "grid_auto_flow": null,
            "grid_auto_rows": null,
            "grid_column": null,
            "grid_gap": null,
            "grid_row": null,
            "grid_template_areas": null,
            "grid_template_columns": null,
            "grid_template_rows": null,
            "height": null,
            "justify_content": null,
            "justify_items": null,
            "left": null,
            "margin": null,
            "max_height": null,
            "max_width": null,
            "min_height": null,
            "min_width": null,
            "object_fit": null,
            "object_position": null,
            "order": null,
            "overflow": null,
            "overflow_x": null,
            "overflow_y": null,
            "padding": null,
            "right": null,
            "top": null,
            "visibility": null,
            "width": null
          }
        }
      }
    }
  },
  "cells": [
    {
      "cell_type": "markdown",
      "metadata": {
        "id": "view-in-github",
        "colab_type": "text"
      },
      "source": [
        "<a href=\"https://colab.research.google.com/github/isa-ulisboa/greends-pml/blob/main/tests/teste_latex.ipynb\" target=\"_parent\"><img src=\"https://colab.research.google.com/assets/colab-badge.svg\" alt=\"Open In Colab\"/></a>"
      ]
    },
    {
      "cell_type": "markdown",
      "source": [
        "Course on Pratical Machine Learning\n",
        "\n",
        "Masters in Green Data Science, ISA/ULisboa, 2022-2023\n",
        "\n",
        "Instructor: Manuel Campagnolo mlc@isa.ulisboa.pt"
      ],
      "metadata": {
        "id": "f0qoqpJ4-iom"
      }
    },
    {
      "cell_type": "markdown",
      "source": [
        "# Introduction and some basic concepts in Machine Learning (ML)\n",
        "\n",
        "In this course we are dealing with data sets of *labeled examples*. Examples can be scalar numbers, rows of tabular data, images, etc. For tabular data, we refer the to columns as *explanatory variables* (sometimes also called *independent* or *descriptive* variables).\n",
        "\n",
        "Labels can be categorial, ordinal or continuous. Labels can be refered to as the *response variable* (or *dependent* variable). They are also called *targets*. Typically, we the problems are called:\n",
        "1. *Regression problems*, when the labels are continuous. \n",
        "2. *Classification problems*, when the labels are categorial.\n",
        "\n",
        "The distinction is not always clear. Some problems can be considered either as regression or classification problems. \n",
        "\n",
        "Given a ML problem, that is a set of labeled examples, the goal is to build a function $f$ that maps examples to labels, or in other words, that predicts the label from the example.\n",
        "\n",
        "We call *predictions* or *predicted values* to the output of $f$, and *observations* or *actual values* to the actual labels.\n",
        "\n",
        "\n"
      ],
      "metadata": {
        "id": "RP73ZCHW-5IP"
      }
    },
    {
      "cell_type": "markdown",
      "source": [
        "## Models and parameters"
      ],
      "metadata": {
        "id": "RW_X7OPCXc3C"
      }
    },
    {
      "cell_type": "markdown",
      "source": [
        "\n",
        "More formally, if $E$ is the set of examples and $L$ is a set that includes the labels, then what we call the *model* is a family of functions $f_{\\rm \\bf w}$ that depends on a set of parameters ${\\rm \\bf w}$: $$f_{\\rm \\bf w}: E → L.$$\n",
        "\n",
        "It can be more convenient to express the function as depending on the parameters ${\\rm \\bf w}$ as well as the example ${\\rm \\bf x}$. The predicted label $\\hat{y}$ for example ${\\rm \\bf x}$ is then given by:\n",
        "\n",
        "$$\\hat{y}=f_{\\rm \\bf w}({\\rm \\bf x})= f({\\rm \\bf x}; {\\rm \\bf w}).$$\n",
        "\n",
        "ML practicioners use an enormous variety of models, depending on the problem at hand and on the available computational resources to train the model. Models include convolucional neural networks (CNN) for image classification (resnet and other kind of CNNs), neural networks (NN) for classification of tabular data, linear regression models, decision and regression trees, random forest and other ensemble models, among many other models."
      ],
      "metadata": {
        "id": "IKZwTca7XfkW"
      }
    },
    {
      "cell_type": "markdown",
      "source": [
        "### Example of a simple model (simple linear regression)"
      ],
      "metadata": {
        "id": "xNbDdfhgXHQg"
      }
    },
    {
      "cell_type": "markdown",
      "source": [
        "Suppose that our examples are scalar numbers $x_1,\\dots, x_n$ and the labels are continuous labels $y_1, \\dots, y_n$. We call $x$ the explanatory variable and $y$ the response variable. \n",
        "\n",
        "Let's consider the simple linear regression model:\n",
        "$f_{\\rm a,b}(x)= a \\, x + b.$\n",
        "\n",
        "The model parameters are ${\\rm \\bf w}=(a,b)$ and the predicted values are given by$\\\\[1em]$ \n",
        "$$\\hat{y}=f(x; {\\rm a,b})=a\\, x + b.$$\n",
        "\n",
        "The observed or actual label values are the $y_1, \\dots, y_n$, and the predicted label values are the $\\hat{y}_1,\\dots,\\hat{y}_n$.\n",
        "\n"
      ],
      "metadata": {
        "id": "ak8k0ZkGXL5T"
      }
    },
    {
      "cell_type": "markdown",
      "source": [
        "### Example of a simple model (quadratic regression)"
      ],
      "metadata": {
        "id": "KCwiAiilXOkJ"
      }
    },
    {
      "cell_type": "markdown",
      "source": [
        "In notebook [Lesson3_edited_04-how-does-a-neural-net-really-work.ipynb](Lesson3_edited_04-how-does-a-neural-net-really-work.ipynb), a similar simple example was discussed. The only difference was that the model $f_{\\rm a,b,c}$ was quadratic instead of linear: \n",
        "\n",
        "$$f_{\\rm a,b,c}(x)= f(x;a,b,c)= a \\, x^2 + b \\, x + c.$$\n",
        "\n",
        "In the illustration below, the observed (actual) values are plotted in blue, and the values preditted by the model for a fixed set of parameters $a=3, b=2, c=1$ are plotted in red."
      ],
      "metadata": {
        "id": "B06MlDsTXWxi"
      }
    },
    {
      "cell_type": "code",
      "source": [
        "# example from Lesson3_edited_04-how-does-a-neural-net-really-work.ipynb\n",
        "import numpy as np\n",
        "import torch\n",
        "import matplotlib.pyplot as plt\n",
        "np.random.seed(42)\n",
        "def noise(x, scale): return np.random.normal(scale=scale, size=x.shape)\n",
        "def add_noise(x, mult, add): return x * (1+noise(x,mult)) + noise(x,add)\n",
        "# create synthetic examples (x) and labels (y), and calculate predictions\n",
        "x = torch.linspace(-2, 2, steps=20)[:,None]\n",
        "def f(x): return 3*x**2 + 2*x + 1\n",
        "y = add_noise(f(x), 0.15, 1.5)\n",
        "ypred=f(x)\n",
        "# plot \n",
        "plt.scatter(x,y);\n",
        "plt.scatter(x,ypred,color='red');\n",
        "plt.title(\"Example of a simple quadratic model with 3 parameters\")\n",
        "plt.xlabel(\"Explanatory variable\")\n",
        "plt.ylabel(\"Response (actual in blue, predicted in red)\")\n",
        "plt.plot(x, f(x), 'red')\n",
        "plt.show()"
      ],
      "metadata": {
        "colab": {
          "base_uri": "https://localhost:8080/",
          "height": 295
        },
        "id": "WcGDmG34Jshd",
        "outputId": "c6084ce9-b895-48e5-a445-bb4ee108326b"
      },
      "execution_count": 12,
      "outputs": [
        {
          "output_type": "display_data",
          "data": {
            "text/plain": [
              "<Figure size 432x288 with 1 Axes>"
            ],
            "image/png": "[encoded data removed]"
          },
          "metadata": {
            "needs_background": "light"
          }
        }
      ]
    },
    {
      "cell_type": "markdown",
      "source": [
        "## Loss function"
      ],
      "metadata": {
        "id": "TsCcLtocYK6M"
      }
    },
    {
      "cell_type": "markdown",
      "source": [
        "In ML, it is usual to call *loss* to the **dissimilarity** between actual and predicted label values for a *set * of labeled examples.\n",
        "\n",
        "Let ${\\rm \\bf x}_1, \\dots , {\\rm \\bf x}_n$ be a set of examples with labels $y_1, \\dots , y_n$. Let $f_{\\rm \\bf w}$ be our model. Therefore, the predicted labels are \n",
        "\n",
        "$$\\hat{y}_1=f_{\\rm \\bf w}({\\rm \\bf x}_1), \\dots, \\hat{y}_n=f_{\\rm \\bf w}({\\rm \\bf x}_n).$$\n",
        "\n",
        "The loss over that set of examples is some dissimilarity measure between the actual labels $y_1, \\dots , y_n$ and the predicted labels $\\hat{y}_1, \\dots , \\hat{y}_n$.\n",
        "\n"
      ],
      "metadata": {
        "id": "Bp8K-cntPVfx"
      }
    },
    {
      "cell_type": "markdown",
      "source": [
        "### Example (simple linear regression)\n"
      ],
      "metadata": {
        "id": "cM7AZbYpYeRO"
      }
    },
    {
      "cell_type": "markdown",
      "source": [
        "\n",
        "For the linear regression example, the response variable is continuous. We wish to measure the dissimilarity between the set of actual label values $y_1, \\dots , y_n$  and the set of values predicted by the model \n",
        "$f_{\\rm a,b}(x)= a \\, x + b$: \n",
        "\n",
        "$$\\hat{y}_1=a\\, x_1+ b, \\dots, \\hat{y}_n=a\\, x_n+ b.$$\n",
        "\n",
        "Since the response is continuous, it makes sense to use a function like:\n",
        "\n",
        "1. Mean absolute error (MAE), given by $\\sum_{i=1}^n |y_i-\\hat{y}_i|$; or\n",
        "\n",
        "2. Mean square error (MSE), given by $\\frac{1}{n}\\sum_{i=1}^n \\left(y_i-\\hat{y}_i\\right)^2$; notice that this function will penalize much more large differences $y_i-\\hat{y}_i$ than MAE does; or\n",
        "\n",
        "3. Root mean square error (RMSE), given by $\\sqrt{\\frac{1}{n}\\sum_{i=1}^n \\left(y_i-\\hat{y}_i\\right)^2}$."
      ],
      "metadata": {
        "id": "L2buuqntYha_"
      }
    },
    {
      "cell_type": "markdown",
      "source": [
        "### Example (quadratic regression)"
      ],
      "metadata": {
        "id": "2WgfmI8oavMx"
      }
    },
    {
      "cell_type": "markdown",
      "source": [
        "In notebook [Lesson3_edited_04-how-does-a-neural-net-really-work.ipynb](Lesson3_edited_04-how-does-a-neural-net-really-work.ipynb), loss was given by MAE, i.e. $\\sum_{i=1}^n |y_i-\\hat{y}_i|$."
      ],
      "metadata": {
        "id": "FE79yyV8a1hQ"
      }
    },
    {
      "cell_type": "code",
      "source": [
        "def mae(preds, acts): return (torch.abs(preds-acts)).mean()"
      ],
      "metadata": {
        "id": "P2hSIz50ckp8"
      },
      "execution_count": null,
      "outputs": []
    },
    {
      "cell_type": "markdown",
      "source": [
        "The notebook includes code to interactively change the parameter values and compute the MAE loss function for the data set."
      ],
      "metadata": {
        "id": "Mz8gGbFccln_"
      }
    },
    {
      "cell_type": "code",
      "source": [
        "from fastai.basics import * # necessary for partial\n",
        "def quad(a, b, c, x): return a*x**2 + b*x + c\n",
        "def mk_quad(a,b,c): return partial(quad, a,b,c)\n",
        "def plot_function(f, title=None, min=-2.1, max=2.1, color='r', ylim=None):\n",
        "    x = torch.linspace(min,max, 100)[:,None]\n",
        "    if ylim: plt.ylim(ylim)\n",
        "    plt.plot(x, f(x), color)\n",
        "    if title is not None: plt.title(title)\n",
        "# interactive plot\n",
        "from ipywidgets import interact\n",
        "@interact(a=1.1, b=1.1, c=1.1)\n",
        "def plot_quad(a, b, c):\n",
        "    f = mk_quad(a,b,c)\n",
        "    plt.scatter(x,y)\n",
        "    loss = mae(f(x), y)\n",
        "    plot_function(f, ylim=(-3,12), title=f\"MAE: {loss:.2f}\")"
      ],
      "metadata": {
        "colab": {
          "base_uri": "https://localhost:8080/",
          "height": 377,
          "referenced_widgets": [
            "688415b66f9349819d71c2e7a3dec5c4",
            "c59f3f99ed254305bf516ddbe8eb79b7",
            "db739ebbfb3b40eb813533c207e9584a",
            "2299738c0f094a98b6c9d3569ed58b24",
            "bc108c459b8b4c78974f1f3366e45e22",
            "d49d289af59c4985b2f6c940b4e47a5e",
            "857807200f284b2b8b9cd031c9e695ab",
            "43c33f7e8c53407f8b5ae76244d25812",
            "901e76b80b894d38bca76d4436f0a123",
            "00505d19fb5941d285dacaa980735893",
            "d40a2a225c24469d9952b94dc0361da2",
            "3751b04658e441bf92b09b24e64d0122",
            "b6ca4b8f2784408b8edf3c7c7aa963f4"
          ]
        },
        "id": "PoOuvmF9bHM4",
        "outputId": "5fc7331c-08e0-4dbf-81e7-d2564c9dcd1c"
      },
      "execution_count": 21,
      "outputs": [
        {
          "output_type": "display_data",
          "data": {
            "text/plain": [
              "interactive(children=(FloatSlider(value=1.1, description='a', max=3.3000000000000003, min=-1.1), FloatSlider(v…"
            ],
            "application/vnd.jupyter.widget-view+json": {
              "version_major": 2,
              "version_minor": 0,
              "model_id": "688415b66f9349819d71c2e7a3dec5c4"
            }
          },
          "metadata": {}
        }
      ]
    },
    {
      "cell_type": "markdown",
      "source": [
        "## Dissimilarity measures to define *loss*"
      ],
      "metadata": {
        "id": "9dLMWMHcYlvn"
      }
    },
    {
      "cell_type": "markdown",
      "source": [
        "\n",
        "To define loss, we then need to choose an appropriate dissimilarity measure between a set of actual and predicted labels. The choice depends on the type of problem, and while MAE or RMSE are adequate for *regression* problems, other kind of dissimilarities are used for *classification* problems.\n",
        "\n",
        "Dissimilarity is the opposite to \n",
        "https://scikit-learn.org/stable/modules/classes.html#module-sklearn.metrics\n"
      ],
      "metadata": {
        "id": "JaP8Ef2zYo24"
      }
    },
    {
      "cell_type": "code",
      "source": [
        "x = torch.randn(4,5) # rows= individuals; columns=classes; values are supposed to be the model response for each individual and class\n",
        "y = x.argmax(dim=1) # return the index of the column with the maximum value; the output has length 4=number of rows of x\n",
        "error_rate(x,y) # error_rate is zero because y was computed to be precisely the label that has higher model response\n",
        "print(x,y)\n",
        "\n"
      ],
      "metadata": {
        "id": "YQy_VXvM19Lh",
        "outputId": "28a1d979-67ad-4331-81e7-d5f023f01614",
        "colab": {
          "base_uri": "https://localhost:8080/"
        }
      },
      "execution_count": 29,
      "outputs": [
        {
          "output_type": "stream",
          "name": "stdout",
          "text": [
            "tensor([[ 0.7015,  0.5984,  0.6381, -0.7208,  0.8877],\n",
            "        [ 1.0278, -0.1768,  1.8812,  0.2493, -0.8656],\n",
            "        [-0.6898,  0.8793, -1.0885, -0.0538, -0.5269],\n",
            "        [-0.0419, -0.6171, -0.0337, -2.6050,  2.0542]]) tensor([4, 2, 1, 4])\n"
          ]
        }
      ]
    },
    {
      "cell_type": "markdown",
      "source": [
        "### Loss functions for regression problems\n",
        "\n"
      ],
      "metadata": {
        "id": "TazkXj5DYsdC"
      }
    },
    {
      "cell_type": "markdown",
      "source": [
        "### Loss functions for classification problems\n"
      ],
      "metadata": {
        "id": "Fsp3Fh9KYwCe"
      }
    },
    {
      "cell_type": "markdown",
      "source": [
        "\n",
        "## ML as an optimization problem\n"
      ],
      "metadata": {
        "id": "BZmxXfDFYx3q"
      }
    },
    {
      "cell_type": "markdown",
      "source": [
        "\n",
        "Now, we can define a ML problem as a optimization problem. Given:\n",
        "1.  a set of examples  ${\\rm \\bf x}_1, \\dots , {\\rm \\bf x}_n$  with labels $y_1, \\dots , y_n$,\n",
        "2. a model $f_{\\rm \\bf w}$,\n",
        "3. a *loss* function $\\mathcal{L}$,\n",
        "\n",
        "the goal is to determine the optimal set of parameters ${\\rm \\bf w}$ that minimize the loss $\\mathcal{L}$ over that set of examples."
      ],
      "metadata": {
        "id": "1fG2E4DuYzu8"
      }
    },
    {
      "cell_type": "markdown",
      "source": [
        "Examples + labels\n",
        "\n",
        "Examples cab be images, rows in tabular data, text...\n",
        "Labels can be categorial, ordinal or continuous\n",
        "\n",
        "If labels are continuous, the problem is typically a regression problem\n",
        "....\n",
        "\n",
        "Ml: map an example to the set of labels to predict the label from the example\n",
        "\n",
        "Ml is done through a function f_w: X to Y, where w are a set of parameters of the function.\n",
        "\n",
        "More conveniently the predicted label is given by, y=f(x;w)\n",
        "\n",
        "F can be a neural network, a CNN, a regression model, a decision tree, an ensemble of other models, et\n",
        "\n",
        "Loss  for a set of examples x1, x2, ... and a set of weights w, the loss l(w) is a new function that measures the dissimilarity between  predicted labels f(x1;w)... And the actual labels  y1,....\n",
        "\n",
        "Examples of loss functions\n",
        "For régression\n",
        "For classification\n",
        "\n",
        "Ml as an optimization problem:\n",
        "Determine w to minimize loss\n",
        "\n",
        "In some very simple  cases the optimum can be determined analytacally. In general, it can be searched by heuristic methods.\n",
        "\n",
        "One of the heuristic methods is gradient descent that uses a learning rate.\n",
        "\n",
        "Examples\n",
        "1. Quadratic function\n",
        "Xs are just scalars\n",
        "Y are continuous (regression problem)\n",
        "F_w is f(x;a,b,c)\n",
        "Loss is mãe or rmse\n",
        "In this case the best set of weights can be determined analytacally\n",
        "In alternative one can use gradient descent\n",
        "\n",
        "2. Perceptron (no sigmoid) = mlr\n",
        "X are vectors , after preprocessing\n",
        "Y are 0 or 1 (regression or classification)\n",
        "Fw is S(X1 w1+....)\n",
        "Loss is ...\n",
        "In this case the problem 8s equivalent to least square mlr, and has an analital solution\n",
        "\n",
        "3. Perceptron with sigmoid output\n",
        "\n",
        "\n",
        "4 FC nn with hidden layers"
      ],
      "metadata": {
        "id": "RfyfFm1F-fdy"
      }
    },
    {
      "cell_type": "markdown",
      "source": [
        "\\begin{align}\n",
        "        \\mathbf{a} \\cdot \\mathbf{b} = \\sum_{i=1}^n a_i b_i.\n",
        "    \\end{align}\n"
      ],
      "metadata": {
        "id": "2z58e_5aNSgp"
      }
    },
    {
      "cell_type": "markdown",
      "source": [],
      "metadata": {
        "id": "9rS-hWpR-ea-"
      }
    },
    {
      "cell_type": "code",
      "execution_count": null,
      "metadata": {
        "id": "3dWUVyJdNRvE"
      },
      "outputs": [],
      "source": []
    }
  ]
}