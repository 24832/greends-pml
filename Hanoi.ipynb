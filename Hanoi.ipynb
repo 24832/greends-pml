{
  "nbformat": 4,
  "nbformat_minor": 0,
  "metadata": {
    "colab": {
      "provenance": [],
      "authorship_tag": "ABX9TyPV4UU2CxV37pAkTUmDqmC0",
      "include_colab_link": true
    },
    "kernelspec": {
      "name": "python3",
      "display_name": "Python 3"
    },
    "language_info": {
      "name": "python"
    }
  },
  "cells": [
    {
      "cell_type": "markdown",
      "metadata": {
        "id": "view-in-github",
        "colab_type": "text"
      },
      "source": [
        "<a href=\"https://colab.research.google.com/github/isa-ulisboa/greends-pml/blob/main/Hanoi.ipynb\" target=\"_parent\"><img src=\"https://colab.research.google.com/assets/colab-badge.svg\" alt=\"Open In Colab\"/></a>"
      ]
    },
    {
      "cell_type": "markdown",
      "source": [
        "Example of recursive function to solve the Towers of Hanoi problem.\n",
        "\n",
        "In this code, `n` is the number of disks to be moved, `source` is the starting peg, `target` is the peg the disks need to be moved to, and `auxiliary` is the extra peg that is used to move the disks.\n",
        "\n",
        "The function hanoi has a base case of `n == 1`, in which case it simply moves the disk from source to target. Otherwise, it first moves `n-1` disks from source to auxiliary (using target as the temporary peg), then it moves the largest disk from source to target, and finally it moves the `n-1` disks from auxiliary to target (using source as the temporary peg).\n",
        "\n",
        "The recursive function for the Towers of Hanoi problem is an example of the *Divide and Conquer* paradigm, which is a common paradigm in computer science and programming."
      ],
      "metadata": {
        "id": "WdQ_uicODqdt"
      }
    },
    {
      "cell_type": "code",
      "execution_count": 1,
      "metadata": {
        "id": "fxu_UV24Dcrg"
      },
      "outputs": [],
      "source": [
        "def hanoi(n, source, target, auxiliary):\n",
        "    if n == 1:\n",
        "        print(f\"Move disk 1 from {source} to {target}\")\n",
        "        return\n",
        "    hanoi(n-1, source, auxiliary, target)\n",
        "    print(f\"Move disk {n} from {source} to {target}\")\n",
        "    hanoi(n-1, auxiliary, target, source)\n"
      ]
    },
    {
      "cell_type": "code",
      "source": [
        "hanoi(3, \"A\", \"C\", \"B\")"
      ],
      "metadata": {
        "colab": {
          "base_uri": "https://localhost:8080/"
        },
        "id": "4Uj6-y0cDjGk",
        "outputId": "934e5fa4-219a-4377-86e2-8dbaf7ad9f3e"
      },
      "execution_count": 2,
      "outputs": [
        {
          "output_type": "stream",
          "name": "stdout",
          "text": [
            "Move disk 1 from A to C\n",
            "Move disk 2 from A to B\n",
            "Move disk 1 from C to B\n",
            "Move disk 3 from A to C\n",
            "Move disk 1 from B to A\n",
            "Move disk 2 from B to C\n",
            "Move disk 1 from A to C\n"
          ]
        }
      ]
    }
  ]
}